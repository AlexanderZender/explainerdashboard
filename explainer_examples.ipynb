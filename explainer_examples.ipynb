{
 "cells": [
  {
   "cell_type": "markdown",
   "metadata": {},
   "source": [
    "# Imports"
   ]
  },
  {
   "cell_type": "code",
   "execution_count": 10,
   "metadata": {
    "ExecuteTime": {
     "end_time": "2019-11-06T13:04:08.094300Z",
     "start_time": "2019-11-06T13:04:07.767281Z"
    }
   },
   "outputs": [
    {
     "name": "stdout",
     "output_type": "stream",
     "text": [
      "The autoreload extension is already loaded. To reload it, use:\n",
      "  %reload_ext autoreload\n"
     ]
    }
   ],
   "source": [
    "%load_ext autoreload\n",
    "%autoreload 0"
   ]
  },
  {
   "cell_type": "code",
   "execution_count": 2,
   "metadata": {
    "ExecuteTime": {
     "end_time": "2019-11-06T13:04:08.100301Z",
     "start_time": "2019-11-06T13:04:08.097301Z"
    }
   },
   "outputs": [],
   "source": [
    "from IPython.core.interactiveshell import InteractiveShell\n",
    "InteractiveShell.ast_node_interactivity = \"all\""
   ]
  },
  {
   "cell_type": "code",
   "execution_count": 6,
   "metadata": {
    "ExecuteTime": {
     "end_time": "2019-11-06T13:04:25.772439Z",
     "start_time": "2019-11-06T13:04:08.103302Z"
    }
   },
   "outputs": [],
   "source": [
    "import pandas as pd\n",
    "from sklearn.ensemble import RandomForestClassifier\n",
    "from sklearn.metrics import roc_auc_score"
   ]
  },
  {
   "cell_type": "code",
   "execution_count": 9,
   "metadata": {
    "ExecuteTime": {
     "start_time": "2019-11-06T13:03:59.697Z"
    }
   },
   "outputs": [],
   "source": [
    "from explainerdashboard.explainers import *\n",
    "from explainerdashboard.datasets import *"
   ]
  },
  {
   "cell_type": "markdown",
   "metadata": {},
   "source": [
    "# ClassifierExplainer:"
   ]
  },
  {
   "cell_type": "code",
   "execution_count": 17,
   "metadata": {
    "ExecuteTime": {
     "end_time": "2019-11-06T13:03:52.617314Z",
     "start_time": "2019-11-06T08:38:37.677784Z"
    }
   },
   "outputs": [
    {
     "data": {
      "text/plain": [
       "RandomForestClassifier(bootstrap=True, ccp_alpha=0.0, class_weight=None,\n",
       "                       criterion='gini', max_depth=5, max_features='auto',\n",
       "                       max_leaf_nodes=None, max_samples=None,\n",
       "                       min_impurity_decrease=0.0, min_impurity_split=None,\n",
       "                       min_samples_leaf=1, min_samples_split=2,\n",
       "                       min_weight_fraction_leaf=0.0, n_estimators=50,\n",
       "                       n_jobs=None, oob_score=False, random_state=None,\n",
       "                       verbose=0, warm_start=False)"
      ]
     },
     "execution_count": 17,
     "metadata": {},
     "output_type": "execute_result"
    },
    {
     "name": "stdout",
     "output_type": "stream",
     "text": [
      "Warning: Assuming that shap output of RandomForestClassifier is probability...\n",
      "Generating self.shap_explainer = shap.TreeExplainer(model)\n",
      "You can always monkeypatch self.shap_explainer if desired...\n"
     ]
    }
   ],
   "source": [
    "X_train, y_train, X_test, y_test = titanic_survive()\n",
    "train_names, test_names = titanic_names()\n",
    "\n",
    "model = RandomForestClassifier(n_estimators=50, max_depth=5)\n",
    "model.fit(X_train, y_train)\n",
    "\n",
    "explainer = ClassifierExplainer(model, X_test, y_test, roc_auc_score, \n",
    "                               cats=['Sex', 'Deck', 'Embarked'],\n",
    "                               idxs=test_names, #names of passengers \n",
    "                               labels=['Not survived', 'Survived'])\n"
   ]
  },
  {
   "cell_type": "code",
   "execution_count": 18,
   "metadata": {},
   "outputs": [
    {
     "name": "stdout",
     "output_type": "stream",
     "text": [
      "Calculating shap values...\n"
     ]
    },
    {
     "ename": "SHAPError",
     "evalue": "Additivity check failed in TreeExplainer! Please ensure the data matrix you passed to the explainer is the same shape that the model was trained on. If your data shape is correct then please report this on GitHub. Consider retrying with the feature_perturbation='interventional' option. This check failed because for one of the samples the sum of the SHAP values was 0.121582, while the model output was -1.882309. If this difference is acceptable you can set check_additivity=False to disable this check.",
     "output_type": "error",
     "traceback": [
      "\u001b[0;31m---------------------------------------------------------------------------\u001b[0m",
      "\u001b[0;31mSHAPError\u001b[0m                                 Traceback (most recent call last)",
      "\u001b[0;32m<ipython-input-18-4bb94be0539c>\u001b[0m in \u001b[0;36m<module>\u001b[0;34m\u001b[0m\n\u001b[0;32m----> 1\u001b[0;31m \u001b[0mexplainer\u001b[0m\u001b[0;34m.\u001b[0m\u001b[0mplot_importances\u001b[0m\u001b[0;34m(\u001b[0m\u001b[0mkind\u001b[0m\u001b[0;34m=\u001b[0m\u001b[0;34m'shap'\u001b[0m\u001b[0;34m,\u001b[0m \u001b[0mtopx\u001b[0m\u001b[0;34m=\u001b[0m\u001b[0;32mNone\u001b[0m\u001b[0;34m,\u001b[0m \u001b[0mcats\u001b[0m\u001b[0;34m=\u001b[0m\u001b[0;32mFalse\u001b[0m\u001b[0;34m,\u001b[0m \u001b[0mround\u001b[0m\u001b[0;34m=\u001b[0m\u001b[0;36m3\u001b[0m\u001b[0;34m)\u001b[0m\u001b[0;34m\u001b[0m\u001b[0;34m\u001b[0m\u001b[0m\n\u001b[0m",
      "\u001b[0;32m~/Dropbox/DataScience/explainerdashboard/explainerdashboard/explainers.py\u001b[0m in \u001b[0;36mplot_importances\u001b[0;34m(self, kind, topx, cats, round, pos_label)\u001b[0m\n\u001b[1;32m    777\u001b[0m         \u001b[0;34m:\u001b[0m\u001b[0mrtype\u001b[0m\u001b[0;34m:\u001b[0m \u001b[0mplotly\u001b[0m\u001b[0;34m.\u001b[0m\u001b[0mfig\u001b[0m\u001b[0;34m\u001b[0m\u001b[0;34m\u001b[0m\u001b[0m\n\u001b[1;32m    778\u001b[0m         \"\"\"\n\u001b[0;32m--> 779\u001b[0;31m         \u001b[0mimportances_df\u001b[0m \u001b[0;34m=\u001b[0m \u001b[0mself\u001b[0m\u001b[0;34m.\u001b[0m\u001b[0mimportances_df\u001b[0m\u001b[0;34m(\u001b[0m\u001b[0mkind\u001b[0m\u001b[0;34m=\u001b[0m\u001b[0mkind\u001b[0m\u001b[0;34m,\u001b[0m \u001b[0mtopx\u001b[0m\u001b[0;34m=\u001b[0m\u001b[0mtopx\u001b[0m\u001b[0;34m,\u001b[0m \u001b[0mcats\u001b[0m\u001b[0;34m=\u001b[0m\u001b[0mcats\u001b[0m\u001b[0;34m,\u001b[0m \u001b[0mpos_label\u001b[0m\u001b[0;34m=\u001b[0m\u001b[0mpos_label\u001b[0m\u001b[0;34m)\u001b[0m\u001b[0;34m\u001b[0m\u001b[0;34m\u001b[0m\u001b[0m\n\u001b[0m\u001b[1;32m    780\u001b[0m         \u001b[0;32mif\u001b[0m \u001b[0mself\u001b[0m\u001b[0;34m.\u001b[0m\u001b[0mdescriptions\u001b[0m\u001b[0;34m:\u001b[0m\u001b[0;34m\u001b[0m\u001b[0;34m\u001b[0m\u001b[0m\n\u001b[1;32m    781\u001b[0m             \u001b[0mdescriptions\u001b[0m \u001b[0;34m=\u001b[0m \u001b[0mself\u001b[0m\u001b[0;34m.\u001b[0m\u001b[0mdescription_list\u001b[0m\u001b[0;34m(\u001b[0m\u001b[0mimportances_df\u001b[0m\u001b[0;34m.\u001b[0m\u001b[0mFeature\u001b[0m\u001b[0;34m)\u001b[0m\u001b[0;34m\u001b[0m\u001b[0;34m\u001b[0m\u001b[0m\n",
      "\u001b[0;32m~/Dropbox/DataScience/explainerdashboard/explainerdashboard/explainers.py\u001b[0m in \u001b[0;36mimportances_df\u001b[0;34m(self, kind, topx, cutoff, cats, pos_label)\u001b[0m\n\u001b[1;32m    550\u001b[0m             \u001b[0;32mreturn\u001b[0m \u001b[0mself\u001b[0m\u001b[0;34m.\u001b[0m\u001b[0mpermutation_importances_df\u001b[0m\u001b[0;34m(\u001b[0m\u001b[0mtopx\u001b[0m\u001b[0;34m,\u001b[0m \u001b[0mcutoff\u001b[0m\u001b[0;34m,\u001b[0m \u001b[0mcats\u001b[0m\u001b[0;34m,\u001b[0m \u001b[0mpos_label\u001b[0m\u001b[0;34m)\u001b[0m\u001b[0;34m\u001b[0m\u001b[0;34m\u001b[0m\u001b[0m\n\u001b[1;32m    551\u001b[0m         \u001b[0;32melif\u001b[0m \u001b[0mkind\u001b[0m\u001b[0;34m==\u001b[0m\u001b[0;34m'shap'\u001b[0m\u001b[0;34m:\u001b[0m\u001b[0;34m\u001b[0m\u001b[0;34m\u001b[0m\u001b[0m\n\u001b[0;32m--> 552\u001b[0;31m             \u001b[0;32mreturn\u001b[0m \u001b[0mself\u001b[0m\u001b[0;34m.\u001b[0m\u001b[0mmean_abs_shap_df\u001b[0m\u001b[0;34m(\u001b[0m\u001b[0mtopx\u001b[0m\u001b[0;34m,\u001b[0m \u001b[0mcutoff\u001b[0m\u001b[0;34m,\u001b[0m \u001b[0mcats\u001b[0m\u001b[0;34m,\u001b[0m \u001b[0mpos_label\u001b[0m\u001b[0;34m)\u001b[0m\u001b[0;34m\u001b[0m\u001b[0;34m\u001b[0m\u001b[0m\n\u001b[0m\u001b[1;32m    553\u001b[0m \u001b[0;34m\u001b[0m\u001b[0m\n\u001b[1;32m    554\u001b[0m     \u001b[0;32mdef\u001b[0m \u001b[0mcontrib_df\u001b[0m\u001b[0;34m(\u001b[0m\u001b[0mself\u001b[0m\u001b[0;34m,\u001b[0m \u001b[0mindex\u001b[0m\u001b[0;34m,\u001b[0m \u001b[0mcats\u001b[0m\u001b[0;34m=\u001b[0m\u001b[0;32mTrue\u001b[0m\u001b[0;34m,\u001b[0m \u001b[0mtopx\u001b[0m\u001b[0;34m=\u001b[0m\u001b[0;32mNone\u001b[0m\u001b[0;34m,\u001b[0m \u001b[0mcutoff\u001b[0m\u001b[0;34m=\u001b[0m\u001b[0;32mNone\u001b[0m\u001b[0;34m,\u001b[0m \u001b[0mpos_label\u001b[0m\u001b[0;34m=\u001b[0m\u001b[0;32mNone\u001b[0m\u001b[0;34m)\u001b[0m\u001b[0;34m:\u001b[0m\u001b[0;34m\u001b[0m\u001b[0;34m\u001b[0m\u001b[0m\n",
      "\u001b[0;32m~/Dropbox/DataScience/explainerdashboard/explainerdashboard/explainers.py\u001b[0m in \u001b[0;36mmean_abs_shap_df\u001b[0;34m(self, topx, cutoff, cats, pos_label)\u001b[0m\n\u001b[1;32m    457\u001b[0m         \"\"\"\n\u001b[1;32m    458\u001b[0m         \u001b[0mshap_df\u001b[0m \u001b[0;34m=\u001b[0m \u001b[0mself\u001b[0m\u001b[0;34m.\u001b[0m\u001b[0mmean_abs_shap_cats\u001b[0m\u001b[0;34m(\u001b[0m\u001b[0mpos_label\u001b[0m\u001b[0;34m)\u001b[0m \u001b[0;32mif\u001b[0m \u001b[0mcats\u001b[0m\u001b[0;31m \u001b[0m\u001b[0;31m\\\u001b[0m\u001b[0;34m\u001b[0m\u001b[0;34m\u001b[0m\u001b[0m\n\u001b[0;32m--> 459\u001b[0;31m                         \u001b[0;32melse\u001b[0m \u001b[0mself\u001b[0m\u001b[0;34m.\u001b[0m\u001b[0mmean_abs_shap\u001b[0m\u001b[0;34m(\u001b[0m\u001b[0mpos_label\u001b[0m\u001b[0;34m)\u001b[0m\u001b[0;34m\u001b[0m\u001b[0;34m\u001b[0m\u001b[0m\n\u001b[0m\u001b[1;32m    460\u001b[0m \u001b[0;34m\u001b[0m\u001b[0m\n\u001b[1;32m    461\u001b[0m         \u001b[0;32mif\u001b[0m \u001b[0mtopx\u001b[0m \u001b[0;32mis\u001b[0m \u001b[0;32mNone\u001b[0m\u001b[0;34m:\u001b[0m \u001b[0mtopx\u001b[0m \u001b[0;34m=\u001b[0m \u001b[0mlen\u001b[0m\u001b[0;34m(\u001b[0m\u001b[0mshap_df\u001b[0m\u001b[0;34m)\u001b[0m\u001b[0;34m\u001b[0m\u001b[0;34m\u001b[0m\u001b[0m\n",
      "\u001b[0;32m~/Dropbox/DataScience/explainerdashboard/explainerdashboard/explainers.py\u001b[0m in \u001b[0;36mmean_abs_shap\u001b[0;34m(self)\u001b[0m\n\u001b[1;32m   1234\u001b[0m     \u001b[0;32mdef\u001b[0m \u001b[0mmean_abs_shap\u001b[0m\u001b[0;34m(\u001b[0m\u001b[0mself\u001b[0m\u001b[0;34m)\u001b[0m\u001b[0;34m:\u001b[0m\u001b[0;34m\u001b[0m\u001b[0;34m\u001b[0m\u001b[0m\n\u001b[1;32m   1235\u001b[0m         \u001b[0;32mif\u001b[0m \u001b[0;32mnot\u001b[0m \u001b[0mhasattr\u001b[0m\u001b[0;34m(\u001b[0m\u001b[0mself\u001b[0m\u001b[0;34m,\u001b[0m \u001b[0;34m'_mean_abs_shap'\u001b[0m\u001b[0;34m)\u001b[0m\u001b[0;34m:\u001b[0m\u001b[0;34m\u001b[0m\u001b[0;34m\u001b[0m\u001b[0m\n\u001b[0;32m-> 1236\u001b[0;31m             \u001b[0m_\u001b[0m \u001b[0;34m=\u001b[0m \u001b[0mself\u001b[0m\u001b[0;34m.\u001b[0m\u001b[0mshap_values\u001b[0m\u001b[0;34m\u001b[0m\u001b[0;34m\u001b[0m\u001b[0m\n\u001b[0m\u001b[1;32m   1237\u001b[0m             self._mean_abs_shap = [mean_absolute_shap_values(\n\u001b[1;32m   1238\u001b[0m                                 self.columns, sv) for sv in self._shap_values]\n",
      "\u001b[0;32m~/Dropbox/DataScience/explainerdashboard/explainerdashboard/explainers.py\u001b[0m in \u001b[0;36mshap_values\u001b[0;34m(self)\u001b[0m\n\u001b[1;32m   1178\u001b[0m         \u001b[0;32mif\u001b[0m \u001b[0;32mnot\u001b[0m \u001b[0mhasattr\u001b[0m\u001b[0;34m(\u001b[0m\u001b[0mself\u001b[0m\u001b[0;34m,\u001b[0m \u001b[0;34m'_shap_values'\u001b[0m\u001b[0;34m)\u001b[0m\u001b[0;34m:\u001b[0m\u001b[0;34m\u001b[0m\u001b[0;34m\u001b[0m\u001b[0m\n\u001b[1;32m   1179\u001b[0m             \u001b[0mprint\u001b[0m\u001b[0;34m(\u001b[0m\u001b[0;34m\"Calculating shap values...\"\u001b[0m\u001b[0;34m)\u001b[0m\u001b[0;34m\u001b[0m\u001b[0;34m\u001b[0m\u001b[0m\n\u001b[0;32m-> 1180\u001b[0;31m             \u001b[0mself\u001b[0m\u001b[0;34m.\u001b[0m\u001b[0m_shap_values\u001b[0m \u001b[0;34m=\u001b[0m \u001b[0mself\u001b[0m\u001b[0;34m.\u001b[0m\u001b[0mshap_explainer\u001b[0m\u001b[0;34m.\u001b[0m\u001b[0mshap_values\u001b[0m\u001b[0;34m(\u001b[0m\u001b[0mself\u001b[0m\u001b[0;34m.\u001b[0m\u001b[0mX\u001b[0m\u001b[0;34m)\u001b[0m\u001b[0;34m\u001b[0m\u001b[0;34m\u001b[0m\u001b[0m\n\u001b[0m\u001b[1;32m   1181\u001b[0m \u001b[0;34m\u001b[0m\u001b[0m\n\u001b[1;32m   1182\u001b[0m             \u001b[0;32mif\u001b[0m \u001b[0;32mnot\u001b[0m \u001b[0misinstance\u001b[0m\u001b[0;34m(\u001b[0m\u001b[0mself\u001b[0m\u001b[0;34m.\u001b[0m\u001b[0m_shap_values\u001b[0m\u001b[0;34m,\u001b[0m \u001b[0mlist\u001b[0m\u001b[0;34m)\u001b[0m \u001b[0;32mand\u001b[0m \u001b[0mlen\u001b[0m\u001b[0;34m(\u001b[0m\u001b[0mself\u001b[0m\u001b[0;34m.\u001b[0m\u001b[0mlabels\u001b[0m\u001b[0;34m)\u001b[0m\u001b[0;34m==\u001b[0m\u001b[0;36m2\u001b[0m\u001b[0;34m:\u001b[0m\u001b[0;34m\u001b[0m\u001b[0;34m\u001b[0m\u001b[0m\n",
      "\u001b[0;32m~/opt/anaconda3/lib/python3.7/site-packages/shap/explainers/tree.py\u001b[0m in \u001b[0;36mshap_values\u001b[0;34m(self, X, y, tree_limit, approximate, check_additivity)\u001b[0m\n\u001b[1;32m    342\u001b[0m \u001b[0;34m\u001b[0m\u001b[0m\n\u001b[1;32m    343\u001b[0m         \u001b[0;32mif\u001b[0m \u001b[0mcheck_additivity\u001b[0m \u001b[0;32mand\u001b[0m \u001b[0mself\u001b[0m\u001b[0;34m.\u001b[0m\u001b[0mmodel\u001b[0m\u001b[0;34m.\u001b[0m\u001b[0mmodel_output\u001b[0m \u001b[0;34m==\u001b[0m \u001b[0;34m\"raw\"\u001b[0m\u001b[0;34m:\u001b[0m\u001b[0;34m\u001b[0m\u001b[0;34m\u001b[0m\u001b[0m\n\u001b[0;32m--> 344\u001b[0;31m             \u001b[0mself\u001b[0m\u001b[0;34m.\u001b[0m\u001b[0massert_additivity\u001b[0m\u001b[0;34m(\u001b[0m\u001b[0mout\u001b[0m\u001b[0;34m,\u001b[0m \u001b[0mself\u001b[0m\u001b[0;34m.\u001b[0m\u001b[0mmodel\u001b[0m\u001b[0;34m.\u001b[0m\u001b[0mpredict\u001b[0m\u001b[0;34m(\u001b[0m\u001b[0mX\u001b[0m\u001b[0;34m)\u001b[0m\u001b[0;34m)\u001b[0m\u001b[0;34m\u001b[0m\u001b[0;34m\u001b[0m\u001b[0m\n\u001b[0m\u001b[1;32m    345\u001b[0m \u001b[0;34m\u001b[0m\u001b[0m\n\u001b[1;32m    346\u001b[0m         \u001b[0;31m# if our output format requires binary classificaiton to be represented as two outputs then we do that here\u001b[0m\u001b[0;34m\u001b[0m\u001b[0;34m\u001b[0m\u001b[0;34m\u001b[0m\u001b[0m\n",
      "\u001b[0;32m~/opt/anaconda3/lib/python3.7/site-packages/shap/explainers/tree.py\u001b[0m in \u001b[0;36massert_additivity\u001b[0;34m(self, phi, model_output)\u001b[0m\n\u001b[1;32m    465\u001b[0m         \u001b[0;32mif\u001b[0m \u001b[0mtype\u001b[0m\u001b[0;34m(\u001b[0m\u001b[0mphi\u001b[0m\u001b[0;34m)\u001b[0m \u001b[0;32mis\u001b[0m \u001b[0mlist\u001b[0m\u001b[0;34m:\u001b[0m\u001b[0;34m\u001b[0m\u001b[0;34m\u001b[0m\u001b[0m\n\u001b[1;32m    466\u001b[0m             \u001b[0;32mfor\u001b[0m \u001b[0mi\u001b[0m \u001b[0;32min\u001b[0m \u001b[0mrange\u001b[0m\u001b[0;34m(\u001b[0m\u001b[0mlen\u001b[0m\u001b[0;34m(\u001b[0m\u001b[0mphi\u001b[0m\u001b[0;34m)\u001b[0m\u001b[0;34m)\u001b[0m\u001b[0;34m:\u001b[0m\u001b[0;34m\u001b[0m\u001b[0;34m\u001b[0m\u001b[0m\n\u001b[0;32m--> 467\u001b[0;31m                 \u001b[0mcheck_sum\u001b[0m\u001b[0;34m(\u001b[0m\u001b[0mself\u001b[0m\u001b[0;34m.\u001b[0m\u001b[0mexpected_value\u001b[0m\u001b[0;34m[\u001b[0m\u001b[0mi\u001b[0m\u001b[0;34m]\u001b[0m \u001b[0;34m+\u001b[0m \u001b[0mphi\u001b[0m\u001b[0;34m[\u001b[0m\u001b[0mi\u001b[0m\u001b[0;34m]\u001b[0m\u001b[0;34m.\u001b[0m\u001b[0msum\u001b[0m\u001b[0;34m(\u001b[0m\u001b[0;34m-\u001b[0m\u001b[0;36m1\u001b[0m\u001b[0;34m)\u001b[0m\u001b[0;34m,\u001b[0m \u001b[0mmodel_output\u001b[0m\u001b[0;34m[\u001b[0m\u001b[0;34m:\u001b[0m\u001b[0;34m,\u001b[0m\u001b[0mi\u001b[0m\u001b[0;34m]\u001b[0m\u001b[0;34m)\u001b[0m\u001b[0;34m\u001b[0m\u001b[0;34m\u001b[0m\u001b[0m\n\u001b[0m\u001b[1;32m    468\u001b[0m         \u001b[0;32melse\u001b[0m\u001b[0;34m:\u001b[0m\u001b[0;34m\u001b[0m\u001b[0;34m\u001b[0m\u001b[0m\n\u001b[1;32m    469\u001b[0m             \u001b[0mcheck_sum\u001b[0m\u001b[0;34m(\u001b[0m\u001b[0mself\u001b[0m\u001b[0;34m.\u001b[0m\u001b[0mexpected_value\u001b[0m \u001b[0;34m+\u001b[0m \u001b[0mphi\u001b[0m\u001b[0;34m.\u001b[0m\u001b[0msum\u001b[0m\u001b[0;34m(\u001b[0m\u001b[0;34m-\u001b[0m\u001b[0;36m1\u001b[0m\u001b[0;34m)\u001b[0m\u001b[0;34m,\u001b[0m \u001b[0mmodel_output\u001b[0m\u001b[0;34m)\u001b[0m\u001b[0;34m\u001b[0m\u001b[0;34m\u001b[0m\u001b[0m\n",
      "\u001b[0;32m~/opt/anaconda3/lib/python3.7/site-packages/shap/explainers/tree.py\u001b[0m in \u001b[0;36mcheck_sum\u001b[0;34m(sum_val, model_output)\u001b[0m\n\u001b[1;32m    461\u001b[0m                            \u001b[0;34m\" was %f, while the model output was %f. If this difference is acceptable\"\u001b[0m\u001b[0;31m \u001b[0m\u001b[0;31m\\\u001b[0m\u001b[0;34m\u001b[0m\u001b[0;34m\u001b[0m\u001b[0m\n\u001b[1;32m    462\u001b[0m                            \u001b[0;34m\" you can set check_additivity=False to disable this check.\"\u001b[0m \u001b[0;34m%\u001b[0m \u001b[0;34m(\u001b[0m\u001b[0msum_val\u001b[0m\u001b[0;34m[\u001b[0m\u001b[0mind\u001b[0m\u001b[0;34m]\u001b[0m\u001b[0;34m,\u001b[0m \u001b[0mmodel_output\u001b[0m\u001b[0;34m[\u001b[0m\u001b[0mind\u001b[0m\u001b[0;34m]\u001b[0m\u001b[0;34m)\u001b[0m\u001b[0;34m\u001b[0m\u001b[0;34m\u001b[0m\u001b[0m\n\u001b[0;32m--> 463\u001b[0;31m                 \u001b[0;32mraise\u001b[0m \u001b[0mSHAPError\u001b[0m\u001b[0;34m(\u001b[0m\u001b[0merr_msg\u001b[0m\u001b[0;34m)\u001b[0m\u001b[0;34m\u001b[0m\u001b[0;34m\u001b[0m\u001b[0m\n\u001b[0m\u001b[1;32m    464\u001b[0m \u001b[0;34m\u001b[0m\u001b[0m\n\u001b[1;32m    465\u001b[0m         \u001b[0;32mif\u001b[0m \u001b[0mtype\u001b[0m\u001b[0;34m(\u001b[0m\u001b[0mphi\u001b[0m\u001b[0;34m)\u001b[0m \u001b[0;32mis\u001b[0m \u001b[0mlist\u001b[0m\u001b[0;34m:\u001b[0m\u001b[0;34m\u001b[0m\u001b[0;34m\u001b[0m\u001b[0m\n",
      "\u001b[0;31mSHAPError\u001b[0m: Additivity check failed in TreeExplainer! Please ensure the data matrix you passed to the explainer is the same shape that the model was trained on. If your data shape is correct then please report this on GitHub. Consider retrying with the feature_perturbation='interventional' option. This check failed because for one of the samples the sum of the SHAP values was 0.121582, while the model output was -1.882309. If this difference is acceptable you can set check_additivity=False to disable this check."
     ]
    }
   ],
   "source": [
    "explainer.plot_importances(kind='shap', topx=None, cats=False, round=3)"
   ]
  },
  {
   "cell_type": "code",
   "execution_count": 13,
   "metadata": {},
   "outputs": [
    {
     "data": {
      "application/vnd.plotly.v1+json": {
       "config": {
        "plotlyServerURL": "https://plot.ly"
       },
       "data": [
        {
         "name": "counts",
         "type": "bar",
         "width": [
          0.09000000000000001,
          0.09000000000000001,
          0.09000000000000004,
          0.08999999999999998,
          0.08999999999999998,
          0.0900000000000001,
          0.08999999999999998,
          0.08999999999999998,
          0.08999999999999998,
          0.08999999999999998
         ],
         "x": [
          0.05,
          0.15000000000000002,
          0.25,
          0.35000000000000003,
          0.45,
          0.55,
          0.6500000000000001,
          0.75,
          0.8500000000000001,
          0.95
         ],
         "y": [
          2,
          91,
          17,
          11,
          23,
          12,
          10,
          11,
          12,
          11
         ]
        },
        {
         "line": {
          "width": 4
         },
         "name": "Survived(positive class)",
         "type": "scatter",
         "x": [
          0.09043849756837966,
          0.1503187080124508,
          0.24026571472810704,
          0.35197278034678353,
          0.45176396155982024,
          0.5539828163836987,
          0.6600753499687961,
          0.759513164980513,
          0.8542865821738612,
          0.9183338318307258
         ],
         "y": [
          0,
          0.08791208791208792,
          0.23529411764705882,
          0.5454545454545454,
          0.391304347826087,
          0.5833333333333334,
          0.6,
          0.9090909090909091,
          1,
          1
         ],
         "yaxis": "y2"
        },
        {
         "line": {
          "width": 2
         },
         "name": "Not survived",
         "type": "scatter",
         "x": [
          0.09043849756837966,
          0.1503187080124508,
          0.24026571472810704,
          0.35197278034678353,
          0.45176396155982024,
          0.5539828163836987,
          0.6600753499687961,
          0.759513164980513,
          0.8542865821738612,
          0.9183338318307258
         ],
         "y": [
          1,
          0.9120879120879121,
          0.7647058823529411,
          0.45454545454545453,
          0.6086956521739131,
          0.4166666666666667,
          0.4,
          0.09090909090909091,
          0,
          0
         ],
         "yaxis": "y2"
        }
       ],
       "layout": {
        "annotations": [
         {
          "text": "cutoff=0.8",
          "x": 0.8,
          "y": 0.1,
          "yref": "y2"
         }
        ],
        "legend": {
         "orientation": "h",
         "x": 0.5,
         "xanchor": "center",
         "y": -0.2
        },
        "plot_bgcolor": "#fff",
        "shapes": [
         {
          "type": "line",
          "x0": 0.8,
          "x1": 0.8,
          "xref": "x",
          "y0": 0,
          "y1": 1,
          "yref": "y2"
         }
        ],
        "template": {
         "data": {
          "bar": [
           {
            "error_x": {
             "color": "#2a3f5f"
            },
            "error_y": {
             "color": "#2a3f5f"
            },
            "marker": {
             "line": {
              "color": "#E5ECF6",
              "width": 0.5
             }
            },
            "type": "bar"
           }
          ],
          "barpolar": [
           {
            "marker": {
             "line": {
              "color": "#E5ECF6",
              "width": 0.5
             }
            },
            "type": "barpolar"
           }
          ],
          "carpet": [
           {
            "aaxis": {
             "endlinecolor": "#2a3f5f",
             "gridcolor": "white",
             "linecolor": "white",
             "minorgridcolor": "white",
             "startlinecolor": "#2a3f5f"
            },
            "baxis": {
             "endlinecolor": "#2a3f5f",
             "gridcolor": "white",
             "linecolor": "white",
             "minorgridcolor": "white",
             "startlinecolor": "#2a3f5f"
            },
            "type": "carpet"
           }
          ],
          "choropleth": [
           {
            "colorbar": {
             "outlinewidth": 0,
             "ticks": ""
            },
            "type": "choropleth"
           }
          ],
          "contour": [
           {
            "colorbar": {
             "outlinewidth": 0,
             "ticks": ""
            },
            "colorscale": [
             [
              0,
              "#0d0887"
             ],
             [
              0.1111111111111111,
              "#46039f"
             ],
             [
              0.2222222222222222,
              "#7201a8"
             ],
             [
              0.3333333333333333,
              "#9c179e"
             ],
             [
              0.4444444444444444,
              "#bd3786"
             ],
             [
              0.5555555555555556,
              "#d8576b"
             ],
             [
              0.6666666666666666,
              "#ed7953"
             ],
             [
              0.7777777777777778,
              "#fb9f3a"
             ],
             [
              0.8888888888888888,
              "#fdca26"
             ],
             [
              1,
              "#f0f921"
             ]
            ],
            "type": "contour"
           }
          ],
          "contourcarpet": [
           {
            "colorbar": {
             "outlinewidth": 0,
             "ticks": ""
            },
            "type": "contourcarpet"
           }
          ],
          "heatmap": [
           {
            "colorbar": {
             "outlinewidth": 0,
             "ticks": ""
            },
            "colorscale": [
             [
              0,
              "#0d0887"
             ],
             [
              0.1111111111111111,
              "#46039f"
             ],
             [
              0.2222222222222222,
              "#7201a8"
             ],
             [
              0.3333333333333333,
              "#9c179e"
             ],
             [
              0.4444444444444444,
              "#bd3786"
             ],
             [
              0.5555555555555556,
              "#d8576b"
             ],
             [
              0.6666666666666666,
              "#ed7953"
             ],
             [
              0.7777777777777778,
              "#fb9f3a"
             ],
             [
              0.8888888888888888,
              "#fdca26"
             ],
             [
              1,
              "#f0f921"
             ]
            ],
            "type": "heatmap"
           }
          ],
          "heatmapgl": [
           {
            "colorbar": {
             "outlinewidth": 0,
             "ticks": ""
            },
            "colorscale": [
             [
              0,
              "#0d0887"
             ],
             [
              0.1111111111111111,
              "#46039f"
             ],
             [
              0.2222222222222222,
              "#7201a8"
             ],
             [
              0.3333333333333333,
              "#9c179e"
             ],
             [
              0.4444444444444444,
              "#bd3786"
             ],
             [
              0.5555555555555556,
              "#d8576b"
             ],
             [
              0.6666666666666666,
              "#ed7953"
             ],
             [
              0.7777777777777778,
              "#fb9f3a"
             ],
             [
              0.8888888888888888,
              "#fdca26"
             ],
             [
              1,
              "#f0f921"
             ]
            ],
            "type": "heatmapgl"
           }
          ],
          "histogram": [
           {
            "marker": {
             "colorbar": {
              "outlinewidth": 0,
              "ticks": ""
             }
            },
            "type": "histogram"
           }
          ],
          "histogram2d": [
           {
            "colorbar": {
             "outlinewidth": 0,
             "ticks": ""
            },
            "colorscale": [
             [
              0,
              "#0d0887"
             ],
             [
              0.1111111111111111,
              "#46039f"
             ],
             [
              0.2222222222222222,
              "#7201a8"
             ],
             [
              0.3333333333333333,
              "#9c179e"
             ],
             [
              0.4444444444444444,
              "#bd3786"
             ],
             [
              0.5555555555555556,
              "#d8576b"
             ],
             [
              0.6666666666666666,
              "#ed7953"
             ],
             [
              0.7777777777777778,
              "#fb9f3a"
             ],
             [
              0.8888888888888888,
              "#fdca26"
             ],
             [
              1,
              "#f0f921"
             ]
            ],
            "type": "histogram2d"
           }
          ],
          "histogram2dcontour": [
           {
            "colorbar": {
             "outlinewidth": 0,
             "ticks": ""
            },
            "colorscale": [
             [
              0,
              "#0d0887"
             ],
             [
              0.1111111111111111,
              "#46039f"
             ],
             [
              0.2222222222222222,
              "#7201a8"
             ],
             [
              0.3333333333333333,
              "#9c179e"
             ],
             [
              0.4444444444444444,
              "#bd3786"
             ],
             [
              0.5555555555555556,
              "#d8576b"
             ],
             [
              0.6666666666666666,
              "#ed7953"
             ],
             [
              0.7777777777777778,
              "#fb9f3a"
             ],
             [
              0.8888888888888888,
              "#fdca26"
             ],
             [
              1,
              "#f0f921"
             ]
            ],
            "type": "histogram2dcontour"
           }
          ],
          "mesh3d": [
           {
            "colorbar": {
             "outlinewidth": 0,
             "ticks": ""
            },
            "type": "mesh3d"
           }
          ],
          "parcoords": [
           {
            "line": {
             "colorbar": {
              "outlinewidth": 0,
              "ticks": ""
             }
            },
            "type": "parcoords"
           }
          ],
          "pie": [
           {
            "automargin": true,
            "type": "pie"
           }
          ],
          "scatter": [
           {
            "marker": {
             "colorbar": {
              "outlinewidth": 0,
              "ticks": ""
             }
            },
            "type": "scatter"
           }
          ],
          "scatter3d": [
           {
            "line": {
             "colorbar": {
              "outlinewidth": 0,
              "ticks": ""
             }
            },
            "marker": {
             "colorbar": {
              "outlinewidth": 0,
              "ticks": ""
             }
            },
            "type": "scatter3d"
           }
          ],
          "scattercarpet": [
           {
            "marker": {
             "colorbar": {
              "outlinewidth": 0,
              "ticks": ""
             }
            },
            "type": "scattercarpet"
           }
          ],
          "scattergeo": [
           {
            "marker": {
             "colorbar": {
              "outlinewidth": 0,
              "ticks": ""
             }
            },
            "type": "scattergeo"
           }
          ],
          "scattergl": [
           {
            "marker": {
             "colorbar": {
              "outlinewidth": 0,
              "ticks": ""
             }
            },
            "type": "scattergl"
           }
          ],
          "scattermapbox": [
           {
            "marker": {
             "colorbar": {
              "outlinewidth": 0,
              "ticks": ""
             }
            },
            "type": "scattermapbox"
           }
          ],
          "scatterpolar": [
           {
            "marker": {
             "colorbar": {
              "outlinewidth": 0,
              "ticks": ""
             }
            },
            "type": "scatterpolar"
           }
          ],
          "scatterpolargl": [
           {
            "marker": {
             "colorbar": {
              "outlinewidth": 0,
              "ticks": ""
             }
            },
            "type": "scatterpolargl"
           }
          ],
          "scatterternary": [
           {
            "marker": {
             "colorbar": {
              "outlinewidth": 0,
              "ticks": ""
             }
            },
            "type": "scatterternary"
           }
          ],
          "surface": [
           {
            "colorbar": {
             "outlinewidth": 0,
             "ticks": ""
            },
            "colorscale": [
             [
              0,
              "#0d0887"
             ],
             [
              0.1111111111111111,
              "#46039f"
             ],
             [
              0.2222222222222222,
              "#7201a8"
             ],
             [
              0.3333333333333333,
              "#9c179e"
             ],
             [
              0.4444444444444444,
              "#bd3786"
             ],
             [
              0.5555555555555556,
              "#d8576b"
             ],
             [
              0.6666666666666666,
              "#ed7953"
             ],
             [
              0.7777777777777778,
              "#fb9f3a"
             ],
             [
              0.8888888888888888,
              "#fdca26"
             ],
             [
              1,
              "#f0f921"
             ]
            ],
            "type": "surface"
           }
          ],
          "table": [
           {
            "cells": {
             "fill": {
              "color": "#EBF0F8"
             },
             "line": {
              "color": "white"
             }
            },
            "header": {
             "fill": {
              "color": "#C8D4E3"
             },
             "line": {
              "color": "white"
             }
            },
            "type": "table"
           }
          ]
         },
         "layout": {
          "annotationdefaults": {
           "arrowcolor": "#2a3f5f",
           "arrowhead": 0,
           "arrowwidth": 1
          },
          "coloraxis": {
           "colorbar": {
            "outlinewidth": 0,
            "ticks": ""
           }
          },
          "colorscale": {
           "diverging": [
            [
             0,
             "#8e0152"
            ],
            [
             0.1,
             "#c51b7d"
            ],
            [
             0.2,
             "#de77ae"
            ],
            [
             0.3,
             "#f1b6da"
            ],
            [
             0.4,
             "#fde0ef"
            ],
            [
             0.5,
             "#f7f7f7"
            ],
            [
             0.6,
             "#e6f5d0"
            ],
            [
             0.7,
             "#b8e186"
            ],
            [
             0.8,
             "#7fbc41"
            ],
            [
             0.9,
             "#4d9221"
            ],
            [
             1,
             "#276419"
            ]
           ],
           "sequential": [
            [
             0,
             "#0d0887"
            ],
            [
             0.1111111111111111,
             "#46039f"
            ],
            [
             0.2222222222222222,
             "#7201a8"
            ],
            [
             0.3333333333333333,
             "#9c179e"
            ],
            [
             0.4444444444444444,
             "#bd3786"
            ],
            [
             0.5555555555555556,
             "#d8576b"
            ],
            [
             0.6666666666666666,
             "#ed7953"
            ],
            [
             0.7777777777777778,
             "#fb9f3a"
            ],
            [
             0.8888888888888888,
             "#fdca26"
            ],
            [
             1,
             "#f0f921"
            ]
           ],
           "sequentialminus": [
            [
             0,
             "#0d0887"
            ],
            [
             0.1111111111111111,
             "#46039f"
            ],
            [
             0.2222222222222222,
             "#7201a8"
            ],
            [
             0.3333333333333333,
             "#9c179e"
            ],
            [
             0.4444444444444444,
             "#bd3786"
            ],
            [
             0.5555555555555556,
             "#d8576b"
            ],
            [
             0.6666666666666666,
             "#ed7953"
            ],
            [
             0.7777777777777778,
             "#fb9f3a"
            ],
            [
             0.8888888888888888,
             "#fdca26"
            ],
            [
             1,
             "#f0f921"
            ]
           ]
          },
          "colorway": [
           "#636efa",
           "#EF553B",
           "#00cc96",
           "#ab63fa",
           "#FFA15A",
           "#19d3f3",
           "#FF6692",
           "#B6E880",
           "#FF97FF",
           "#FECB52"
          ],
          "font": {
           "color": "#2a3f5f"
          },
          "geo": {
           "bgcolor": "white",
           "lakecolor": "white",
           "landcolor": "#E5ECF6",
           "showlakes": true,
           "showland": true,
           "subunitcolor": "white"
          },
          "hoverlabel": {
           "align": "left"
          },
          "hovermode": "closest",
          "mapbox": {
           "style": "light"
          },
          "paper_bgcolor": "white",
          "plot_bgcolor": "#E5ECF6",
          "polar": {
           "angularaxis": {
            "gridcolor": "white",
            "linecolor": "white",
            "ticks": ""
           },
           "bgcolor": "#E5ECF6",
           "radialaxis": {
            "gridcolor": "white",
            "linecolor": "white",
            "ticks": ""
           }
          },
          "scene": {
           "xaxis": {
            "backgroundcolor": "#E5ECF6",
            "gridcolor": "white",
            "gridwidth": 2,
            "linecolor": "white",
            "showbackground": true,
            "ticks": "",
            "zerolinecolor": "white"
           },
           "yaxis": {
            "backgroundcolor": "#E5ECF6",
            "gridcolor": "white",
            "gridwidth": 2,
            "linecolor": "white",
            "showbackground": true,
            "ticks": "",
            "zerolinecolor": "white"
           },
           "zaxis": {
            "backgroundcolor": "#E5ECF6",
            "gridcolor": "white",
            "gridwidth": 2,
            "linecolor": "white",
            "showbackground": true,
            "ticks": "",
            "zerolinecolor": "white"
           }
          },
          "shapedefaults": {
           "line": {
            "color": "#2a3f5f"
           }
          },
          "ternary": {
           "aaxis": {
            "gridcolor": "white",
            "linecolor": "white",
            "ticks": ""
           },
           "baxis": {
            "gridcolor": "white",
            "linecolor": "white",
            "ticks": ""
           },
           "bgcolor": "#E5ECF6",
           "caxis": {
            "gridcolor": "white",
            "linecolor": "white",
            "ticks": ""
           }
          },
          "title": {
           "x": 0.05
          },
          "xaxis": {
           "automargin": true,
           "gridcolor": "white",
           "linecolor": "white",
           "ticks": "",
           "title": {
            "standoff": 15
           },
           "zerolinecolor": "white",
           "zerolinewidth": 2
          },
          "yaxis": {
           "automargin": true,
           "gridcolor": "white",
           "linecolor": "white",
           "ticks": "",
           "title": {
            "standoff": 15
           },
           "zerolinecolor": "white",
           "zerolinewidth": 2
          }
         }
        },
        "title": {
         "text": "percentage Survived vs predicted probability"
        },
        "xaxis": {
         "title": {
          "text": "predicted probability"
         }
        },
        "yaxis": {
         "title": {
          "text": "counts"
         }
        },
        "yaxis2": {
         "overlaying": "y",
         "rangemode": "tozero",
         "side": "right",
         "tickfont": {
          "color": "rgb(148, 103, 189)"
         },
         "title": {
          "font": {
           "color": "rgb(148, 103, 189)"
          },
          "text": "percentage"
         }
        }
       }
      },
      "text/html": [
       "<div>\n",
       "        \n",
       "        \n",
       "            <div id=\"f4aa3f3a-dfa3-48be-bf94-a1355ecc1425\" class=\"plotly-graph-div\" style=\"height:525px; width:100%;\"></div>\n",
       "            <script type=\"text/javascript\">\n",
       "                require([\"plotly\"], function(Plotly) {\n",
       "                    window.PLOTLYENV=window.PLOTLYENV || {};\n",
       "                    \n",
       "                if (document.getElementById(\"f4aa3f3a-dfa3-48be-bf94-a1355ecc1425\")) {\n",
       "                    Plotly.newPlot(\n",
       "                        'f4aa3f3a-dfa3-48be-bf94-a1355ecc1425',\n",
       "                        [{\"name\": \"counts\", \"type\": \"bar\", \"width\": [0.09000000000000001, 0.09000000000000001, 0.09000000000000004, 0.08999999999999998, 0.08999999999999998, 0.0900000000000001, 0.08999999999999998, 0.08999999999999998, 0.08999999999999998, 0.08999999999999998], \"x\": [0.05, 0.15000000000000002, 0.25, 0.35000000000000003, 0.45, 0.55, 0.6500000000000001, 0.75, 0.8500000000000001, 0.95], \"y\": [2, 91, 17, 11, 23, 12, 10, 11, 12, 11]}, {\"line\": {\"width\": 4}, \"name\": \"Survived(positive class)\", \"type\": \"scatter\", \"x\": [0.09043849756837966, 0.1503187080124508, 0.24026571472810704, 0.35197278034678353, 0.45176396155982024, 0.5539828163836987, 0.6600753499687961, 0.759513164980513, 0.8542865821738612, 0.9183338318307258], \"y\": [0.0, 0.08791208791208792, 0.23529411764705882, 0.5454545454545454, 0.391304347826087, 0.5833333333333334, 0.6, 0.9090909090909091, 1.0, 1.0], \"yaxis\": \"y2\"}, {\"line\": {\"width\": 2}, \"name\": \"Not survived\", \"type\": \"scatter\", \"x\": [0.09043849756837966, 0.1503187080124508, 0.24026571472810704, 0.35197278034678353, 0.45176396155982024, 0.5539828163836987, 0.6600753499687961, 0.759513164980513, 0.8542865821738612, 0.9183338318307258], \"y\": [1.0, 0.9120879120879121, 0.7647058823529411, 0.45454545454545453, 0.6086956521739131, 0.4166666666666667, 0.4, 0.09090909090909091, 0.0, 0.0], \"yaxis\": \"y2\"}],\n",
       "                        {\"annotations\": [{\"text\": \"cutoff=0.8\", \"x\": 0.8, \"y\": 0.1, \"yref\": \"y2\"}], \"legend\": {\"orientation\": \"h\", \"x\": 0.5, \"xanchor\": \"center\", \"y\": -0.2}, \"plot_bgcolor\": \"#fff\", \"shapes\": [{\"type\": \"line\", \"x0\": 0.8, \"x1\": 0.8, \"xref\": \"x\", \"y0\": 0, \"y1\": 1.0, \"yref\": \"y2\"}], \"template\": {\"data\": {\"bar\": [{\"error_x\": {\"color\": \"#2a3f5f\"}, \"error_y\": {\"color\": \"#2a3f5f\"}, \"marker\": {\"line\": {\"color\": \"#E5ECF6\", \"width\": 0.5}}, \"type\": \"bar\"}], \"barpolar\": [{\"marker\": {\"line\": {\"color\": \"#E5ECF6\", \"width\": 0.5}}, \"type\": \"barpolar\"}], \"carpet\": [{\"aaxis\": {\"endlinecolor\": \"#2a3f5f\", \"gridcolor\": \"white\", \"linecolor\": \"white\", \"minorgridcolor\": \"white\", \"startlinecolor\": \"#2a3f5f\"}, \"baxis\": {\"endlinecolor\": \"#2a3f5f\", \"gridcolor\": \"white\", \"linecolor\": \"white\", \"minorgridcolor\": \"white\", \"startlinecolor\": \"#2a3f5f\"}, \"type\": \"carpet\"}], \"choropleth\": [{\"colorbar\": {\"outlinewidth\": 0, \"ticks\": \"\"}, \"type\": \"choropleth\"}], \"contour\": [{\"colorbar\": {\"outlinewidth\": 0, \"ticks\": \"\"}, \"colorscale\": [[0.0, \"#0d0887\"], [0.1111111111111111, \"#46039f\"], [0.2222222222222222, \"#7201a8\"], [0.3333333333333333, \"#9c179e\"], [0.4444444444444444, \"#bd3786\"], [0.5555555555555556, \"#d8576b\"], [0.6666666666666666, \"#ed7953\"], [0.7777777777777778, \"#fb9f3a\"], [0.8888888888888888, \"#fdca26\"], [1.0, \"#f0f921\"]], \"type\": \"contour\"}], \"contourcarpet\": [{\"colorbar\": {\"outlinewidth\": 0, \"ticks\": \"\"}, \"type\": \"contourcarpet\"}], \"heatmap\": [{\"colorbar\": {\"outlinewidth\": 0, \"ticks\": \"\"}, \"colorscale\": [[0.0, \"#0d0887\"], [0.1111111111111111, \"#46039f\"], [0.2222222222222222, \"#7201a8\"], [0.3333333333333333, \"#9c179e\"], [0.4444444444444444, \"#bd3786\"], [0.5555555555555556, \"#d8576b\"], [0.6666666666666666, \"#ed7953\"], [0.7777777777777778, \"#fb9f3a\"], [0.8888888888888888, \"#fdca26\"], [1.0, \"#f0f921\"]], \"type\": \"heatmap\"}], \"heatmapgl\": [{\"colorbar\": {\"outlinewidth\": 0, \"ticks\": \"\"}, \"colorscale\": [[0.0, \"#0d0887\"], [0.1111111111111111, \"#46039f\"], [0.2222222222222222, \"#7201a8\"], [0.3333333333333333, \"#9c179e\"], [0.4444444444444444, \"#bd3786\"], [0.5555555555555556, \"#d8576b\"], [0.6666666666666666, \"#ed7953\"], [0.7777777777777778, \"#fb9f3a\"], [0.8888888888888888, \"#fdca26\"], [1.0, \"#f0f921\"]], \"type\": \"heatmapgl\"}], \"histogram\": [{\"marker\": {\"colorbar\": {\"outlinewidth\": 0, \"ticks\": \"\"}}, \"type\": \"histogram\"}], \"histogram2d\": [{\"colorbar\": {\"outlinewidth\": 0, \"ticks\": \"\"}, \"colorscale\": [[0.0, \"#0d0887\"], [0.1111111111111111, \"#46039f\"], [0.2222222222222222, \"#7201a8\"], [0.3333333333333333, \"#9c179e\"], [0.4444444444444444, \"#bd3786\"], [0.5555555555555556, \"#d8576b\"], [0.6666666666666666, \"#ed7953\"], [0.7777777777777778, \"#fb9f3a\"], [0.8888888888888888, \"#fdca26\"], [1.0, \"#f0f921\"]], \"type\": \"histogram2d\"}], \"histogram2dcontour\": [{\"colorbar\": {\"outlinewidth\": 0, \"ticks\": \"\"}, \"colorscale\": [[0.0, \"#0d0887\"], [0.1111111111111111, \"#46039f\"], [0.2222222222222222, \"#7201a8\"], [0.3333333333333333, \"#9c179e\"], [0.4444444444444444, \"#bd3786\"], [0.5555555555555556, \"#d8576b\"], [0.6666666666666666, \"#ed7953\"], [0.7777777777777778, \"#fb9f3a\"], [0.8888888888888888, \"#fdca26\"], [1.0, \"#f0f921\"]], \"type\": \"histogram2dcontour\"}], \"mesh3d\": [{\"colorbar\": {\"outlinewidth\": 0, \"ticks\": \"\"}, \"type\": \"mesh3d\"}], \"parcoords\": [{\"line\": {\"colorbar\": {\"outlinewidth\": 0, \"ticks\": \"\"}}, \"type\": \"parcoords\"}], \"pie\": [{\"automargin\": true, \"type\": \"pie\"}], \"scatter\": [{\"marker\": {\"colorbar\": {\"outlinewidth\": 0, \"ticks\": \"\"}}, \"type\": \"scatter\"}], \"scatter3d\": [{\"line\": {\"colorbar\": {\"outlinewidth\": 0, \"ticks\": \"\"}}, \"marker\": {\"colorbar\": {\"outlinewidth\": 0, \"ticks\": \"\"}}, \"type\": \"scatter3d\"}], \"scattercarpet\": [{\"marker\": {\"colorbar\": {\"outlinewidth\": 0, \"ticks\": \"\"}}, \"type\": \"scattercarpet\"}], \"scattergeo\": [{\"marker\": {\"colorbar\": {\"outlinewidth\": 0, \"ticks\": \"\"}}, \"type\": \"scattergeo\"}], \"scattergl\": [{\"marker\": {\"colorbar\": {\"outlinewidth\": 0, \"ticks\": \"\"}}, \"type\": \"scattergl\"}], \"scattermapbox\": [{\"marker\": {\"colorbar\": {\"outlinewidth\": 0, \"ticks\": \"\"}}, \"type\": \"scattermapbox\"}], \"scatterpolar\": [{\"marker\": {\"colorbar\": {\"outlinewidth\": 0, \"ticks\": \"\"}}, \"type\": \"scatterpolar\"}], \"scatterpolargl\": [{\"marker\": {\"colorbar\": {\"outlinewidth\": 0, \"ticks\": \"\"}}, \"type\": \"scatterpolargl\"}], \"scatterternary\": [{\"marker\": {\"colorbar\": {\"outlinewidth\": 0, \"ticks\": \"\"}}, \"type\": \"scatterternary\"}], \"surface\": [{\"colorbar\": {\"outlinewidth\": 0, \"ticks\": \"\"}, \"colorscale\": [[0.0, \"#0d0887\"], [0.1111111111111111, \"#46039f\"], [0.2222222222222222, \"#7201a8\"], [0.3333333333333333, \"#9c179e\"], [0.4444444444444444, \"#bd3786\"], [0.5555555555555556, \"#d8576b\"], [0.6666666666666666, \"#ed7953\"], [0.7777777777777778, \"#fb9f3a\"], [0.8888888888888888, \"#fdca26\"], [1.0, \"#f0f921\"]], \"type\": \"surface\"}], \"table\": [{\"cells\": {\"fill\": {\"color\": \"#EBF0F8\"}, \"line\": {\"color\": \"white\"}}, \"header\": {\"fill\": {\"color\": \"#C8D4E3\"}, \"line\": {\"color\": \"white\"}}, \"type\": \"table\"}]}, \"layout\": {\"annotationdefaults\": {\"arrowcolor\": \"#2a3f5f\", \"arrowhead\": 0, \"arrowwidth\": 1}, \"coloraxis\": {\"colorbar\": {\"outlinewidth\": 0, \"ticks\": \"\"}}, \"colorscale\": {\"diverging\": [[0, \"#8e0152\"], [0.1, \"#c51b7d\"], [0.2, \"#de77ae\"], [0.3, \"#f1b6da\"], [0.4, \"#fde0ef\"], [0.5, \"#f7f7f7\"], [0.6, \"#e6f5d0\"], [0.7, \"#b8e186\"], [0.8, \"#7fbc41\"], [0.9, \"#4d9221\"], [1, \"#276419\"]], \"sequential\": [[0.0, \"#0d0887\"], [0.1111111111111111, \"#46039f\"], [0.2222222222222222, \"#7201a8\"], [0.3333333333333333, \"#9c179e\"], [0.4444444444444444, \"#bd3786\"], [0.5555555555555556, \"#d8576b\"], [0.6666666666666666, \"#ed7953\"], [0.7777777777777778, \"#fb9f3a\"], [0.8888888888888888, \"#fdca26\"], [1.0, \"#f0f921\"]], \"sequentialminus\": [[0.0, \"#0d0887\"], [0.1111111111111111, \"#46039f\"], [0.2222222222222222, \"#7201a8\"], [0.3333333333333333, \"#9c179e\"], [0.4444444444444444, \"#bd3786\"], [0.5555555555555556, \"#d8576b\"], [0.6666666666666666, \"#ed7953\"], [0.7777777777777778, \"#fb9f3a\"], [0.8888888888888888, \"#fdca26\"], [1.0, \"#f0f921\"]]}, \"colorway\": [\"#636efa\", \"#EF553B\", \"#00cc96\", \"#ab63fa\", \"#FFA15A\", \"#19d3f3\", \"#FF6692\", \"#B6E880\", \"#FF97FF\", \"#FECB52\"], \"font\": {\"color\": \"#2a3f5f\"}, \"geo\": {\"bgcolor\": \"white\", \"lakecolor\": \"white\", \"landcolor\": \"#E5ECF6\", \"showlakes\": true, \"showland\": true, \"subunitcolor\": \"white\"}, \"hoverlabel\": {\"align\": \"left\"}, \"hovermode\": \"closest\", \"mapbox\": {\"style\": \"light\"}, \"paper_bgcolor\": \"white\", \"plot_bgcolor\": \"#E5ECF6\", \"polar\": {\"angularaxis\": {\"gridcolor\": \"white\", \"linecolor\": \"white\", \"ticks\": \"\"}, \"bgcolor\": \"#E5ECF6\", \"radialaxis\": {\"gridcolor\": \"white\", \"linecolor\": \"white\", \"ticks\": \"\"}}, \"scene\": {\"xaxis\": {\"backgroundcolor\": \"#E5ECF6\", \"gridcolor\": \"white\", \"gridwidth\": 2, \"linecolor\": \"white\", \"showbackground\": true, \"ticks\": \"\", \"zerolinecolor\": \"white\"}, \"yaxis\": {\"backgroundcolor\": \"#E5ECF6\", \"gridcolor\": \"white\", \"gridwidth\": 2, \"linecolor\": \"white\", \"showbackground\": true, \"ticks\": \"\", \"zerolinecolor\": \"white\"}, \"zaxis\": {\"backgroundcolor\": \"#E5ECF6\", \"gridcolor\": \"white\", \"gridwidth\": 2, \"linecolor\": \"white\", \"showbackground\": true, \"ticks\": \"\", \"zerolinecolor\": \"white\"}}, \"shapedefaults\": {\"line\": {\"color\": \"#2a3f5f\"}}, \"ternary\": {\"aaxis\": {\"gridcolor\": \"white\", \"linecolor\": \"white\", \"ticks\": \"\"}, \"baxis\": {\"gridcolor\": \"white\", \"linecolor\": \"white\", \"ticks\": \"\"}, \"bgcolor\": \"#E5ECF6\", \"caxis\": {\"gridcolor\": \"white\", \"linecolor\": \"white\", \"ticks\": \"\"}}, \"title\": {\"x\": 0.05}, \"xaxis\": {\"automargin\": true, \"gridcolor\": \"white\", \"linecolor\": \"white\", \"ticks\": \"\", \"title\": {\"standoff\": 15}, \"zerolinecolor\": \"white\", \"zerolinewidth\": 2}, \"yaxis\": {\"automargin\": true, \"gridcolor\": \"white\", \"linecolor\": \"white\", \"ticks\": \"\", \"title\": {\"standoff\": 15}, \"zerolinecolor\": \"white\", \"zerolinewidth\": 2}}}, \"title\": {\"text\": \"percentage Survived vs predicted probability\"}, \"xaxis\": {\"title\": {\"text\": \"predicted probability\"}}, \"yaxis\": {\"title\": {\"text\": \"counts\"}}, \"yaxis2\": {\"overlaying\": \"y\", \"rangemode\": \"tozero\", \"side\": \"right\", \"tickfont\": {\"color\": \"rgb(148, 103, 189)\"}, \"title\": {\"font\": {\"color\": \"rgb(148, 103, 189)\"}, \"text\": \"percentage\"}}},\n",
       "                        {\"responsive\": true}\n",
       "                    ).then(function(){\n",
       "                            \n",
       "var gd = document.getElementById('f4aa3f3a-dfa3-48be-bf94-a1355ecc1425');\n",
       "var x = new MutationObserver(function (mutations, observer) {{\n",
       "        var display = window.getComputedStyle(gd).display;\n",
       "        if (!display || display === 'none') {{\n",
       "            console.log([gd, 'removed!']);\n",
       "            Plotly.purge(gd);\n",
       "            observer.disconnect();\n",
       "        }}\n",
       "}});\n",
       "\n",
       "// Listen for the removal of the full notebook cells\n",
       "var notebookContainer = gd.closest('#notebook-container');\n",
       "if (notebookContainer) {{\n",
       "    x.observe(notebookContainer, {childList: true});\n",
       "}}\n",
       "\n",
       "// Listen for the clearing of the current output cell\n",
       "var outputEl = gd.closest('.output');\n",
       "if (outputEl) {{\n",
       "    x.observe(outputEl, {childList: true});\n",
       "}}\n",
       "\n",
       "                        })\n",
       "                };\n",
       "                });\n",
       "            </script>\n",
       "        </div>"
      ]
     },
     "metadata": {},
     "output_type": "display_data"
    }
   ],
   "source": [
    "explainer.plot_precision(bin_size=0.1, cutoff=0.8, multiclass=True)"
   ]
  },
  {
   "cell_type": "code",
   "execution_count": 11,
   "metadata": {},
   "outputs": [
    {
     "data": {
      "application/vnd.plotly.v1+json": {
       "config": {
        "plotlyServerURL": "https://plot.ly"
       },
       "data": [
        {
         "colorscale": [
          [
           0,
           "rgb(247,251,255)"
          ],
          [
           0.125,
           "rgb(222,235,247)"
          ],
          [
           0.25,
           "rgb(198,219,239)"
          ],
          [
           0.375,
           "rgb(158,202,225)"
          ],
          [
           0.5,
           "rgb(107,174,214)"
          ],
          [
           0.625,
           "rgb(66,146,198)"
          ],
          [
           0.75,
           "rgb(33,113,181)"
          ],
          [
           0.875,
           "rgb(8,81,156)"
          ],
          [
           1,
           "rgb(8,48,107)"
          ]
         ],
         "hoverinfo": "skip",
         "type": "heatmap",
         "x": [
          "predicted<br>Not survived",
          "predicted<br>Survived"
         ],
         "y": [
          "actual<br>Not survived",
          "actual<br>Survived"
         ],
         "z": [
          [
           61.5,
           2
          ],
          [
           16,
           20.5
          ]
         ],
         "zmax": 100,
         "zmin": 0
        }
       ],
       "layout": {
        "annotations": [
         {
          "font": {
           "size": 20
          },
          "showarrow": false,
          "text": "61.5%",
          "x": "predicted<br>Not survived",
          "y": "actual<br>Not survived"
         },
         {
          "font": {
           "color": "black",
           "family": "Old Standard TT, Bold",
           "size": 90
          },
          "opacity": 0.05,
          "showarrow": false,
          "text": "TN",
          "x": "predicted<br>Not survived",
          "y": "actual<br>Not survived"
         },
         {
          "font": {
           "size": 20
          },
          "showarrow": false,
          "text": "2.0%",
          "x": "predicted<br>Survived",
          "y": "actual<br>Not survived"
         },
         {
          "font": {
           "color": "black",
           "family": "Old Standard TT, Bold",
           "size": 90
          },
          "opacity": 0.05,
          "showarrow": false,
          "text": "FP",
          "x": "predicted<br>Survived",
          "y": "actual<br>Not survived"
         },
         {
          "font": {
           "size": 20
          },
          "showarrow": false,
          "text": "16.0%",
          "x": "predicted<br>Not survived",
          "y": "actual<br>Survived"
         },
         {
          "font": {
           "color": "black",
           "family": "Old Standard TT, Bold",
           "size": 90
          },
          "opacity": 0.05,
          "showarrow": false,
          "text": "FN",
          "x": "predicted<br>Not survived",
          "y": "actual<br>Survived"
         },
         {
          "font": {
           "size": 20
          },
          "showarrow": false,
          "text": "20.5%",
          "x": "predicted<br>Survived",
          "y": "actual<br>Survived"
         },
         {
          "font": {
           "color": "black",
           "family": "Old Standard TT, Bold",
           "size": 90
          },
          "opacity": 0.05,
          "showarrow": false,
          "text": "TP",
          "x": "predicted<br>Survived",
          "y": "actual<br>Survived"
         }
        ],
        "height": 450,
        "template": {
         "data": {
          "bar": [
           {
            "error_x": {
             "color": "#2a3f5f"
            },
            "error_y": {
             "color": "#2a3f5f"
            },
            "marker": {
             "line": {
              "color": "#E5ECF6",
              "width": 0.5
             }
            },
            "type": "bar"
           }
          ],
          "barpolar": [
           {
            "marker": {
             "line": {
              "color": "#E5ECF6",
              "width": 0.5
             }
            },
            "type": "barpolar"
           }
          ],
          "carpet": [
           {
            "aaxis": {
             "endlinecolor": "#2a3f5f",
             "gridcolor": "white",
             "linecolor": "white",
             "minorgridcolor": "white",
             "startlinecolor": "#2a3f5f"
            },
            "baxis": {
             "endlinecolor": "#2a3f5f",
             "gridcolor": "white",
             "linecolor": "white",
             "minorgridcolor": "white",
             "startlinecolor": "#2a3f5f"
            },
            "type": "carpet"
           }
          ],
          "choropleth": [
           {
            "colorbar": {
             "outlinewidth": 0,
             "ticks": ""
            },
            "type": "choropleth"
           }
          ],
          "contour": [
           {
            "colorbar": {
             "outlinewidth": 0,
             "ticks": ""
            },
            "colorscale": [
             [
              0,
              "#0d0887"
             ],
             [
              0.1111111111111111,
              "#46039f"
             ],
             [
              0.2222222222222222,
              "#7201a8"
             ],
             [
              0.3333333333333333,
              "#9c179e"
             ],
             [
              0.4444444444444444,
              "#bd3786"
             ],
             [
              0.5555555555555556,
              "#d8576b"
             ],
             [
              0.6666666666666666,
              "#ed7953"
             ],
             [
              0.7777777777777778,
              "#fb9f3a"
             ],
             [
              0.8888888888888888,
              "#fdca26"
             ],
             [
              1,
              "#f0f921"
             ]
            ],
            "type": "contour"
           }
          ],
          "contourcarpet": [
           {
            "colorbar": {
             "outlinewidth": 0,
             "ticks": ""
            },
            "type": "contourcarpet"
           }
          ],
          "heatmap": [
           {
            "colorbar": {
             "outlinewidth": 0,
             "ticks": ""
            },
            "colorscale": [
             [
              0,
              "#0d0887"
             ],
             [
              0.1111111111111111,
              "#46039f"
             ],
             [
              0.2222222222222222,
              "#7201a8"
             ],
             [
              0.3333333333333333,
              "#9c179e"
             ],
             [
              0.4444444444444444,
              "#bd3786"
             ],
             [
              0.5555555555555556,
              "#d8576b"
             ],
             [
              0.6666666666666666,
              "#ed7953"
             ],
             [
              0.7777777777777778,
              "#fb9f3a"
             ],
             [
              0.8888888888888888,
              "#fdca26"
             ],
             [
              1,
              "#f0f921"
             ]
            ],
            "type": "heatmap"
           }
          ],
          "heatmapgl": [
           {
            "colorbar": {
             "outlinewidth": 0,
             "ticks": ""
            },
            "colorscale": [
             [
              0,
              "#0d0887"
             ],
             [
              0.1111111111111111,
              "#46039f"
             ],
             [
              0.2222222222222222,
              "#7201a8"
             ],
             [
              0.3333333333333333,
              "#9c179e"
             ],
             [
              0.4444444444444444,
              "#bd3786"
             ],
             [
              0.5555555555555556,
              "#d8576b"
             ],
             [
              0.6666666666666666,
              "#ed7953"
             ],
             [
              0.7777777777777778,
              "#fb9f3a"
             ],
             [
              0.8888888888888888,
              "#fdca26"
             ],
             [
              1,
              "#f0f921"
             ]
            ],
            "type": "heatmapgl"
           }
          ],
          "histogram": [
           {
            "marker": {
             "colorbar": {
              "outlinewidth": 0,
              "ticks": ""
             }
            },
            "type": "histogram"
           }
          ],
          "histogram2d": [
           {
            "colorbar": {
             "outlinewidth": 0,
             "ticks": ""
            },
            "colorscale": [
             [
              0,
              "#0d0887"
             ],
             [
              0.1111111111111111,
              "#46039f"
             ],
             [
              0.2222222222222222,
              "#7201a8"
             ],
             [
              0.3333333333333333,
              "#9c179e"
             ],
             [
              0.4444444444444444,
              "#bd3786"
             ],
             [
              0.5555555555555556,
              "#d8576b"
             ],
             [
              0.6666666666666666,
              "#ed7953"
             ],
             [
              0.7777777777777778,
              "#fb9f3a"
             ],
             [
              0.8888888888888888,
              "#fdca26"
             ],
             [
              1,
              "#f0f921"
             ]
            ],
            "type": "histogram2d"
           }
          ],
          "histogram2dcontour": [
           {
            "colorbar": {
             "outlinewidth": 0,
             "ticks": ""
            },
            "colorscale": [
             [
              0,
              "#0d0887"
             ],
             [
              0.1111111111111111,
              "#46039f"
             ],
             [
              0.2222222222222222,
              "#7201a8"
             ],
             [
              0.3333333333333333,
              "#9c179e"
             ],
             [
              0.4444444444444444,
              "#bd3786"
             ],
             [
              0.5555555555555556,
              "#d8576b"
             ],
             [
              0.6666666666666666,
              "#ed7953"
             ],
             [
              0.7777777777777778,
              "#fb9f3a"
             ],
             [
              0.8888888888888888,
              "#fdca26"
             ],
             [
              1,
              "#f0f921"
             ]
            ],
            "type": "histogram2dcontour"
           }
          ],
          "mesh3d": [
           {
            "colorbar": {
             "outlinewidth": 0,
             "ticks": ""
            },
            "type": "mesh3d"
           }
          ],
          "parcoords": [
           {
            "line": {
             "colorbar": {
              "outlinewidth": 0,
              "ticks": ""
             }
            },
            "type": "parcoords"
           }
          ],
          "scatter": [
           {
            "marker": {
             "colorbar": {
              "outlinewidth": 0,
              "ticks": ""
             }
            },
            "type": "scatter"
           }
          ],
          "scatter3d": [
           {
            "line": {
             "colorbar": {
              "outlinewidth": 0,
              "ticks": ""
             }
            },
            "marker": {
             "colorbar": {
              "outlinewidth": 0,
              "ticks": ""
             }
            },
            "type": "scatter3d"
           }
          ],
          "scattercarpet": [
           {
            "marker": {
             "colorbar": {
              "outlinewidth": 0,
              "ticks": ""
             }
            },
            "type": "scattercarpet"
           }
          ],
          "scattergeo": [
           {
            "marker": {
             "colorbar": {
              "outlinewidth": 0,
              "ticks": ""
             }
            },
            "type": "scattergeo"
           }
          ],
          "scattergl": [
           {
            "marker": {
             "colorbar": {
              "outlinewidth": 0,
              "ticks": ""
             }
            },
            "type": "scattergl"
           }
          ],
          "scattermapbox": [
           {
            "marker": {
             "colorbar": {
              "outlinewidth": 0,
              "ticks": ""
             }
            },
            "type": "scattermapbox"
           }
          ],
          "scatterpolar": [
           {
            "marker": {
             "colorbar": {
              "outlinewidth": 0,
              "ticks": ""
             }
            },
            "type": "scatterpolar"
           }
          ],
          "scatterpolargl": [
           {
            "marker": {
             "colorbar": {
              "outlinewidth": 0,
              "ticks": ""
             }
            },
            "type": "scatterpolargl"
           }
          ],
          "scatterternary": [
           {
            "marker": {
             "colorbar": {
              "outlinewidth": 0,
              "ticks": ""
             }
            },
            "type": "scatterternary"
           }
          ],
          "surface": [
           {
            "colorbar": {
             "outlinewidth": 0,
             "ticks": ""
            },
            "colorscale": [
             [
              0,
              "#0d0887"
             ],
             [
              0.1111111111111111,
              "#46039f"
             ],
             [
              0.2222222222222222,
              "#7201a8"
             ],
             [
              0.3333333333333333,
              "#9c179e"
             ],
             [
              0.4444444444444444,
              "#bd3786"
             ],
             [
              0.5555555555555556,
              "#d8576b"
             ],
             [
              0.6666666666666666,
              "#ed7953"
             ],
             [
              0.7777777777777778,
              "#fb9f3a"
             ],
             [
              0.8888888888888888,
              "#fdca26"
             ],
             [
              1,
              "#f0f921"
             ]
            ],
            "type": "surface"
           }
          ],
          "table": [
           {
            "cells": {
             "fill": {
              "color": "#EBF0F8"
             },
             "line": {
              "color": "white"
             }
            },
            "header": {
             "fill": {
              "color": "#C8D4E3"
             },
             "line": {
              "color": "white"
             }
            },
            "type": "table"
           }
          ]
         },
         "layout": {
          "annotationdefaults": {
           "arrowcolor": "#2a3f5f",
           "arrowhead": 0,
           "arrowwidth": 1
          },
          "colorscale": {
           "diverging": [
            [
             0,
             "#8e0152"
            ],
            [
             0.1,
             "#c51b7d"
            ],
            [
             0.2,
             "#de77ae"
            ],
            [
             0.3,
             "#f1b6da"
            ],
            [
             0.4,
             "#fde0ef"
            ],
            [
             0.5,
             "#f7f7f7"
            ],
            [
             0.6,
             "#e6f5d0"
            ],
            [
             0.7,
             "#b8e186"
            ],
            [
             0.8,
             "#7fbc41"
            ],
            [
             0.9,
             "#4d9221"
            ],
            [
             1,
             "#276419"
            ]
           ],
           "sequential": [
            [
             0,
             "#0d0887"
            ],
            [
             0.1111111111111111,
             "#46039f"
            ],
            [
             0.2222222222222222,
             "#7201a8"
            ],
            [
             0.3333333333333333,
             "#9c179e"
            ],
            [
             0.4444444444444444,
             "#bd3786"
            ],
            [
             0.5555555555555556,
             "#d8576b"
            ],
            [
             0.6666666666666666,
             "#ed7953"
            ],
            [
             0.7777777777777778,
             "#fb9f3a"
            ],
            [
             0.8888888888888888,
             "#fdca26"
            ],
            [
             1,
             "#f0f921"
            ]
           ],
           "sequentialminus": [
            [
             0,
             "#0d0887"
            ],
            [
             0.1111111111111111,
             "#46039f"
            ],
            [
             0.2222222222222222,
             "#7201a8"
            ],
            [
             0.3333333333333333,
             "#9c179e"
            ],
            [
             0.4444444444444444,
             "#bd3786"
            ],
            [
             0.5555555555555556,
             "#d8576b"
            ],
            [
             0.6666666666666666,
             "#ed7953"
            ],
            [
             0.7777777777777778,
             "#fb9f3a"
            ],
            [
             0.8888888888888888,
             "#fdca26"
            ],
            [
             1,
             "#f0f921"
            ]
           ]
          },
          "colorway": [
           "#636efa",
           "#EF553B",
           "#00cc96",
           "#ab63fa",
           "#FFA15A",
           "#19d3f3",
           "#FF6692",
           "#B6E880",
           "#FF97FF",
           "#FECB52"
          ],
          "font": {
           "color": "#2a3f5f"
          },
          "geo": {
           "bgcolor": "white",
           "lakecolor": "white",
           "landcolor": "#E5ECF6",
           "showlakes": true,
           "showland": true,
           "subunitcolor": "white"
          },
          "hoverlabel": {
           "align": "left"
          },
          "hovermode": "closest",
          "mapbox": {
           "style": "light"
          },
          "paper_bgcolor": "white",
          "plot_bgcolor": "#E5ECF6",
          "polar": {
           "angularaxis": {
            "gridcolor": "white",
            "linecolor": "white",
            "ticks": ""
           },
           "bgcolor": "#E5ECF6",
           "radialaxis": {
            "gridcolor": "white",
            "linecolor": "white",
            "ticks": ""
           }
          },
          "scene": {
           "xaxis": {
            "backgroundcolor": "#E5ECF6",
            "gridcolor": "white",
            "gridwidth": 2,
            "linecolor": "white",
            "showbackground": true,
            "ticks": "",
            "zerolinecolor": "white"
           },
           "yaxis": {
            "backgroundcolor": "#E5ECF6",
            "gridcolor": "white",
            "gridwidth": 2,
            "linecolor": "white",
            "showbackground": true,
            "ticks": "",
            "zerolinecolor": "white"
           },
           "zaxis": {
            "backgroundcolor": "#E5ECF6",
            "gridcolor": "white",
            "gridwidth": 2,
            "linecolor": "white",
            "showbackground": true,
            "ticks": "",
            "zerolinecolor": "white"
           }
          },
          "shapedefaults": {
           "line": {
            "color": "#2a3f5f"
           }
          },
          "ternary": {
           "aaxis": {
            "gridcolor": "white",
            "linecolor": "white",
            "ticks": ""
           },
           "baxis": {
            "gridcolor": "white",
            "linecolor": "white",
            "ticks": ""
           },
           "bgcolor": "#E5ECF6",
           "caxis": {
            "gridcolor": "white",
            "linecolor": "white",
            "ticks": ""
           }
          },
          "title": {
           "x": 0.05
          },
          "xaxis": {
           "automargin": true,
           "gridcolor": "white",
           "linecolor": "white",
           "ticks": "",
           "zerolinecolor": "white",
           "zerolinewidth": 2
          },
          "yaxis": {
           "automargin": true,
           "gridcolor": "white",
           "linecolor": "white",
           "ticks": "",
           "zerolinecolor": "white",
           "zerolinewidth": 2
          }
         }
        },
        "title": {
         "text": "Confusion Matrix"
        },
        "width": 450,
        "xaxis": {
         "side": "top"
        },
        "yaxis": {
         "autorange": "reversed",
         "side": "left"
        }
       }
      },
      "text/html": [
       "<div>\n",
       "        \n",
       "        \n",
       "            <div id=\"93b8cbae-2c9c-442a-ad9c-985b5dab5857\" class=\"plotly-graph-div\" style=\"height:450px; width:450px;\"></div>\n",
       "            <script type=\"text/javascript\">\n",
       "                require([\"plotly\"], function(Plotly) {\n",
       "                    window.PLOTLYENV=window.PLOTLYENV || {};\n",
       "                    \n",
       "                if (document.getElementById(\"93b8cbae-2c9c-442a-ad9c-985b5dab5857\")) {\n",
       "                    Plotly.newPlot(\n",
       "                        '93b8cbae-2c9c-442a-ad9c-985b5dab5857',\n",
       "                        [{\"colorscale\": [[0.0, \"rgb(247,251,255)\"], [0.125, \"rgb(222,235,247)\"], [0.25, \"rgb(198,219,239)\"], [0.375, \"rgb(158,202,225)\"], [0.5, \"rgb(107,174,214)\"], [0.625, \"rgb(66,146,198)\"], [0.75, \"rgb(33,113,181)\"], [0.875, \"rgb(8,81,156)\"], [1.0, \"rgb(8,48,107)\"]], \"hoverinfo\": \"skip\", \"type\": \"heatmap\", \"x\": [\"predicted<br>Not survived\", \"predicted<br>Survived\"], \"y\": [\"actual<br>Not survived\", \"actual<br>Survived\"], \"z\": [[61.5, 2.0], [16.0, 20.5]], \"zmax\": 100, \"zmin\": 0}],\n",
       "                        {\"annotations\": [{\"font\": {\"size\": 20}, \"showarrow\": false, \"text\": \"61.5%\", \"x\": \"predicted<br>Not survived\", \"y\": \"actual<br>Not survived\"}, {\"font\": {\"color\": \"black\", \"family\": \"Old Standard TT, Bold\", \"size\": 90}, \"opacity\": 0.05, \"showarrow\": false, \"text\": \"TN\", \"x\": \"predicted<br>Not survived\", \"y\": \"actual<br>Not survived\"}, {\"font\": {\"size\": 20}, \"showarrow\": false, \"text\": \"2.0%\", \"x\": \"predicted<br>Survived\", \"y\": \"actual<br>Not survived\"}, {\"font\": {\"color\": \"black\", \"family\": \"Old Standard TT, Bold\", \"size\": 90}, \"opacity\": 0.05, \"showarrow\": false, \"text\": \"FP\", \"x\": \"predicted<br>Survived\", \"y\": \"actual<br>Not survived\"}, {\"font\": {\"size\": 20}, \"showarrow\": false, \"text\": \"16.0%\", \"x\": \"predicted<br>Not survived\", \"y\": \"actual<br>Survived\"}, {\"font\": {\"color\": \"black\", \"family\": \"Old Standard TT, Bold\", \"size\": 90}, \"opacity\": 0.05, \"showarrow\": false, \"text\": \"FN\", \"x\": \"predicted<br>Not survived\", \"y\": \"actual<br>Survived\"}, {\"font\": {\"size\": 20}, \"showarrow\": false, \"text\": \"20.5%\", \"x\": \"predicted<br>Survived\", \"y\": \"actual<br>Survived\"}, {\"font\": {\"color\": \"black\", \"family\": \"Old Standard TT, Bold\", \"size\": 90}, \"opacity\": 0.05, \"showarrow\": false, \"text\": \"TP\", \"x\": \"predicted<br>Survived\", \"y\": \"actual<br>Survived\"}], \"height\": 450, \"template\": {\"data\": {\"bar\": [{\"error_x\": {\"color\": \"#2a3f5f\"}, \"error_y\": {\"color\": \"#2a3f5f\"}, \"marker\": {\"line\": {\"color\": \"#E5ECF6\", \"width\": 0.5}}, \"type\": \"bar\"}], \"barpolar\": [{\"marker\": {\"line\": {\"color\": \"#E5ECF6\", \"width\": 0.5}}, \"type\": \"barpolar\"}], \"carpet\": [{\"aaxis\": {\"endlinecolor\": \"#2a3f5f\", \"gridcolor\": \"white\", \"linecolor\": \"white\", \"minorgridcolor\": \"white\", \"startlinecolor\": \"#2a3f5f\"}, \"baxis\": {\"endlinecolor\": \"#2a3f5f\", \"gridcolor\": \"white\", \"linecolor\": \"white\", \"minorgridcolor\": \"white\", \"startlinecolor\": \"#2a3f5f\"}, \"type\": \"carpet\"}], \"choropleth\": [{\"colorbar\": {\"outlinewidth\": 0, \"ticks\": \"\"}, \"type\": \"choropleth\"}], \"contour\": [{\"colorbar\": {\"outlinewidth\": 0, \"ticks\": \"\"}, \"colorscale\": [[0.0, \"#0d0887\"], [0.1111111111111111, \"#46039f\"], [0.2222222222222222, \"#7201a8\"], [0.3333333333333333, \"#9c179e\"], [0.4444444444444444, \"#bd3786\"], [0.5555555555555556, \"#d8576b\"], [0.6666666666666666, \"#ed7953\"], [0.7777777777777778, \"#fb9f3a\"], [0.8888888888888888, \"#fdca26\"], [1.0, \"#f0f921\"]], \"type\": \"contour\"}], \"contourcarpet\": [{\"colorbar\": {\"outlinewidth\": 0, \"ticks\": \"\"}, \"type\": \"contourcarpet\"}], \"heatmap\": [{\"colorbar\": {\"outlinewidth\": 0, \"ticks\": \"\"}, \"colorscale\": [[0.0, \"#0d0887\"], [0.1111111111111111, \"#46039f\"], [0.2222222222222222, \"#7201a8\"], [0.3333333333333333, \"#9c179e\"], [0.4444444444444444, \"#bd3786\"], [0.5555555555555556, \"#d8576b\"], [0.6666666666666666, \"#ed7953\"], [0.7777777777777778, \"#fb9f3a\"], [0.8888888888888888, \"#fdca26\"], [1.0, \"#f0f921\"]], \"type\": \"heatmap\"}], \"heatmapgl\": [{\"colorbar\": {\"outlinewidth\": 0, \"ticks\": \"\"}, \"colorscale\": [[0.0, \"#0d0887\"], [0.1111111111111111, \"#46039f\"], [0.2222222222222222, \"#7201a8\"], [0.3333333333333333, \"#9c179e\"], [0.4444444444444444, \"#bd3786\"], [0.5555555555555556, \"#d8576b\"], [0.6666666666666666, \"#ed7953\"], [0.7777777777777778, \"#fb9f3a\"], [0.8888888888888888, \"#fdca26\"], [1.0, \"#f0f921\"]], \"type\": \"heatmapgl\"}], \"histogram\": [{\"marker\": {\"colorbar\": {\"outlinewidth\": 0, \"ticks\": \"\"}}, \"type\": \"histogram\"}], \"histogram2d\": [{\"colorbar\": {\"outlinewidth\": 0, \"ticks\": \"\"}, \"colorscale\": [[0.0, \"#0d0887\"], [0.1111111111111111, \"#46039f\"], [0.2222222222222222, \"#7201a8\"], [0.3333333333333333, \"#9c179e\"], [0.4444444444444444, \"#bd3786\"], [0.5555555555555556, \"#d8576b\"], [0.6666666666666666, \"#ed7953\"], [0.7777777777777778, \"#fb9f3a\"], [0.8888888888888888, \"#fdca26\"], [1.0, \"#f0f921\"]], \"type\": \"histogram2d\"}], \"histogram2dcontour\": [{\"colorbar\": {\"outlinewidth\": 0, \"ticks\": \"\"}, \"colorscale\": [[0.0, \"#0d0887\"], [0.1111111111111111, \"#46039f\"], [0.2222222222222222, \"#7201a8\"], [0.3333333333333333, \"#9c179e\"], [0.4444444444444444, \"#bd3786\"], [0.5555555555555556, \"#d8576b\"], [0.6666666666666666, \"#ed7953\"], [0.7777777777777778, \"#fb9f3a\"], [0.8888888888888888, \"#fdca26\"], [1.0, \"#f0f921\"]], \"type\": \"histogram2dcontour\"}], \"mesh3d\": [{\"colorbar\": {\"outlinewidth\": 0, \"ticks\": \"\"}, \"type\": \"mesh3d\"}], \"parcoords\": [{\"line\": {\"colorbar\": {\"outlinewidth\": 0, \"ticks\": \"\"}}, \"type\": \"parcoords\"}], \"scatter\": [{\"marker\": {\"colorbar\": {\"outlinewidth\": 0, \"ticks\": \"\"}}, \"type\": \"scatter\"}], \"scatter3d\": [{\"line\": {\"colorbar\": {\"outlinewidth\": 0, \"ticks\": \"\"}}, \"marker\": {\"colorbar\": {\"outlinewidth\": 0, \"ticks\": \"\"}}, \"type\": \"scatter3d\"}], \"scattercarpet\": [{\"marker\": {\"colorbar\": {\"outlinewidth\": 0, \"ticks\": \"\"}}, \"type\": \"scattercarpet\"}], \"scattergeo\": [{\"marker\": {\"colorbar\": {\"outlinewidth\": 0, \"ticks\": \"\"}}, \"type\": \"scattergeo\"}], \"scattergl\": [{\"marker\": {\"colorbar\": {\"outlinewidth\": 0, \"ticks\": \"\"}}, \"type\": \"scattergl\"}], \"scattermapbox\": [{\"marker\": {\"colorbar\": {\"outlinewidth\": 0, \"ticks\": \"\"}}, \"type\": \"scattermapbox\"}], \"scatterpolar\": [{\"marker\": {\"colorbar\": {\"outlinewidth\": 0, \"ticks\": \"\"}}, \"type\": \"scatterpolar\"}], \"scatterpolargl\": [{\"marker\": {\"colorbar\": {\"outlinewidth\": 0, \"ticks\": \"\"}}, \"type\": \"scatterpolargl\"}], \"scatterternary\": [{\"marker\": {\"colorbar\": {\"outlinewidth\": 0, \"ticks\": \"\"}}, \"type\": \"scatterternary\"}], \"surface\": [{\"colorbar\": {\"outlinewidth\": 0, \"ticks\": \"\"}, \"colorscale\": [[0.0, \"#0d0887\"], [0.1111111111111111, \"#46039f\"], [0.2222222222222222, \"#7201a8\"], [0.3333333333333333, \"#9c179e\"], [0.4444444444444444, \"#bd3786\"], [0.5555555555555556, \"#d8576b\"], [0.6666666666666666, \"#ed7953\"], [0.7777777777777778, \"#fb9f3a\"], [0.8888888888888888, \"#fdca26\"], [1.0, \"#f0f921\"]], \"type\": \"surface\"}], \"table\": [{\"cells\": {\"fill\": {\"color\": \"#EBF0F8\"}, \"line\": {\"color\": \"white\"}}, \"header\": {\"fill\": {\"color\": \"#C8D4E3\"}, \"line\": {\"color\": \"white\"}}, \"type\": \"table\"}]}, \"layout\": {\"annotationdefaults\": {\"arrowcolor\": \"#2a3f5f\", \"arrowhead\": 0, \"arrowwidth\": 1}, \"colorscale\": {\"diverging\": [[0, \"#8e0152\"], [0.1, \"#c51b7d\"], [0.2, \"#de77ae\"], [0.3, \"#f1b6da\"], [0.4, \"#fde0ef\"], [0.5, \"#f7f7f7\"], [0.6, \"#e6f5d0\"], [0.7, \"#b8e186\"], [0.8, \"#7fbc41\"], [0.9, \"#4d9221\"], [1, \"#276419\"]], \"sequential\": [[0.0, \"#0d0887\"], [0.1111111111111111, \"#46039f\"], [0.2222222222222222, \"#7201a8\"], [0.3333333333333333, \"#9c179e\"], [0.4444444444444444, \"#bd3786\"], [0.5555555555555556, \"#d8576b\"], [0.6666666666666666, \"#ed7953\"], [0.7777777777777778, \"#fb9f3a\"], [0.8888888888888888, \"#fdca26\"], [1.0, \"#f0f921\"]], \"sequentialminus\": [[0.0, \"#0d0887\"], [0.1111111111111111, \"#46039f\"], [0.2222222222222222, \"#7201a8\"], [0.3333333333333333, \"#9c179e\"], [0.4444444444444444, \"#bd3786\"], [0.5555555555555556, \"#d8576b\"], [0.6666666666666666, \"#ed7953\"], [0.7777777777777778, \"#fb9f3a\"], [0.8888888888888888, \"#fdca26\"], [1.0, \"#f0f921\"]]}, \"colorway\": [\"#636efa\", \"#EF553B\", \"#00cc96\", \"#ab63fa\", \"#FFA15A\", \"#19d3f3\", \"#FF6692\", \"#B6E880\", \"#FF97FF\", \"#FECB52\"], \"font\": {\"color\": \"#2a3f5f\"}, \"geo\": {\"bgcolor\": \"white\", \"lakecolor\": \"white\", \"landcolor\": \"#E5ECF6\", \"showlakes\": true, \"showland\": true, \"subunitcolor\": \"white\"}, \"hoverlabel\": {\"align\": \"left\"}, \"hovermode\": \"closest\", \"mapbox\": {\"style\": \"light\"}, \"paper_bgcolor\": \"white\", \"plot_bgcolor\": \"#E5ECF6\", \"polar\": {\"angularaxis\": {\"gridcolor\": \"white\", \"linecolor\": \"white\", \"ticks\": \"\"}, \"bgcolor\": \"#E5ECF6\", \"radialaxis\": {\"gridcolor\": \"white\", \"linecolor\": \"white\", \"ticks\": \"\"}}, \"scene\": {\"xaxis\": {\"backgroundcolor\": \"#E5ECF6\", \"gridcolor\": \"white\", \"gridwidth\": 2, \"linecolor\": \"white\", \"showbackground\": true, \"ticks\": \"\", \"zerolinecolor\": \"white\"}, \"yaxis\": {\"backgroundcolor\": \"#E5ECF6\", \"gridcolor\": \"white\", \"gridwidth\": 2, \"linecolor\": \"white\", \"showbackground\": true, \"ticks\": \"\", \"zerolinecolor\": \"white\"}, \"zaxis\": {\"backgroundcolor\": \"#E5ECF6\", \"gridcolor\": \"white\", \"gridwidth\": 2, \"linecolor\": \"white\", \"showbackground\": true, \"ticks\": \"\", \"zerolinecolor\": \"white\"}}, \"shapedefaults\": {\"line\": {\"color\": \"#2a3f5f\"}}, \"ternary\": {\"aaxis\": {\"gridcolor\": \"white\", \"linecolor\": \"white\", \"ticks\": \"\"}, \"baxis\": {\"gridcolor\": \"white\", \"linecolor\": \"white\", \"ticks\": \"\"}, \"bgcolor\": \"#E5ECF6\", \"caxis\": {\"gridcolor\": \"white\", \"linecolor\": \"white\", \"ticks\": \"\"}}, \"title\": {\"x\": 0.05}, \"xaxis\": {\"automargin\": true, \"gridcolor\": \"white\", \"linecolor\": \"white\", \"ticks\": \"\", \"zerolinecolor\": \"white\", \"zerolinewidth\": 2}, \"yaxis\": {\"automargin\": true, \"gridcolor\": \"white\", \"linecolor\": \"white\", \"ticks\": \"\", \"zerolinecolor\": \"white\", \"zerolinewidth\": 2}}}, \"title\": {\"text\": \"Confusion Matrix\"}, \"width\": 450, \"xaxis\": {\"side\": \"top\"}, \"yaxis\": {\"autorange\": \"reversed\", \"side\": \"left\"}},\n",
       "                        {\"responsive\": true}\n",
       "                    ).then(function(){\n",
       "                            \n",
       "var gd = document.getElementById('93b8cbae-2c9c-442a-ad9c-985b5dab5857');\n",
       "var x = new MutationObserver(function (mutations, observer) {{\n",
       "        var display = window.getComputedStyle(gd).display;\n",
       "        if (!display || display === 'none') {{\n",
       "            console.log([gd, 'removed!']);\n",
       "            Plotly.purge(gd);\n",
       "            observer.disconnect();\n",
       "        }}\n",
       "}});\n",
       "\n",
       "// Listen for the removal of the full notebook cells\n",
       "var notebookContainer = gd.closest('#notebook-container');\n",
       "if (notebookContainer) {{\n",
       "    x.observe(notebookContainer, {childList: true});\n",
       "}}\n",
       "\n",
       "// Listen for the clearing of the current output cell\n",
       "var outputEl = gd.closest('.output');\n",
       "if (outputEl) {{\n",
       "    x.observe(outputEl, {childList: true});\n",
       "}}\n",
       "\n",
       "                        })\n",
       "                };\n",
       "                });\n",
       "            </script>\n",
       "        </div>"
      ]
     },
     "metadata": {},
     "output_type": "display_data"
    }
   ],
   "source": [
    "explainer.plot_confusion_matrix(cutoff=0.6, normalized=True )"
   ]
  },
  {
   "cell_type": "code",
   "execution_count": 10,
   "metadata": {},
   "outputs": [
    {
     "data": {
      "application/vnd.plotly.v1+json": {
       "config": {
        "plotlyServerURL": "https://plot.ly"
       },
       "data": [
        {
         "hoverinfo": "text",
         "mode": "lines",
         "name": "ROC AUC CURVE",
         "text": [
          "threshold: 1.96 <br> FP: 0.0 <br> TP: 0.0",
          "threshold: 0.96 <br> FP: 0.0 <br> TP: 0.01",
          "threshold: 0.75 <br> FP: 0.0 <br> TP: 0.44",
          "threshold: 0.75 <br> FP: 0.01 <br> TP: 0.44",
          "threshold: 0.74 <br> FP: 0.01 <br> TP: 0.47",
          "threshold: 0.7 <br> FP: 0.01 <br> TP: 0.48",
          "threshold: 0.68 <br> FP: 0.02 <br> TP: 0.48",
          "threshold: 0.68 <br> FP: 0.02 <br> TP: 0.49",
          "threshold: 0.67 <br> FP: 0.02 <br> TP: 0.52",
          "threshold: 0.66 <br> FP: 0.02 <br> TP: 0.52",
          "threshold: 0.62 <br> FP: 0.02 <br> TP: 0.56",
          "threshold: 0.61 <br> FP: 0.03 <br> TP: 0.56",
          "threshold: 0.55 <br> FP: 0.03 <br> TP: 0.6",
          "threshold: 0.55 <br> FP: 0.04 <br> TP: 0.6",
          "threshold: 0.55 <br> FP: 0.04 <br> TP: 0.62",
          "threshold: 0.53 <br> FP: 0.07 <br> TP: 0.62",
          "threshold: 0.48 <br> FP: 0.07 <br> TP: 0.67",
          "threshold: 0.48 <br> FP: 0.08 <br> TP: 0.67",
          "threshold: 0.48 <br> FP: 0.08 <br> TP: 0.68",
          "threshold: 0.48 <br> FP: 0.09 <br> TP: 0.68",
          "threshold: 0.46 <br> FP: 0.09 <br> TP: 0.73",
          "threshold: 0.46 <br> FP: 0.09 <br> TP: 0.73",
          "threshold: 0.45 <br> FP: 0.09 <br> TP: 0.74",
          "threshold: 0.4 <br> FP: 0.17 <br> TP: 0.74",
          "threshold: 0.4 <br> FP: 0.17 <br> TP: 0.75",
          "threshold: 0.39 <br> FP: 0.18 <br> TP: 0.75",
          "threshold: 0.39 <br> FP: 0.18 <br> TP: 0.77",
          "threshold: 0.38 <br> FP: 0.19 <br> TP: 0.77",
          "threshold: 0.35 <br> FP: 0.19 <br> TP: 0.79",
          "threshold: 0.34 <br> FP: 0.21 <br> TP: 0.79",
          "threshold: 0.3 <br> FP: 0.21 <br> TP: 0.81",
          "threshold: 0.3 <br> FP: 0.22 <br> TP: 0.81",
          "threshold: 0.3 <br> FP: 0.22 <br> TP: 0.84",
          "threshold: 0.26 <br> FP: 0.25 <br> TP: 0.84",
          "threshold: 0.25 <br> FP: 0.25 <br> TP: 0.85",
          "threshold: 0.24 <br> FP: 0.26 <br> TP: 0.85",
          "threshold: 0.24 <br> FP: 0.26 <br> TP: 0.86",
          "threshold: 0.24 <br> FP: 0.27 <br> TP: 0.86",
          "threshold: 0.23 <br> FP: 0.27 <br> TP: 0.88",
          "threshold: 0.22 <br> FP: 0.28 <br> TP: 0.88",
          "threshold: 0.22 <br> FP: 0.28 <br> TP: 0.89",
          "threshold: 0.19 <br> FP: 0.31 <br> TP: 0.89",
          "threshold: 0.19 <br> FP: 0.33 <br> TP: 0.89",
          "threshold: 0.18 <br> FP: 0.39 <br> TP: 0.89",
          "threshold: 0.18 <br> FP: 0.39 <br> TP: 0.9",
          "threshold: 0.17 <br> FP: 0.39 <br> TP: 0.9",
          "threshold: 0.17 <br> FP: 0.39 <br> TP: 0.92",
          "threshold: 0.17 <br> FP: 0.41 <br> TP: 0.92",
          "threshold: 0.17 <br> FP: 0.42 <br> TP: 0.92",
          "threshold: 0.17 <br> FP: 0.44 <br> TP: 0.92",
          "threshold: 0.16 <br> FP: 0.47 <br> TP: 0.92",
          "threshold: 0.16 <br> FP: 0.5 <br> TP: 0.92",
          "threshold: 0.16 <br> FP: 0.5 <br> TP: 0.92",
          "threshold: 0.15 <br> FP: 0.52 <br> TP: 0.92",
          "threshold: 0.15 <br> FP: 0.54 <br> TP: 0.92",
          "threshold: 0.15 <br> FP: 0.56 <br> TP: 0.92",
          "threshold: 0.15 <br> FP: 0.61 <br> TP: 0.92",
          "threshold: 0.14 <br> FP: 0.65 <br> TP: 0.92",
          "threshold: 0.14 <br> FP: 0.66 <br> TP: 0.92",
          "threshold: 0.14 <br> FP: 0.69 <br> TP: 0.92",
          "threshold: 0.14 <br> FP: 0.7 <br> TP: 0.92",
          "threshold: 0.14 <br> FP: 0.73 <br> TP: 0.92",
          "threshold: 0.14 <br> FP: 0.73 <br> TP: 0.93",
          "threshold: 0.14 <br> FP: 0.74 <br> TP: 0.93",
          "threshold: 0.14 <br> FP: 0.76 <br> TP: 0.95",
          "threshold: 0.14 <br> FP: 0.79 <br> TP: 0.95",
          "threshold: 0.13 <br> FP: 0.83 <br> TP: 0.95",
          "threshold: 0.13 <br> FP: 0.84 <br> TP: 0.95",
          "threshold: 0.13 <br> FP: 0.87 <br> TP: 0.96",
          "threshold: 0.12 <br> FP: 0.87 <br> TP: 0.97",
          "threshold: 0.12 <br> FP: 0.9 <br> TP: 0.97",
          "threshold: 0.12 <br> FP: 0.93 <br> TP: 0.97",
          "threshold: 0.12 <br> FP: 0.94 <br> TP: 0.97",
          "threshold: 0.12 <br> FP: 0.94 <br> TP: 0.99",
          "threshold: 0.12 <br> FP: 0.95 <br> TP: 0.99",
          "threshold: 0.12 <br> FP: 0.97 <br> TP: 0.99",
          "threshold: 0.11 <br> FP: 0.98 <br> TP: 0.99",
          "threshold: 0.1 <br> FP: 0.98 <br> TP: 1.0",
          "threshold: 0.09 <br> FP: 1.0 <br> TP: 1.0"
         ],
         "type": "scatter",
         "x": [
          0,
          0,
          0,
          0.007874015748031496,
          0.007874015748031496,
          0.007874015748031496,
          0.015748031496062992,
          0.015748031496062992,
          0.015748031496062992,
          0.023622047244094488,
          0.023622047244094488,
          0.031496062992125984,
          0.031496062992125984,
          0.03937007874015748,
          0.03937007874015748,
          0.07086614173228346,
          0.07086614173228346,
          0.07874015748031496,
          0.07874015748031496,
          0.08661417322834646,
          0.08661417322834646,
          0.09448818897637795,
          0.09448818897637795,
          0.1732283464566929,
          0.1732283464566929,
          0.18110236220472442,
          0.18110236220472442,
          0.1889763779527559,
          0.1889763779527559,
          0.2125984251968504,
          0.2125984251968504,
          0.2204724409448819,
          0.2204724409448819,
          0.25196850393700787,
          0.25196850393700787,
          0.25984251968503935,
          0.25984251968503935,
          0.2677165354330709,
          0.2677165354330709,
          0.2755905511811024,
          0.2755905511811024,
          0.31496062992125984,
          0.33070866141732286,
          0.3858267716535433,
          0.3858267716535433,
          0.3937007874015748,
          0.3937007874015748,
          0.4094488188976378,
          0.41732283464566927,
          0.4409448818897638,
          0.47244094488188976,
          0.49606299212598426,
          0.5039370078740157,
          0.5196850393700787,
          0.5433070866141733,
          0.5590551181102362,
          0.6141732283464567,
          0.6535433070866141,
          0.6614173228346457,
          0.6850393700787402,
          0.7007874015748031,
          0.7322834645669292,
          0.7322834645669292,
          0.7401574803149606,
          0.7637795275590551,
          0.7874015748031497,
          0.8267716535433071,
          0.84251968503937,
          0.8661417322834646,
          0.8661417322834646,
          0.8976377952755905,
          0.9291338582677166,
          0.9448818897637795,
          0.9448818897637795,
          0.952755905511811,
          0.968503937007874,
          0.9763779527559056,
          0.984251968503937,
          1
         ],
         "y": [
          0,
          0.0136986301369863,
          0.4383561643835616,
          0.4383561643835616,
          0.4657534246575342,
          0.4794520547945205,
          0.4794520547945205,
          0.4931506849315068,
          0.5205479452054794,
          0.5205479452054794,
          0.5616438356164384,
          0.5616438356164384,
          0.6027397260273972,
          0.6027397260273972,
          0.6164383561643836,
          0.6164383561643836,
          0.6712328767123288,
          0.6712328767123288,
          0.684931506849315,
          0.684931506849315,
          0.726027397260274,
          0.726027397260274,
          0.7397260273972602,
          0.7397260273972602,
          0.7534246575342466,
          0.7534246575342466,
          0.7671232876712328,
          0.7671232876712328,
          0.7945205479452054,
          0.7945205479452054,
          0.8082191780821918,
          0.8082191780821918,
          0.8356164383561644,
          0.8356164383561644,
          0.8493150684931506,
          0.8493150684931506,
          0.863013698630137,
          0.863013698630137,
          0.8767123287671232,
          0.8767123287671232,
          0.8904109589041096,
          0.8904109589041096,
          0.8904109589041096,
          0.8904109589041096,
          0.9041095890410958,
          0.9041095890410958,
          0.9178082191780822,
          0.9178082191780822,
          0.9178082191780822,
          0.9178082191780822,
          0.9178082191780822,
          0.9178082191780822,
          0.9178082191780822,
          0.9178082191780822,
          0.9178082191780822,
          0.9178082191780822,
          0.9178082191780822,
          0.9178082191780822,
          0.9178082191780822,
          0.9178082191780822,
          0.9178082191780822,
          0.9178082191780822,
          0.9315068493150684,
          0.9315068493150684,
          0.9452054794520548,
          0.9452054794520548,
          0.9452054794520548,
          0.9452054794520548,
          0.958904109589041,
          0.9726027397260274,
          0.9726027397260274,
          0.9726027397260274,
          0.9726027397260274,
          0.9863013698630136,
          0.9863013698630136,
          0.9863013698630136,
          0.9863013698630136,
          1,
          1
         ]
        }
       ],
       "layout": {
        "annotations": [
         {
          "align": "right",
          "showarrow": false,
          "text": "Cutoff: 0.7",
          "x": 0.6,
          "xanchor": "left",
          "y": 0.45,
          "yanchor": "top"
         },
         {
          "align": "right",
          "showarrow": false,
          "text": "Accuracy: 0.8",
          "x": 0.6,
          "xanchor": "left",
          "y": 0.4,
          "yanchor": "top"
         },
         {
          "align": "right",
          "showarrow": false,
          "text": "Precision: 0.971",
          "x": 0.6,
          "xanchor": "left",
          "y": 0.35,
          "yanchor": "top"
         },
         {
          "align": "right",
          "showarrow": false,
          "text": "Recall: 0.466",
          "x": 0.6,
          "xanchor": "left",
          "y": 0.3,
          "yanchor": "top"
         },
         {
          "align": "right",
          "showarrow": false,
          "text": "F1-score: 0.63",
          "x": 0.6,
          "xanchor": "left",
          "y": 0.25,
          "yanchor": "top"
         },
         {
          "align": "right",
          "showarrow": false,
          "text": "roc-auc-score: 0.872",
          "x": 0.6,
          "xanchor": "left",
          "y": 0.2,
          "yanchor": "top"
         }
        ],
        "height": 450,
        "shapes": [
         {
          "line": {
           "color": "darkslategray",
           "dash": "dot",
           "width": 4
          },
          "type": "line",
          "x0": 0,
          "x1": 1,
          "xref": "x",
          "y0": 0,
          "y1": 1,
          "yref": "y"
         },
         {
          "line": {
           "color": "lightslategray",
           "width": 1
          },
          "type": "line",
          "x0": 0,
          "x1": 1,
          "xref": "x",
          "y0": 0.4794520547945205,
          "y1": 0.4794520547945205,
          "yref": "y"
         },
         {
          "line": {
           "color": "lightslategray",
           "width": 1
          },
          "type": "line",
          "x0": 0.007874015748031496,
          "x1": 0.007874015748031496,
          "xref": "x",
          "y0": 0,
          "y1": 1,
          "yref": "y"
         }
        ],
        "template": {
         "data": {
          "bar": [
           {
            "error_x": {
             "color": "#2a3f5f"
            },
            "error_y": {
             "color": "#2a3f5f"
            },
            "marker": {
             "line": {
              "color": "#E5ECF6",
              "width": 0.5
             }
            },
            "type": "bar"
           }
          ],
          "barpolar": [
           {
            "marker": {
             "line": {
              "color": "#E5ECF6",
              "width": 0.5
             }
            },
            "type": "barpolar"
           }
          ],
          "carpet": [
           {
            "aaxis": {
             "endlinecolor": "#2a3f5f",
             "gridcolor": "white",
             "linecolor": "white",
             "minorgridcolor": "white",
             "startlinecolor": "#2a3f5f"
            },
            "baxis": {
             "endlinecolor": "#2a3f5f",
             "gridcolor": "white",
             "linecolor": "white",
             "minorgridcolor": "white",
             "startlinecolor": "#2a3f5f"
            },
            "type": "carpet"
           }
          ],
          "choropleth": [
           {
            "colorbar": {
             "outlinewidth": 0,
             "ticks": ""
            },
            "type": "choropleth"
           }
          ],
          "contour": [
           {
            "colorbar": {
             "outlinewidth": 0,
             "ticks": ""
            },
            "colorscale": [
             [
              0,
              "#0d0887"
             ],
             [
              0.1111111111111111,
              "#46039f"
             ],
             [
              0.2222222222222222,
              "#7201a8"
             ],
             [
              0.3333333333333333,
              "#9c179e"
             ],
             [
              0.4444444444444444,
              "#bd3786"
             ],
             [
              0.5555555555555556,
              "#d8576b"
             ],
             [
              0.6666666666666666,
              "#ed7953"
             ],
             [
              0.7777777777777778,
              "#fb9f3a"
             ],
             [
              0.8888888888888888,
              "#fdca26"
             ],
             [
              1,
              "#f0f921"
             ]
            ],
            "type": "contour"
           }
          ],
          "contourcarpet": [
           {
            "colorbar": {
             "outlinewidth": 0,
             "ticks": ""
            },
            "type": "contourcarpet"
           }
          ],
          "heatmap": [
           {
            "colorbar": {
             "outlinewidth": 0,
             "ticks": ""
            },
            "colorscale": [
             [
              0,
              "#0d0887"
             ],
             [
              0.1111111111111111,
              "#46039f"
             ],
             [
              0.2222222222222222,
              "#7201a8"
             ],
             [
              0.3333333333333333,
              "#9c179e"
             ],
             [
              0.4444444444444444,
              "#bd3786"
             ],
             [
              0.5555555555555556,
              "#d8576b"
             ],
             [
              0.6666666666666666,
              "#ed7953"
             ],
             [
              0.7777777777777778,
              "#fb9f3a"
             ],
             [
              0.8888888888888888,
              "#fdca26"
             ],
             [
              1,
              "#f0f921"
             ]
            ],
            "type": "heatmap"
           }
          ],
          "heatmapgl": [
           {
            "colorbar": {
             "outlinewidth": 0,
             "ticks": ""
            },
            "colorscale": [
             [
              0,
              "#0d0887"
             ],
             [
              0.1111111111111111,
              "#46039f"
             ],
             [
              0.2222222222222222,
              "#7201a8"
             ],
             [
              0.3333333333333333,
              "#9c179e"
             ],
             [
              0.4444444444444444,
              "#bd3786"
             ],
             [
              0.5555555555555556,
              "#d8576b"
             ],
             [
              0.6666666666666666,
              "#ed7953"
             ],
             [
              0.7777777777777778,
              "#fb9f3a"
             ],
             [
              0.8888888888888888,
              "#fdca26"
             ],
             [
              1,
              "#f0f921"
             ]
            ],
            "type": "heatmapgl"
           }
          ],
          "histogram": [
           {
            "marker": {
             "colorbar": {
              "outlinewidth": 0,
              "ticks": ""
             }
            },
            "type": "histogram"
           }
          ],
          "histogram2d": [
           {
            "colorbar": {
             "outlinewidth": 0,
             "ticks": ""
            },
            "colorscale": [
             [
              0,
              "#0d0887"
             ],
             [
              0.1111111111111111,
              "#46039f"
             ],
             [
              0.2222222222222222,
              "#7201a8"
             ],
             [
              0.3333333333333333,
              "#9c179e"
             ],
             [
              0.4444444444444444,
              "#bd3786"
             ],
             [
              0.5555555555555556,
              "#d8576b"
             ],
             [
              0.6666666666666666,
              "#ed7953"
             ],
             [
              0.7777777777777778,
              "#fb9f3a"
             ],
             [
              0.8888888888888888,
              "#fdca26"
             ],
             [
              1,
              "#f0f921"
             ]
            ],
            "type": "histogram2d"
           }
          ],
          "histogram2dcontour": [
           {
            "colorbar": {
             "outlinewidth": 0,
             "ticks": ""
            },
            "colorscale": [
             [
              0,
              "#0d0887"
             ],
             [
              0.1111111111111111,
              "#46039f"
             ],
             [
              0.2222222222222222,
              "#7201a8"
             ],
             [
              0.3333333333333333,
              "#9c179e"
             ],
             [
              0.4444444444444444,
              "#bd3786"
             ],
             [
              0.5555555555555556,
              "#d8576b"
             ],
             [
              0.6666666666666666,
              "#ed7953"
             ],
             [
              0.7777777777777778,
              "#fb9f3a"
             ],
             [
              0.8888888888888888,
              "#fdca26"
             ],
             [
              1,
              "#f0f921"
             ]
            ],
            "type": "histogram2dcontour"
           }
          ],
          "mesh3d": [
           {
            "colorbar": {
             "outlinewidth": 0,
             "ticks": ""
            },
            "type": "mesh3d"
           }
          ],
          "parcoords": [
           {
            "line": {
             "colorbar": {
              "outlinewidth": 0,
              "ticks": ""
             }
            },
            "type": "parcoords"
           }
          ],
          "scatter": [
           {
            "marker": {
             "colorbar": {
              "outlinewidth": 0,
              "ticks": ""
             }
            },
            "type": "scatter"
           }
          ],
          "scatter3d": [
           {
            "line": {
             "colorbar": {
              "outlinewidth": 0,
              "ticks": ""
             }
            },
            "marker": {
             "colorbar": {
              "outlinewidth": 0,
              "ticks": ""
             }
            },
            "type": "scatter3d"
           }
          ],
          "scattercarpet": [
           {
            "marker": {
             "colorbar": {
              "outlinewidth": 0,
              "ticks": ""
             }
            },
            "type": "scattercarpet"
           }
          ],
          "scattergeo": [
           {
            "marker": {
             "colorbar": {
              "outlinewidth": 0,
              "ticks": ""
             }
            },
            "type": "scattergeo"
           }
          ],
          "scattergl": [
           {
            "marker": {
             "colorbar": {
              "outlinewidth": 0,
              "ticks": ""
             }
            },
            "type": "scattergl"
           }
          ],
          "scattermapbox": [
           {
            "marker": {
             "colorbar": {
              "outlinewidth": 0,
              "ticks": ""
             }
            },
            "type": "scattermapbox"
           }
          ],
          "scatterpolar": [
           {
            "marker": {
             "colorbar": {
              "outlinewidth": 0,
              "ticks": ""
             }
            },
            "type": "scatterpolar"
           }
          ],
          "scatterpolargl": [
           {
            "marker": {
             "colorbar": {
              "outlinewidth": 0,
              "ticks": ""
             }
            },
            "type": "scatterpolargl"
           }
          ],
          "scatterternary": [
           {
            "marker": {
             "colorbar": {
              "outlinewidth": 0,
              "ticks": ""
             }
            },
            "type": "scatterternary"
           }
          ],
          "surface": [
           {
            "colorbar": {
             "outlinewidth": 0,
             "ticks": ""
            },
            "colorscale": [
             [
              0,
              "#0d0887"
             ],
             [
              0.1111111111111111,
              "#46039f"
             ],
             [
              0.2222222222222222,
              "#7201a8"
             ],
             [
              0.3333333333333333,
              "#9c179e"
             ],
             [
              0.4444444444444444,
              "#bd3786"
             ],
             [
              0.5555555555555556,
              "#d8576b"
             ],
             [
              0.6666666666666666,
              "#ed7953"
             ],
             [
              0.7777777777777778,
              "#fb9f3a"
             ],
             [
              0.8888888888888888,
              "#fdca26"
             ],
             [
              1,
              "#f0f921"
             ]
            ],
            "type": "surface"
           }
          ],
          "table": [
           {
            "cells": {
             "fill": {
              "color": "#EBF0F8"
             },
             "line": {
              "color": "white"
             }
            },
            "header": {
             "fill": {
              "color": "#C8D4E3"
             },
             "line": {
              "color": "white"
             }
            },
            "type": "table"
           }
          ]
         },
         "layout": {
          "annotationdefaults": {
           "arrowcolor": "#2a3f5f",
           "arrowhead": 0,
           "arrowwidth": 1
          },
          "colorscale": {
           "diverging": [
            [
             0,
             "#8e0152"
            ],
            [
             0.1,
             "#c51b7d"
            ],
            [
             0.2,
             "#de77ae"
            ],
            [
             0.3,
             "#f1b6da"
            ],
            [
             0.4,
             "#fde0ef"
            ],
            [
             0.5,
             "#f7f7f7"
            ],
            [
             0.6,
             "#e6f5d0"
            ],
            [
             0.7,
             "#b8e186"
            ],
            [
             0.8,
             "#7fbc41"
            ],
            [
             0.9,
             "#4d9221"
            ],
            [
             1,
             "#276419"
            ]
           ],
           "sequential": [
            [
             0,
             "#0d0887"
            ],
            [
             0.1111111111111111,
             "#46039f"
            ],
            [
             0.2222222222222222,
             "#7201a8"
            ],
            [
             0.3333333333333333,
             "#9c179e"
            ],
            [
             0.4444444444444444,
             "#bd3786"
            ],
            [
             0.5555555555555556,
             "#d8576b"
            ],
            [
             0.6666666666666666,
             "#ed7953"
            ],
            [
             0.7777777777777778,
             "#fb9f3a"
            ],
            [
             0.8888888888888888,
             "#fdca26"
            ],
            [
             1,
             "#f0f921"
            ]
           ],
           "sequentialminus": [
            [
             0,
             "#0d0887"
            ],
            [
             0.1111111111111111,
             "#46039f"
            ],
            [
             0.2222222222222222,
             "#7201a8"
            ],
            [
             0.3333333333333333,
             "#9c179e"
            ],
            [
             0.4444444444444444,
             "#bd3786"
            ],
            [
             0.5555555555555556,
             "#d8576b"
            ],
            [
             0.6666666666666666,
             "#ed7953"
            ],
            [
             0.7777777777777778,
             "#fb9f3a"
            ],
            [
             0.8888888888888888,
             "#fdca26"
            ],
            [
             1,
             "#f0f921"
            ]
           ]
          },
          "colorway": [
           "#636efa",
           "#EF553B",
           "#00cc96",
           "#ab63fa",
           "#FFA15A",
           "#19d3f3",
           "#FF6692",
           "#B6E880",
           "#FF97FF",
           "#FECB52"
          ],
          "font": {
           "color": "#2a3f5f"
          },
          "geo": {
           "bgcolor": "white",
           "lakecolor": "white",
           "landcolor": "#E5ECF6",
           "showlakes": true,
           "showland": true,
           "subunitcolor": "white"
          },
          "hoverlabel": {
           "align": "left"
          },
          "hovermode": "closest",
          "mapbox": {
           "style": "light"
          },
          "paper_bgcolor": "white",
          "plot_bgcolor": "#E5ECF6",
          "polar": {
           "angularaxis": {
            "gridcolor": "white",
            "linecolor": "white",
            "ticks": ""
           },
           "bgcolor": "#E5ECF6",
           "radialaxis": {
            "gridcolor": "white",
            "linecolor": "white",
            "ticks": ""
           }
          },
          "scene": {
           "xaxis": {
            "backgroundcolor": "#E5ECF6",
            "gridcolor": "white",
            "gridwidth": 2,
            "linecolor": "white",
            "showbackground": true,
            "ticks": "",
            "zerolinecolor": "white"
           },
           "yaxis": {
            "backgroundcolor": "#E5ECF6",
            "gridcolor": "white",
            "gridwidth": 2,
            "linecolor": "white",
            "showbackground": true,
            "ticks": "",
            "zerolinecolor": "white"
           },
           "zaxis": {
            "backgroundcolor": "#E5ECF6",
            "gridcolor": "white",
            "gridwidth": 2,
            "linecolor": "white",
            "showbackground": true,
            "ticks": "",
            "zerolinecolor": "white"
           }
          },
          "shapedefaults": {
           "line": {
            "color": "#2a3f5f"
           }
          },
          "ternary": {
           "aaxis": {
            "gridcolor": "white",
            "linecolor": "white",
            "ticks": ""
           },
           "baxis": {
            "gridcolor": "white",
            "linecolor": "white",
            "ticks": ""
           },
           "bgcolor": "#E5ECF6",
           "caxis": {
            "gridcolor": "white",
            "linecolor": "white",
            "ticks": ""
           }
          },
          "title": {
           "x": 0.05
          },
          "xaxis": {
           "automargin": true,
           "gridcolor": "white",
           "linecolor": "white",
           "ticks": "",
           "zerolinecolor": "white",
           "zerolinewidth": 2
          },
          "yaxis": {
           "automargin": true,
           "gridcolor": "white",
           "linecolor": "white",
           "ticks": "",
           "zerolinecolor": "white",
           "zerolinewidth": 2
          }
         }
        },
        "title": {
         "text": "ROC AUC CURVE"
        },
        "width": 450,
        "xaxis": {
         "range": [
          0,
          1
         ],
         "title": {
          "text": "False Positive Rate"
         }
        },
        "yaxis": {
         "range": [
          0,
          1
         ],
         "scaleanchor": "y",
         "scaleratio": 1,
         "title": {
          "text": "True Positive Rate"
         }
        }
       }
      },
      "text/html": [
       "<div>\n",
       "        \n",
       "        \n",
       "            <div id=\"986bf3c5-55c9-40fe-b294-f7df0bc7165e\" class=\"plotly-graph-div\" style=\"height:450px; width:450px;\"></div>\n",
       "            <script type=\"text/javascript\">\n",
       "                require([\"plotly\"], function(Plotly) {\n",
       "                    window.PLOTLYENV=window.PLOTLYENV || {};\n",
       "                    \n",
       "                if (document.getElementById(\"986bf3c5-55c9-40fe-b294-f7df0bc7165e\")) {\n",
       "                    Plotly.newPlot(\n",
       "                        '986bf3c5-55c9-40fe-b294-f7df0bc7165e',\n",
       "                        [{\"hoverinfo\": \"text\", \"mode\": \"lines\", \"name\": \"ROC AUC CURVE\", \"text\": [\"threshold: 1.96 <br> FP: 0.0 <br> TP: 0.0\", \"threshold: 0.96 <br> FP: 0.0 <br> TP: 0.01\", \"threshold: 0.75 <br> FP: 0.0 <br> TP: 0.44\", \"threshold: 0.75 <br> FP: 0.01 <br> TP: 0.44\", \"threshold: 0.74 <br> FP: 0.01 <br> TP: 0.47\", \"threshold: 0.7 <br> FP: 0.01 <br> TP: 0.48\", \"threshold: 0.68 <br> FP: 0.02 <br> TP: 0.48\", \"threshold: 0.68 <br> FP: 0.02 <br> TP: 0.49\", \"threshold: 0.67 <br> FP: 0.02 <br> TP: 0.52\", \"threshold: 0.66 <br> FP: 0.02 <br> TP: 0.52\", \"threshold: 0.62 <br> FP: 0.02 <br> TP: 0.56\", \"threshold: 0.61 <br> FP: 0.03 <br> TP: 0.56\", \"threshold: 0.55 <br> FP: 0.03 <br> TP: 0.6\", \"threshold: 0.55 <br> FP: 0.04 <br> TP: 0.6\", \"threshold: 0.55 <br> FP: 0.04 <br> TP: 0.62\", \"threshold: 0.53 <br> FP: 0.07 <br> TP: 0.62\", \"threshold: 0.48 <br> FP: 0.07 <br> TP: 0.67\", \"threshold: 0.48 <br> FP: 0.08 <br> TP: 0.67\", \"threshold: 0.48 <br> FP: 0.08 <br> TP: 0.68\", \"threshold: 0.48 <br> FP: 0.09 <br> TP: 0.68\", \"threshold: 0.46 <br> FP: 0.09 <br> TP: 0.73\", \"threshold: 0.46 <br> FP: 0.09 <br> TP: 0.73\", \"threshold: 0.45 <br> FP: 0.09 <br> TP: 0.74\", \"threshold: 0.4 <br> FP: 0.17 <br> TP: 0.74\", \"threshold: 0.4 <br> FP: 0.17 <br> TP: 0.75\", \"threshold: 0.39 <br> FP: 0.18 <br> TP: 0.75\", \"threshold: 0.39 <br> FP: 0.18 <br> TP: 0.77\", \"threshold: 0.38 <br> FP: 0.19 <br> TP: 0.77\", \"threshold: 0.35 <br> FP: 0.19 <br> TP: 0.79\", \"threshold: 0.34 <br> FP: 0.21 <br> TP: 0.79\", \"threshold: 0.3 <br> FP: 0.21 <br> TP: 0.81\", \"threshold: 0.3 <br> FP: 0.22 <br> TP: 0.81\", \"threshold: 0.3 <br> FP: 0.22 <br> TP: 0.84\", \"threshold: 0.26 <br> FP: 0.25 <br> TP: 0.84\", \"threshold: 0.25 <br> FP: 0.25 <br> TP: 0.85\", \"threshold: 0.24 <br> FP: 0.26 <br> TP: 0.85\", \"threshold: 0.24 <br> FP: 0.26 <br> TP: 0.86\", \"threshold: 0.24 <br> FP: 0.27 <br> TP: 0.86\", \"threshold: 0.23 <br> FP: 0.27 <br> TP: 0.88\", \"threshold: 0.22 <br> FP: 0.28 <br> TP: 0.88\", \"threshold: 0.22 <br> FP: 0.28 <br> TP: 0.89\", \"threshold: 0.19 <br> FP: 0.31 <br> TP: 0.89\", \"threshold: 0.19 <br> FP: 0.33 <br> TP: 0.89\", \"threshold: 0.18 <br> FP: 0.39 <br> TP: 0.89\", \"threshold: 0.18 <br> FP: 0.39 <br> TP: 0.9\", \"threshold: 0.17 <br> FP: 0.39 <br> TP: 0.9\", \"threshold: 0.17 <br> FP: 0.39 <br> TP: 0.92\", \"threshold: 0.17 <br> FP: 0.41 <br> TP: 0.92\", \"threshold: 0.17 <br> FP: 0.42 <br> TP: 0.92\", \"threshold: 0.17 <br> FP: 0.44 <br> TP: 0.92\", \"threshold: 0.16 <br> FP: 0.47 <br> TP: 0.92\", \"threshold: 0.16 <br> FP: 0.5 <br> TP: 0.92\", \"threshold: 0.16 <br> FP: 0.5 <br> TP: 0.92\", \"threshold: 0.15 <br> FP: 0.52 <br> TP: 0.92\", \"threshold: 0.15 <br> FP: 0.54 <br> TP: 0.92\", \"threshold: 0.15 <br> FP: 0.56 <br> TP: 0.92\", \"threshold: 0.15 <br> FP: 0.61 <br> TP: 0.92\", \"threshold: 0.14 <br> FP: 0.65 <br> TP: 0.92\", \"threshold: 0.14 <br> FP: 0.66 <br> TP: 0.92\", \"threshold: 0.14 <br> FP: 0.69 <br> TP: 0.92\", \"threshold: 0.14 <br> FP: 0.7 <br> TP: 0.92\", \"threshold: 0.14 <br> FP: 0.73 <br> TP: 0.92\", \"threshold: 0.14 <br> FP: 0.73 <br> TP: 0.93\", \"threshold: 0.14 <br> FP: 0.74 <br> TP: 0.93\", \"threshold: 0.14 <br> FP: 0.76 <br> TP: 0.95\", \"threshold: 0.14 <br> FP: 0.79 <br> TP: 0.95\", \"threshold: 0.13 <br> FP: 0.83 <br> TP: 0.95\", \"threshold: 0.13 <br> FP: 0.84 <br> TP: 0.95\", \"threshold: 0.13 <br> FP: 0.87 <br> TP: 0.96\", \"threshold: 0.12 <br> FP: 0.87 <br> TP: 0.97\", \"threshold: 0.12 <br> FP: 0.9 <br> TP: 0.97\", \"threshold: 0.12 <br> FP: 0.93 <br> TP: 0.97\", \"threshold: 0.12 <br> FP: 0.94 <br> TP: 0.97\", \"threshold: 0.12 <br> FP: 0.94 <br> TP: 0.99\", \"threshold: 0.12 <br> FP: 0.95 <br> TP: 0.99\", \"threshold: 0.12 <br> FP: 0.97 <br> TP: 0.99\", \"threshold: 0.11 <br> FP: 0.98 <br> TP: 0.99\", \"threshold: 0.1 <br> FP: 0.98 <br> TP: 1.0\", \"threshold: 0.09 <br> FP: 1.0 <br> TP: 1.0\"], \"type\": \"scatter\", \"x\": [0.0, 0.0, 0.0, 0.007874015748031496, 0.007874015748031496, 0.007874015748031496, 0.015748031496062992, 0.015748031496062992, 0.015748031496062992, 0.023622047244094488, 0.023622047244094488, 0.031496062992125984, 0.031496062992125984, 0.03937007874015748, 0.03937007874015748, 0.07086614173228346, 0.07086614173228346, 0.07874015748031496, 0.07874015748031496, 0.08661417322834646, 0.08661417322834646, 0.09448818897637795, 0.09448818897637795, 0.1732283464566929, 0.1732283464566929, 0.18110236220472442, 0.18110236220472442, 0.1889763779527559, 0.1889763779527559, 0.2125984251968504, 0.2125984251968504, 0.2204724409448819, 0.2204724409448819, 0.25196850393700787, 0.25196850393700787, 0.25984251968503935, 0.25984251968503935, 0.2677165354330709, 0.2677165354330709, 0.2755905511811024, 0.2755905511811024, 0.31496062992125984, 0.33070866141732286, 0.3858267716535433, 0.3858267716535433, 0.3937007874015748, 0.3937007874015748, 0.4094488188976378, 0.41732283464566927, 0.4409448818897638, 0.47244094488188976, 0.49606299212598426, 0.5039370078740157, 0.5196850393700787, 0.5433070866141733, 0.5590551181102362, 0.6141732283464567, 0.6535433070866141, 0.6614173228346457, 0.6850393700787402, 0.7007874015748031, 0.7322834645669292, 0.7322834645669292, 0.7401574803149606, 0.7637795275590551, 0.7874015748031497, 0.8267716535433071, 0.84251968503937, 0.8661417322834646, 0.8661417322834646, 0.8976377952755905, 0.9291338582677166, 0.9448818897637795, 0.9448818897637795, 0.952755905511811, 0.968503937007874, 0.9763779527559056, 0.984251968503937, 1.0], \"y\": [0.0, 0.0136986301369863, 0.4383561643835616, 0.4383561643835616, 0.4657534246575342, 0.4794520547945205, 0.4794520547945205, 0.4931506849315068, 0.5205479452054794, 0.5205479452054794, 0.5616438356164384, 0.5616438356164384, 0.6027397260273972, 0.6027397260273972, 0.6164383561643836, 0.6164383561643836, 0.6712328767123288, 0.6712328767123288, 0.684931506849315, 0.684931506849315, 0.726027397260274, 0.726027397260274, 0.7397260273972602, 0.7397260273972602, 0.7534246575342466, 0.7534246575342466, 0.7671232876712328, 0.7671232876712328, 0.7945205479452054, 0.7945205479452054, 0.8082191780821918, 0.8082191780821918, 0.8356164383561644, 0.8356164383561644, 0.8493150684931506, 0.8493150684931506, 0.863013698630137, 0.863013698630137, 0.8767123287671232, 0.8767123287671232, 0.8904109589041096, 0.8904109589041096, 0.8904109589041096, 0.8904109589041096, 0.9041095890410958, 0.9041095890410958, 0.9178082191780822, 0.9178082191780822, 0.9178082191780822, 0.9178082191780822, 0.9178082191780822, 0.9178082191780822, 0.9178082191780822, 0.9178082191780822, 0.9178082191780822, 0.9178082191780822, 0.9178082191780822, 0.9178082191780822, 0.9178082191780822, 0.9178082191780822, 0.9178082191780822, 0.9178082191780822, 0.9315068493150684, 0.9315068493150684, 0.9452054794520548, 0.9452054794520548, 0.9452054794520548, 0.9452054794520548, 0.958904109589041, 0.9726027397260274, 0.9726027397260274, 0.9726027397260274, 0.9726027397260274, 0.9863013698630136, 0.9863013698630136, 0.9863013698630136, 0.9863013698630136, 1.0, 1.0]}],\n",
       "                        {\"annotations\": [{\"align\": \"right\", \"showarrow\": false, \"text\": \"Cutoff: 0.7\", \"x\": 0.6, \"xanchor\": \"left\", \"y\": 0.45, \"yanchor\": \"top\"}, {\"align\": \"right\", \"showarrow\": false, \"text\": \"Accuracy: 0.8\", \"x\": 0.6, \"xanchor\": \"left\", \"y\": 0.4, \"yanchor\": \"top\"}, {\"align\": \"right\", \"showarrow\": false, \"text\": \"Precision: 0.971\", \"x\": 0.6, \"xanchor\": \"left\", \"y\": 0.35, \"yanchor\": \"top\"}, {\"align\": \"right\", \"showarrow\": false, \"text\": \"Recall: 0.466\", \"x\": 0.6, \"xanchor\": \"left\", \"y\": 0.3, \"yanchor\": \"top\"}, {\"align\": \"right\", \"showarrow\": false, \"text\": \"F1-score: 0.63\", \"x\": 0.6, \"xanchor\": \"left\", \"y\": 0.25, \"yanchor\": \"top\"}, {\"align\": \"right\", \"showarrow\": false, \"text\": \"roc-auc-score: 0.872\", \"x\": 0.6, \"xanchor\": \"left\", \"y\": 0.2, \"yanchor\": \"top\"}], \"height\": 450, \"shapes\": [{\"line\": {\"color\": \"darkslategray\", \"dash\": \"dot\", \"width\": 4}, \"type\": \"line\", \"x0\": 0, \"x1\": 1, \"xref\": \"x\", \"y0\": 0, \"y1\": 1, \"yref\": \"y\"}, {\"line\": {\"color\": \"lightslategray\", \"width\": 1}, \"type\": \"line\", \"x0\": 0, \"x1\": 1, \"xref\": \"x\", \"y0\": 0.4794520547945205, \"y1\": 0.4794520547945205, \"yref\": \"y\"}, {\"line\": {\"color\": \"lightslategray\", \"width\": 1}, \"type\": \"line\", \"x0\": 0.007874015748031496, \"x1\": 0.007874015748031496, \"xref\": \"x\", \"y0\": 0, \"y1\": 1, \"yref\": \"y\"}], \"template\": {\"data\": {\"bar\": [{\"error_x\": {\"color\": \"#2a3f5f\"}, \"error_y\": {\"color\": \"#2a3f5f\"}, \"marker\": {\"line\": {\"color\": \"#E5ECF6\", \"width\": 0.5}}, \"type\": \"bar\"}], \"barpolar\": [{\"marker\": {\"line\": {\"color\": \"#E5ECF6\", \"width\": 0.5}}, \"type\": \"barpolar\"}], \"carpet\": [{\"aaxis\": {\"endlinecolor\": \"#2a3f5f\", \"gridcolor\": \"white\", \"linecolor\": \"white\", \"minorgridcolor\": \"white\", \"startlinecolor\": \"#2a3f5f\"}, \"baxis\": {\"endlinecolor\": \"#2a3f5f\", \"gridcolor\": \"white\", \"linecolor\": \"white\", \"minorgridcolor\": \"white\", \"startlinecolor\": \"#2a3f5f\"}, \"type\": \"carpet\"}], \"choropleth\": [{\"colorbar\": {\"outlinewidth\": 0, \"ticks\": \"\"}, \"type\": \"choropleth\"}], \"contour\": [{\"colorbar\": {\"outlinewidth\": 0, \"ticks\": \"\"}, \"colorscale\": [[0.0, \"#0d0887\"], [0.1111111111111111, \"#46039f\"], [0.2222222222222222, \"#7201a8\"], [0.3333333333333333, \"#9c179e\"], [0.4444444444444444, \"#bd3786\"], [0.5555555555555556, \"#d8576b\"], [0.6666666666666666, \"#ed7953\"], [0.7777777777777778, \"#fb9f3a\"], [0.8888888888888888, \"#fdca26\"], [1.0, \"#f0f921\"]], \"type\": \"contour\"}], \"contourcarpet\": [{\"colorbar\": {\"outlinewidth\": 0, \"ticks\": \"\"}, \"type\": \"contourcarpet\"}], \"heatmap\": [{\"colorbar\": {\"outlinewidth\": 0, \"ticks\": \"\"}, \"colorscale\": [[0.0, \"#0d0887\"], [0.1111111111111111, \"#46039f\"], [0.2222222222222222, \"#7201a8\"], [0.3333333333333333, \"#9c179e\"], [0.4444444444444444, \"#bd3786\"], [0.5555555555555556, \"#d8576b\"], [0.6666666666666666, \"#ed7953\"], [0.7777777777777778, \"#fb9f3a\"], [0.8888888888888888, \"#fdca26\"], [1.0, \"#f0f921\"]], \"type\": \"heatmap\"}], \"heatmapgl\": [{\"colorbar\": {\"outlinewidth\": 0, \"ticks\": \"\"}, \"colorscale\": [[0.0, \"#0d0887\"], [0.1111111111111111, \"#46039f\"], [0.2222222222222222, \"#7201a8\"], [0.3333333333333333, \"#9c179e\"], [0.4444444444444444, \"#bd3786\"], [0.5555555555555556, \"#d8576b\"], [0.6666666666666666, \"#ed7953\"], [0.7777777777777778, \"#fb9f3a\"], [0.8888888888888888, \"#fdca26\"], [1.0, \"#f0f921\"]], \"type\": \"heatmapgl\"}], \"histogram\": [{\"marker\": {\"colorbar\": {\"outlinewidth\": 0, \"ticks\": \"\"}}, \"type\": \"histogram\"}], \"histogram2d\": [{\"colorbar\": {\"outlinewidth\": 0, \"ticks\": \"\"}, \"colorscale\": [[0.0, \"#0d0887\"], [0.1111111111111111, \"#46039f\"], [0.2222222222222222, \"#7201a8\"], [0.3333333333333333, \"#9c179e\"], [0.4444444444444444, \"#bd3786\"], [0.5555555555555556, \"#d8576b\"], [0.6666666666666666, \"#ed7953\"], [0.7777777777777778, \"#fb9f3a\"], [0.8888888888888888, \"#fdca26\"], [1.0, \"#f0f921\"]], \"type\": \"histogram2d\"}], \"histogram2dcontour\": [{\"colorbar\": {\"outlinewidth\": 0, \"ticks\": \"\"}, \"colorscale\": [[0.0, \"#0d0887\"], [0.1111111111111111, \"#46039f\"], [0.2222222222222222, \"#7201a8\"], [0.3333333333333333, \"#9c179e\"], [0.4444444444444444, \"#bd3786\"], [0.5555555555555556, \"#d8576b\"], [0.6666666666666666, \"#ed7953\"], [0.7777777777777778, \"#fb9f3a\"], [0.8888888888888888, \"#fdca26\"], [1.0, \"#f0f921\"]], \"type\": \"histogram2dcontour\"}], \"mesh3d\": [{\"colorbar\": {\"outlinewidth\": 0, \"ticks\": \"\"}, \"type\": \"mesh3d\"}], \"parcoords\": [{\"line\": {\"colorbar\": {\"outlinewidth\": 0, \"ticks\": \"\"}}, \"type\": \"parcoords\"}], \"scatter\": [{\"marker\": {\"colorbar\": {\"outlinewidth\": 0, \"ticks\": \"\"}}, \"type\": \"scatter\"}], \"scatter3d\": [{\"line\": {\"colorbar\": {\"outlinewidth\": 0, \"ticks\": \"\"}}, \"marker\": {\"colorbar\": {\"outlinewidth\": 0, \"ticks\": \"\"}}, \"type\": \"scatter3d\"}], \"scattercarpet\": [{\"marker\": {\"colorbar\": {\"outlinewidth\": 0, \"ticks\": \"\"}}, \"type\": \"scattercarpet\"}], \"scattergeo\": [{\"marker\": {\"colorbar\": {\"outlinewidth\": 0, \"ticks\": \"\"}}, \"type\": \"scattergeo\"}], \"scattergl\": [{\"marker\": {\"colorbar\": {\"outlinewidth\": 0, \"ticks\": \"\"}}, \"type\": \"scattergl\"}], \"scattermapbox\": [{\"marker\": {\"colorbar\": {\"outlinewidth\": 0, \"ticks\": \"\"}}, \"type\": \"scattermapbox\"}], \"scatterpolar\": [{\"marker\": {\"colorbar\": {\"outlinewidth\": 0, \"ticks\": \"\"}}, \"type\": \"scatterpolar\"}], \"scatterpolargl\": [{\"marker\": {\"colorbar\": {\"outlinewidth\": 0, \"ticks\": \"\"}}, \"type\": \"scatterpolargl\"}], \"scatterternary\": [{\"marker\": {\"colorbar\": {\"outlinewidth\": 0, \"ticks\": \"\"}}, \"type\": \"scatterternary\"}], \"surface\": [{\"colorbar\": {\"outlinewidth\": 0, \"ticks\": \"\"}, \"colorscale\": [[0.0, \"#0d0887\"], [0.1111111111111111, \"#46039f\"], [0.2222222222222222, \"#7201a8\"], [0.3333333333333333, \"#9c179e\"], [0.4444444444444444, \"#bd3786\"], [0.5555555555555556, \"#d8576b\"], [0.6666666666666666, \"#ed7953\"], [0.7777777777777778, \"#fb9f3a\"], [0.8888888888888888, \"#fdca26\"], [1.0, \"#f0f921\"]], \"type\": \"surface\"}], \"table\": [{\"cells\": {\"fill\": {\"color\": \"#EBF0F8\"}, \"line\": {\"color\": \"white\"}}, \"header\": {\"fill\": {\"color\": \"#C8D4E3\"}, \"line\": {\"color\": \"white\"}}, \"type\": \"table\"}]}, \"layout\": {\"annotationdefaults\": {\"arrowcolor\": \"#2a3f5f\", \"arrowhead\": 0, \"arrowwidth\": 1}, \"colorscale\": {\"diverging\": [[0, \"#8e0152\"], [0.1, \"#c51b7d\"], [0.2, \"#de77ae\"], [0.3, \"#f1b6da\"], [0.4, \"#fde0ef\"], [0.5, \"#f7f7f7\"], [0.6, \"#e6f5d0\"], [0.7, \"#b8e186\"], [0.8, \"#7fbc41\"], [0.9, \"#4d9221\"], [1, \"#276419\"]], \"sequential\": [[0.0, \"#0d0887\"], [0.1111111111111111, \"#46039f\"], [0.2222222222222222, \"#7201a8\"], [0.3333333333333333, \"#9c179e\"], [0.4444444444444444, \"#bd3786\"], [0.5555555555555556, \"#d8576b\"], [0.6666666666666666, \"#ed7953\"], [0.7777777777777778, \"#fb9f3a\"], [0.8888888888888888, \"#fdca26\"], [1.0, \"#f0f921\"]], \"sequentialminus\": [[0.0, \"#0d0887\"], [0.1111111111111111, \"#46039f\"], [0.2222222222222222, \"#7201a8\"], [0.3333333333333333, \"#9c179e\"], [0.4444444444444444, \"#bd3786\"], [0.5555555555555556, \"#d8576b\"], [0.6666666666666666, \"#ed7953\"], [0.7777777777777778, \"#fb9f3a\"], [0.8888888888888888, \"#fdca26\"], [1.0, \"#f0f921\"]]}, \"colorway\": [\"#636efa\", \"#EF553B\", \"#00cc96\", \"#ab63fa\", \"#FFA15A\", \"#19d3f3\", \"#FF6692\", \"#B6E880\", \"#FF97FF\", \"#FECB52\"], \"font\": {\"color\": \"#2a3f5f\"}, \"geo\": {\"bgcolor\": \"white\", \"lakecolor\": \"white\", \"landcolor\": \"#E5ECF6\", \"showlakes\": true, \"showland\": true, \"subunitcolor\": \"white\"}, \"hoverlabel\": {\"align\": \"left\"}, \"hovermode\": \"closest\", \"mapbox\": {\"style\": \"light\"}, \"paper_bgcolor\": \"white\", \"plot_bgcolor\": \"#E5ECF6\", \"polar\": {\"angularaxis\": {\"gridcolor\": \"white\", \"linecolor\": \"white\", \"ticks\": \"\"}, \"bgcolor\": \"#E5ECF6\", \"radialaxis\": {\"gridcolor\": \"white\", \"linecolor\": \"white\", \"ticks\": \"\"}}, \"scene\": {\"xaxis\": {\"backgroundcolor\": \"#E5ECF6\", \"gridcolor\": \"white\", \"gridwidth\": 2, \"linecolor\": \"white\", \"showbackground\": true, \"ticks\": \"\", \"zerolinecolor\": \"white\"}, \"yaxis\": {\"backgroundcolor\": \"#E5ECF6\", \"gridcolor\": \"white\", \"gridwidth\": 2, \"linecolor\": \"white\", \"showbackground\": true, \"ticks\": \"\", \"zerolinecolor\": \"white\"}, \"zaxis\": {\"backgroundcolor\": \"#E5ECF6\", \"gridcolor\": \"white\", \"gridwidth\": 2, \"linecolor\": \"white\", \"showbackground\": true, \"ticks\": \"\", \"zerolinecolor\": \"white\"}}, \"shapedefaults\": {\"line\": {\"color\": \"#2a3f5f\"}}, \"ternary\": {\"aaxis\": {\"gridcolor\": \"white\", \"linecolor\": \"white\", \"ticks\": \"\"}, \"baxis\": {\"gridcolor\": \"white\", \"linecolor\": \"white\", \"ticks\": \"\"}, \"bgcolor\": \"#E5ECF6\", \"caxis\": {\"gridcolor\": \"white\", \"linecolor\": \"white\", \"ticks\": \"\"}}, \"title\": {\"x\": 0.05}, \"xaxis\": {\"automargin\": true, \"gridcolor\": \"white\", \"linecolor\": \"white\", \"ticks\": \"\", \"zerolinecolor\": \"white\", \"zerolinewidth\": 2}, \"yaxis\": {\"automargin\": true, \"gridcolor\": \"white\", \"linecolor\": \"white\", \"ticks\": \"\", \"zerolinecolor\": \"white\", \"zerolinewidth\": 2}}}, \"title\": {\"text\": \"ROC AUC CURVE\"}, \"width\": 450, \"xaxis\": {\"range\": [0, 1], \"title\": {\"text\": \"False Positive Rate\"}}, \"yaxis\": {\"range\": [0, 1], \"scaleanchor\": \"y\", \"scaleratio\": 1, \"title\": {\"text\": \"True Positive Rate\"}}},\n",
       "                        {\"responsive\": true}\n",
       "                    ).then(function(){\n",
       "                            \n",
       "var gd = document.getElementById('986bf3c5-55c9-40fe-b294-f7df0bc7165e');\n",
       "var x = new MutationObserver(function (mutations, observer) {{\n",
       "        var display = window.getComputedStyle(gd).display;\n",
       "        if (!display || display === 'none') {{\n",
       "            console.log([gd, 'removed!']);\n",
       "            Plotly.purge(gd);\n",
       "            observer.disconnect();\n",
       "        }}\n",
       "}});\n",
       "\n",
       "// Listen for the removal of the full notebook cells\n",
       "var notebookContainer = gd.closest('#notebook-container');\n",
       "if (notebookContainer) {{\n",
       "    x.observe(notebookContainer, {childList: true});\n",
       "}}\n",
       "\n",
       "// Listen for the clearing of the current output cell\n",
       "var outputEl = gd.closest('.output');\n",
       "if (outputEl) {{\n",
       "    x.observe(outputEl, {childList: true});\n",
       "}}\n",
       "\n",
       "                        })\n",
       "                };\n",
       "                });\n",
       "            </script>\n",
       "        </div>"
      ]
     },
     "metadata": {},
     "output_type": "display_data"
    }
   ],
   "source": [
    "explainer.plot_roc_auc(cutoff=0.7)"
   ]
  },
  {
   "cell_type": "code",
   "execution_count": 13,
   "metadata": {},
   "outputs": [
    {
     "data": {
      "application/vnd.plotly.v1+json": {
       "config": {
        "plotlyServerURL": "https://plot.ly"
       },
       "data": [
        {
         "hoverinfo": "text",
         "mode": "lines",
         "name": "PR AUC CURVE",
         "text": [
          "threshold: 0.1 <br>precision: 0.37 <br>recall: 1.0",
          "threshold: 0.11 <br>precision: 0.37 <br>recall: 0.99",
          "threshold: 0.12 <br>precision: 0.37 <br>recall: 0.99",
          "threshold: 0.12 <br>precision: 0.37 <br>recall: 0.99",
          "threshold: 0.12 <br>precision: 0.38 <br>recall: 0.99",
          "threshold: 0.12 <br>precision: 0.37 <br>recall: 0.97",
          "threshold: 0.12 <br>precision: 0.37 <br>recall: 0.97",
          "threshold: 0.12 <br>precision: 0.38 <br>recall: 0.97",
          "threshold: 0.12 <br>precision: 0.38 <br>recall: 0.97",
          "threshold: 0.12 <br>precision: 0.38 <br>recall: 0.97",
          "threshold: 0.12 <br>precision: 0.39 <br>recall: 0.97",
          "threshold: 0.12 <br>precision: 0.39 <br>recall: 0.97",
          "threshold: 0.12 <br>precision: 0.39 <br>recall: 0.97",
          "threshold: 0.12 <br>precision: 0.39 <br>recall: 0.97",
          "threshold: 0.13 <br>precision: 0.39 <br>recall: 0.96",
          "threshold: 0.13 <br>precision: 0.39 <br>recall: 0.95",
          "threshold: 0.13 <br>precision: 0.39 <br>recall: 0.95",
          "threshold: 0.13 <br>precision: 0.4 <br>recall: 0.95",
          "threshold: 0.14 <br>precision: 0.41 <br>recall: 0.95",
          "threshold: 0.14 <br>precision: 0.42 <br>recall: 0.95",
          "threshold: 0.14 <br>precision: 0.42 <br>recall: 0.93",
          "threshold: 0.14 <br>precision: 0.42 <br>recall: 0.93",
          "threshold: 0.14 <br>precision: 0.42 <br>recall: 0.92",
          "threshold: 0.14 <br>precision: 0.43 <br>recall: 0.92",
          "threshold: 0.14 <br>precision: 0.43 <br>recall: 0.92",
          "threshold: 0.14 <br>precision: 0.44 <br>recall: 0.92",
          "threshold: 0.14 <br>precision: 0.44 <br>recall: 0.92",
          "threshold: 0.14 <br>precision: 0.45 <br>recall: 0.92",
          "threshold: 0.15 <br>precision: 0.46 <br>recall: 0.92",
          "threshold: 0.15 <br>precision: 0.47 <br>recall: 0.92",
          "threshold: 0.15 <br>precision: 0.47 <br>recall: 0.92",
          "threshold: 0.15 <br>precision: 0.47 <br>recall: 0.92",
          "threshold: 0.15 <br>precision: 0.48 <br>recall: 0.92",
          "threshold: 0.15 <br>precision: 0.48 <br>recall: 0.92",
          "threshold: 0.15 <br>precision: 0.48 <br>recall: 0.92",
          "threshold: 0.15 <br>precision: 0.49 <br>recall: 0.92",
          "threshold: 0.15 <br>precision: 0.49 <br>recall: 0.92",
          "threshold: 0.15 <br>precision: 0.5 <br>recall: 0.92",
          "threshold: 0.15 <br>precision: 0.5 <br>recall: 0.92",
          "threshold: 0.15 <br>precision: 0.5 <br>recall: 0.92",
          "threshold: 0.16 <br>precision: 0.51 <br>recall: 0.92",
          "threshold: 0.16 <br>precision: 0.52 <br>recall: 0.92",
          "threshold: 0.16 <br>precision: 0.53 <br>recall: 0.92",
          "threshold: 0.16 <br>precision: 0.53 <br>recall: 0.92",
          "threshold: 0.16 <br>precision: 0.54 <br>recall: 0.92",
          "threshold: 0.17 <br>precision: 0.54 <br>recall: 0.92",
          "threshold: 0.17 <br>precision: 0.54 <br>recall: 0.92",
          "threshold: 0.17 <br>precision: 0.56 <br>recall: 0.92",
          "threshold: 0.17 <br>precision: 0.56 <br>recall: 0.92",
          "threshold: 0.17 <br>precision: 0.57 <br>recall: 0.92",
          "threshold: 0.17 <br>precision: 0.57 <br>recall: 0.9",
          "threshold: 0.18 <br>precision: 0.57 <br>recall: 0.9",
          "threshold: 0.18 <br>precision: 0.57 <br>recall: 0.89",
          "threshold: 0.18 <br>precision: 0.58 <br>recall: 0.89",
          "threshold: 0.18 <br>precision: 0.58 <br>recall: 0.89",
          "threshold: 0.18 <br>precision: 0.59 <br>recall: 0.89",
          "threshold: 0.19 <br>precision: 0.59 <br>recall: 0.89",
          "threshold: 0.19 <br>precision: 0.6 <br>recall: 0.89",
          "threshold: 0.19 <br>precision: 0.6 <br>recall: 0.89",
          "threshold: 0.19 <br>precision: 0.61 <br>recall: 0.89",
          "threshold: 0.19 <br>precision: 0.62 <br>recall: 0.89",
          "threshold: 0.2 <br>precision: 0.62 <br>recall: 0.89",
          "threshold: 0.21 <br>precision: 0.63 <br>recall: 0.89",
          "threshold: 0.21 <br>precision: 0.64 <br>recall: 0.89",
          "threshold: 0.21 <br>precision: 0.64 <br>recall: 0.89",
          "threshold: 0.22 <br>precision: 0.65 <br>recall: 0.89",
          "threshold: 0.22 <br>precision: 0.65 <br>recall: 0.88",
          "threshold: 0.23 <br>precision: 0.65 <br>recall: 0.88",
          "threshold: 0.24 <br>precision: 0.65 <br>recall: 0.86",
          "threshold: 0.24 <br>precision: 0.66 <br>recall: 0.86",
          "threshold: 0.24 <br>precision: 0.65 <br>recall: 0.85",
          "threshold: 0.25 <br>precision: 0.66 <br>recall: 0.85",
          "threshold: 0.26 <br>precision: 0.66 <br>recall: 0.84",
          "threshold: 0.27 <br>precision: 0.66 <br>recall: 0.84",
          "threshold: 0.28 <br>precision: 0.67 <br>recall: 0.84",
          "threshold: 0.29 <br>precision: 0.68 <br>recall: 0.84",
          "threshold: 0.3 <br>precision: 0.69 <br>recall: 0.84",
          "threshold: 0.3 <br>precision: 0.68 <br>recall: 0.82",
          "threshold: 0.3 <br>precision: 0.68 <br>recall: 0.81",
          "threshold: 0.3 <br>precision: 0.69 <br>recall: 0.81",
          "threshold: 0.34 <br>precision: 0.68 <br>recall: 0.79",
          "threshold: 0.34 <br>precision: 0.69 <br>recall: 0.79",
          "threshold: 0.35 <br>precision: 0.7 <br>recall: 0.79",
          "threshold: 0.35 <br>precision: 0.71 <br>recall: 0.79",
          "threshold: 0.37 <br>precision: 0.7 <br>recall: 0.78",
          "threshold: 0.38 <br>precision: 0.7 <br>recall: 0.77",
          "threshold: 0.39 <br>precision: 0.71 <br>recall: 0.77",
          "threshold: 0.39 <br>precision: 0.71 <br>recall: 0.75",
          "threshold: 0.4 <br>precision: 0.71 <br>recall: 0.75",
          "threshold: 0.4 <br>precision: 0.71 <br>recall: 0.74",
          "threshold: 0.4 <br>precision: 0.72 <br>recall: 0.74",
          "threshold: 0.41 <br>precision: 0.73 <br>recall: 0.74",
          "threshold: 0.42 <br>precision: 0.74 <br>recall: 0.74",
          "threshold: 0.42 <br>precision: 0.75 <br>recall: 0.74",
          "threshold: 0.43 <br>precision: 0.76 <br>recall: 0.74",
          "threshold: 0.44 <br>precision: 0.77 <br>recall: 0.74",
          "threshold: 0.44 <br>precision: 0.78 <br>recall: 0.74",
          "threshold: 0.45 <br>precision: 0.79 <br>recall: 0.74",
          "threshold: 0.45 <br>precision: 0.81 <br>recall: 0.74",
          "threshold: 0.45 <br>precision: 0.82 <br>recall: 0.74",
          "threshold: 0.46 <br>precision: 0.82 <br>recall: 0.73",
          "threshold: 0.46 <br>precision: 0.83 <br>recall: 0.73",
          "threshold: 0.47 <br>precision: 0.83 <br>recall: 0.71",
          "threshold: 0.48 <br>precision: 0.82 <br>recall: 0.7",
          "threshold: 0.48 <br>precision: 0.82 <br>recall: 0.68",
          "threshold: 0.48 <br>precision: 0.83 <br>recall: 0.68",
          "threshold: 0.48 <br>precision: 0.83 <br>recall: 0.67",
          "threshold: 0.48 <br>precision: 0.84 <br>recall: 0.67",
          "threshold: 0.51 <br>precision: 0.84 <br>recall: 0.66",
          "threshold: 0.51 <br>precision: 0.84 <br>recall: 0.64",
          "threshold: 0.52 <br>precision: 0.84 <br>recall: 0.63",
          "threshold: 0.53 <br>precision: 0.83 <br>recall: 0.62",
          "threshold: 0.53 <br>precision: 0.85 <br>recall: 0.62",
          "threshold: 0.53 <br>precision: 0.87 <br>recall: 0.62",
          "threshold: 0.54 <br>precision: 0.88 <br>recall: 0.62",
          "threshold: 0.55 <br>precision: 0.9 <br>recall: 0.62",
          "threshold: 0.55 <br>precision: 0.9 <br>recall: 0.6",
          "threshold: 0.55 <br>precision: 0.92 <br>recall: 0.6",
          "threshold: 0.56 <br>precision: 0.91 <br>recall: 0.59",
          "threshold: 0.6 <br>precision: 0.91 <br>recall: 0.58",
          "threshold: 0.61 <br>precision: 0.91 <br>recall: 0.56",
          "threshold: 0.62 <br>precision: 0.93 <br>recall: 0.56",
          "threshold: 0.64 <br>precision: 0.93 <br>recall: 0.55",
          "threshold: 0.66 <br>precision: 0.93 <br>recall: 0.53",
          "threshold: 0.66 <br>precision: 0.93 <br>recall: 0.52",
          "threshold: 0.67 <br>precision: 0.95 <br>recall: 0.52",
          "threshold: 0.68 <br>precision: 0.95 <br>recall: 0.49",
          "threshold: 0.68 <br>precision: 0.95 <br>recall: 0.48",
          "threshold: 0.7 <br>precision: 0.97 <br>recall: 0.48",
          "threshold: 0.74 <br>precision: 0.97 <br>recall: 0.47",
          "threshold: 0.75 <br>precision: 0.97 <br>recall: 0.44",
          "threshold: 0.75 <br>precision: 1.0 <br>recall: 0.44",
          "threshold: 0.76 <br>precision: 1.0 <br>recall: 0.42",
          "threshold: 0.77 <br>precision: 1.0 <br>recall: 0.41",
          "threshold: 0.78 <br>precision: 1.0 <br>recall: 0.4",
          "threshold: 0.78 <br>precision: 1.0 <br>recall: 0.38",
          "threshold: 0.79 <br>precision: 1.0 <br>recall: 0.37",
          "threshold: 0.81 <br>precision: 1.0 <br>recall: 0.36",
          "threshold: 0.82 <br>precision: 1.0 <br>recall: 0.34",
          "threshold: 0.82 <br>precision: 1.0 <br>recall: 0.33",
          "threshold: 0.82 <br>precision: 1.0 <br>recall: 0.32",
          "threshold: 0.84 <br>precision: 1.0 <br>recall: 0.3",
          "threshold: 0.84 <br>precision: 1.0 <br>recall: 0.29",
          "threshold: 0.84 <br>precision: 1.0 <br>recall: 0.27",
          "threshold: 0.85 <br>precision: 1.0 <br>recall: 0.26",
          "threshold: 0.86 <br>precision: 1.0 <br>recall: 0.25",
          "threshold: 0.87 <br>precision: 1.0 <br>recall: 0.23",
          "threshold: 0.87 <br>precision: 1.0 <br>recall: 0.22",
          "threshold: 0.87 <br>precision: 1.0 <br>recall: 0.21",
          "threshold: 0.87 <br>precision: 1.0 <br>recall: 0.19",
          "threshold: 0.87 <br>precision: 1.0 <br>recall: 0.18",
          "threshold: 0.88 <br>precision: 1.0 <br>recall: 0.16",
          "threshold: 0.89 <br>precision: 1.0 <br>recall: 0.15",
          "threshold: 0.91 <br>precision: 1.0 <br>recall: 0.14",
          "threshold: 0.91 <br>precision: 1.0 <br>recall: 0.12",
          "threshold: 0.92 <br>precision: 1.0 <br>recall: 0.11",
          "threshold: 0.92 <br>precision: 1.0 <br>recall: 0.1",
          "threshold: 0.93 <br>precision: 1.0 <br>recall: 0.08",
          "threshold: 0.93 <br>precision: 1.0 <br>recall: 0.07",
          "threshold: 0.93 <br>precision: 1.0 <br>recall: 0.05",
          "threshold: 0.94 <br>precision: 1.0 <br>recall: 0.04",
          "threshold: 0.94 <br>precision: 1.0 <br>recall: 0.03",
          "threshold: 0.96 <br>precision: 1.0 <br>recall: 0.01"
         ],
         "type": "scatter",
         "x": [
          0.3686868686868687,
          0.3673469387755102,
          0.36923076923076925,
          0.37305699481865284,
          0.375,
          0.3717277486910995,
          0.3736842105263158,
          0.37566137566137564,
          0.37967914438502676,
          0.3837837837837838,
          0.3858695652173913,
          0.3879781420765027,
          0.3901098901098901,
          0.39226519337016574,
          0.3888888888888889,
          0.39204545454545453,
          0.3942857142857143,
          0.39655172413793105,
          0.40828402366863903,
          0.41566265060240964,
          0.41975308641975306,
          0.422360248447205,
          0.41875,
          0.42948717948717946,
          0.432258064516129,
          0.43506493506493504,
          0.44370860927152317,
          0.44666666666666666,
          0.46206896551724136,
          0.4652777777777778,
          0.46853146853146854,
          0.47183098591549294,
          0.475177304964539,
          0.4785714285714286,
          0.48201438848920863,
          0.4855072463768116,
          0.49264705882352944,
          0.4962962962962963,
          0.5,
          0.5037593984962406,
          0.5114503816793893,
          0.5153846153846153,
          0.5275590551181102,
          0.5317460317460317,
          0.536,
          0.5403225806451613,
          0.5447154471544715,
          0.5583333333333333,
          0.5630252100840336,
          0.5726495726495726,
          0.5689655172413793,
          0.5739130434782609,
          0.5701754385964912,
          0.5752212389380531,
          0.5803571428571429,
          0.5855855855855856,
          0.5909090909090909,
          0.5963302752293578,
          0.6018518518518519,
          0.6074766355140186,
          0.6190476190476191,
          0.625,
          0.6310679611650486,
          0.6372549019607843,
          0.6435643564356436,
          0.65,
          0.6464646464646465,
          0.6530612244897959,
          0.6494845360824743,
          0.65625,
          0.6526315789473685,
          0.6595744680851063,
          0.6559139784946236,
          0.6630434782608695,
          0.6703296703296703,
          0.6777777777777778,
          0.6853932584269663,
          0.6818181818181818,
          0.6781609195402298,
          0.686046511627907,
          0.6823529411764706,
          0.6904761904761905,
          0.6987951807228916,
          0.7073170731707317,
          0.7037037037037037,
          0.7,
          0.7088607594936709,
          0.7051282051282052,
          0.7142857142857143,
          0.7105263157894737,
          0.72,
          0.7297297297297297,
          0.7397260273972602,
          0.75,
          0.7605633802816901,
          0.7714285714285715,
          0.782608695652174,
          0.7941176470588235,
          0.8059701492537313,
          0.8181818181818182,
          0.8153846153846154,
          0.828125,
          0.8253968253968254,
          0.8225806451612904,
          0.819672131147541,
          0.8333333333333334,
          0.8305084745762712,
          0.8448275862068966,
          0.8421052631578947,
          0.8392857142857143,
          0.8363636363636363,
          0.8333333333333334,
          0.8490566037735849,
          0.8653846153846154,
          0.8823529411764706,
          0.9,
          0.8979591836734694,
          0.9166666666666666,
          0.9148936170212766,
          0.9130434782608695,
          0.9111111111111111,
          0.9318181818181818,
          0.9302325581395349,
          0.9285714285714286,
          0.926829268292683,
          0.95,
          0.9473684210526315,
          0.9459459459459459,
          0.9722222222222222,
          0.9714285714285714,
          0.9696969696969697,
          1,
          1,
          1,
          1,
          1,
          1,
          1,
          1,
          1,
          1,
          1,
          1,
          1,
          1,
          1,
          1,
          1,
          1,
          1,
          1,
          1,
          1,
          1,
          1,
          1,
          1,
          1,
          1,
          1,
          1,
          1,
          1,
          1
         ],
         "y": [
          1,
          0.9863013698630136,
          0.9863013698630136,
          0.9863013698630136,
          0.9863013698630136,
          0.9726027397260274,
          0.9726027397260274,
          0.9726027397260274,
          0.9726027397260274,
          0.9726027397260274,
          0.9726027397260274,
          0.9726027397260274,
          0.9726027397260274,
          0.9726027397260274,
          0.958904109589041,
          0.9452054794520548,
          0.9452054794520548,
          0.9452054794520548,
          0.9452054794520548,
          0.9452054794520548,
          0.9315068493150684,
          0.9315068493150684,
          0.9178082191780822,
          0.9178082191780822,
          0.9178082191780822,
          0.9178082191780822,
          0.9178082191780822,
          0.9178082191780822,
          0.9178082191780822,
          0.9178082191780822,
          0.9178082191780822,
          0.9178082191780822,
          0.9178082191780822,
          0.9178082191780822,
          0.9178082191780822,
          0.9178082191780822,
          0.9178082191780822,
          0.9178082191780822,
          0.9178082191780822,
          0.9178082191780822,
          0.9178082191780822,
          0.9178082191780822,
          0.9178082191780822,
          0.9178082191780822,
          0.9178082191780822,
          0.9178082191780822,
          0.9178082191780822,
          0.9178082191780822,
          0.9178082191780822,
          0.9178082191780822,
          0.9041095890410958,
          0.9041095890410958,
          0.8904109589041096,
          0.8904109589041096,
          0.8904109589041096,
          0.8904109589041096,
          0.8904109589041096,
          0.8904109589041096,
          0.8904109589041096,
          0.8904109589041096,
          0.8904109589041096,
          0.8904109589041096,
          0.8904109589041096,
          0.8904109589041096,
          0.8904109589041096,
          0.8904109589041096,
          0.8767123287671232,
          0.8767123287671232,
          0.863013698630137,
          0.863013698630137,
          0.8493150684931506,
          0.8493150684931506,
          0.8356164383561644,
          0.8356164383561644,
          0.8356164383561644,
          0.8356164383561644,
          0.8356164383561644,
          0.821917808219178,
          0.8082191780821918,
          0.8082191780821918,
          0.7945205479452054,
          0.7945205479452054,
          0.7945205479452054,
          0.7945205479452054,
          0.7808219178082192,
          0.7671232876712328,
          0.7671232876712328,
          0.7534246575342466,
          0.7534246575342466,
          0.7397260273972602,
          0.7397260273972602,
          0.7397260273972602,
          0.7397260273972602,
          0.7397260273972602,
          0.7397260273972602,
          0.7397260273972602,
          0.7397260273972602,
          0.7397260273972602,
          0.7397260273972602,
          0.7397260273972602,
          0.726027397260274,
          0.726027397260274,
          0.7123287671232876,
          0.6986301369863014,
          0.684931506849315,
          0.684931506849315,
          0.6712328767123288,
          0.6712328767123288,
          0.6575342465753424,
          0.6438356164383562,
          0.6301369863013698,
          0.6164383561643836,
          0.6164383561643836,
          0.6164383561643836,
          0.6164383561643836,
          0.6164383561643836,
          0.6027397260273972,
          0.6027397260273972,
          0.589041095890411,
          0.5753424657534246,
          0.5616438356164384,
          0.5616438356164384,
          0.547945205479452,
          0.5342465753424658,
          0.5205479452054794,
          0.5205479452054794,
          0.4931506849315068,
          0.4794520547945205,
          0.4794520547945205,
          0.4657534246575342,
          0.4383561643835616,
          0.4383561643835616,
          0.4246575342465753,
          0.410958904109589,
          0.3972602739726027,
          0.3835616438356164,
          0.3698630136986301,
          0.3561643835616438,
          0.3424657534246575,
          0.3287671232876712,
          0.3150684931506849,
          0.3013698630136986,
          0.2876712328767123,
          0.273972602739726,
          0.2602739726027397,
          0.2465753424657534,
          0.2328767123287671,
          0.2191780821917808,
          0.2054794520547945,
          0.1917808219178082,
          0.1780821917808219,
          0.1643835616438356,
          0.1506849315068493,
          0.136986301369863,
          0.1232876712328767,
          0.1095890410958904,
          0.0958904109589041,
          0.0821917808219178,
          0.0684931506849315,
          0.0547945205479452,
          0.0410958904109589,
          0.0273972602739726,
          0.0136986301369863,
          0
         ]
        }
       ],
       "layout": {
        "annotations": [
         {
          "align": "right",
          "showarrow": false,
          "text": "Cutoff: 0.3",
          "x": 0.15,
          "xanchor": "left",
          "y": 0.45,
          "yanchor": "top"
         },
         {
          "align": "right",
          "showarrow": false,
          "text": "Accuracy: 0.79",
          "x": 0.15,
          "xanchor": "left",
          "y": 0.4,
          "yanchor": "top"
         },
         {
          "align": "right",
          "showarrow": false,
          "text": "Precision: 0.678",
          "x": 0.15,
          "xanchor": "left",
          "y": 0.35,
          "yanchor": "top"
         },
         {
          "align": "right",
          "showarrow": false,
          "text": "Recall: 0.808",
          "x": 0.15,
          "xanchor": "left",
          "y": 0.3,
          "yanchor": "top"
         },
         {
          "align": "right",
          "showarrow": false,
          "text": "F1-score: 0.737",
          "x": 0.15,
          "xanchor": "left",
          "y": 0.25,
          "yanchor": "top"
         },
         {
          "align": "right",
          "showarrow": false,
          "text": "pr-auc-score: 0.859",
          "x": 0.15,
          "xanchor": "left",
          "y": 0.2,
          "yanchor": "top"
         }
        ],
        "height": 450,
        "shapes": [
         {
          "line": {
           "color": "lightslategray",
           "width": 1
          },
          "type": "line",
          "x0": 0,
          "x1": 1,
          "xref": "x",
          "y0": 0.821917808219178,
          "y1": 0.821917808219178,
          "yref": "y"
         },
         {
          "line": {
           "color": "lightslategray",
           "width": 1
          },
          "type": "line",
          "x0": 0.6818181818181818,
          "x1": 0.6818181818181818,
          "xref": "x",
          "y0": 0,
          "y1": 1,
          "yref": "y"
         }
        ],
        "template": {
         "data": {
          "bar": [
           {
            "error_x": {
             "color": "#2a3f5f"
            },
            "error_y": {
             "color": "#2a3f5f"
            },
            "marker": {
             "line": {
              "color": "#E5ECF6",
              "width": 0.5
             }
            },
            "type": "bar"
           }
          ],
          "barpolar": [
           {
            "marker": {
             "line": {
              "color": "#E5ECF6",
              "width": 0.5
             }
            },
            "type": "barpolar"
           }
          ],
          "carpet": [
           {
            "aaxis": {
             "endlinecolor": "#2a3f5f",
             "gridcolor": "white",
             "linecolor": "white",
             "minorgridcolor": "white",
             "startlinecolor": "#2a3f5f"
            },
            "baxis": {
             "endlinecolor": "#2a3f5f",
             "gridcolor": "white",
             "linecolor": "white",
             "minorgridcolor": "white",
             "startlinecolor": "#2a3f5f"
            },
            "type": "carpet"
           }
          ],
          "choropleth": [
           {
            "colorbar": {
             "outlinewidth": 0,
             "ticks": ""
            },
            "type": "choropleth"
           }
          ],
          "contour": [
           {
            "colorbar": {
             "outlinewidth": 0,
             "ticks": ""
            },
            "colorscale": [
             [
              0,
              "#0d0887"
             ],
             [
              0.1111111111111111,
              "#46039f"
             ],
             [
              0.2222222222222222,
              "#7201a8"
             ],
             [
              0.3333333333333333,
              "#9c179e"
             ],
             [
              0.4444444444444444,
              "#bd3786"
             ],
             [
              0.5555555555555556,
              "#d8576b"
             ],
             [
              0.6666666666666666,
              "#ed7953"
             ],
             [
              0.7777777777777778,
              "#fb9f3a"
             ],
             [
              0.8888888888888888,
              "#fdca26"
             ],
             [
              1,
              "#f0f921"
             ]
            ],
            "type": "contour"
           }
          ],
          "contourcarpet": [
           {
            "colorbar": {
             "outlinewidth": 0,
             "ticks": ""
            },
            "type": "contourcarpet"
           }
          ],
          "heatmap": [
           {
            "colorbar": {
             "outlinewidth": 0,
             "ticks": ""
            },
            "colorscale": [
             [
              0,
              "#0d0887"
             ],
             [
              0.1111111111111111,
              "#46039f"
             ],
             [
              0.2222222222222222,
              "#7201a8"
             ],
             [
              0.3333333333333333,
              "#9c179e"
             ],
             [
              0.4444444444444444,
              "#bd3786"
             ],
             [
              0.5555555555555556,
              "#d8576b"
             ],
             [
              0.6666666666666666,
              "#ed7953"
             ],
             [
              0.7777777777777778,
              "#fb9f3a"
             ],
             [
              0.8888888888888888,
              "#fdca26"
             ],
             [
              1,
              "#f0f921"
             ]
            ],
            "type": "heatmap"
           }
          ],
          "heatmapgl": [
           {
            "colorbar": {
             "outlinewidth": 0,
             "ticks": ""
            },
            "colorscale": [
             [
              0,
              "#0d0887"
             ],
             [
              0.1111111111111111,
              "#46039f"
             ],
             [
              0.2222222222222222,
              "#7201a8"
             ],
             [
              0.3333333333333333,
              "#9c179e"
             ],
             [
              0.4444444444444444,
              "#bd3786"
             ],
             [
              0.5555555555555556,
              "#d8576b"
             ],
             [
              0.6666666666666666,
              "#ed7953"
             ],
             [
              0.7777777777777778,
              "#fb9f3a"
             ],
             [
              0.8888888888888888,
              "#fdca26"
             ],
             [
              1,
              "#f0f921"
             ]
            ],
            "type": "heatmapgl"
           }
          ],
          "histogram": [
           {
            "marker": {
             "colorbar": {
              "outlinewidth": 0,
              "ticks": ""
             }
            },
            "type": "histogram"
           }
          ],
          "histogram2d": [
           {
            "colorbar": {
             "outlinewidth": 0,
             "ticks": ""
            },
            "colorscale": [
             [
              0,
              "#0d0887"
             ],
             [
              0.1111111111111111,
              "#46039f"
             ],
             [
              0.2222222222222222,
              "#7201a8"
             ],
             [
              0.3333333333333333,
              "#9c179e"
             ],
             [
              0.4444444444444444,
              "#bd3786"
             ],
             [
              0.5555555555555556,
              "#d8576b"
             ],
             [
              0.6666666666666666,
              "#ed7953"
             ],
             [
              0.7777777777777778,
              "#fb9f3a"
             ],
             [
              0.8888888888888888,
              "#fdca26"
             ],
             [
              1,
              "#f0f921"
             ]
            ],
            "type": "histogram2d"
           }
          ],
          "histogram2dcontour": [
           {
            "colorbar": {
             "outlinewidth": 0,
             "ticks": ""
            },
            "colorscale": [
             [
              0,
              "#0d0887"
             ],
             [
              0.1111111111111111,
              "#46039f"
             ],
             [
              0.2222222222222222,
              "#7201a8"
             ],
             [
              0.3333333333333333,
              "#9c179e"
             ],
             [
              0.4444444444444444,
              "#bd3786"
             ],
             [
              0.5555555555555556,
              "#d8576b"
             ],
             [
              0.6666666666666666,
              "#ed7953"
             ],
             [
              0.7777777777777778,
              "#fb9f3a"
             ],
             [
              0.8888888888888888,
              "#fdca26"
             ],
             [
              1,
              "#f0f921"
             ]
            ],
            "type": "histogram2dcontour"
           }
          ],
          "mesh3d": [
           {
            "colorbar": {
             "outlinewidth": 0,
             "ticks": ""
            },
            "type": "mesh3d"
           }
          ],
          "parcoords": [
           {
            "line": {
             "colorbar": {
              "outlinewidth": 0,
              "ticks": ""
             }
            },
            "type": "parcoords"
           }
          ],
          "scatter": [
           {
            "marker": {
             "colorbar": {
              "outlinewidth": 0,
              "ticks": ""
             }
            },
            "type": "scatter"
           }
          ],
          "scatter3d": [
           {
            "line": {
             "colorbar": {
              "outlinewidth": 0,
              "ticks": ""
             }
            },
            "marker": {
             "colorbar": {
              "outlinewidth": 0,
              "ticks": ""
             }
            },
            "type": "scatter3d"
           }
          ],
          "scattercarpet": [
           {
            "marker": {
             "colorbar": {
              "outlinewidth": 0,
              "ticks": ""
             }
            },
            "type": "scattercarpet"
           }
          ],
          "scattergeo": [
           {
            "marker": {
             "colorbar": {
              "outlinewidth": 0,
              "ticks": ""
             }
            },
            "type": "scattergeo"
           }
          ],
          "scattergl": [
           {
            "marker": {
             "colorbar": {
              "outlinewidth": 0,
              "ticks": ""
             }
            },
            "type": "scattergl"
           }
          ],
          "scattermapbox": [
           {
            "marker": {
             "colorbar": {
              "outlinewidth": 0,
              "ticks": ""
             }
            },
            "type": "scattermapbox"
           }
          ],
          "scatterpolar": [
           {
            "marker": {
             "colorbar": {
              "outlinewidth": 0,
              "ticks": ""
             }
            },
            "type": "scatterpolar"
           }
          ],
          "scatterpolargl": [
           {
            "marker": {
             "colorbar": {
              "outlinewidth": 0,
              "ticks": ""
             }
            },
            "type": "scatterpolargl"
           }
          ],
          "scatterternary": [
           {
            "marker": {
             "colorbar": {
              "outlinewidth": 0,
              "ticks": ""
             }
            },
            "type": "scatterternary"
           }
          ],
          "surface": [
           {
            "colorbar": {
             "outlinewidth": 0,
             "ticks": ""
            },
            "colorscale": [
             [
              0,
              "#0d0887"
             ],
             [
              0.1111111111111111,
              "#46039f"
             ],
             [
              0.2222222222222222,
              "#7201a8"
             ],
             [
              0.3333333333333333,
              "#9c179e"
             ],
             [
              0.4444444444444444,
              "#bd3786"
             ],
             [
              0.5555555555555556,
              "#d8576b"
             ],
             [
              0.6666666666666666,
              "#ed7953"
             ],
             [
              0.7777777777777778,
              "#fb9f3a"
             ],
             [
              0.8888888888888888,
              "#fdca26"
             ],
             [
              1,
              "#f0f921"
             ]
            ],
            "type": "surface"
           }
          ],
          "table": [
           {
            "cells": {
             "fill": {
              "color": "#EBF0F8"
             },
             "line": {
              "color": "white"
             }
            },
            "header": {
             "fill": {
              "color": "#C8D4E3"
             },
             "line": {
              "color": "white"
             }
            },
            "type": "table"
           }
          ]
         },
         "layout": {
          "annotationdefaults": {
           "arrowcolor": "#2a3f5f",
           "arrowhead": 0,
           "arrowwidth": 1
          },
          "colorscale": {
           "diverging": [
            [
             0,
             "#8e0152"
            ],
            [
             0.1,
             "#c51b7d"
            ],
            [
             0.2,
             "#de77ae"
            ],
            [
             0.3,
             "#f1b6da"
            ],
            [
             0.4,
             "#fde0ef"
            ],
            [
             0.5,
             "#f7f7f7"
            ],
            [
             0.6,
             "#e6f5d0"
            ],
            [
             0.7,
             "#b8e186"
            ],
            [
             0.8,
             "#7fbc41"
            ],
            [
             0.9,
             "#4d9221"
            ],
            [
             1,
             "#276419"
            ]
           ],
           "sequential": [
            [
             0,
             "#0d0887"
            ],
            [
             0.1111111111111111,
             "#46039f"
            ],
            [
             0.2222222222222222,
             "#7201a8"
            ],
            [
             0.3333333333333333,
             "#9c179e"
            ],
            [
             0.4444444444444444,
             "#bd3786"
            ],
            [
             0.5555555555555556,
             "#d8576b"
            ],
            [
             0.6666666666666666,
             "#ed7953"
            ],
            [
             0.7777777777777778,
             "#fb9f3a"
            ],
            [
             0.8888888888888888,
             "#fdca26"
            ],
            [
             1,
             "#f0f921"
            ]
           ],
           "sequentialminus": [
            [
             0,
             "#0d0887"
            ],
            [
             0.1111111111111111,
             "#46039f"
            ],
            [
             0.2222222222222222,
             "#7201a8"
            ],
            [
             0.3333333333333333,
             "#9c179e"
            ],
            [
             0.4444444444444444,
             "#bd3786"
            ],
            [
             0.5555555555555556,
             "#d8576b"
            ],
            [
             0.6666666666666666,
             "#ed7953"
            ],
            [
             0.7777777777777778,
             "#fb9f3a"
            ],
            [
             0.8888888888888888,
             "#fdca26"
            ],
            [
             1,
             "#f0f921"
            ]
           ]
          },
          "colorway": [
           "#636efa",
           "#EF553B",
           "#00cc96",
           "#ab63fa",
           "#FFA15A",
           "#19d3f3",
           "#FF6692",
           "#B6E880",
           "#FF97FF",
           "#FECB52"
          ],
          "font": {
           "color": "#2a3f5f"
          },
          "geo": {
           "bgcolor": "white",
           "lakecolor": "white",
           "landcolor": "#E5ECF6",
           "showlakes": true,
           "showland": true,
           "subunitcolor": "white"
          },
          "hoverlabel": {
           "align": "left"
          },
          "hovermode": "closest",
          "mapbox": {
           "style": "light"
          },
          "paper_bgcolor": "white",
          "plot_bgcolor": "#E5ECF6",
          "polar": {
           "angularaxis": {
            "gridcolor": "white",
            "linecolor": "white",
            "ticks": ""
           },
           "bgcolor": "#E5ECF6",
           "radialaxis": {
            "gridcolor": "white",
            "linecolor": "white",
            "ticks": ""
           }
          },
          "scene": {
           "xaxis": {
            "backgroundcolor": "#E5ECF6",
            "gridcolor": "white",
            "gridwidth": 2,
            "linecolor": "white",
            "showbackground": true,
            "ticks": "",
            "zerolinecolor": "white"
           },
           "yaxis": {
            "backgroundcolor": "#E5ECF6",
            "gridcolor": "white",
            "gridwidth": 2,
            "linecolor": "white",
            "showbackground": true,
            "ticks": "",
            "zerolinecolor": "white"
           },
           "zaxis": {
            "backgroundcolor": "#E5ECF6",
            "gridcolor": "white",
            "gridwidth": 2,
            "linecolor": "white",
            "showbackground": true,
            "ticks": "",
            "zerolinecolor": "white"
           }
          },
          "shapedefaults": {
           "line": {
            "color": "#2a3f5f"
           }
          },
          "ternary": {
           "aaxis": {
            "gridcolor": "white",
            "linecolor": "white",
            "ticks": ""
           },
           "baxis": {
            "gridcolor": "white",
            "linecolor": "white",
            "ticks": ""
           },
           "bgcolor": "#E5ECF6",
           "caxis": {
            "gridcolor": "white",
            "linecolor": "white",
            "ticks": ""
           }
          },
          "title": {
           "x": 0.05
          },
          "xaxis": {
           "automargin": true,
           "gridcolor": "white",
           "linecolor": "white",
           "ticks": "",
           "zerolinecolor": "white",
           "zerolinewidth": 2
          },
          "yaxis": {
           "automargin": true,
           "gridcolor": "white",
           "linecolor": "white",
           "ticks": "",
           "zerolinecolor": "white",
           "zerolinewidth": 2
          }
         }
        },
        "title": {
         "text": "PR AUC CURVE"
        },
        "width": 450,
        "xaxis": {
         "range": [
          0,
          1
         ],
         "title": {
          "text": "Precision"
         }
        },
        "yaxis": {
         "range": [
          0,
          1
         ],
         "scaleanchor": "y",
         "scaleratio": 1,
         "title": {
          "text": "Recall"
         }
        }
       }
      },
      "text/html": [
       "<div>\n",
       "        \n",
       "        \n",
       "            <div id=\"84c1e6d8-814b-4946-8afa-98934f264802\" class=\"plotly-graph-div\" style=\"height:450px; width:450px;\"></div>\n",
       "            <script type=\"text/javascript\">\n",
       "                require([\"plotly\"], function(Plotly) {\n",
       "                    window.PLOTLYENV=window.PLOTLYENV || {};\n",
       "                    \n",
       "                if (document.getElementById(\"84c1e6d8-814b-4946-8afa-98934f264802\")) {\n",
       "                    Plotly.newPlot(\n",
       "                        '84c1e6d8-814b-4946-8afa-98934f264802',\n",
       "                        [{\"hoverinfo\": \"text\", \"mode\": \"lines\", \"name\": \"PR AUC CURVE\", \"text\": [\"threshold: 0.1 <br>precision: 0.37 <br>recall: 1.0\", \"threshold: 0.11 <br>precision: 0.37 <br>recall: 0.99\", \"threshold: 0.12 <br>precision: 0.37 <br>recall: 0.99\", \"threshold: 0.12 <br>precision: 0.37 <br>recall: 0.99\", \"threshold: 0.12 <br>precision: 0.38 <br>recall: 0.99\", \"threshold: 0.12 <br>precision: 0.37 <br>recall: 0.97\", \"threshold: 0.12 <br>precision: 0.37 <br>recall: 0.97\", \"threshold: 0.12 <br>precision: 0.38 <br>recall: 0.97\", \"threshold: 0.12 <br>precision: 0.38 <br>recall: 0.97\", \"threshold: 0.12 <br>precision: 0.38 <br>recall: 0.97\", \"threshold: 0.12 <br>precision: 0.39 <br>recall: 0.97\", \"threshold: 0.12 <br>precision: 0.39 <br>recall: 0.97\", \"threshold: 0.12 <br>precision: 0.39 <br>recall: 0.97\", \"threshold: 0.12 <br>precision: 0.39 <br>recall: 0.97\", \"threshold: 0.13 <br>precision: 0.39 <br>recall: 0.96\", \"threshold: 0.13 <br>precision: 0.39 <br>recall: 0.95\", \"threshold: 0.13 <br>precision: 0.39 <br>recall: 0.95\", \"threshold: 0.13 <br>precision: 0.4 <br>recall: 0.95\", \"threshold: 0.14 <br>precision: 0.41 <br>recall: 0.95\", \"threshold: 0.14 <br>precision: 0.42 <br>recall: 0.95\", \"threshold: 0.14 <br>precision: 0.42 <br>recall: 0.93\", \"threshold: 0.14 <br>precision: 0.42 <br>recall: 0.93\", \"threshold: 0.14 <br>precision: 0.42 <br>recall: 0.92\", \"threshold: 0.14 <br>precision: 0.43 <br>recall: 0.92\", \"threshold: 0.14 <br>precision: 0.43 <br>recall: 0.92\", \"threshold: 0.14 <br>precision: 0.44 <br>recall: 0.92\", \"threshold: 0.14 <br>precision: 0.44 <br>recall: 0.92\", \"threshold: 0.14 <br>precision: 0.45 <br>recall: 0.92\", \"threshold: 0.15 <br>precision: 0.46 <br>recall: 0.92\", \"threshold: 0.15 <br>precision: 0.47 <br>recall: 0.92\", \"threshold: 0.15 <br>precision: 0.47 <br>recall: 0.92\", \"threshold: 0.15 <br>precision: 0.47 <br>recall: 0.92\", \"threshold: 0.15 <br>precision: 0.48 <br>recall: 0.92\", \"threshold: 0.15 <br>precision: 0.48 <br>recall: 0.92\", \"threshold: 0.15 <br>precision: 0.48 <br>recall: 0.92\", \"threshold: 0.15 <br>precision: 0.49 <br>recall: 0.92\", \"threshold: 0.15 <br>precision: 0.49 <br>recall: 0.92\", \"threshold: 0.15 <br>precision: 0.5 <br>recall: 0.92\", \"threshold: 0.15 <br>precision: 0.5 <br>recall: 0.92\", \"threshold: 0.15 <br>precision: 0.5 <br>recall: 0.92\", \"threshold: 0.16 <br>precision: 0.51 <br>recall: 0.92\", \"threshold: 0.16 <br>precision: 0.52 <br>recall: 0.92\", \"threshold: 0.16 <br>precision: 0.53 <br>recall: 0.92\", \"threshold: 0.16 <br>precision: 0.53 <br>recall: 0.92\", \"threshold: 0.16 <br>precision: 0.54 <br>recall: 0.92\", \"threshold: 0.17 <br>precision: 0.54 <br>recall: 0.92\", \"threshold: 0.17 <br>precision: 0.54 <br>recall: 0.92\", \"threshold: 0.17 <br>precision: 0.56 <br>recall: 0.92\", \"threshold: 0.17 <br>precision: 0.56 <br>recall: 0.92\", \"threshold: 0.17 <br>precision: 0.57 <br>recall: 0.92\", \"threshold: 0.17 <br>precision: 0.57 <br>recall: 0.9\", \"threshold: 0.18 <br>precision: 0.57 <br>recall: 0.9\", \"threshold: 0.18 <br>precision: 0.57 <br>recall: 0.89\", \"threshold: 0.18 <br>precision: 0.58 <br>recall: 0.89\", \"threshold: 0.18 <br>precision: 0.58 <br>recall: 0.89\", \"threshold: 0.18 <br>precision: 0.59 <br>recall: 0.89\", \"threshold: 0.19 <br>precision: 0.59 <br>recall: 0.89\", \"threshold: 0.19 <br>precision: 0.6 <br>recall: 0.89\", \"threshold: 0.19 <br>precision: 0.6 <br>recall: 0.89\", \"threshold: 0.19 <br>precision: 0.61 <br>recall: 0.89\", \"threshold: 0.19 <br>precision: 0.62 <br>recall: 0.89\", \"threshold: 0.2 <br>precision: 0.62 <br>recall: 0.89\", \"threshold: 0.21 <br>precision: 0.63 <br>recall: 0.89\", \"threshold: 0.21 <br>precision: 0.64 <br>recall: 0.89\", \"threshold: 0.21 <br>precision: 0.64 <br>recall: 0.89\", \"threshold: 0.22 <br>precision: 0.65 <br>recall: 0.89\", \"threshold: 0.22 <br>precision: 0.65 <br>recall: 0.88\", \"threshold: 0.23 <br>precision: 0.65 <br>recall: 0.88\", \"threshold: 0.24 <br>precision: 0.65 <br>recall: 0.86\", \"threshold: 0.24 <br>precision: 0.66 <br>recall: 0.86\", \"threshold: 0.24 <br>precision: 0.65 <br>recall: 0.85\", \"threshold: 0.25 <br>precision: 0.66 <br>recall: 0.85\", \"threshold: 0.26 <br>precision: 0.66 <br>recall: 0.84\", \"threshold: 0.27 <br>precision: 0.66 <br>recall: 0.84\", \"threshold: 0.28 <br>precision: 0.67 <br>recall: 0.84\", \"threshold: 0.29 <br>precision: 0.68 <br>recall: 0.84\", \"threshold: 0.3 <br>precision: 0.69 <br>recall: 0.84\", \"threshold: 0.3 <br>precision: 0.68 <br>recall: 0.82\", \"threshold: 0.3 <br>precision: 0.68 <br>recall: 0.81\", \"threshold: 0.3 <br>precision: 0.69 <br>recall: 0.81\", \"threshold: 0.34 <br>precision: 0.68 <br>recall: 0.79\", \"threshold: 0.34 <br>precision: 0.69 <br>recall: 0.79\", \"threshold: 0.35 <br>precision: 0.7 <br>recall: 0.79\", \"threshold: 0.35 <br>precision: 0.71 <br>recall: 0.79\", \"threshold: 0.37 <br>precision: 0.7 <br>recall: 0.78\", \"threshold: 0.38 <br>precision: 0.7 <br>recall: 0.77\", \"threshold: 0.39 <br>precision: 0.71 <br>recall: 0.77\", \"threshold: 0.39 <br>precision: 0.71 <br>recall: 0.75\", \"threshold: 0.4 <br>precision: 0.71 <br>recall: 0.75\", \"threshold: 0.4 <br>precision: 0.71 <br>recall: 0.74\", \"threshold: 0.4 <br>precision: 0.72 <br>recall: 0.74\", \"threshold: 0.41 <br>precision: 0.73 <br>recall: 0.74\", \"threshold: 0.42 <br>precision: 0.74 <br>recall: 0.74\", \"threshold: 0.42 <br>precision: 0.75 <br>recall: 0.74\", \"threshold: 0.43 <br>precision: 0.76 <br>recall: 0.74\", \"threshold: 0.44 <br>precision: 0.77 <br>recall: 0.74\", \"threshold: 0.44 <br>precision: 0.78 <br>recall: 0.74\", \"threshold: 0.45 <br>precision: 0.79 <br>recall: 0.74\", \"threshold: 0.45 <br>precision: 0.81 <br>recall: 0.74\", \"threshold: 0.45 <br>precision: 0.82 <br>recall: 0.74\", \"threshold: 0.46 <br>precision: 0.82 <br>recall: 0.73\", \"threshold: 0.46 <br>precision: 0.83 <br>recall: 0.73\", \"threshold: 0.47 <br>precision: 0.83 <br>recall: 0.71\", \"threshold: 0.48 <br>precision: 0.82 <br>recall: 0.7\", \"threshold: 0.48 <br>precision: 0.82 <br>recall: 0.68\", \"threshold: 0.48 <br>precision: 0.83 <br>recall: 0.68\", \"threshold: 0.48 <br>precision: 0.83 <br>recall: 0.67\", \"threshold: 0.48 <br>precision: 0.84 <br>recall: 0.67\", \"threshold: 0.51 <br>precision: 0.84 <br>recall: 0.66\", \"threshold: 0.51 <br>precision: 0.84 <br>recall: 0.64\", \"threshold: 0.52 <br>precision: 0.84 <br>recall: 0.63\", \"threshold: 0.53 <br>precision: 0.83 <br>recall: 0.62\", \"threshold: 0.53 <br>precision: 0.85 <br>recall: 0.62\", \"threshold: 0.53 <br>precision: 0.87 <br>recall: 0.62\", \"threshold: 0.54 <br>precision: 0.88 <br>recall: 0.62\", \"threshold: 0.55 <br>precision: 0.9 <br>recall: 0.62\", \"threshold: 0.55 <br>precision: 0.9 <br>recall: 0.6\", \"threshold: 0.55 <br>precision: 0.92 <br>recall: 0.6\", \"threshold: 0.56 <br>precision: 0.91 <br>recall: 0.59\", \"threshold: 0.6 <br>precision: 0.91 <br>recall: 0.58\", \"threshold: 0.61 <br>precision: 0.91 <br>recall: 0.56\", \"threshold: 0.62 <br>precision: 0.93 <br>recall: 0.56\", \"threshold: 0.64 <br>precision: 0.93 <br>recall: 0.55\", \"threshold: 0.66 <br>precision: 0.93 <br>recall: 0.53\", \"threshold: 0.66 <br>precision: 0.93 <br>recall: 0.52\", \"threshold: 0.67 <br>precision: 0.95 <br>recall: 0.52\", \"threshold: 0.68 <br>precision: 0.95 <br>recall: 0.49\", \"threshold: 0.68 <br>precision: 0.95 <br>recall: 0.48\", \"threshold: 0.7 <br>precision: 0.97 <br>recall: 0.48\", \"threshold: 0.74 <br>precision: 0.97 <br>recall: 0.47\", \"threshold: 0.75 <br>precision: 0.97 <br>recall: 0.44\", \"threshold: 0.75 <br>precision: 1.0 <br>recall: 0.44\", \"threshold: 0.76 <br>precision: 1.0 <br>recall: 0.42\", \"threshold: 0.77 <br>precision: 1.0 <br>recall: 0.41\", \"threshold: 0.78 <br>precision: 1.0 <br>recall: 0.4\", \"threshold: 0.78 <br>precision: 1.0 <br>recall: 0.38\", \"threshold: 0.79 <br>precision: 1.0 <br>recall: 0.37\", \"threshold: 0.81 <br>precision: 1.0 <br>recall: 0.36\", \"threshold: 0.82 <br>precision: 1.0 <br>recall: 0.34\", \"threshold: 0.82 <br>precision: 1.0 <br>recall: 0.33\", \"threshold: 0.82 <br>precision: 1.0 <br>recall: 0.32\", \"threshold: 0.84 <br>precision: 1.0 <br>recall: 0.3\", \"threshold: 0.84 <br>precision: 1.0 <br>recall: 0.29\", \"threshold: 0.84 <br>precision: 1.0 <br>recall: 0.27\", \"threshold: 0.85 <br>precision: 1.0 <br>recall: 0.26\", \"threshold: 0.86 <br>precision: 1.0 <br>recall: 0.25\", \"threshold: 0.87 <br>precision: 1.0 <br>recall: 0.23\", \"threshold: 0.87 <br>precision: 1.0 <br>recall: 0.22\", \"threshold: 0.87 <br>precision: 1.0 <br>recall: 0.21\", \"threshold: 0.87 <br>precision: 1.0 <br>recall: 0.19\", \"threshold: 0.87 <br>precision: 1.0 <br>recall: 0.18\", \"threshold: 0.88 <br>precision: 1.0 <br>recall: 0.16\", \"threshold: 0.89 <br>precision: 1.0 <br>recall: 0.15\", \"threshold: 0.91 <br>precision: 1.0 <br>recall: 0.14\", \"threshold: 0.91 <br>precision: 1.0 <br>recall: 0.12\", \"threshold: 0.92 <br>precision: 1.0 <br>recall: 0.11\", \"threshold: 0.92 <br>precision: 1.0 <br>recall: 0.1\", \"threshold: 0.93 <br>precision: 1.0 <br>recall: 0.08\", \"threshold: 0.93 <br>precision: 1.0 <br>recall: 0.07\", \"threshold: 0.93 <br>precision: 1.0 <br>recall: 0.05\", \"threshold: 0.94 <br>precision: 1.0 <br>recall: 0.04\", \"threshold: 0.94 <br>precision: 1.0 <br>recall: 0.03\", \"threshold: 0.96 <br>precision: 1.0 <br>recall: 0.01\"], \"type\": \"scatter\", \"x\": [0.3686868686868687, 0.3673469387755102, 0.36923076923076925, 0.37305699481865284, 0.375, 0.3717277486910995, 0.3736842105263158, 0.37566137566137564, 0.37967914438502676, 0.3837837837837838, 0.3858695652173913, 0.3879781420765027, 0.3901098901098901, 0.39226519337016574, 0.3888888888888889, 0.39204545454545453, 0.3942857142857143, 0.39655172413793105, 0.40828402366863903, 0.41566265060240964, 0.41975308641975306, 0.422360248447205, 0.41875, 0.42948717948717946, 0.432258064516129, 0.43506493506493504, 0.44370860927152317, 0.44666666666666666, 0.46206896551724136, 0.4652777777777778, 0.46853146853146854, 0.47183098591549294, 0.475177304964539, 0.4785714285714286, 0.48201438848920863, 0.4855072463768116, 0.49264705882352944, 0.4962962962962963, 0.5, 0.5037593984962406, 0.5114503816793893, 0.5153846153846153, 0.5275590551181102, 0.5317460317460317, 0.536, 0.5403225806451613, 0.5447154471544715, 0.5583333333333333, 0.5630252100840336, 0.5726495726495726, 0.5689655172413793, 0.5739130434782609, 0.5701754385964912, 0.5752212389380531, 0.5803571428571429, 0.5855855855855856, 0.5909090909090909, 0.5963302752293578, 0.6018518518518519, 0.6074766355140186, 0.6190476190476191, 0.625, 0.6310679611650486, 0.6372549019607843, 0.6435643564356436, 0.65, 0.6464646464646465, 0.6530612244897959, 0.6494845360824743, 0.65625, 0.6526315789473685, 0.6595744680851063, 0.6559139784946236, 0.6630434782608695, 0.6703296703296703, 0.6777777777777778, 0.6853932584269663, 0.6818181818181818, 0.6781609195402298, 0.686046511627907, 0.6823529411764706, 0.6904761904761905, 0.6987951807228916, 0.7073170731707317, 0.7037037037037037, 0.7, 0.7088607594936709, 0.7051282051282052, 0.7142857142857143, 0.7105263157894737, 0.72, 0.7297297297297297, 0.7397260273972602, 0.75, 0.7605633802816901, 0.7714285714285715, 0.782608695652174, 0.7941176470588235, 0.8059701492537313, 0.8181818181818182, 0.8153846153846154, 0.828125, 0.8253968253968254, 0.8225806451612904, 0.819672131147541, 0.8333333333333334, 0.8305084745762712, 0.8448275862068966, 0.8421052631578947, 0.8392857142857143, 0.8363636363636363, 0.8333333333333334, 0.8490566037735849, 0.8653846153846154, 0.8823529411764706, 0.9, 0.8979591836734694, 0.9166666666666666, 0.9148936170212766, 0.9130434782608695, 0.9111111111111111, 0.9318181818181818, 0.9302325581395349, 0.9285714285714286, 0.926829268292683, 0.95, 0.9473684210526315, 0.9459459459459459, 0.9722222222222222, 0.9714285714285714, 0.9696969696969697, 1.0, 1.0, 1.0, 1.0, 1.0, 1.0, 1.0, 1.0, 1.0, 1.0, 1.0, 1.0, 1.0, 1.0, 1.0, 1.0, 1.0, 1.0, 1.0, 1.0, 1.0, 1.0, 1.0, 1.0, 1.0, 1.0, 1.0, 1.0, 1.0, 1.0, 1.0, 1.0, 1.0], \"y\": [1.0, 0.9863013698630136, 0.9863013698630136, 0.9863013698630136, 0.9863013698630136, 0.9726027397260274, 0.9726027397260274, 0.9726027397260274, 0.9726027397260274, 0.9726027397260274, 0.9726027397260274, 0.9726027397260274, 0.9726027397260274, 0.9726027397260274, 0.958904109589041, 0.9452054794520548, 0.9452054794520548, 0.9452054794520548, 0.9452054794520548, 0.9452054794520548, 0.9315068493150684, 0.9315068493150684, 0.9178082191780822, 0.9178082191780822, 0.9178082191780822, 0.9178082191780822, 0.9178082191780822, 0.9178082191780822, 0.9178082191780822, 0.9178082191780822, 0.9178082191780822, 0.9178082191780822, 0.9178082191780822, 0.9178082191780822, 0.9178082191780822, 0.9178082191780822, 0.9178082191780822, 0.9178082191780822, 0.9178082191780822, 0.9178082191780822, 0.9178082191780822, 0.9178082191780822, 0.9178082191780822, 0.9178082191780822, 0.9178082191780822, 0.9178082191780822, 0.9178082191780822, 0.9178082191780822, 0.9178082191780822, 0.9178082191780822, 0.9041095890410958, 0.9041095890410958, 0.8904109589041096, 0.8904109589041096, 0.8904109589041096, 0.8904109589041096, 0.8904109589041096, 0.8904109589041096, 0.8904109589041096, 0.8904109589041096, 0.8904109589041096, 0.8904109589041096, 0.8904109589041096, 0.8904109589041096, 0.8904109589041096, 0.8904109589041096, 0.8767123287671232, 0.8767123287671232, 0.863013698630137, 0.863013698630137, 0.8493150684931506, 0.8493150684931506, 0.8356164383561644, 0.8356164383561644, 0.8356164383561644, 0.8356164383561644, 0.8356164383561644, 0.821917808219178, 0.8082191780821918, 0.8082191780821918, 0.7945205479452054, 0.7945205479452054, 0.7945205479452054, 0.7945205479452054, 0.7808219178082192, 0.7671232876712328, 0.7671232876712328, 0.7534246575342466, 0.7534246575342466, 0.7397260273972602, 0.7397260273972602, 0.7397260273972602, 0.7397260273972602, 0.7397260273972602, 0.7397260273972602, 0.7397260273972602, 0.7397260273972602, 0.7397260273972602, 0.7397260273972602, 0.7397260273972602, 0.726027397260274, 0.726027397260274, 0.7123287671232876, 0.6986301369863014, 0.684931506849315, 0.684931506849315, 0.6712328767123288, 0.6712328767123288, 0.6575342465753424, 0.6438356164383562, 0.6301369863013698, 0.6164383561643836, 0.6164383561643836, 0.6164383561643836, 0.6164383561643836, 0.6164383561643836, 0.6027397260273972, 0.6027397260273972, 0.589041095890411, 0.5753424657534246, 0.5616438356164384, 0.5616438356164384, 0.547945205479452, 0.5342465753424658, 0.5205479452054794, 0.5205479452054794, 0.4931506849315068, 0.4794520547945205, 0.4794520547945205, 0.4657534246575342, 0.4383561643835616, 0.4383561643835616, 0.4246575342465753, 0.410958904109589, 0.3972602739726027, 0.3835616438356164, 0.3698630136986301, 0.3561643835616438, 0.3424657534246575, 0.3287671232876712, 0.3150684931506849, 0.3013698630136986, 0.2876712328767123, 0.273972602739726, 0.2602739726027397, 0.2465753424657534, 0.2328767123287671, 0.2191780821917808, 0.2054794520547945, 0.1917808219178082, 0.1780821917808219, 0.1643835616438356, 0.1506849315068493, 0.136986301369863, 0.1232876712328767, 0.1095890410958904, 0.0958904109589041, 0.0821917808219178, 0.0684931506849315, 0.0547945205479452, 0.0410958904109589, 0.0273972602739726, 0.0136986301369863, 0.0]}],\n",
       "                        {\"annotations\": [{\"align\": \"right\", \"showarrow\": false, \"text\": \"Cutoff: 0.3\", \"x\": 0.15, \"xanchor\": \"left\", \"y\": 0.45, \"yanchor\": \"top\"}, {\"align\": \"right\", \"showarrow\": false, \"text\": \"Accuracy: 0.79\", \"x\": 0.15, \"xanchor\": \"left\", \"y\": 0.4, \"yanchor\": \"top\"}, {\"align\": \"right\", \"showarrow\": false, \"text\": \"Precision: 0.678\", \"x\": 0.15, \"xanchor\": \"left\", \"y\": 0.35, \"yanchor\": \"top\"}, {\"align\": \"right\", \"showarrow\": false, \"text\": \"Recall: 0.808\", \"x\": 0.15, \"xanchor\": \"left\", \"y\": 0.3, \"yanchor\": \"top\"}, {\"align\": \"right\", \"showarrow\": false, \"text\": \"F1-score: 0.737\", \"x\": 0.15, \"xanchor\": \"left\", \"y\": 0.25, \"yanchor\": \"top\"}, {\"align\": \"right\", \"showarrow\": false, \"text\": \"pr-auc-score: 0.859\", \"x\": 0.15, \"xanchor\": \"left\", \"y\": 0.2, \"yanchor\": \"top\"}], \"height\": 450, \"shapes\": [{\"line\": {\"color\": \"lightslategray\", \"width\": 1}, \"type\": \"line\", \"x0\": 0, \"x1\": 1, \"xref\": \"x\", \"y0\": 0.821917808219178, \"y1\": 0.821917808219178, \"yref\": \"y\"}, {\"line\": {\"color\": \"lightslategray\", \"width\": 1}, \"type\": \"line\", \"x0\": 0.6818181818181818, \"x1\": 0.6818181818181818, \"xref\": \"x\", \"y0\": 0, \"y1\": 1, \"yref\": \"y\"}], \"template\": {\"data\": {\"bar\": [{\"error_x\": {\"color\": \"#2a3f5f\"}, \"error_y\": {\"color\": \"#2a3f5f\"}, \"marker\": {\"line\": {\"color\": \"#E5ECF6\", \"width\": 0.5}}, \"type\": \"bar\"}], \"barpolar\": [{\"marker\": {\"line\": {\"color\": \"#E5ECF6\", \"width\": 0.5}}, \"type\": \"barpolar\"}], \"carpet\": [{\"aaxis\": {\"endlinecolor\": \"#2a3f5f\", \"gridcolor\": \"white\", \"linecolor\": \"white\", \"minorgridcolor\": \"white\", \"startlinecolor\": \"#2a3f5f\"}, \"baxis\": {\"endlinecolor\": \"#2a3f5f\", \"gridcolor\": \"white\", \"linecolor\": \"white\", \"minorgridcolor\": \"white\", \"startlinecolor\": \"#2a3f5f\"}, \"type\": \"carpet\"}], \"choropleth\": [{\"colorbar\": {\"outlinewidth\": 0, \"ticks\": \"\"}, \"type\": \"choropleth\"}], \"contour\": [{\"colorbar\": {\"outlinewidth\": 0, \"ticks\": \"\"}, \"colorscale\": [[0.0, \"#0d0887\"], [0.1111111111111111, \"#46039f\"], [0.2222222222222222, \"#7201a8\"], [0.3333333333333333, \"#9c179e\"], [0.4444444444444444, \"#bd3786\"], [0.5555555555555556, \"#d8576b\"], [0.6666666666666666, \"#ed7953\"], [0.7777777777777778, \"#fb9f3a\"], [0.8888888888888888, \"#fdca26\"], [1.0, \"#f0f921\"]], \"type\": \"contour\"}], \"contourcarpet\": [{\"colorbar\": {\"outlinewidth\": 0, \"ticks\": \"\"}, \"type\": \"contourcarpet\"}], \"heatmap\": [{\"colorbar\": {\"outlinewidth\": 0, \"ticks\": \"\"}, \"colorscale\": [[0.0, \"#0d0887\"], [0.1111111111111111, \"#46039f\"], [0.2222222222222222, \"#7201a8\"], [0.3333333333333333, \"#9c179e\"], [0.4444444444444444, \"#bd3786\"], [0.5555555555555556, \"#d8576b\"], [0.6666666666666666, \"#ed7953\"], [0.7777777777777778, \"#fb9f3a\"], [0.8888888888888888, \"#fdca26\"], [1.0, \"#f0f921\"]], \"type\": \"heatmap\"}], \"heatmapgl\": [{\"colorbar\": {\"outlinewidth\": 0, \"ticks\": \"\"}, \"colorscale\": [[0.0, \"#0d0887\"], [0.1111111111111111, \"#46039f\"], [0.2222222222222222, \"#7201a8\"], [0.3333333333333333, \"#9c179e\"], [0.4444444444444444, \"#bd3786\"], [0.5555555555555556, \"#d8576b\"], [0.6666666666666666, \"#ed7953\"], [0.7777777777777778, \"#fb9f3a\"], [0.8888888888888888, \"#fdca26\"], [1.0, \"#f0f921\"]], \"type\": \"heatmapgl\"}], \"histogram\": [{\"marker\": {\"colorbar\": {\"outlinewidth\": 0, \"ticks\": \"\"}}, \"type\": \"histogram\"}], \"histogram2d\": [{\"colorbar\": {\"outlinewidth\": 0, \"ticks\": \"\"}, \"colorscale\": [[0.0, \"#0d0887\"], [0.1111111111111111, \"#46039f\"], [0.2222222222222222, \"#7201a8\"], [0.3333333333333333, \"#9c179e\"], [0.4444444444444444, \"#bd3786\"], [0.5555555555555556, \"#d8576b\"], [0.6666666666666666, \"#ed7953\"], [0.7777777777777778, \"#fb9f3a\"], [0.8888888888888888, \"#fdca26\"], [1.0, \"#f0f921\"]], \"type\": \"histogram2d\"}], \"histogram2dcontour\": [{\"colorbar\": {\"outlinewidth\": 0, \"ticks\": \"\"}, \"colorscale\": [[0.0, \"#0d0887\"], [0.1111111111111111, \"#46039f\"], [0.2222222222222222, \"#7201a8\"], [0.3333333333333333, \"#9c179e\"], [0.4444444444444444, \"#bd3786\"], [0.5555555555555556, \"#d8576b\"], [0.6666666666666666, \"#ed7953\"], [0.7777777777777778, \"#fb9f3a\"], [0.8888888888888888, \"#fdca26\"], [1.0, \"#f0f921\"]], \"type\": \"histogram2dcontour\"}], \"mesh3d\": [{\"colorbar\": {\"outlinewidth\": 0, \"ticks\": \"\"}, \"type\": \"mesh3d\"}], \"parcoords\": [{\"line\": {\"colorbar\": {\"outlinewidth\": 0, \"ticks\": \"\"}}, \"type\": \"parcoords\"}], \"scatter\": [{\"marker\": {\"colorbar\": {\"outlinewidth\": 0, \"ticks\": \"\"}}, \"type\": \"scatter\"}], \"scatter3d\": [{\"line\": {\"colorbar\": {\"outlinewidth\": 0, \"ticks\": \"\"}}, \"marker\": {\"colorbar\": {\"outlinewidth\": 0, \"ticks\": \"\"}}, \"type\": \"scatter3d\"}], \"scattercarpet\": [{\"marker\": {\"colorbar\": {\"outlinewidth\": 0, \"ticks\": \"\"}}, \"type\": \"scattercarpet\"}], \"scattergeo\": [{\"marker\": {\"colorbar\": {\"outlinewidth\": 0, \"ticks\": \"\"}}, \"type\": \"scattergeo\"}], \"scattergl\": [{\"marker\": {\"colorbar\": {\"outlinewidth\": 0, \"ticks\": \"\"}}, \"type\": \"scattergl\"}], \"scattermapbox\": [{\"marker\": {\"colorbar\": {\"outlinewidth\": 0, \"ticks\": \"\"}}, \"type\": \"scattermapbox\"}], \"scatterpolar\": [{\"marker\": {\"colorbar\": {\"outlinewidth\": 0, \"ticks\": \"\"}}, \"type\": \"scatterpolar\"}], \"scatterpolargl\": [{\"marker\": {\"colorbar\": {\"outlinewidth\": 0, \"ticks\": \"\"}}, \"type\": \"scatterpolargl\"}], \"scatterternary\": [{\"marker\": {\"colorbar\": {\"outlinewidth\": 0, \"ticks\": \"\"}}, \"type\": \"scatterternary\"}], \"surface\": [{\"colorbar\": {\"outlinewidth\": 0, \"ticks\": \"\"}, \"colorscale\": [[0.0, \"#0d0887\"], [0.1111111111111111, \"#46039f\"], [0.2222222222222222, \"#7201a8\"], [0.3333333333333333, \"#9c179e\"], [0.4444444444444444, \"#bd3786\"], [0.5555555555555556, \"#d8576b\"], [0.6666666666666666, \"#ed7953\"], [0.7777777777777778, \"#fb9f3a\"], [0.8888888888888888, \"#fdca26\"], [1.0, \"#f0f921\"]], \"type\": \"surface\"}], \"table\": [{\"cells\": {\"fill\": {\"color\": \"#EBF0F8\"}, \"line\": {\"color\": \"white\"}}, \"header\": {\"fill\": {\"color\": \"#C8D4E3\"}, \"line\": {\"color\": \"white\"}}, \"type\": \"table\"}]}, \"layout\": {\"annotationdefaults\": {\"arrowcolor\": \"#2a3f5f\", \"arrowhead\": 0, \"arrowwidth\": 1}, \"colorscale\": {\"diverging\": [[0, \"#8e0152\"], [0.1, \"#c51b7d\"], [0.2, \"#de77ae\"], [0.3, \"#f1b6da\"], [0.4, \"#fde0ef\"], [0.5, \"#f7f7f7\"], [0.6, \"#e6f5d0\"], [0.7, \"#b8e186\"], [0.8, \"#7fbc41\"], [0.9, \"#4d9221\"], [1, \"#276419\"]], \"sequential\": [[0.0, \"#0d0887\"], [0.1111111111111111, \"#46039f\"], [0.2222222222222222, \"#7201a8\"], [0.3333333333333333, \"#9c179e\"], [0.4444444444444444, \"#bd3786\"], [0.5555555555555556, \"#d8576b\"], [0.6666666666666666, \"#ed7953\"], [0.7777777777777778, \"#fb9f3a\"], [0.8888888888888888, \"#fdca26\"], [1.0, \"#f0f921\"]], \"sequentialminus\": [[0.0, \"#0d0887\"], [0.1111111111111111, \"#46039f\"], [0.2222222222222222, \"#7201a8\"], [0.3333333333333333, \"#9c179e\"], [0.4444444444444444, \"#bd3786\"], [0.5555555555555556, \"#d8576b\"], [0.6666666666666666, \"#ed7953\"], [0.7777777777777778, \"#fb9f3a\"], [0.8888888888888888, \"#fdca26\"], [1.0, \"#f0f921\"]]}, \"colorway\": [\"#636efa\", \"#EF553B\", \"#00cc96\", \"#ab63fa\", \"#FFA15A\", \"#19d3f3\", \"#FF6692\", \"#B6E880\", \"#FF97FF\", \"#FECB52\"], \"font\": {\"color\": \"#2a3f5f\"}, \"geo\": {\"bgcolor\": \"white\", \"lakecolor\": \"white\", \"landcolor\": \"#E5ECF6\", \"showlakes\": true, \"showland\": true, \"subunitcolor\": \"white\"}, \"hoverlabel\": {\"align\": \"left\"}, \"hovermode\": \"closest\", \"mapbox\": {\"style\": \"light\"}, \"paper_bgcolor\": \"white\", \"plot_bgcolor\": \"#E5ECF6\", \"polar\": {\"angularaxis\": {\"gridcolor\": \"white\", \"linecolor\": \"white\", \"ticks\": \"\"}, \"bgcolor\": \"#E5ECF6\", \"radialaxis\": {\"gridcolor\": \"white\", \"linecolor\": \"white\", \"ticks\": \"\"}}, \"scene\": {\"xaxis\": {\"backgroundcolor\": \"#E5ECF6\", \"gridcolor\": \"white\", \"gridwidth\": 2, \"linecolor\": \"white\", \"showbackground\": true, \"ticks\": \"\", \"zerolinecolor\": \"white\"}, \"yaxis\": {\"backgroundcolor\": \"#E5ECF6\", \"gridcolor\": \"white\", \"gridwidth\": 2, \"linecolor\": \"white\", \"showbackground\": true, \"ticks\": \"\", \"zerolinecolor\": \"white\"}, \"zaxis\": {\"backgroundcolor\": \"#E5ECF6\", \"gridcolor\": \"white\", \"gridwidth\": 2, \"linecolor\": \"white\", \"showbackground\": true, \"ticks\": \"\", \"zerolinecolor\": \"white\"}}, \"shapedefaults\": {\"line\": {\"color\": \"#2a3f5f\"}}, \"ternary\": {\"aaxis\": {\"gridcolor\": \"white\", \"linecolor\": \"white\", \"ticks\": \"\"}, \"baxis\": {\"gridcolor\": \"white\", \"linecolor\": \"white\", \"ticks\": \"\"}, \"bgcolor\": \"#E5ECF6\", \"caxis\": {\"gridcolor\": \"white\", \"linecolor\": \"white\", \"ticks\": \"\"}}, \"title\": {\"x\": 0.05}, \"xaxis\": {\"automargin\": true, \"gridcolor\": \"white\", \"linecolor\": \"white\", \"ticks\": \"\", \"zerolinecolor\": \"white\", \"zerolinewidth\": 2}, \"yaxis\": {\"automargin\": true, \"gridcolor\": \"white\", \"linecolor\": \"white\", \"ticks\": \"\", \"zerolinecolor\": \"white\", \"zerolinewidth\": 2}}}, \"title\": {\"text\": \"PR AUC CURVE\"}, \"width\": 450, \"xaxis\": {\"range\": [0, 1], \"title\": {\"text\": \"Precision\"}}, \"yaxis\": {\"range\": [0, 1], \"scaleanchor\": \"y\", \"scaleratio\": 1, \"title\": {\"text\": \"Recall\"}}},\n",
       "                        {\"responsive\": true}\n",
       "                    ).then(function(){\n",
       "                            \n",
       "var gd = document.getElementById('84c1e6d8-814b-4946-8afa-98934f264802');\n",
       "var x = new MutationObserver(function (mutations, observer) {{\n",
       "        var display = window.getComputedStyle(gd).display;\n",
       "        if (!display || display === 'none') {{\n",
       "            console.log([gd, 'removed!']);\n",
       "            Plotly.purge(gd);\n",
       "            observer.disconnect();\n",
       "        }}\n",
       "}});\n",
       "\n",
       "// Listen for the removal of the full notebook cells\n",
       "var notebookContainer = gd.closest('#notebook-container');\n",
       "if (notebookContainer) {{\n",
       "    x.observe(notebookContainer, {childList: true});\n",
       "}}\n",
       "\n",
       "// Listen for the clearing of the current output cell\n",
       "var outputEl = gd.closest('.output');\n",
       "if (outputEl) {{\n",
       "    x.observe(outputEl, {childList: true});\n",
       "}}\n",
       "\n",
       "                        })\n",
       "                };\n",
       "                });\n",
       "            </script>\n",
       "        </div>"
      ]
     },
     "metadata": {},
     "output_type": "display_data"
    }
   ],
   "source": [
    "explainer.plot_pr_auc(cutoff=0.3)"
   ]
  },
  {
   "cell_type": "code",
   "execution_count": 14,
   "metadata": {},
   "outputs": [
    {
     "name": "stdout",
     "output_type": "stream",
     "text": [
      "Calculating shap values...\n",
      "Generating shap TreeExplainer...\n"
     ]
    },
    {
     "data": {
      "application/vnd.plotly.v1+json": {
       "config": {
        "plotlyServerURL": "https://plot.ly"
       },
       "data": [
        {
         "hoverinfo": "text",
         "insidetextanchor": "end",
         "orientation": "h",
         "text": [
          0.0001,
          0.0001,
          0.0003,
          0.0005,
          0.0005,
          0.0011,
          0.0029,
          0.0031,
          0.0038,
          0.0056,
          0.0061,
          0.0067,
          0.0112,
          0.0119,
          0.0129,
          0.014,
          0.0349,
          0.0399,
          0.0448,
          0.0936,
          0.0958
         ],
         "textposition": "inside",
         "type": "bar",
         "x": [
          6.723731722177959e-05,
          0.00012752988793545962,
          0.00027304298562804384,
          0.0005001352290240372,
          0.0005118041863917143,
          0.001062047859797923,
          0.0028835894284933257,
          0.0031007094072782195,
          0.0038372723014219456,
          0.00556317299516161,
          0.006135590578704453,
          0.006672804824278666,
          0.011202726265558929,
          0.011945764827168128,
          0.012900919934038392,
          0.014024896999889942,
          0.034864160624917775,
          0.039899698718343,
          0.04481322287918431,
          0.09364229492211455,
          0.09582391475279507
         ],
         "y": [
          "Embarked_Unknown",
          "Deck_T",
          "Deck_A",
          "Deck_G",
          "Deck_F",
          "Deck_C",
          "Deck_D",
          "Embarked_Queenstown",
          "Deck_B",
          "Deck_E",
          "No_of_parents_plus_children_on_board",
          "No_of_siblings_plus_spouses_on_board",
          "Embarked_Cherbourg",
          "No_of_relatives_on_board",
          "Embarked_Southamption",
          "Age",
          "Deck_Unkown",
          "Fare",
          "PassengerClass",
          "Sex_female",
          "Sex_male"
         ]
        }
       ],
       "layout": {
        "height": 620,
        "margin": {
         "b": 50,
         "l": 252,
         "pad": 4,
         "r": 50,
         "t": 50
        },
        "paper_bgcolor": "rgba(245, 246, 249, 1)",
        "plot_bgcolor": "rgba(245, 246, 249, 1)",
        "showlegend": false,
        "template": {
         "data": {
          "bar": [
           {
            "error_x": {
             "color": "#2a3f5f"
            },
            "error_y": {
             "color": "#2a3f5f"
            },
            "marker": {
             "line": {
              "color": "#E5ECF6",
              "width": 0.5
             }
            },
            "type": "bar"
           }
          ],
          "barpolar": [
           {
            "marker": {
             "line": {
              "color": "#E5ECF6",
              "width": 0.5
             }
            },
            "type": "barpolar"
           }
          ],
          "carpet": [
           {
            "aaxis": {
             "endlinecolor": "#2a3f5f",
             "gridcolor": "white",
             "linecolor": "white",
             "minorgridcolor": "white",
             "startlinecolor": "#2a3f5f"
            },
            "baxis": {
             "endlinecolor": "#2a3f5f",
             "gridcolor": "white",
             "linecolor": "white",
             "minorgridcolor": "white",
             "startlinecolor": "#2a3f5f"
            },
            "type": "carpet"
           }
          ],
          "choropleth": [
           {
            "colorbar": {
             "outlinewidth": 0,
             "ticks": ""
            },
            "type": "choropleth"
           }
          ],
          "contour": [
           {
            "colorbar": {
             "outlinewidth": 0,
             "ticks": ""
            },
            "colorscale": [
             [
              0,
              "#0d0887"
             ],
             [
              0.1111111111111111,
              "#46039f"
             ],
             [
              0.2222222222222222,
              "#7201a8"
             ],
             [
              0.3333333333333333,
              "#9c179e"
             ],
             [
              0.4444444444444444,
              "#bd3786"
             ],
             [
              0.5555555555555556,
              "#d8576b"
             ],
             [
              0.6666666666666666,
              "#ed7953"
             ],
             [
              0.7777777777777778,
              "#fb9f3a"
             ],
             [
              0.8888888888888888,
              "#fdca26"
             ],
             [
              1,
              "#f0f921"
             ]
            ],
            "type": "contour"
           }
          ],
          "contourcarpet": [
           {
            "colorbar": {
             "outlinewidth": 0,
             "ticks": ""
            },
            "type": "contourcarpet"
           }
          ],
          "heatmap": [
           {
            "colorbar": {
             "outlinewidth": 0,
             "ticks": ""
            },
            "colorscale": [
             [
              0,
              "#0d0887"
             ],
             [
              0.1111111111111111,
              "#46039f"
             ],
             [
              0.2222222222222222,
              "#7201a8"
             ],
             [
              0.3333333333333333,
              "#9c179e"
             ],
             [
              0.4444444444444444,
              "#bd3786"
             ],
             [
              0.5555555555555556,
              "#d8576b"
             ],
             [
              0.6666666666666666,
              "#ed7953"
             ],
             [
              0.7777777777777778,
              "#fb9f3a"
             ],
             [
              0.8888888888888888,
              "#fdca26"
             ],
             [
              1,
              "#f0f921"
             ]
            ],
            "type": "heatmap"
           }
          ],
          "heatmapgl": [
           {
            "colorbar": {
             "outlinewidth": 0,
             "ticks": ""
            },
            "colorscale": [
             [
              0,
              "#0d0887"
             ],
             [
              0.1111111111111111,
              "#46039f"
             ],
             [
              0.2222222222222222,
              "#7201a8"
             ],
             [
              0.3333333333333333,
              "#9c179e"
             ],
             [
              0.4444444444444444,
              "#bd3786"
             ],
             [
              0.5555555555555556,
              "#d8576b"
             ],
             [
              0.6666666666666666,
              "#ed7953"
             ],
             [
              0.7777777777777778,
              "#fb9f3a"
             ],
             [
              0.8888888888888888,
              "#fdca26"
             ],
             [
              1,
              "#f0f921"
             ]
            ],
            "type": "heatmapgl"
           }
          ],
          "histogram": [
           {
            "marker": {
             "colorbar": {
              "outlinewidth": 0,
              "ticks": ""
             }
            },
            "type": "histogram"
           }
          ],
          "histogram2d": [
           {
            "colorbar": {
             "outlinewidth": 0,
             "ticks": ""
            },
            "colorscale": [
             [
              0,
              "#0d0887"
             ],
             [
              0.1111111111111111,
              "#46039f"
             ],
             [
              0.2222222222222222,
              "#7201a8"
             ],
             [
              0.3333333333333333,
              "#9c179e"
             ],
             [
              0.4444444444444444,
              "#bd3786"
             ],
             [
              0.5555555555555556,
              "#d8576b"
             ],
             [
              0.6666666666666666,
              "#ed7953"
             ],
             [
              0.7777777777777778,
              "#fb9f3a"
             ],
             [
              0.8888888888888888,
              "#fdca26"
             ],
             [
              1,
              "#f0f921"
             ]
            ],
            "type": "histogram2d"
           }
          ],
          "histogram2dcontour": [
           {
            "colorbar": {
             "outlinewidth": 0,
             "ticks": ""
            },
            "colorscale": [
             [
              0,
              "#0d0887"
             ],
             [
              0.1111111111111111,
              "#46039f"
             ],
             [
              0.2222222222222222,
              "#7201a8"
             ],
             [
              0.3333333333333333,
              "#9c179e"
             ],
             [
              0.4444444444444444,
              "#bd3786"
             ],
             [
              0.5555555555555556,
              "#d8576b"
             ],
             [
              0.6666666666666666,
              "#ed7953"
             ],
             [
              0.7777777777777778,
              "#fb9f3a"
             ],
             [
              0.8888888888888888,
              "#fdca26"
             ],
             [
              1,
              "#f0f921"
             ]
            ],
            "type": "histogram2dcontour"
           }
          ],
          "mesh3d": [
           {
            "colorbar": {
             "outlinewidth": 0,
             "ticks": ""
            },
            "type": "mesh3d"
           }
          ],
          "parcoords": [
           {
            "line": {
             "colorbar": {
              "outlinewidth": 0,
              "ticks": ""
             }
            },
            "type": "parcoords"
           }
          ],
          "scatter": [
           {
            "marker": {
             "colorbar": {
              "outlinewidth": 0,
              "ticks": ""
             }
            },
            "type": "scatter"
           }
          ],
          "scatter3d": [
           {
            "line": {
             "colorbar": {
              "outlinewidth": 0,
              "ticks": ""
             }
            },
            "marker": {
             "colorbar": {
              "outlinewidth": 0,
              "ticks": ""
             }
            },
            "type": "scatter3d"
           }
          ],
          "scattercarpet": [
           {
            "marker": {
             "colorbar": {
              "outlinewidth": 0,
              "ticks": ""
             }
            },
            "type": "scattercarpet"
           }
          ],
          "scattergeo": [
           {
            "marker": {
             "colorbar": {
              "outlinewidth": 0,
              "ticks": ""
             }
            },
            "type": "scattergeo"
           }
          ],
          "scattergl": [
           {
            "marker": {
             "colorbar": {
              "outlinewidth": 0,
              "ticks": ""
             }
            },
            "type": "scattergl"
           }
          ],
          "scattermapbox": [
           {
            "marker": {
             "colorbar": {
              "outlinewidth": 0,
              "ticks": ""
             }
            },
            "type": "scattermapbox"
           }
          ],
          "scatterpolar": [
           {
            "marker": {
             "colorbar": {
              "outlinewidth": 0,
              "ticks": ""
             }
            },
            "type": "scatterpolar"
           }
          ],
          "scatterpolargl": [
           {
            "marker": {
             "colorbar": {
              "outlinewidth": 0,
              "ticks": ""
             }
            },
            "type": "scatterpolargl"
           }
          ],
          "scatterternary": [
           {
            "marker": {
             "colorbar": {
              "outlinewidth": 0,
              "ticks": ""
             }
            },
            "type": "scatterternary"
           }
          ],
          "surface": [
           {
            "colorbar": {
             "outlinewidth": 0,
             "ticks": ""
            },
            "colorscale": [
             [
              0,
              "#0d0887"
             ],
             [
              0.1111111111111111,
              "#46039f"
             ],
             [
              0.2222222222222222,
              "#7201a8"
             ],
             [
              0.3333333333333333,
              "#9c179e"
             ],
             [
              0.4444444444444444,
              "#bd3786"
             ],
             [
              0.5555555555555556,
              "#d8576b"
             ],
             [
              0.6666666666666666,
              "#ed7953"
             ],
             [
              0.7777777777777778,
              "#fb9f3a"
             ],
             [
              0.8888888888888888,
              "#fdca26"
             ],
             [
              1,
              "#f0f921"
             ]
            ],
            "type": "surface"
           }
          ],
          "table": [
           {
            "cells": {
             "fill": {
              "color": "#EBF0F8"
             },
             "line": {
              "color": "white"
             }
            },
            "header": {
             "fill": {
              "color": "#C8D4E3"
             },
             "line": {
              "color": "white"
             }
            },
            "type": "table"
           }
          ]
         },
         "layout": {
          "annotationdefaults": {
           "arrowcolor": "#2a3f5f",
           "arrowhead": 0,
           "arrowwidth": 1
          },
          "colorscale": {
           "diverging": [
            [
             0,
             "#8e0152"
            ],
            [
             0.1,
             "#c51b7d"
            ],
            [
             0.2,
             "#de77ae"
            ],
            [
             0.3,
             "#f1b6da"
            ],
            [
             0.4,
             "#fde0ef"
            ],
            [
             0.5,
             "#f7f7f7"
            ],
            [
             0.6,
             "#e6f5d0"
            ],
            [
             0.7,
             "#b8e186"
            ],
            [
             0.8,
             "#7fbc41"
            ],
            [
             0.9,
             "#4d9221"
            ],
            [
             1,
             "#276419"
            ]
           ],
           "sequential": [
            [
             0,
             "#0d0887"
            ],
            [
             0.1111111111111111,
             "#46039f"
            ],
            [
             0.2222222222222222,
             "#7201a8"
            ],
            [
             0.3333333333333333,
             "#9c179e"
            ],
            [
             0.4444444444444444,
             "#bd3786"
            ],
            [
             0.5555555555555556,
             "#d8576b"
            ],
            [
             0.6666666666666666,
             "#ed7953"
            ],
            [
             0.7777777777777778,
             "#fb9f3a"
            ],
            [
             0.8888888888888888,
             "#fdca26"
            ],
            [
             1,
             "#f0f921"
            ]
           ],
           "sequentialminus": [
            [
             0,
             "#0d0887"
            ],
            [
             0.1111111111111111,
             "#46039f"
            ],
            [
             0.2222222222222222,
             "#7201a8"
            ],
            [
             0.3333333333333333,
             "#9c179e"
            ],
            [
             0.4444444444444444,
             "#bd3786"
            ],
            [
             0.5555555555555556,
             "#d8576b"
            ],
            [
             0.6666666666666666,
             "#ed7953"
            ],
            [
             0.7777777777777778,
             "#fb9f3a"
            ],
            [
             0.8888888888888888,
             "#fdca26"
            ],
            [
             1,
             "#f0f921"
            ]
           ]
          },
          "colorway": [
           "#636efa",
           "#EF553B",
           "#00cc96",
           "#ab63fa",
           "#FFA15A",
           "#19d3f3",
           "#FF6692",
           "#B6E880",
           "#FF97FF",
           "#FECB52"
          ],
          "font": {
           "color": "#2a3f5f"
          },
          "geo": {
           "bgcolor": "white",
           "lakecolor": "white",
           "landcolor": "#E5ECF6",
           "showlakes": true,
           "showland": true,
           "subunitcolor": "white"
          },
          "hoverlabel": {
           "align": "left"
          },
          "hovermode": "closest",
          "mapbox": {
           "style": "light"
          },
          "paper_bgcolor": "white",
          "plot_bgcolor": "#E5ECF6",
          "polar": {
           "angularaxis": {
            "gridcolor": "white",
            "linecolor": "white",
            "ticks": ""
           },
           "bgcolor": "#E5ECF6",
           "radialaxis": {
            "gridcolor": "white",
            "linecolor": "white",
            "ticks": ""
           }
          },
          "scene": {
           "xaxis": {
            "backgroundcolor": "#E5ECF6",
            "gridcolor": "white",
            "gridwidth": 2,
            "linecolor": "white",
            "showbackground": true,
            "ticks": "",
            "zerolinecolor": "white"
           },
           "yaxis": {
            "backgroundcolor": "#E5ECF6",
            "gridcolor": "white",
            "gridwidth": 2,
            "linecolor": "white",
            "showbackground": true,
            "ticks": "",
            "zerolinecolor": "white"
           },
           "zaxis": {
            "backgroundcolor": "#E5ECF6",
            "gridcolor": "white",
            "gridwidth": 2,
            "linecolor": "white",
            "showbackground": true,
            "ticks": "",
            "zerolinecolor": "white"
           }
          },
          "shapedefaults": {
           "line": {
            "color": "#2a3f5f"
           }
          },
          "ternary": {
           "aaxis": {
            "gridcolor": "white",
            "linecolor": "white",
            "ticks": ""
           },
           "baxis": {
            "gridcolor": "white",
            "linecolor": "white",
            "ticks": ""
           },
           "bgcolor": "#E5ECF6",
           "caxis": {
            "gridcolor": "white",
            "linecolor": "white",
            "ticks": ""
           }
          },
          "title": {
           "x": 0.05
          },
          "xaxis": {
           "automargin": true,
           "gridcolor": "white",
           "linecolor": "white",
           "ticks": "",
           "zerolinecolor": "white",
           "zerolinewidth": 2
          },
          "yaxis": {
           "automargin": true,
           "gridcolor": "white",
           "linecolor": "white",
           "ticks": "",
           "zerolinecolor": "white",
           "zerolinewidth": 2
          }
         }
        },
        "title": {
         "text": "MEAN_ABS_SHAP"
        },
        "xaxis": {
         "automargin": true
        },
        "yaxis": {
         "automargin": true
        }
       }
      },
      "text/html": [
       "<div>\n",
       "        \n",
       "        \n",
       "            <div id=\"a4dffa64-8258-4de1-a373-caa22d5835f4\" class=\"plotly-graph-div\" style=\"height:620px; width:100%;\"></div>\n",
       "            <script type=\"text/javascript\">\n",
       "                require([\"plotly\"], function(Plotly) {\n",
       "                    window.PLOTLYENV=window.PLOTLYENV || {};\n",
       "                    \n",
       "                if (document.getElementById(\"a4dffa64-8258-4de1-a373-caa22d5835f4\")) {\n",
       "                    Plotly.newPlot(\n",
       "                        'a4dffa64-8258-4de1-a373-caa22d5835f4',\n",
       "                        [{\"hoverinfo\": \"text\", \"insidetextanchor\": \"end\", \"orientation\": \"h\", \"text\": [0.0001, 0.0001, 0.0003, 0.0005, 0.0005, 0.0011, 0.0029, 0.0031, 0.0038, 0.0056, 0.0061, 0.0067, 0.0112, 0.0119, 0.0129, 0.014, 0.0349, 0.0399, 0.0448, 0.0936, 0.0958], \"textposition\": \"inside\", \"type\": \"bar\", \"x\": [6.723731722177959e-05, 0.00012752988793545962, 0.00027304298562804384, 0.0005001352290240372, 0.0005118041863917143, 0.001062047859797923, 0.0028835894284933257, 0.0031007094072782195, 0.0038372723014219456, 0.00556317299516161, 0.006135590578704453, 0.006672804824278666, 0.011202726265558929, 0.011945764827168128, 0.012900919934038392, 0.014024896999889942, 0.034864160624917775, 0.039899698718343, 0.04481322287918431, 0.09364229492211455, 0.09582391475279507], \"y\": [\"Embarked_Unknown\", \"Deck_T\", \"Deck_A\", \"Deck_G\", \"Deck_F\", \"Deck_C\", \"Deck_D\", \"Embarked_Queenstown\", \"Deck_B\", \"Deck_E\", \"No_of_parents_plus_children_on_board\", \"No_of_siblings_plus_spouses_on_board\", \"Embarked_Cherbourg\", \"No_of_relatives_on_board\", \"Embarked_Southamption\", \"Age\", \"Deck_Unkown\", \"Fare\", \"PassengerClass\", \"Sex_female\", \"Sex_male\"]}],\n",
       "                        {\"height\": 620, \"margin\": {\"b\": 50, \"l\": 252, \"pad\": 4, \"r\": 50, \"t\": 50}, \"paper_bgcolor\": \"rgba(245, 246, 249, 1)\", \"plot_bgcolor\": \"rgba(245, 246, 249, 1)\", \"showlegend\": false, \"template\": {\"data\": {\"bar\": [{\"error_x\": {\"color\": \"#2a3f5f\"}, \"error_y\": {\"color\": \"#2a3f5f\"}, \"marker\": {\"line\": {\"color\": \"#E5ECF6\", \"width\": 0.5}}, \"type\": \"bar\"}], \"barpolar\": [{\"marker\": {\"line\": {\"color\": \"#E5ECF6\", \"width\": 0.5}}, \"type\": \"barpolar\"}], \"carpet\": [{\"aaxis\": {\"endlinecolor\": \"#2a3f5f\", \"gridcolor\": \"white\", \"linecolor\": \"white\", \"minorgridcolor\": \"white\", \"startlinecolor\": \"#2a3f5f\"}, \"baxis\": {\"endlinecolor\": \"#2a3f5f\", \"gridcolor\": \"white\", \"linecolor\": \"white\", \"minorgridcolor\": \"white\", \"startlinecolor\": \"#2a3f5f\"}, \"type\": \"carpet\"}], \"choropleth\": [{\"colorbar\": {\"outlinewidth\": 0, \"ticks\": \"\"}, \"type\": \"choropleth\"}], \"contour\": [{\"colorbar\": {\"outlinewidth\": 0, \"ticks\": \"\"}, \"colorscale\": [[0.0, \"#0d0887\"], [0.1111111111111111, \"#46039f\"], [0.2222222222222222, \"#7201a8\"], [0.3333333333333333, \"#9c179e\"], [0.4444444444444444, \"#bd3786\"], [0.5555555555555556, \"#d8576b\"], [0.6666666666666666, \"#ed7953\"], [0.7777777777777778, \"#fb9f3a\"], [0.8888888888888888, \"#fdca26\"], [1.0, \"#f0f921\"]], \"type\": \"contour\"}], \"contourcarpet\": [{\"colorbar\": {\"outlinewidth\": 0, \"ticks\": \"\"}, \"type\": \"contourcarpet\"}], \"heatmap\": [{\"colorbar\": {\"outlinewidth\": 0, \"ticks\": \"\"}, \"colorscale\": [[0.0, \"#0d0887\"], [0.1111111111111111, \"#46039f\"], [0.2222222222222222, \"#7201a8\"], [0.3333333333333333, \"#9c179e\"], [0.4444444444444444, \"#bd3786\"], [0.5555555555555556, \"#d8576b\"], [0.6666666666666666, \"#ed7953\"], [0.7777777777777778, \"#fb9f3a\"], [0.8888888888888888, \"#fdca26\"], [1.0, \"#f0f921\"]], \"type\": \"heatmap\"}], \"heatmapgl\": [{\"colorbar\": {\"outlinewidth\": 0, \"ticks\": \"\"}, \"colorscale\": [[0.0, \"#0d0887\"], [0.1111111111111111, \"#46039f\"], [0.2222222222222222, \"#7201a8\"], [0.3333333333333333, \"#9c179e\"], [0.4444444444444444, \"#bd3786\"], [0.5555555555555556, \"#d8576b\"], [0.6666666666666666, \"#ed7953\"], [0.7777777777777778, \"#fb9f3a\"], [0.8888888888888888, \"#fdca26\"], [1.0, \"#f0f921\"]], \"type\": \"heatmapgl\"}], \"histogram\": [{\"marker\": {\"colorbar\": {\"outlinewidth\": 0, \"ticks\": \"\"}}, \"type\": \"histogram\"}], \"histogram2d\": [{\"colorbar\": {\"outlinewidth\": 0, \"ticks\": \"\"}, \"colorscale\": [[0.0, \"#0d0887\"], [0.1111111111111111, \"#46039f\"], [0.2222222222222222, \"#7201a8\"], [0.3333333333333333, \"#9c179e\"], [0.4444444444444444, \"#bd3786\"], [0.5555555555555556, \"#d8576b\"], [0.6666666666666666, \"#ed7953\"], [0.7777777777777778, \"#fb9f3a\"], [0.8888888888888888, \"#fdca26\"], [1.0, \"#f0f921\"]], \"type\": \"histogram2d\"}], \"histogram2dcontour\": [{\"colorbar\": {\"outlinewidth\": 0, \"ticks\": \"\"}, \"colorscale\": [[0.0, \"#0d0887\"], [0.1111111111111111, \"#46039f\"], [0.2222222222222222, \"#7201a8\"], [0.3333333333333333, \"#9c179e\"], [0.4444444444444444, \"#bd3786\"], [0.5555555555555556, \"#d8576b\"], [0.6666666666666666, \"#ed7953\"], [0.7777777777777778, \"#fb9f3a\"], [0.8888888888888888, \"#fdca26\"], [1.0, \"#f0f921\"]], \"type\": \"histogram2dcontour\"}], \"mesh3d\": [{\"colorbar\": {\"outlinewidth\": 0, \"ticks\": \"\"}, \"type\": \"mesh3d\"}], \"parcoords\": [{\"line\": {\"colorbar\": {\"outlinewidth\": 0, \"ticks\": \"\"}}, \"type\": \"parcoords\"}], \"scatter\": [{\"marker\": {\"colorbar\": {\"outlinewidth\": 0, \"ticks\": \"\"}}, \"type\": \"scatter\"}], \"scatter3d\": [{\"line\": {\"colorbar\": {\"outlinewidth\": 0, \"ticks\": \"\"}}, \"marker\": {\"colorbar\": {\"outlinewidth\": 0, \"ticks\": \"\"}}, \"type\": \"scatter3d\"}], \"scattercarpet\": [{\"marker\": {\"colorbar\": {\"outlinewidth\": 0, \"ticks\": \"\"}}, \"type\": \"scattercarpet\"}], \"scattergeo\": [{\"marker\": {\"colorbar\": {\"outlinewidth\": 0, \"ticks\": \"\"}}, \"type\": \"scattergeo\"}], \"scattergl\": [{\"marker\": {\"colorbar\": {\"outlinewidth\": 0, \"ticks\": \"\"}}, \"type\": \"scattergl\"}], \"scattermapbox\": [{\"marker\": {\"colorbar\": {\"outlinewidth\": 0, \"ticks\": \"\"}}, \"type\": \"scattermapbox\"}], \"scatterpolar\": [{\"marker\": {\"colorbar\": {\"outlinewidth\": 0, \"ticks\": \"\"}}, \"type\": \"scatterpolar\"}], \"scatterpolargl\": [{\"marker\": {\"colorbar\": {\"outlinewidth\": 0, \"ticks\": \"\"}}, \"type\": \"scatterpolargl\"}], \"scatterternary\": [{\"marker\": {\"colorbar\": {\"outlinewidth\": 0, \"ticks\": \"\"}}, \"type\": \"scatterternary\"}], \"surface\": [{\"colorbar\": {\"outlinewidth\": 0, \"ticks\": \"\"}, \"colorscale\": [[0.0, \"#0d0887\"], [0.1111111111111111, \"#46039f\"], [0.2222222222222222, \"#7201a8\"], [0.3333333333333333, \"#9c179e\"], [0.4444444444444444, \"#bd3786\"], [0.5555555555555556, \"#d8576b\"], [0.6666666666666666, \"#ed7953\"], [0.7777777777777778, \"#fb9f3a\"], [0.8888888888888888, \"#fdca26\"], [1.0, \"#f0f921\"]], \"type\": \"surface\"}], \"table\": [{\"cells\": {\"fill\": {\"color\": \"#EBF0F8\"}, \"line\": {\"color\": \"white\"}}, \"header\": {\"fill\": {\"color\": \"#C8D4E3\"}, \"line\": {\"color\": \"white\"}}, \"type\": \"table\"}]}, \"layout\": {\"annotationdefaults\": {\"arrowcolor\": \"#2a3f5f\", \"arrowhead\": 0, \"arrowwidth\": 1}, \"colorscale\": {\"diverging\": [[0, \"#8e0152\"], [0.1, \"#c51b7d\"], [0.2, \"#de77ae\"], [0.3, \"#f1b6da\"], [0.4, \"#fde0ef\"], [0.5, \"#f7f7f7\"], [0.6, \"#e6f5d0\"], [0.7, \"#b8e186\"], [0.8, \"#7fbc41\"], [0.9, \"#4d9221\"], [1, \"#276419\"]], \"sequential\": [[0.0, \"#0d0887\"], [0.1111111111111111, \"#46039f\"], [0.2222222222222222, \"#7201a8\"], [0.3333333333333333, \"#9c179e\"], [0.4444444444444444, \"#bd3786\"], [0.5555555555555556, \"#d8576b\"], [0.6666666666666666, \"#ed7953\"], [0.7777777777777778, \"#fb9f3a\"], [0.8888888888888888, \"#fdca26\"], [1.0, \"#f0f921\"]], \"sequentialminus\": [[0.0, \"#0d0887\"], [0.1111111111111111, \"#46039f\"], [0.2222222222222222, \"#7201a8\"], [0.3333333333333333, \"#9c179e\"], [0.4444444444444444, \"#bd3786\"], [0.5555555555555556, \"#d8576b\"], [0.6666666666666666, \"#ed7953\"], [0.7777777777777778, \"#fb9f3a\"], [0.8888888888888888, \"#fdca26\"], [1.0, \"#f0f921\"]]}, \"colorway\": [\"#636efa\", \"#EF553B\", \"#00cc96\", \"#ab63fa\", \"#FFA15A\", \"#19d3f3\", \"#FF6692\", \"#B6E880\", \"#FF97FF\", \"#FECB52\"], \"font\": {\"color\": \"#2a3f5f\"}, \"geo\": {\"bgcolor\": \"white\", \"lakecolor\": \"white\", \"landcolor\": \"#E5ECF6\", \"showlakes\": true, \"showland\": true, \"subunitcolor\": \"white\"}, \"hoverlabel\": {\"align\": \"left\"}, \"hovermode\": \"closest\", \"mapbox\": {\"style\": \"light\"}, \"paper_bgcolor\": \"white\", \"plot_bgcolor\": \"#E5ECF6\", \"polar\": {\"angularaxis\": {\"gridcolor\": \"white\", \"linecolor\": \"white\", \"ticks\": \"\"}, \"bgcolor\": \"#E5ECF6\", \"radialaxis\": {\"gridcolor\": \"white\", \"linecolor\": \"white\", \"ticks\": \"\"}}, \"scene\": {\"xaxis\": {\"backgroundcolor\": \"#E5ECF6\", \"gridcolor\": \"white\", \"gridwidth\": 2, \"linecolor\": \"white\", \"showbackground\": true, \"ticks\": \"\", \"zerolinecolor\": \"white\"}, \"yaxis\": {\"backgroundcolor\": \"#E5ECF6\", \"gridcolor\": \"white\", \"gridwidth\": 2, \"linecolor\": \"white\", \"showbackground\": true, \"ticks\": \"\", \"zerolinecolor\": \"white\"}, \"zaxis\": {\"backgroundcolor\": \"#E5ECF6\", \"gridcolor\": \"white\", \"gridwidth\": 2, \"linecolor\": \"white\", \"showbackground\": true, \"ticks\": \"\", \"zerolinecolor\": \"white\"}}, \"shapedefaults\": {\"line\": {\"color\": \"#2a3f5f\"}}, \"ternary\": {\"aaxis\": {\"gridcolor\": \"white\", \"linecolor\": \"white\", \"ticks\": \"\"}, \"baxis\": {\"gridcolor\": \"white\", \"linecolor\": \"white\", \"ticks\": \"\"}, \"bgcolor\": \"#E5ECF6\", \"caxis\": {\"gridcolor\": \"white\", \"linecolor\": \"white\", \"ticks\": \"\"}}, \"title\": {\"x\": 0.05}, \"xaxis\": {\"automargin\": true, \"gridcolor\": \"white\", \"linecolor\": \"white\", \"ticks\": \"\", \"zerolinecolor\": \"white\", \"zerolinewidth\": 2}, \"yaxis\": {\"automargin\": true, \"gridcolor\": \"white\", \"linecolor\": \"white\", \"ticks\": \"\", \"zerolinecolor\": \"white\", \"zerolinewidth\": 2}}}, \"title\": {\"text\": \"MEAN_ABS_SHAP\"}, \"xaxis\": {\"automargin\": true}, \"yaxis\": {\"automargin\": true}},\n",
       "                        {\"responsive\": true}\n",
       "                    ).then(function(){\n",
       "                            \n",
       "var gd = document.getElementById('a4dffa64-8258-4de1-a373-caa22d5835f4');\n",
       "var x = new MutationObserver(function (mutations, observer) {{\n",
       "        var display = window.getComputedStyle(gd).display;\n",
       "        if (!display || display === 'none') {{\n",
       "            console.log([gd, 'removed!']);\n",
       "            Plotly.purge(gd);\n",
       "            observer.disconnect();\n",
       "        }}\n",
       "}});\n",
       "\n",
       "// Listen for the removal of the full notebook cells\n",
       "var notebookContainer = gd.closest('#notebook-container');\n",
       "if (notebookContainer) {{\n",
       "    x.observe(notebookContainer, {childList: true});\n",
       "}}\n",
       "\n",
       "// Listen for the clearing of the current output cell\n",
       "var outputEl = gd.closest('.output');\n",
       "if (outputEl) {{\n",
       "    x.observe(outputEl, {childList: true});\n",
       "}}\n",
       "\n",
       "                        })\n",
       "                };\n",
       "                });\n",
       "            </script>\n",
       "        </div>"
      ]
     },
     "metadata": {},
     "output_type": "display_data"
    }
   ],
   "source": [
    "explainer.plot_importances()"
   ]
  },
  {
   "cell_type": "code",
   "execution_count": 15,
   "metadata": {},
   "outputs": [
    {
     "data": {
      "application/vnd.plotly.v1+json": {
       "config": {
        "plotlyServerURL": "https://plot.ly"
       },
       "data": [
        {
         "hoverinfo": "text",
         "insidetextanchor": "end",
         "orientation": "h",
         "text": [
          0.0067,
          0.0119,
          0.014,
          0.0244,
          0.0399,
          0.0448,
          0.0454,
          0.1895
         ],
         "textposition": "inside",
         "type": "bar",
         "x": [
          0.006672804824278666,
          0.011945764827168128,
          0.014024896999889942,
          0.02440526022673818,
          0.039899698718343,
          0.04481322287918431,
          0.04543969976777817,
          0.18946620967490965
         ],
         "y": [
          "No_of_siblings_plus_spouses_on_board",
          "No_of_relatives_on_board",
          "Age",
          "Embarked",
          "Fare",
          "PassengerClass",
          "Deck",
          "Sex"
         ]
        }
       ],
       "layout": {
        "height": 360,
        "margin": {
         "b": 50,
         "l": 252,
         "pad": 4,
         "r": 50,
         "t": 50
        },
        "paper_bgcolor": "rgba(245, 246, 249, 1)",
        "plot_bgcolor": "rgba(245, 246, 249, 1)",
        "showlegend": false,
        "template": {
         "data": {
          "bar": [
           {
            "error_x": {
             "color": "#2a3f5f"
            },
            "error_y": {
             "color": "#2a3f5f"
            },
            "marker": {
             "line": {
              "color": "#E5ECF6",
              "width": 0.5
             }
            },
            "type": "bar"
           }
          ],
          "barpolar": [
           {
            "marker": {
             "line": {
              "color": "#E5ECF6",
              "width": 0.5
             }
            },
            "type": "barpolar"
           }
          ],
          "carpet": [
           {
            "aaxis": {
             "endlinecolor": "#2a3f5f",
             "gridcolor": "white",
             "linecolor": "white",
             "minorgridcolor": "white",
             "startlinecolor": "#2a3f5f"
            },
            "baxis": {
             "endlinecolor": "#2a3f5f",
             "gridcolor": "white",
             "linecolor": "white",
             "minorgridcolor": "white",
             "startlinecolor": "#2a3f5f"
            },
            "type": "carpet"
           }
          ],
          "choropleth": [
           {
            "colorbar": {
             "outlinewidth": 0,
             "ticks": ""
            },
            "type": "choropleth"
           }
          ],
          "contour": [
           {
            "colorbar": {
             "outlinewidth": 0,
             "ticks": ""
            },
            "colorscale": [
             [
              0,
              "#0d0887"
             ],
             [
              0.1111111111111111,
              "#46039f"
             ],
             [
              0.2222222222222222,
              "#7201a8"
             ],
             [
              0.3333333333333333,
              "#9c179e"
             ],
             [
              0.4444444444444444,
              "#bd3786"
             ],
             [
              0.5555555555555556,
              "#d8576b"
             ],
             [
              0.6666666666666666,
              "#ed7953"
             ],
             [
              0.7777777777777778,
              "#fb9f3a"
             ],
             [
              0.8888888888888888,
              "#fdca26"
             ],
             [
              1,
              "#f0f921"
             ]
            ],
            "type": "contour"
           }
          ],
          "contourcarpet": [
           {
            "colorbar": {
             "outlinewidth": 0,
             "ticks": ""
            },
            "type": "contourcarpet"
           }
          ],
          "heatmap": [
           {
            "colorbar": {
             "outlinewidth": 0,
             "ticks": ""
            },
            "colorscale": [
             [
              0,
              "#0d0887"
             ],
             [
              0.1111111111111111,
              "#46039f"
             ],
             [
              0.2222222222222222,
              "#7201a8"
             ],
             [
              0.3333333333333333,
              "#9c179e"
             ],
             [
              0.4444444444444444,
              "#bd3786"
             ],
             [
              0.5555555555555556,
              "#d8576b"
             ],
             [
              0.6666666666666666,
              "#ed7953"
             ],
             [
              0.7777777777777778,
              "#fb9f3a"
             ],
             [
              0.8888888888888888,
              "#fdca26"
             ],
             [
              1,
              "#f0f921"
             ]
            ],
            "type": "heatmap"
           }
          ],
          "heatmapgl": [
           {
            "colorbar": {
             "outlinewidth": 0,
             "ticks": ""
            },
            "colorscale": [
             [
              0,
              "#0d0887"
             ],
             [
              0.1111111111111111,
              "#46039f"
             ],
             [
              0.2222222222222222,
              "#7201a8"
             ],
             [
              0.3333333333333333,
              "#9c179e"
             ],
             [
              0.4444444444444444,
              "#bd3786"
             ],
             [
              0.5555555555555556,
              "#d8576b"
             ],
             [
              0.6666666666666666,
              "#ed7953"
             ],
             [
              0.7777777777777778,
              "#fb9f3a"
             ],
             [
              0.8888888888888888,
              "#fdca26"
             ],
             [
              1,
              "#f0f921"
             ]
            ],
            "type": "heatmapgl"
           }
          ],
          "histogram": [
           {
            "marker": {
             "colorbar": {
              "outlinewidth": 0,
              "ticks": ""
             }
            },
            "type": "histogram"
           }
          ],
          "histogram2d": [
           {
            "colorbar": {
             "outlinewidth": 0,
             "ticks": ""
            },
            "colorscale": [
             [
              0,
              "#0d0887"
             ],
             [
              0.1111111111111111,
              "#46039f"
             ],
             [
              0.2222222222222222,
              "#7201a8"
             ],
             [
              0.3333333333333333,
              "#9c179e"
             ],
             [
              0.4444444444444444,
              "#bd3786"
             ],
             [
              0.5555555555555556,
              "#d8576b"
             ],
             [
              0.6666666666666666,
              "#ed7953"
             ],
             [
              0.7777777777777778,
              "#fb9f3a"
             ],
             [
              0.8888888888888888,
              "#fdca26"
             ],
             [
              1,
              "#f0f921"
             ]
            ],
            "type": "histogram2d"
           }
          ],
          "histogram2dcontour": [
           {
            "colorbar": {
             "outlinewidth": 0,
             "ticks": ""
            },
            "colorscale": [
             [
              0,
              "#0d0887"
             ],
             [
              0.1111111111111111,
              "#46039f"
             ],
             [
              0.2222222222222222,
              "#7201a8"
             ],
             [
              0.3333333333333333,
              "#9c179e"
             ],
             [
              0.4444444444444444,
              "#bd3786"
             ],
             [
              0.5555555555555556,
              "#d8576b"
             ],
             [
              0.6666666666666666,
              "#ed7953"
             ],
             [
              0.7777777777777778,
              "#fb9f3a"
             ],
             [
              0.8888888888888888,
              "#fdca26"
             ],
             [
              1,
              "#f0f921"
             ]
            ],
            "type": "histogram2dcontour"
           }
          ],
          "mesh3d": [
           {
            "colorbar": {
             "outlinewidth": 0,
             "ticks": ""
            },
            "type": "mesh3d"
           }
          ],
          "parcoords": [
           {
            "line": {
             "colorbar": {
              "outlinewidth": 0,
              "ticks": ""
             }
            },
            "type": "parcoords"
           }
          ],
          "scatter": [
           {
            "marker": {
             "colorbar": {
              "outlinewidth": 0,
              "ticks": ""
             }
            },
            "type": "scatter"
           }
          ],
          "scatter3d": [
           {
            "line": {
             "colorbar": {
              "outlinewidth": 0,
              "ticks": ""
             }
            },
            "marker": {
             "colorbar": {
              "outlinewidth": 0,
              "ticks": ""
             }
            },
            "type": "scatter3d"
           }
          ],
          "scattercarpet": [
           {
            "marker": {
             "colorbar": {
              "outlinewidth": 0,
              "ticks": ""
             }
            },
            "type": "scattercarpet"
           }
          ],
          "scattergeo": [
           {
            "marker": {
             "colorbar": {
              "outlinewidth": 0,
              "ticks": ""
             }
            },
            "type": "scattergeo"
           }
          ],
          "scattergl": [
           {
            "marker": {
             "colorbar": {
              "outlinewidth": 0,
              "ticks": ""
             }
            },
            "type": "scattergl"
           }
          ],
          "scattermapbox": [
           {
            "marker": {
             "colorbar": {
              "outlinewidth": 0,
              "ticks": ""
             }
            },
            "type": "scattermapbox"
           }
          ],
          "scatterpolar": [
           {
            "marker": {
             "colorbar": {
              "outlinewidth": 0,
              "ticks": ""
             }
            },
            "type": "scatterpolar"
           }
          ],
          "scatterpolargl": [
           {
            "marker": {
             "colorbar": {
              "outlinewidth": 0,
              "ticks": ""
             }
            },
            "type": "scatterpolargl"
           }
          ],
          "scatterternary": [
           {
            "marker": {
             "colorbar": {
              "outlinewidth": 0,
              "ticks": ""
             }
            },
            "type": "scatterternary"
           }
          ],
          "surface": [
           {
            "colorbar": {
             "outlinewidth": 0,
             "ticks": ""
            },
            "colorscale": [
             [
              0,
              "#0d0887"
             ],
             [
              0.1111111111111111,
              "#46039f"
             ],
             [
              0.2222222222222222,
              "#7201a8"
             ],
             [
              0.3333333333333333,
              "#9c179e"
             ],
             [
              0.4444444444444444,
              "#bd3786"
             ],
             [
              0.5555555555555556,
              "#d8576b"
             ],
             [
              0.6666666666666666,
              "#ed7953"
             ],
             [
              0.7777777777777778,
              "#fb9f3a"
             ],
             [
              0.8888888888888888,
              "#fdca26"
             ],
             [
              1,
              "#f0f921"
             ]
            ],
            "type": "surface"
           }
          ],
          "table": [
           {
            "cells": {
             "fill": {
              "color": "#EBF0F8"
             },
             "line": {
              "color": "white"
             }
            },
            "header": {
             "fill": {
              "color": "#C8D4E3"
             },
             "line": {
              "color": "white"
             }
            },
            "type": "table"
           }
          ]
         },
         "layout": {
          "annotationdefaults": {
           "arrowcolor": "#2a3f5f",
           "arrowhead": 0,
           "arrowwidth": 1
          },
          "colorscale": {
           "diverging": [
            [
             0,
             "#8e0152"
            ],
            [
             0.1,
             "#c51b7d"
            ],
            [
             0.2,
             "#de77ae"
            ],
            [
             0.3,
             "#f1b6da"
            ],
            [
             0.4,
             "#fde0ef"
            ],
            [
             0.5,
             "#f7f7f7"
            ],
            [
             0.6,
             "#e6f5d0"
            ],
            [
             0.7,
             "#b8e186"
            ],
            [
             0.8,
             "#7fbc41"
            ],
            [
             0.9,
             "#4d9221"
            ],
            [
             1,
             "#276419"
            ]
           ],
           "sequential": [
            [
             0,
             "#0d0887"
            ],
            [
             0.1111111111111111,
             "#46039f"
            ],
            [
             0.2222222222222222,
             "#7201a8"
            ],
            [
             0.3333333333333333,
             "#9c179e"
            ],
            [
             0.4444444444444444,
             "#bd3786"
            ],
            [
             0.5555555555555556,
             "#d8576b"
            ],
            [
             0.6666666666666666,
             "#ed7953"
            ],
            [
             0.7777777777777778,
             "#fb9f3a"
            ],
            [
             0.8888888888888888,
             "#fdca26"
            ],
            [
             1,
             "#f0f921"
            ]
           ],
           "sequentialminus": [
            [
             0,
             "#0d0887"
            ],
            [
             0.1111111111111111,
             "#46039f"
            ],
            [
             0.2222222222222222,
             "#7201a8"
            ],
            [
             0.3333333333333333,
             "#9c179e"
            ],
            [
             0.4444444444444444,
             "#bd3786"
            ],
            [
             0.5555555555555556,
             "#d8576b"
            ],
            [
             0.6666666666666666,
             "#ed7953"
            ],
            [
             0.7777777777777778,
             "#fb9f3a"
            ],
            [
             0.8888888888888888,
             "#fdca26"
            ],
            [
             1,
             "#f0f921"
            ]
           ]
          },
          "colorway": [
           "#636efa",
           "#EF553B",
           "#00cc96",
           "#ab63fa",
           "#FFA15A",
           "#19d3f3",
           "#FF6692",
           "#B6E880",
           "#FF97FF",
           "#FECB52"
          ],
          "font": {
           "color": "#2a3f5f"
          },
          "geo": {
           "bgcolor": "white",
           "lakecolor": "white",
           "landcolor": "#E5ECF6",
           "showlakes": true,
           "showland": true,
           "subunitcolor": "white"
          },
          "hoverlabel": {
           "align": "left"
          },
          "hovermode": "closest",
          "mapbox": {
           "style": "light"
          },
          "paper_bgcolor": "white",
          "plot_bgcolor": "#E5ECF6",
          "polar": {
           "angularaxis": {
            "gridcolor": "white",
            "linecolor": "white",
            "ticks": ""
           },
           "bgcolor": "#E5ECF6",
           "radialaxis": {
            "gridcolor": "white",
            "linecolor": "white",
            "ticks": ""
           }
          },
          "scene": {
           "xaxis": {
            "backgroundcolor": "#E5ECF6",
            "gridcolor": "white",
            "gridwidth": 2,
            "linecolor": "white",
            "showbackground": true,
            "ticks": "",
            "zerolinecolor": "white"
           },
           "yaxis": {
            "backgroundcolor": "#E5ECF6",
            "gridcolor": "white",
            "gridwidth": 2,
            "linecolor": "white",
            "showbackground": true,
            "ticks": "",
            "zerolinecolor": "white"
           },
           "zaxis": {
            "backgroundcolor": "#E5ECF6",
            "gridcolor": "white",
            "gridwidth": 2,
            "linecolor": "white",
            "showbackground": true,
            "ticks": "",
            "zerolinecolor": "white"
           }
          },
          "shapedefaults": {
           "line": {
            "color": "#2a3f5f"
           }
          },
          "ternary": {
           "aaxis": {
            "gridcolor": "white",
            "linecolor": "white",
            "ticks": ""
           },
           "baxis": {
            "gridcolor": "white",
            "linecolor": "white",
            "ticks": ""
           },
           "bgcolor": "#E5ECF6",
           "caxis": {
            "gridcolor": "white",
            "linecolor": "white",
            "ticks": ""
           }
          },
          "title": {
           "x": 0.05
          },
          "xaxis": {
           "automargin": true,
           "gridcolor": "white",
           "linecolor": "white",
           "ticks": "",
           "zerolinecolor": "white",
           "zerolinewidth": 2
          },
          "yaxis": {
           "automargin": true,
           "gridcolor": "white",
           "linecolor": "white",
           "ticks": "",
           "zerolinecolor": "white",
           "zerolinewidth": 2
          }
         }
        },
        "title": {
         "text": "MEAN_ABS_SHAP"
        },
        "xaxis": {
         "automargin": true
        },
        "yaxis": {
         "automargin": true
        }
       }
      },
      "text/html": [
       "<div>\n",
       "        \n",
       "        \n",
       "            <div id=\"6b8529f4-2032-4c62-af71-267840a2432f\" class=\"plotly-graph-div\" style=\"height:360px; width:100%;\"></div>\n",
       "            <script type=\"text/javascript\">\n",
       "                require([\"plotly\"], function(Plotly) {\n",
       "                    window.PLOTLYENV=window.PLOTLYENV || {};\n",
       "                    \n",
       "                if (document.getElementById(\"6b8529f4-2032-4c62-af71-267840a2432f\")) {\n",
       "                    Plotly.newPlot(\n",
       "                        '6b8529f4-2032-4c62-af71-267840a2432f',\n",
       "                        [{\"hoverinfo\": \"text\", \"insidetextanchor\": \"end\", \"orientation\": \"h\", \"text\": [0.0067, 0.0119, 0.014, 0.0244, 0.0399, 0.0448, 0.0454, 0.1895], \"textposition\": \"inside\", \"type\": \"bar\", \"x\": [0.006672804824278666, 0.011945764827168128, 0.014024896999889942, 0.02440526022673818, 0.039899698718343, 0.04481322287918431, 0.04543969976777817, 0.18946620967490965], \"y\": [\"No_of_siblings_plus_spouses_on_board\", \"No_of_relatives_on_board\", \"Age\", \"Embarked\", \"Fare\", \"PassengerClass\", \"Deck\", \"Sex\"]}],\n",
       "                        {\"height\": 360, \"margin\": {\"b\": 50, \"l\": 252, \"pad\": 4, \"r\": 50, \"t\": 50}, \"paper_bgcolor\": \"rgba(245, 246, 249, 1)\", \"plot_bgcolor\": \"rgba(245, 246, 249, 1)\", \"showlegend\": false, \"template\": {\"data\": {\"bar\": [{\"error_x\": {\"color\": \"#2a3f5f\"}, \"error_y\": {\"color\": \"#2a3f5f\"}, \"marker\": {\"line\": {\"color\": \"#E5ECF6\", \"width\": 0.5}}, \"type\": \"bar\"}], \"barpolar\": [{\"marker\": {\"line\": {\"color\": \"#E5ECF6\", \"width\": 0.5}}, \"type\": \"barpolar\"}], \"carpet\": [{\"aaxis\": {\"endlinecolor\": \"#2a3f5f\", \"gridcolor\": \"white\", \"linecolor\": \"white\", \"minorgridcolor\": \"white\", \"startlinecolor\": \"#2a3f5f\"}, \"baxis\": {\"endlinecolor\": \"#2a3f5f\", \"gridcolor\": \"white\", \"linecolor\": \"white\", \"minorgridcolor\": \"white\", \"startlinecolor\": \"#2a3f5f\"}, \"type\": \"carpet\"}], \"choropleth\": [{\"colorbar\": {\"outlinewidth\": 0, \"ticks\": \"\"}, \"type\": \"choropleth\"}], \"contour\": [{\"colorbar\": {\"outlinewidth\": 0, \"ticks\": \"\"}, \"colorscale\": [[0.0, \"#0d0887\"], [0.1111111111111111, \"#46039f\"], [0.2222222222222222, \"#7201a8\"], [0.3333333333333333, \"#9c179e\"], [0.4444444444444444, \"#bd3786\"], [0.5555555555555556, \"#d8576b\"], [0.6666666666666666, \"#ed7953\"], [0.7777777777777778, \"#fb9f3a\"], [0.8888888888888888, \"#fdca26\"], [1.0, \"#f0f921\"]], \"type\": \"contour\"}], \"contourcarpet\": [{\"colorbar\": {\"outlinewidth\": 0, \"ticks\": \"\"}, \"type\": \"contourcarpet\"}], \"heatmap\": [{\"colorbar\": {\"outlinewidth\": 0, \"ticks\": \"\"}, \"colorscale\": [[0.0, \"#0d0887\"], [0.1111111111111111, \"#46039f\"], [0.2222222222222222, \"#7201a8\"], [0.3333333333333333, \"#9c179e\"], [0.4444444444444444, \"#bd3786\"], [0.5555555555555556, \"#d8576b\"], [0.6666666666666666, \"#ed7953\"], [0.7777777777777778, \"#fb9f3a\"], [0.8888888888888888, \"#fdca26\"], [1.0, \"#f0f921\"]], \"type\": \"heatmap\"}], \"heatmapgl\": [{\"colorbar\": {\"outlinewidth\": 0, \"ticks\": \"\"}, \"colorscale\": [[0.0, \"#0d0887\"], [0.1111111111111111, \"#46039f\"], [0.2222222222222222, \"#7201a8\"], [0.3333333333333333, \"#9c179e\"], [0.4444444444444444, \"#bd3786\"], [0.5555555555555556, \"#d8576b\"], [0.6666666666666666, \"#ed7953\"], [0.7777777777777778, \"#fb9f3a\"], [0.8888888888888888, \"#fdca26\"], [1.0, \"#f0f921\"]], \"type\": \"heatmapgl\"}], \"histogram\": [{\"marker\": {\"colorbar\": {\"outlinewidth\": 0, \"ticks\": \"\"}}, \"type\": \"histogram\"}], \"histogram2d\": [{\"colorbar\": {\"outlinewidth\": 0, \"ticks\": \"\"}, \"colorscale\": [[0.0, \"#0d0887\"], [0.1111111111111111, \"#46039f\"], [0.2222222222222222, \"#7201a8\"], [0.3333333333333333, \"#9c179e\"], [0.4444444444444444, \"#bd3786\"], [0.5555555555555556, \"#d8576b\"], [0.6666666666666666, \"#ed7953\"], [0.7777777777777778, \"#fb9f3a\"], [0.8888888888888888, \"#fdca26\"], [1.0, \"#f0f921\"]], \"type\": \"histogram2d\"}], \"histogram2dcontour\": [{\"colorbar\": {\"outlinewidth\": 0, \"ticks\": \"\"}, \"colorscale\": [[0.0, \"#0d0887\"], [0.1111111111111111, \"#46039f\"], [0.2222222222222222, \"#7201a8\"], [0.3333333333333333, \"#9c179e\"], [0.4444444444444444, \"#bd3786\"], [0.5555555555555556, \"#d8576b\"], [0.6666666666666666, \"#ed7953\"], [0.7777777777777778, \"#fb9f3a\"], [0.8888888888888888, \"#fdca26\"], [1.0, \"#f0f921\"]], \"type\": \"histogram2dcontour\"}], \"mesh3d\": [{\"colorbar\": {\"outlinewidth\": 0, \"ticks\": \"\"}, \"type\": \"mesh3d\"}], \"parcoords\": [{\"line\": {\"colorbar\": {\"outlinewidth\": 0, \"ticks\": \"\"}}, \"type\": \"parcoords\"}], \"scatter\": [{\"marker\": {\"colorbar\": {\"outlinewidth\": 0, \"ticks\": \"\"}}, \"type\": \"scatter\"}], \"scatter3d\": [{\"line\": {\"colorbar\": {\"outlinewidth\": 0, \"ticks\": \"\"}}, \"marker\": {\"colorbar\": {\"outlinewidth\": 0, \"ticks\": \"\"}}, \"type\": \"scatter3d\"}], \"scattercarpet\": [{\"marker\": {\"colorbar\": {\"outlinewidth\": 0, \"ticks\": \"\"}}, \"type\": \"scattercarpet\"}], \"scattergeo\": [{\"marker\": {\"colorbar\": {\"outlinewidth\": 0, \"ticks\": \"\"}}, \"type\": \"scattergeo\"}], \"scattergl\": [{\"marker\": {\"colorbar\": {\"outlinewidth\": 0, \"ticks\": \"\"}}, \"type\": \"scattergl\"}], \"scattermapbox\": [{\"marker\": {\"colorbar\": {\"outlinewidth\": 0, \"ticks\": \"\"}}, \"type\": \"scattermapbox\"}], \"scatterpolar\": [{\"marker\": {\"colorbar\": {\"outlinewidth\": 0, \"ticks\": \"\"}}, \"type\": \"scatterpolar\"}], \"scatterpolargl\": [{\"marker\": {\"colorbar\": {\"outlinewidth\": 0, \"ticks\": \"\"}}, \"type\": \"scatterpolargl\"}], \"scatterternary\": [{\"marker\": {\"colorbar\": {\"outlinewidth\": 0, \"ticks\": \"\"}}, \"type\": \"scatterternary\"}], \"surface\": [{\"colorbar\": {\"outlinewidth\": 0, \"ticks\": \"\"}, \"colorscale\": [[0.0, \"#0d0887\"], [0.1111111111111111, \"#46039f\"], [0.2222222222222222, \"#7201a8\"], [0.3333333333333333, \"#9c179e\"], [0.4444444444444444, \"#bd3786\"], [0.5555555555555556, \"#d8576b\"], [0.6666666666666666, \"#ed7953\"], [0.7777777777777778, \"#fb9f3a\"], [0.8888888888888888, \"#fdca26\"], [1.0, \"#f0f921\"]], \"type\": \"surface\"}], \"table\": [{\"cells\": {\"fill\": {\"color\": \"#EBF0F8\"}, \"line\": {\"color\": \"white\"}}, \"header\": {\"fill\": {\"color\": \"#C8D4E3\"}, \"line\": {\"color\": \"white\"}}, \"type\": \"table\"}]}, \"layout\": {\"annotationdefaults\": {\"arrowcolor\": \"#2a3f5f\", \"arrowhead\": 0, \"arrowwidth\": 1}, \"colorscale\": {\"diverging\": [[0, \"#8e0152\"], [0.1, \"#c51b7d\"], [0.2, \"#de77ae\"], [0.3, \"#f1b6da\"], [0.4, \"#fde0ef\"], [0.5, \"#f7f7f7\"], [0.6, \"#e6f5d0\"], [0.7, \"#b8e186\"], [0.8, \"#7fbc41\"], [0.9, \"#4d9221\"], [1, \"#276419\"]], \"sequential\": [[0.0, \"#0d0887\"], [0.1111111111111111, \"#46039f\"], [0.2222222222222222, \"#7201a8\"], [0.3333333333333333, \"#9c179e\"], [0.4444444444444444, \"#bd3786\"], [0.5555555555555556, \"#d8576b\"], [0.6666666666666666, \"#ed7953\"], [0.7777777777777778, \"#fb9f3a\"], [0.8888888888888888, \"#fdca26\"], [1.0, \"#f0f921\"]], \"sequentialminus\": [[0.0, \"#0d0887\"], [0.1111111111111111, \"#46039f\"], [0.2222222222222222, \"#7201a8\"], [0.3333333333333333, \"#9c179e\"], [0.4444444444444444, \"#bd3786\"], [0.5555555555555556, \"#d8576b\"], [0.6666666666666666, \"#ed7953\"], [0.7777777777777778, \"#fb9f3a\"], [0.8888888888888888, \"#fdca26\"], [1.0, \"#f0f921\"]]}, \"colorway\": [\"#636efa\", \"#EF553B\", \"#00cc96\", \"#ab63fa\", \"#FFA15A\", \"#19d3f3\", \"#FF6692\", \"#B6E880\", \"#FF97FF\", \"#FECB52\"], \"font\": {\"color\": \"#2a3f5f\"}, \"geo\": {\"bgcolor\": \"white\", \"lakecolor\": \"white\", \"landcolor\": \"#E5ECF6\", \"showlakes\": true, \"showland\": true, \"subunitcolor\": \"white\"}, \"hoverlabel\": {\"align\": \"left\"}, \"hovermode\": \"closest\", \"mapbox\": {\"style\": \"light\"}, \"paper_bgcolor\": \"white\", \"plot_bgcolor\": \"#E5ECF6\", \"polar\": {\"angularaxis\": {\"gridcolor\": \"white\", \"linecolor\": \"white\", \"ticks\": \"\"}, \"bgcolor\": \"#E5ECF6\", \"radialaxis\": {\"gridcolor\": \"white\", \"linecolor\": \"white\", \"ticks\": \"\"}}, \"scene\": {\"xaxis\": {\"backgroundcolor\": \"#E5ECF6\", \"gridcolor\": \"white\", \"gridwidth\": 2, \"linecolor\": \"white\", \"showbackground\": true, \"ticks\": \"\", \"zerolinecolor\": \"white\"}, \"yaxis\": {\"backgroundcolor\": \"#E5ECF6\", \"gridcolor\": \"white\", \"gridwidth\": 2, \"linecolor\": \"white\", \"showbackground\": true, \"ticks\": \"\", \"zerolinecolor\": \"white\"}, \"zaxis\": {\"backgroundcolor\": \"#E5ECF6\", \"gridcolor\": \"white\", \"gridwidth\": 2, \"linecolor\": \"white\", \"showbackground\": true, \"ticks\": \"\", \"zerolinecolor\": \"white\"}}, \"shapedefaults\": {\"line\": {\"color\": \"#2a3f5f\"}}, \"ternary\": {\"aaxis\": {\"gridcolor\": \"white\", \"linecolor\": \"white\", \"ticks\": \"\"}, \"baxis\": {\"gridcolor\": \"white\", \"linecolor\": \"white\", \"ticks\": \"\"}, \"bgcolor\": \"#E5ECF6\", \"caxis\": {\"gridcolor\": \"white\", \"linecolor\": \"white\", \"ticks\": \"\"}}, \"title\": {\"x\": 0.05}, \"xaxis\": {\"automargin\": true, \"gridcolor\": \"white\", \"linecolor\": \"white\", \"ticks\": \"\", \"zerolinecolor\": \"white\", \"zerolinewidth\": 2}, \"yaxis\": {\"automargin\": true, \"gridcolor\": \"white\", \"linecolor\": \"white\", \"ticks\": \"\", \"zerolinecolor\": \"white\", \"zerolinewidth\": 2}}}, \"title\": {\"text\": \"MEAN_ABS_SHAP\"}, \"xaxis\": {\"automargin\": true}, \"yaxis\": {\"automargin\": true}},\n",
       "                        {\"responsive\": true}\n",
       "                    ).then(function(){\n",
       "                            \n",
       "var gd = document.getElementById('6b8529f4-2032-4c62-af71-267840a2432f');\n",
       "var x = new MutationObserver(function (mutations, observer) {{\n",
       "        var display = window.getComputedStyle(gd).display;\n",
       "        if (!display || display === 'none') {{\n",
       "            console.log([gd, 'removed!']);\n",
       "            Plotly.purge(gd);\n",
       "            observer.disconnect();\n",
       "        }}\n",
       "}});\n",
       "\n",
       "// Listen for the removal of the full notebook cells\n",
       "var notebookContainer = gd.closest('#notebook-container');\n",
       "if (notebookContainer) {{\n",
       "    x.observe(notebookContainer, {childList: true});\n",
       "}}\n",
       "\n",
       "// Listen for the clearing of the current output cell\n",
       "var outputEl = gd.closest('.output');\n",
       "if (outputEl) {{\n",
       "    x.observe(outputEl, {childList: true});\n",
       "}}\n",
       "\n",
       "                        })\n",
       "                };\n",
       "                });\n",
       "            </script>\n",
       "        </div>"
      ]
     },
     "metadata": {},
     "output_type": "display_data"
    }
   ],
   "source": [
    "explainer.plot_importances(cats=True)"
   ]
  },
  {
   "cell_type": "code",
   "execution_count": 21,
   "metadata": {},
   "outputs": [
    {
     "data": {
      "application/vnd.plotly.v1+json": {
       "config": {
        "plotlyServerURL": "https://plot.ly"
       },
       "data": [
        {
         "line": {
          "color": "grey",
          "width": 4
         },
         "mode": "lines+markers",
         "name": "average prediction <br>for different values of <br>PassengerClass",
         "type": "scatter",
         "x": [
          1,
          2,
          3
         ],
         "y": [
          0.41,
          0.4,
          0.34
         ]
        },
        {
         "line": {
          "color": "blue",
          "width": 4
         },
         "mode": "lines+markers",
         "name": "prediction for index 0 <br>for different values of <br>PassengerClass",
         "type": "scatter",
         "x": [
          1,
          2,
          3
         ],
         "y": [
          0.94,
          0.91,
          0.76
         ]
        },
        {
         "hoverinfo": "skip",
         "line": {
          "color": "grey"
         },
         "mode": "lines",
         "opacity": 0.1,
         "showlegend": false,
         "type": "scatter",
         "x": [
          1,
          2,
          3
         ],
         "y": [
          0.14185929007578288,
          0.14200222009788754,
          0.13357729898982862
         ]
        },
        {
         "hoverinfo": "skip",
         "line": {
          "color": "grey"
         },
         "mode": "lines",
         "opacity": 0.1,
         "showlegend": false,
         "type": "scatter",
         "x": [
          1,
          2,
          3
         ],
         "y": [
          0.2051130347113088,
          0.17005907639353152,
          0.17138200542948703
         ]
        },
        {
         "hoverinfo": "skip",
         "line": {
          "color": "grey"
         },
         "mode": "lines",
         "opacity": 0.1,
         "showlegend": false,
         "type": "scatter",
         "x": [
          1,
          2,
          3
         ],
         "y": [
          0.14789922837875705,
          0.13075718967770733,
          0.14516661175805404
         ]
        },
        {
         "hoverinfo": "skip",
         "line": {
          "color": "grey"
         },
         "mode": "lines",
         "opacity": 0.1,
         "showlegend": false,
         "type": "scatter",
         "x": [
          1,
          2,
          3
         ],
         "y": [
          0.9299987180669455,
          0.9042964385476105,
          0.7635134128337029
         ]
        },
        {
         "hoverinfo": "skip",
         "line": {
          "color": "grey"
         },
         "mode": "lines",
         "opacity": 0.1,
         "showlegend": false,
         "type": "scatter",
         "x": [
          1,
          2,
          3
         ],
         "y": [
          0.14846842249442463,
          0.12121062455367283,
          0.12095665955088096
         ]
        },
        {
         "hoverinfo": "skip",
         "line": {
          "color": "grey"
         },
         "mode": "lines",
         "opacity": 0.1,
         "showlegend": false,
         "type": "scatter",
         "x": [
          1,
          2,
          3
         ],
         "y": [
          0.1469035673211595,
          0.12976152862010984,
          0.14417095070045655
         ]
        },
        {
         "hoverinfo": "skip",
         "line": {
          "color": "grey"
         },
         "mode": "lines",
         "opacity": 0.1,
         "showlegend": false,
         "type": "scatter",
         "x": [
          1,
          2,
          3
         ],
         "y": [
          0.20078437456119796,
          0.17655435373254463,
          0.17661428550599212
         ]
        },
        {
         "hoverinfo": "skip",
         "line": {
          "color": "grey"
         },
         "mode": "lines",
         "opacity": 0.1,
         "showlegend": false,
         "type": "scatter",
         "x": [
          1,
          2,
          3
         ],
         "y": [
          0.1743733992373775,
          0.15273710595011328,
          0.1490341194813495
         ]
        },
        {
         "hoverinfo": "skip",
         "line": {
          "color": "grey"
         },
         "mode": "lines",
         "opacity": 0.1,
         "showlegend": false,
         "type": "scatter",
         "x": [
          1,
          2,
          3
         ],
         "y": [
          0.14398429007578287,
          0.14412722009788756,
          0.13570229898982863
         ]
        },
        {
         "hoverinfo": "skip",
         "line": {
          "color": "grey"
         },
         "mode": "lines",
         "opacity": 0.1,
         "showlegend": false,
         "type": "scatter",
         "x": [
          1,
          2,
          3
         ],
         "y": [
          0.6709310094223478,
          0.6671211082733939,
          0.500903404374174
         ]
        },
        {
         "hoverinfo": "skip",
         "line": {
          "color": "grey"
         },
         "mode": "lines",
         "opacity": 0.1,
         "showlegend": false,
         "type": "scatter",
         "x": [
          1,
          2,
          3
         ],
         "y": [
          0.2575626428084799,
          0.24291803895748487,
          0.28419786107391365
         ]
        },
        {
         "hoverinfo": "skip",
         "line": {
          "color": "grey"
         },
         "mode": "lines",
         "opacity": 0.1,
         "showlegend": false,
         "type": "scatter",
         "x": [
          1,
          2,
          3
         ],
         "y": [
          0.8473954127373213,
          0.8486823480242566,
          0.7212273387554182
         ]
        },
        {
         "hoverinfo": "skip",
         "line": {
          "color": "grey"
         },
         "mode": "lines",
         "opacity": 0.1,
         "showlegend": false,
         "type": "scatter",
         "x": [
          1,
          2,
          3
         ],
         "y": [
          0.14398429007578287,
          0.14412722009788756,
          0.13570229898982863
         ]
        },
        {
         "hoverinfo": "skip",
         "line": {
          "color": "grey"
         },
         "mode": "lines",
         "opacity": 0.1,
         "showlegend": false,
         "type": "scatter",
         "x": [
          1,
          2,
          3
         ],
         "y": [
          0.1959976250787963,
          0.17176760425014298,
          0.17661428550599212
         ]
        },
        {
         "hoverinfo": "skip",
         "line": {
          "color": "grey"
         },
         "mode": "lines",
         "opacity": 0.1,
         "showlegend": false,
         "type": "scatter",
         "x": [
          1,
          2,
          3
         ],
         "y": [
          0.1466317589729623,
          0.15109498180762299,
          0.125317421896834
         ]
        },
        {
         "hoverinfo": "skip",
         "line": {
          "color": "grey"
         },
         "mode": "lines",
         "opacity": 0.1,
         "showlegend": false,
         "type": "scatter",
         "x": [
          1,
          2,
          3
         ],
         "y": [
          0.46578709161595344,
          0.4365430247121262,
          0.49190848246320196
         ]
        },
        {
         "hoverinfo": "skip",
         "line": {
          "color": "grey"
         },
         "mode": "lines",
         "opacity": 0.1,
         "showlegend": false,
         "type": "scatter",
         "x": [
          1,
          2,
          3
         ],
         "y": [
          0.37455116389539406,
          0.3774443008120606,
          0.43694709093606987
         ]
        },
        {
         "hoverinfo": "skip",
         "line": {
          "color": "grey"
         },
         "mode": "lines",
         "opacity": 0.1,
         "showlegend": false,
         "type": "scatter",
         "x": [
          1,
          2,
          3
         ],
         "y": [
          0.14467451608688517,
          0.14481744610898983,
          0.1363925250009309
         ]
        },
        {
         "hoverinfo": "skip",
         "line": {
          "color": "grey"
         },
         "mode": "lines",
         "opacity": 0.1,
         "showlegend": false,
         "type": "scatter",
         "x": [
          1,
          2,
          3
         ],
         "y": [
          0.780834341565665,
          0.7637178042611046,
          0.5408080322650712
         ]
        },
        {
         "hoverinfo": "skip",
         "line": {
          "color": "grey"
         },
         "mode": "lines",
         "opacity": 0.1,
         "showlegend": false,
         "type": "scatter",
         "x": [
          1,
          2,
          3
         ],
         "y": [
          0.8393057720307928,
          0.8275170263460444,
          0.6808720778708599
         ]
        },
        {
         "hoverinfo": "skip",
         "line": {
          "color": "grey"
         },
         "mode": "lines",
         "opacity": 0.1,
         "showlegend": false,
         "type": "scatter",
         "x": [
          1,
          2,
          3
         ],
         "y": [
          0.1986494218984381,
          0.19037508239486323,
          0.18306829384275158
         ]
        },
        {
         "hoverinfo": "skip",
         "line": {
          "color": "grey"
         },
         "mode": "lines",
         "opacity": 0.1,
         "showlegend": false,
         "type": "scatter",
         "x": [
          1,
          2,
          3
         ],
         "y": [
          0.7384646505178661,
          0.7536539222390527,
          0.5924770811348998
         ]
        },
        {
         "hoverinfo": "skip",
         "line": {
          "color": "grey"
         },
         "mode": "lines",
         "opacity": 0.1,
         "showlegend": false,
         "type": "scatter",
         "x": [
          1,
          2,
          3
         ],
         "y": [
          0.39540308418469505,
          0.4212456378659431,
          0.43713417638260316
         ]
        },
        {
         "hoverinfo": "skip",
         "line": {
          "color": "grey"
         },
         "mode": "lines",
         "opacity": 0.1,
         "showlegend": false,
         "type": "scatter",
         "x": [
          1,
          2,
          3
         ],
         "y": [
          0.6681625608945002,
          0.6643526597455462,
          0.5081349558463263
         ]
        },
        {
         "hoverinfo": "skip",
         "line": {
          "color": "grey"
         },
         "mode": "lines",
         "opacity": 0.1,
         "showlegend": false,
         "type": "scatter",
         "x": [
          1,
          2,
          3
         ],
         "y": [
          0.14956293850485858,
          0.1210148179834616,
          0.12076085298066969
         ]
        },
        {
         "hoverinfo": "skip",
         "line": {
          "color": "grey"
         },
         "mode": "lines",
         "opacity": 0.1,
         "showlegend": false,
         "type": "scatter",
         "x": [
          1,
          2,
          3
         ],
         "y": [
          0.9374120747792901,
          0.9074308354490804,
          0.7582729962454603
         ]
        },
        {
         "hoverinfo": "skip",
         "line": {
          "color": "grey"
         },
         "mode": "lines",
         "opacity": 0.1,
         "showlegend": false,
         "type": "scatter",
         "x": [
          1,
          2,
          3
         ],
         "y": [
          0.15071445438985934,
          0.13357241568880965,
          0.15487487681839235
         ]
        },
        {
         "hoverinfo": "skip",
         "line": {
          "color": "grey"
         },
         "mode": "lines",
         "opacity": 0.1,
         "showlegend": false,
         "type": "scatter",
         "x": [
          1,
          2,
          3
         ],
         "y": [
          0.43901112568897316,
          0.4648536793702212,
          0.4780646576660257
         ]
        },
        {
         "hoverinfo": "skip",
         "line": {
          "color": "grey"
         },
         "mode": "lines",
         "opacity": 0.1,
         "showlegend": false,
         "type": "scatter",
         "x": [
          1,
          2,
          3
         ],
         "y": [
          0.9090927189791345,
          0.8826892546796675,
          0.6525685298062653
         ]
        },
        {
         "hoverinfo": "skip",
         "line": {
          "color": "grey"
         },
         "mode": "lines",
         "opacity": 0.1,
         "showlegend": false,
         "type": "scatter",
         "x": [
          1,
          2,
          3
         ],
         "y": [
          0.9349867905181874,
          0.9196022306336274,
          0.6516180814637509
         ]
        },
        {
         "hoverinfo": "skip",
         "line": {
          "color": "grey"
         },
         "mode": "lines",
         "opacity": 0.1,
         "showlegend": false,
         "type": "scatter",
         "x": [
          1,
          2,
          3
         ],
         "y": [
          0.27275070511255495,
          0.24179866950634554,
          0.23768900825792585
         ]
        },
        {
         "hoverinfo": "skip",
         "line": {
          "color": "grey"
         },
         "mode": "lines",
         "opacity": 0.1,
         "showlegend": false,
         "type": "scatter",
         "x": [
          1,
          2,
          3
         ],
         "y": [
          0.6158912491500452,
          0.6271495464083425,
          0.17178641384724283
         ]
        },
        {
         "hoverinfo": "skip",
         "line": {
          "color": "grey"
         },
         "mode": "lines",
         "opacity": 0.1,
         "showlegend": false,
         "type": "scatter",
         "x": [
          1,
          2,
          3
         ],
         "y": [
          0.4239158613807148,
          0.39384120730347333,
          0.41016919517294587
         ]
        },
        {
         "hoverinfo": "skip",
         "line": {
          "color": "grey"
         },
         "mode": "lines",
         "opacity": 0.1,
         "showlegend": false,
         "type": "scatter",
         "x": [
          1,
          2,
          3
         ],
         "y": [
          0.35386319477031114,
          0.3840665502040928,
          0.43541186783551766
         ]
        },
        {
         "hoverinfo": "skip",
         "line": {
          "color": "grey"
         },
         "mode": "lines",
         "opacity": 0.1,
         "showlegend": false,
         "type": "scatter",
         "x": [
          1,
          2,
          3
         ],
         "y": [
          0.7855854920122504,
          0.8204827795924827,
          0.5050377318609081
         ]
        },
        {
         "hoverinfo": "skip",
         "line": {
          "color": "grey"
         },
         "mode": "lines",
         "opacity": 0.1,
         "showlegend": false,
         "type": "scatter",
         "x": [
          1,
          2,
          3
         ],
         "y": [
          0.15222714667359835,
          0.14026893150196046,
          0.15467835358230717
         ]
        },
        {
         "hoverinfo": "skip",
         "line": {
          "color": "grey"
         },
         "mode": "lines",
         "opacity": 0.1,
         "showlegend": false,
         "type": "scatter",
         "x": [
          1,
          2,
          3
         ],
         "y": [
          0.16890085024685422,
          0.14154643476447537,
          0.09977011281616616
         ]
        },
        {
         "hoverinfo": "skip",
         "line": {
          "color": "grey"
         },
         "mode": "lines",
         "opacity": 0.1,
         "showlegend": false,
         "type": "scatter",
         "x": [
          1,
          2,
          3
         ],
         "y": [
          0.15532329792727428,
          0.1381812592262246,
          0.15259068130657133
         ]
        },
        {
         "hoverinfo": "skip",
         "line": {
          "color": "grey"
         },
         "mode": "lines",
         "opacity": 0.1,
         "showlegend": false,
         "type": "scatter",
         "x": [
          1,
          2,
          3
         ],
         "y": [
          0.8742058417725478,
          0.8718095175272532,
          0.622278583264175
         ]
        },
        {
         "hoverinfo": "skip",
         "line": {
          "color": "grey"
         },
         "mode": "lines",
         "opacity": 0.1,
         "showlegend": false,
         "type": "scatter",
         "x": [
          1,
          2,
          3
         ],
         "y": [
          0.14490232149523666,
          0.11764452355448488,
          0.12246327565178855
         ]
        },
        {
         "hoverinfo": "skip",
         "line": {
          "color": "grey"
         },
         "mode": "lines",
         "opacity": 0.1,
         "showlegend": false,
         "type": "scatter",
         "x": [
          1,
          2,
          3
         ],
         "y": [
          0.20347650152203364,
          0.17924648069338034,
          0.1793064124668278
         ]
        },
        {
         "hoverinfo": "skip",
         "line": {
          "color": "grey"
         },
         "mode": "lines",
         "opacity": 0.1,
         "showlegend": false,
         "type": "scatter",
         "x": [
          1,
          2,
          3
         ],
         "y": [
          0.17249839923737745,
          0.15086210595011326,
          0.1471591194813495
         ]
        },
        {
         "hoverinfo": "skip",
         "line": {
          "color": "grey"
         },
         "mode": "lines",
         "opacity": 0.1,
         "showlegend": false,
         "type": "scatter",
         "x": [
          1,
          2,
          3
         ],
         "y": [
          0.21517223633121774,
          0.22125657500066612,
          0.10213965850301766
         ]
        },
        {
         "hoverinfo": "skip",
         "line": {
          "color": "grey"
         },
         "mode": "lines",
         "opacity": 0.1,
         "showlegend": false,
         "type": "scatter",
         "x": [
          1,
          2,
          3
         ],
         "y": [
          0.2149967926649265,
          0.20672245316135157,
          0.1959808820005443
         ]
        },
        {
         "hoverinfo": "skip",
         "line": {
          "color": "grey"
         },
         "mode": "lines",
         "opacity": 0.1,
         "showlegend": false,
         "type": "scatter",
         "x": [
          1,
          2,
          3
         ],
         "y": [
          0.788561905516381,
          0.7619453682118207,
          0.5509995533382291
         ]
        },
        {
         "hoverinfo": "skip",
         "line": {
          "color": "grey"
         },
         "mode": "lines",
         "opacity": 0.1,
         "showlegend": false,
         "type": "scatter",
         "x": [
          1,
          2,
          3
         ],
         "y": [
          0.19500438445254445,
          0.15936828180354384,
          0.1559058060432051
         ]
        },
        {
         "hoverinfo": "skip",
         "line": {
          "color": "grey"
         },
         "mode": "lines",
         "opacity": 0.1,
         "showlegend": false,
         "type": "scatter",
         "x": [
          1,
          2,
          3
         ],
         "y": [
          0.21257795937255375,
          0.16611791923442915,
          0.162196207383229
         ]
        },
        {
         "hoverinfo": "skip",
         "line": {
          "color": "grey"
         },
         "mode": "lines",
         "opacity": 0.1,
         "showlegend": false,
         "type": "scatter",
         "x": [
          1,
          2,
          3
         ],
         "y": [
          0.8898266261888262,
          0.8570810566262014,
          0.6293232401067974
         ]
        },
        {
         "hoverinfo": "skip",
         "line": {
          "color": "grey"
         },
         "mode": "lines",
         "opacity": 0.1,
         "showlegend": false,
         "type": "scatter",
         "x": [
          1,
          2,
          3
         ],
         "y": [
          0.7743971029004004,
          0.7843705071557195,
          0.7434049926714459
         ]
        },
        {
         "hoverinfo": "skip",
         "line": {
          "color": "grey"
         },
         "mode": "lines",
         "opacity": 0.1,
         "showlegend": false,
         "type": "scatter",
         "x": [
          1,
          2,
          3
         ],
         "y": [
          0.6647208735495872,
          0.6609109724006332,
          0.526041320449465
         ]
        },
        {
         "hoverinfo": "skip",
         "line": {
          "color": "grey"
         },
         "mode": "lines",
         "opacity": 0.1,
         "showlegend": false,
         "type": "scatter",
         "x": [
          1,
          2,
          3
         ],
         "y": [
          0.1714686377788701,
          0.1518739332604787,
          0.14651770527708863
         ]
        },
        {
         "hoverinfo": "skip",
         "line": {
          "color": "grey"
         },
         "mode": "lines",
         "opacity": 0.1,
         "showlegend": false,
         "type": "scatter",
         "x": [
          1,
          2,
          3
         ],
         "y": [
          0.3771169971863034,
          0.3937290948106346,
          0.30111901201776087
         ]
        },
        {
         "hoverinfo": "skip",
         "line": {
          "color": "grey"
         },
         "mode": "lines",
         "opacity": 0.1,
         "showlegend": false,
         "type": "scatter",
         "x": [
          1,
          2,
          3
         ],
         "y": [
          0.6853847580282387,
          0.668408190212618,
          0.47800554426648545
         ]
        },
        {
         "hoverinfo": "skip",
         "line": {
          "color": "grey"
         },
         "mode": "lines",
         "opacity": 0.1,
         "showlegend": false,
         "type": "scatter",
         "x": [
          1,
          2,
          3
         ],
         "y": [
          0.14398429007578287,
          0.14412722009788756,
          0.13570229898982863
         ]
        },
        {
         "hoverinfo": "skip",
         "line": {
          "color": "grey"
         },
         "mode": "lines",
         "opacity": 0.1,
         "showlegend": false,
         "type": "scatter",
         "x": [
          1,
          2,
          3
         ],
         "y": [
          0.6157866465801297,
          0.6184232130581832,
          0.5452393741412181
         ]
        },
        {
         "hoverinfo": "skip",
         "line": {
          "color": "grey"
         },
         "mode": "lines",
         "opacity": 0.1,
         "showlegend": false,
         "type": "scatter",
         "x": [
          1,
          2,
          3
         ],
         "y": [
          0.6322924185847026,
          0.6284825174357487,
          0.4622648135365289
         ]
        },
        {
         "hoverinfo": "skip",
         "line": {
          "color": "grey"
         },
         "mode": "lines",
         "opacity": 0.1,
         "showlegend": false,
         "type": "scatter",
         "x": [
          1,
          2,
          3
         ],
         "y": [
          0.14398429007578287,
          0.14412722009788756,
          0.13570229898982863
         ]
        },
        {
         "hoverinfo": "skip",
         "line": {
          "color": "grey"
         },
         "mode": "lines",
         "opacity": 0.1,
         "showlegend": false,
         "type": "scatter",
         "x": [
          1,
          2,
          3
         ],
         "y": [
          0.40147696469578464,
          0.4122764666687944,
          0.46920468569469054
         ]
        },
        {
         "hoverinfo": "skip",
         "line": {
          "color": "grey"
         },
         "mode": "lines",
         "opacity": 0.1,
         "showlegend": false,
         "type": "scatter",
         "x": [
          1,
          2,
          3
         ],
         "y": [
          0.14759379333226183,
          0.13045175463121214,
          0.14486117671155885
         ]
        },
        {
         "hoverinfo": "skip",
         "line": {
          "color": "grey"
         },
         "mode": "lines",
         "opacity": 0.1,
         "showlegend": false,
         "type": "scatter",
         "x": [
          1,
          2,
          3
         ],
         "y": [
          0.394587605422846,
          0.4164001562589265,
          0.46774547389035126
         ]
        },
        {
         "hoverinfo": "skip",
         "line": {
          "color": "grey"
         },
         "mode": "lines",
         "opacity": 0.1,
         "showlegend": false,
         "type": "scatter",
         "x": [
          1,
          2,
          3
         ],
         "y": [
          0.7575531208487807,
          0.7592765251040998,
          0.6059234090168557
         ]
        },
        {
         "hoverinfo": "skip",
         "line": {
          "color": "grey"
         },
         "mode": "lines",
         "opacity": 0.1,
         "showlegend": false,
         "type": "scatter",
         "x": [
          1,
          2,
          3
         ],
         "y": [
          0.1466317589729623,
          0.15109498180762299,
          0.125317421896834
         ]
        },
        {
         "hoverinfo": "skip",
         "line": {
          "color": "grey"
         },
         "mode": "lines",
         "opacity": 0.1,
         "showlegend": false,
         "type": "scatter",
         "x": [
          1,
          2,
          3
         ],
         "y": [
          0.45751276204148555,
          0.4584502644798705,
          0.5002086808068351
         ]
        },
        {
         "hoverinfo": "skip",
         "line": {
          "color": "grey"
         },
         "mode": "lines",
         "opacity": 0.1,
         "showlegend": false,
         "type": "scatter",
         "x": [
          1,
          2,
          3
         ],
         "y": [
          0.1522026368696768,
          0.13506059816862714,
          0.14947002024897382
         ]
        },
        {
         "hoverinfo": "skip",
         "line": {
          "color": "grey"
         },
         "mode": "lines",
         "opacity": 0.1,
         "showlegend": false,
         "type": "scatter",
         "x": [
          1,
          2,
          3
         ],
         "y": [
          0.14185929007578288,
          0.14200222009788754,
          0.13357729898982862
         ]
        },
        {
         "hoverinfo": "skip",
         "line": {
          "color": "grey"
         },
         "mode": "lines",
         "opacity": 0.1,
         "showlegend": false,
         "type": "scatter",
         "x": [
          1,
          2,
          3
         ],
         "y": [
          0.5358007975048785,
          0.5108582336956579,
          0.5544685198100856
         ]
        },
        {
         "hoverinfo": "skip",
         "line": {
          "color": "grey"
         },
         "mode": "lines",
         "opacity": 0.1,
         "showlegend": false,
         "type": "scatter",
         "x": [
          1,
          2,
          3
         ],
         "y": [
          0.6444828285966244,
          0.6406729274476706,
          0.44899322852974627
         ]
        },
        {
         "hoverinfo": "skip",
         "line": {
          "color": "grey"
         },
         "mode": "lines",
         "opacity": 0.1,
         "showlegend": false,
         "type": "scatter",
         "x": [
          1,
          2,
          3
         ],
         "y": [
          0.1469035673211595,
          0.12976152862010984,
          0.14417095070045655
         ]
        },
        {
         "hoverinfo": "skip",
         "line": {
          "color": "grey"
         },
         "mode": "lines",
         "opacity": 0.1,
         "showlegend": false,
         "type": "scatter",
         "x": [
          1,
          2,
          3
         ],
         "y": [
          0.7743971029004004,
          0.7843705071557195,
          0.7434049926714459
         ]
        },
        {
         "hoverinfo": "skip",
         "line": {
          "color": "grey"
         },
         "mode": "lines",
         "opacity": 0.1,
         "showlegend": false,
         "type": "scatter",
         "x": [
          1,
          2,
          3
         ],
         "y": [
          0.8679229757743622,
          0.8444675634229472,
          0.6810077915157408
         ]
        },
        {
         "hoverinfo": "skip",
         "line": {
          "color": "grey"
         },
         "mode": "lines",
         "opacity": 0.1,
         "showlegend": false,
         "type": "scatter",
         "x": [
          1,
          2,
          3
         ],
         "y": [
          0.2726016101782302,
          0.2261415700401056,
          0.2080185757797279
         ]
        },
        {
         "hoverinfo": "skip",
         "line": {
          "color": "grey"
         },
         "mode": "lines",
         "opacity": 0.1,
         "showlegend": false,
         "type": "scatter",
         "x": [
          1,
          2,
          3
         ],
         "y": [
          0.14329478972253856,
          0.11603699178178677,
          0.11884754290802717
         ]
        },
        {
         "hoverinfo": "skip",
         "line": {
          "color": "grey"
         },
         "mode": "lines",
         "opacity": 0.1,
         "showlegend": false,
         "type": "scatter",
         "x": [
          1,
          2,
          3
         ],
         "y": [
          0.1442845197021119,
          0.1271424810010622,
          0.14155190308140891
         ]
        },
        {
         "hoverinfo": "skip",
         "line": {
          "color": "grey"
         },
         "mode": "lines",
         "opacity": 0.1,
         "showlegend": false,
         "type": "scatter",
         "x": [
          1,
          2,
          3
         ],
         "y": [
          0.6681625608945002,
          0.6643526597455462,
          0.5109920987034692
         ]
        },
        {
         "hoverinfo": "skip",
         "line": {
          "color": "grey"
         },
         "mode": "lines",
         "opacity": 0.1,
         "showlegend": false,
         "type": "scatter",
         "x": [
          1,
          2,
          3
         ],
         "y": [
          0.7482284006349239,
          0.7500451228625933,
          0.6590617929198156
         ]
        },
        {
         "hoverinfo": "skip",
         "line": {
          "color": "grey"
         },
         "mode": "lines",
         "opacity": 0.1,
         "showlegend": false,
         "type": "scatter",
         "x": [
          1,
          2,
          3
         ],
         "y": [
          0.1522026368696768,
          0.13506059816862714,
          0.14947002024897382
         ]
        },
        {
         "hoverinfo": "skip",
         "line": {
          "color": "grey"
         },
         "mode": "lines",
         "opacity": 0.1,
         "showlegend": false,
         "type": "scatter",
         "x": [
          1,
          2,
          3
         ],
         "y": [
          0.6796221816420869,
          0.6626456138264664,
          0.4518587507554587
         ]
        },
        {
         "hoverinfo": "skip",
         "line": {
          "color": "grey"
         },
         "mode": "lines",
         "opacity": 0.1,
         "showlegend": false,
         "type": "scatter",
         "x": [
          1,
          2,
          3
         ],
         "y": [
          0.14759379333226183,
          0.13045175463121214,
          0.14486117671155885
         ]
        },
        {
         "hoverinfo": "skip",
         "line": {
          "color": "grey"
         },
         "mode": "lines",
         "opacity": 0.1,
         "showlegend": false,
         "type": "scatter",
         "x": [
          1,
          2,
          3
         ],
         "y": [
          0.6827558080954758,
          0.6782930651646477,
          0.21277422470294252
         ]
        },
        {
         "hoverinfo": "skip",
         "line": {
          "color": "grey"
         },
         "mode": "lines",
         "opacity": 0.1,
         "showlegend": false,
         "type": "scatter",
         "x": [
          1,
          2,
          3
         ],
         "y": [
          0.2159148194701051,
          0.18882765578430896,
          0.191565147778612
         ]
        },
        {
         "hoverinfo": "skip",
         "line": {
          "color": "grey"
         },
         "mode": "lines",
         "opacity": 0.1,
         "showlegend": false,
         "type": "scatter",
         "x": [
          1,
          2,
          3
         ],
         "y": [
          0.29998329520138184,
          0.2896216312252873,
          0.30956398305913946
         ]
        },
        {
         "hoverinfo": "skip",
         "line": {
          "color": "grey"
         },
         "mode": "lines",
         "opacity": 0.1,
         "showlegend": false,
         "type": "scatter",
         "x": [
          1,
          2,
          3
         ],
         "y": [
          0.2317699519252164,
          0.22449073106449602,
          0.21413950169635965
         ]
        },
        {
         "hoverinfo": "skip",
         "line": {
          "color": "grey"
         },
         "mode": "lines",
         "opacity": 0.1,
         "showlegend": false,
         "type": "scatter",
         "x": [
          1,
          2,
          3
         ],
         "y": [
          0.14759379333226183,
          0.13045175463121214,
          0.14486117671155885
         ]
        },
        {
         "hoverinfo": "skip",
         "line": {
          "color": "grey"
         },
         "mode": "lines",
         "opacity": 0.1,
         "showlegend": false,
         "type": "scatter",
         "x": [
          1,
          2,
          3
         ],
         "y": [
          0.14692807712508105,
          0.13496986195344315,
          0.14937928403378986
         ]
        },
        {
         "hoverinfo": "skip",
         "line": {
          "color": "grey"
         },
         "mode": "lines",
         "opacity": 0.1,
         "showlegend": false,
         "type": "scatter",
         "x": [
          1,
          2,
          3
         ],
         "y": [
          0.29691740102814546,
          0.2811095468156741,
          0.31471381774491847
         ]
        },
        {
         "hoverinfo": "skip",
         "line": {
          "color": "grey"
         },
         "mode": "lines",
         "opacity": 0.1,
         "showlegend": false,
         "type": "scatter",
         "x": [
          1,
          2,
          3
         ],
         "y": [
          0.37981253219805877,
          0.3827404192960742,
          0.2767478175546438
         ]
        },
        {
         "hoverinfo": "skip",
         "line": {
          "color": "grey"
         },
         "mode": "lines",
         "opacity": 0.1,
         "showlegend": false,
         "type": "scatter",
         "x": [
          1,
          2,
          3
         ],
         "y": [
          0.34485066437028555,
          0.3789077620244607,
          0.3998190468013814
         ]
        },
        {
         "hoverinfo": "skip",
         "line": {
          "color": "grey"
         },
         "mode": "lines",
         "opacity": 0.1,
         "showlegend": false,
         "type": "scatter",
         "x": [
          1,
          2,
          3
         ],
         "y": [
          0.14759379333226183,
          0.13045175463121214,
          0.14486117671155885
         ]
        },
        {
         "hoverinfo": "skip",
         "line": {
          "color": "grey"
         },
         "mode": "lines",
         "opacity": 0.1,
         "showlegend": false,
         "type": "scatter",
         "x": [
          1,
          2,
          3
         ],
         "y": [
          0.7743971029004004,
          0.7843705071557195,
          0.7490049926714459
         ]
        },
        {
         "hoverinfo": "skip",
         "line": {
          "color": "grey"
         },
         "mode": "lines",
         "opacity": 0.1,
         "showlegend": false,
         "type": "scatter",
         "x": [
          1,
          2,
          3
         ],
         "y": [
          0.6391719985654791,
          0.6221954307498586,
          0.43179278480372596
         ]
        },
        {
         "hoverinfo": "skip",
         "line": {
          "color": "grey"
         },
         "mode": "lines",
         "opacity": 0.1,
         "showlegend": false,
         "type": "scatter",
         "x": [
          1,
          2,
          3
         ],
         "y": [
          0.7428950673015905,
          0.7447117895292599,
          0.6402936769777867
         ]
        },
        {
         "hoverinfo": "skip",
         "line": {
          "color": "grey"
         },
         "mode": "lines",
         "opacity": 0.1,
         "showlegend": false,
         "type": "scatter",
         "x": [
          1,
          2,
          3
         ],
         "y": [
          0.20273584553204574,
          0.1670997428830451,
          0.16670178325173865
         ]
        },
        {
         "hoverinfo": "skip",
         "line": {
          "color": "grey"
         },
         "mode": "lines",
         "opacity": 0.1,
         "showlegend": false,
         "type": "scatter",
         "x": [
          1,
          2,
          3
         ],
         "y": [
          0.14719358321746673,
          0.130051544516417,
          0.14446096659676372
         ]
        },
        {
         "hoverinfo": "skip",
         "line": {
          "color": "grey"
         },
         "mode": "lines",
         "opacity": 0.1,
         "showlegend": false,
         "type": "scatter",
         "x": [
          1,
          2,
          3
         ],
         "y": [
          0.1442845197021119,
          0.1271424810010622,
          0.14155190308140891
         ]
        },
        {
         "hoverinfo": "skip",
         "line": {
          "color": "grey"
         },
         "mode": "lines",
         "opacity": 0.1,
         "showlegend": false,
         "type": "scatter",
         "x": [
          1,
          2,
          3
         ],
         "y": [
          0.1442845197021119,
          0.1271424810010622,
          0.14155190308140891
         ]
        },
        {
         "hoverinfo": "skip",
         "line": {
          "color": "grey"
         },
         "mode": "lines",
         "opacity": 0.1,
         "showlegend": false,
         "type": "scatter",
         "x": [
          1,
          2,
          3
         ],
         "y": [
          0.8613291439472364,
          0.8301891744582968,
          0.5696809565442693
         ]
        },
        {
         "hoverinfo": "skip",
         "line": {
          "color": "grey"
         },
         "mode": "lines",
         "opacity": 0.1,
         "showlegend": false,
         "type": "scatter",
         "x": [
          1,
          2,
          3
         ],
         "y": [
          0.7662245895360215,
          0.7634579784303576,
          0.6952811694702986
         ]
        },
        {
         "hoverinfo": "skip",
         "line": {
          "color": "grey"
         },
         "mode": "lines",
         "opacity": 0.1,
         "showlegend": false,
         "type": "scatter",
         "x": [
          1,
          2,
          3
         ],
         "y": [
          0.20471002795904414,
          0.19643568845546924,
          0.18912889990335763
         ]
        },
        {
         "hoverinfo": "skip",
         "line": {
          "color": "grey"
         },
         "mode": "lines",
         "opacity": 0.1,
         "showlegend": false,
         "type": "scatter",
         "x": [
          1,
          2,
          3
         ],
         "y": [
          0.26064916604477295,
          0.2517399059062775,
          0.2793058634992788
         ]
        },
        {
         "hoverinfo": "skip",
         "line": {
          "color": "grey"
         },
         "mode": "lines",
         "opacity": 0.1,
         "showlegend": false,
         "type": "scatter",
         "x": [
          1,
          2,
          3
         ],
         "y": [
          0.48046304069298984,
          0.48319849735887277,
          0.5198108989886857
         ]
        }
       ],
       "layout": {
        "annotations": [
         {
          "text": "baseline value = 1",
          "x": 1,
          "y": 0.09977011281616616
         },
         {
          "text": "baseline pred = 0.94",
          "x": 3,
          "y": 0.9374120747792901
         }
        ],
        "shapes": [
         {
          "line": {
           "color": "MediumPurple",
           "dash": "dot",
           "width": 4
          },
          "type": "line",
          "x0": 1,
          "x1": 1,
          "xref": "x",
          "y0": 0.09977011281616616,
          "y1": 0.9374120747792901,
          "yref": "y"
         },
         {
          "line": {
           "color": "MediumPurple",
           "dash": "dot",
           "width": 4
          },
          "type": "line",
          "x0": 1,
          "x1": 3,
          "xref": "x",
          "y0": 0.9374120747792901,
          "y1": 0.9374120747792901,
          "yref": "y"
         }
        ],
        "showlegend": false,
        "template": {
         "data": {
          "bar": [
           {
            "error_x": {
             "color": "#2a3f5f"
            },
            "error_y": {
             "color": "#2a3f5f"
            },
            "marker": {
             "line": {
              "color": "#E5ECF6",
              "width": 0.5
             }
            },
            "type": "bar"
           }
          ],
          "barpolar": [
           {
            "marker": {
             "line": {
              "color": "#E5ECF6",
              "width": 0.5
             }
            },
            "type": "barpolar"
           }
          ],
          "carpet": [
           {
            "aaxis": {
             "endlinecolor": "#2a3f5f",
             "gridcolor": "white",
             "linecolor": "white",
             "minorgridcolor": "white",
             "startlinecolor": "#2a3f5f"
            },
            "baxis": {
             "endlinecolor": "#2a3f5f",
             "gridcolor": "white",
             "linecolor": "white",
             "minorgridcolor": "white",
             "startlinecolor": "#2a3f5f"
            },
            "type": "carpet"
           }
          ],
          "choropleth": [
           {
            "colorbar": {
             "outlinewidth": 0,
             "ticks": ""
            },
            "type": "choropleth"
           }
          ],
          "contour": [
           {
            "colorbar": {
             "outlinewidth": 0,
             "ticks": ""
            },
            "colorscale": [
             [
              0,
              "#0d0887"
             ],
             [
              0.1111111111111111,
              "#46039f"
             ],
             [
              0.2222222222222222,
              "#7201a8"
             ],
             [
              0.3333333333333333,
              "#9c179e"
             ],
             [
              0.4444444444444444,
              "#bd3786"
             ],
             [
              0.5555555555555556,
              "#d8576b"
             ],
             [
              0.6666666666666666,
              "#ed7953"
             ],
             [
              0.7777777777777778,
              "#fb9f3a"
             ],
             [
              0.8888888888888888,
              "#fdca26"
             ],
             [
              1,
              "#f0f921"
             ]
            ],
            "type": "contour"
           }
          ],
          "contourcarpet": [
           {
            "colorbar": {
             "outlinewidth": 0,
             "ticks": ""
            },
            "type": "contourcarpet"
           }
          ],
          "heatmap": [
           {
            "colorbar": {
             "outlinewidth": 0,
             "ticks": ""
            },
            "colorscale": [
             [
              0,
              "#0d0887"
             ],
             [
              0.1111111111111111,
              "#46039f"
             ],
             [
              0.2222222222222222,
              "#7201a8"
             ],
             [
              0.3333333333333333,
              "#9c179e"
             ],
             [
              0.4444444444444444,
              "#bd3786"
             ],
             [
              0.5555555555555556,
              "#d8576b"
             ],
             [
              0.6666666666666666,
              "#ed7953"
             ],
             [
              0.7777777777777778,
              "#fb9f3a"
             ],
             [
              0.8888888888888888,
              "#fdca26"
             ],
             [
              1,
              "#f0f921"
             ]
            ],
            "type": "heatmap"
           }
          ],
          "heatmapgl": [
           {
            "colorbar": {
             "outlinewidth": 0,
             "ticks": ""
            },
            "colorscale": [
             [
              0,
              "#0d0887"
             ],
             [
              0.1111111111111111,
              "#46039f"
             ],
             [
              0.2222222222222222,
              "#7201a8"
             ],
             [
              0.3333333333333333,
              "#9c179e"
             ],
             [
              0.4444444444444444,
              "#bd3786"
             ],
             [
              0.5555555555555556,
              "#d8576b"
             ],
             [
              0.6666666666666666,
              "#ed7953"
             ],
             [
              0.7777777777777778,
              "#fb9f3a"
             ],
             [
              0.8888888888888888,
              "#fdca26"
             ],
             [
              1,
              "#f0f921"
             ]
            ],
            "type": "heatmapgl"
           }
          ],
          "histogram": [
           {
            "marker": {
             "colorbar": {
              "outlinewidth": 0,
              "ticks": ""
             }
            },
            "type": "histogram"
           }
          ],
          "histogram2d": [
           {
            "colorbar": {
             "outlinewidth": 0,
             "ticks": ""
            },
            "colorscale": [
             [
              0,
              "#0d0887"
             ],
             [
              0.1111111111111111,
              "#46039f"
             ],
             [
              0.2222222222222222,
              "#7201a8"
             ],
             [
              0.3333333333333333,
              "#9c179e"
             ],
             [
              0.4444444444444444,
              "#bd3786"
             ],
             [
              0.5555555555555556,
              "#d8576b"
             ],
             [
              0.6666666666666666,
              "#ed7953"
             ],
             [
              0.7777777777777778,
              "#fb9f3a"
             ],
             [
              0.8888888888888888,
              "#fdca26"
             ],
             [
              1,
              "#f0f921"
             ]
            ],
            "type": "histogram2d"
           }
          ],
          "histogram2dcontour": [
           {
            "colorbar": {
             "outlinewidth": 0,
             "ticks": ""
            },
            "colorscale": [
             [
              0,
              "#0d0887"
             ],
             [
              0.1111111111111111,
              "#46039f"
             ],
             [
              0.2222222222222222,
              "#7201a8"
             ],
             [
              0.3333333333333333,
              "#9c179e"
             ],
             [
              0.4444444444444444,
              "#bd3786"
             ],
             [
              0.5555555555555556,
              "#d8576b"
             ],
             [
              0.6666666666666666,
              "#ed7953"
             ],
             [
              0.7777777777777778,
              "#fb9f3a"
             ],
             [
              0.8888888888888888,
              "#fdca26"
             ],
             [
              1,
              "#f0f921"
             ]
            ],
            "type": "histogram2dcontour"
           }
          ],
          "mesh3d": [
           {
            "colorbar": {
             "outlinewidth": 0,
             "ticks": ""
            },
            "type": "mesh3d"
           }
          ],
          "parcoords": [
           {
            "line": {
             "colorbar": {
              "outlinewidth": 0,
              "ticks": ""
             }
            },
            "type": "parcoords"
           }
          ],
          "scatter": [
           {
            "marker": {
             "colorbar": {
              "outlinewidth": 0,
              "ticks": ""
             }
            },
            "type": "scatter"
           }
          ],
          "scatter3d": [
           {
            "line": {
             "colorbar": {
              "outlinewidth": 0,
              "ticks": ""
             }
            },
            "marker": {
             "colorbar": {
              "outlinewidth": 0,
              "ticks": ""
             }
            },
            "type": "scatter3d"
           }
          ],
          "scattercarpet": [
           {
            "marker": {
             "colorbar": {
              "outlinewidth": 0,
              "ticks": ""
             }
            },
            "type": "scattercarpet"
           }
          ],
          "scattergeo": [
           {
            "marker": {
             "colorbar": {
              "outlinewidth": 0,
              "ticks": ""
             }
            },
            "type": "scattergeo"
           }
          ],
          "scattergl": [
           {
            "marker": {
             "colorbar": {
              "outlinewidth": 0,
              "ticks": ""
             }
            },
            "type": "scattergl"
           }
          ],
          "scattermapbox": [
           {
            "marker": {
             "colorbar": {
              "outlinewidth": 0,
              "ticks": ""
             }
            },
            "type": "scattermapbox"
           }
          ],
          "scatterpolar": [
           {
            "marker": {
             "colorbar": {
              "outlinewidth": 0,
              "ticks": ""
             }
            },
            "type": "scatterpolar"
           }
          ],
          "scatterpolargl": [
           {
            "marker": {
             "colorbar": {
              "outlinewidth": 0,
              "ticks": ""
             }
            },
            "type": "scatterpolargl"
           }
          ],
          "scatterternary": [
           {
            "marker": {
             "colorbar": {
              "outlinewidth": 0,
              "ticks": ""
             }
            },
            "type": "scatterternary"
           }
          ],
          "surface": [
           {
            "colorbar": {
             "outlinewidth": 0,
             "ticks": ""
            },
            "colorscale": [
             [
              0,
              "#0d0887"
             ],
             [
              0.1111111111111111,
              "#46039f"
             ],
             [
              0.2222222222222222,
              "#7201a8"
             ],
             [
              0.3333333333333333,
              "#9c179e"
             ],
             [
              0.4444444444444444,
              "#bd3786"
             ],
             [
              0.5555555555555556,
              "#d8576b"
             ],
             [
              0.6666666666666666,
              "#ed7953"
             ],
             [
              0.7777777777777778,
              "#fb9f3a"
             ],
             [
              0.8888888888888888,
              "#fdca26"
             ],
             [
              1,
              "#f0f921"
             ]
            ],
            "type": "surface"
           }
          ],
          "table": [
           {
            "cells": {
             "fill": {
              "color": "#EBF0F8"
             },
             "line": {
              "color": "white"
             }
            },
            "header": {
             "fill": {
              "color": "#C8D4E3"
             },
             "line": {
              "color": "white"
             }
            },
            "type": "table"
           }
          ]
         },
         "layout": {
          "annotationdefaults": {
           "arrowcolor": "#2a3f5f",
           "arrowhead": 0,
           "arrowwidth": 1
          },
          "colorscale": {
           "diverging": [
            [
             0,
             "#8e0152"
            ],
            [
             0.1,
             "#c51b7d"
            ],
            [
             0.2,
             "#de77ae"
            ],
            [
             0.3,
             "#f1b6da"
            ],
            [
             0.4,
             "#fde0ef"
            ],
            [
             0.5,
             "#f7f7f7"
            ],
            [
             0.6,
             "#e6f5d0"
            ],
            [
             0.7,
             "#b8e186"
            ],
            [
             0.8,
             "#7fbc41"
            ],
            [
             0.9,
             "#4d9221"
            ],
            [
             1,
             "#276419"
            ]
           ],
           "sequential": [
            [
             0,
             "#0d0887"
            ],
            [
             0.1111111111111111,
             "#46039f"
            ],
            [
             0.2222222222222222,
             "#7201a8"
            ],
            [
             0.3333333333333333,
             "#9c179e"
            ],
            [
             0.4444444444444444,
             "#bd3786"
            ],
            [
             0.5555555555555556,
             "#d8576b"
            ],
            [
             0.6666666666666666,
             "#ed7953"
            ],
            [
             0.7777777777777778,
             "#fb9f3a"
            ],
            [
             0.8888888888888888,
             "#fdca26"
            ],
            [
             1,
             "#f0f921"
            ]
           ],
           "sequentialminus": [
            [
             0,
             "#0d0887"
            ],
            [
             0.1111111111111111,
             "#46039f"
            ],
            [
             0.2222222222222222,
             "#7201a8"
            ],
            [
             0.3333333333333333,
             "#9c179e"
            ],
            [
             0.4444444444444444,
             "#bd3786"
            ],
            [
             0.5555555555555556,
             "#d8576b"
            ],
            [
             0.6666666666666666,
             "#ed7953"
            ],
            [
             0.7777777777777778,
             "#fb9f3a"
            ],
            [
             0.8888888888888888,
             "#fdca26"
            ],
            [
             1,
             "#f0f921"
            ]
           ]
          },
          "colorway": [
           "#636efa",
           "#EF553B",
           "#00cc96",
           "#ab63fa",
           "#FFA15A",
           "#19d3f3",
           "#FF6692",
           "#B6E880",
           "#FF97FF",
           "#FECB52"
          ],
          "font": {
           "color": "#2a3f5f"
          },
          "geo": {
           "bgcolor": "white",
           "lakecolor": "white",
           "landcolor": "#E5ECF6",
           "showlakes": true,
           "showland": true,
           "subunitcolor": "white"
          },
          "hoverlabel": {
           "align": "left"
          },
          "hovermode": "closest",
          "mapbox": {
           "style": "light"
          },
          "paper_bgcolor": "white",
          "plot_bgcolor": "#E5ECF6",
          "polar": {
           "angularaxis": {
            "gridcolor": "white",
            "linecolor": "white",
            "ticks": ""
           },
           "bgcolor": "#E5ECF6",
           "radialaxis": {
            "gridcolor": "white",
            "linecolor": "white",
            "ticks": ""
           }
          },
          "scene": {
           "xaxis": {
            "backgroundcolor": "#E5ECF6",
            "gridcolor": "white",
            "gridwidth": 2,
            "linecolor": "white",
            "showbackground": true,
            "ticks": "",
            "zerolinecolor": "white"
           },
           "yaxis": {
            "backgroundcolor": "#E5ECF6",
            "gridcolor": "white",
            "gridwidth": 2,
            "linecolor": "white",
            "showbackground": true,
            "ticks": "",
            "zerolinecolor": "white"
           },
           "zaxis": {
            "backgroundcolor": "#E5ECF6",
            "gridcolor": "white",
            "gridwidth": 2,
            "linecolor": "white",
            "showbackground": true,
            "ticks": "",
            "zerolinecolor": "white"
           }
          },
          "shapedefaults": {
           "line": {
            "color": "#2a3f5f"
           }
          },
          "ternary": {
           "aaxis": {
            "gridcolor": "white",
            "linecolor": "white",
            "ticks": ""
           },
           "baxis": {
            "gridcolor": "white",
            "linecolor": "white",
            "ticks": ""
           },
           "bgcolor": "#E5ECF6",
           "caxis": {
            "gridcolor": "white",
            "linecolor": "white",
            "ticks": ""
           }
          },
          "title": {
           "x": 0.05
          },
          "xaxis": {
           "automargin": true,
           "gridcolor": "white",
           "linecolor": "white",
           "ticks": "",
           "zerolinecolor": "white",
           "zerolinewidth": 2
          },
          "yaxis": {
           "automargin": true,
           "gridcolor": "white",
           "linecolor": "white",
           "ticks": "",
           "zerolinecolor": "white",
           "zerolinewidth": 2
          }
         }
        },
        "title": {
         "text": "pdp plot for PassengerClass"
        }
       }
      },
      "text/html": [
       "<div>\n",
       "        \n",
       "        \n",
       "            <div id=\"da2a6d55-949b-40ed-ba60-eea586ce1894\" class=\"plotly-graph-div\" style=\"height:525px; width:100%;\"></div>\n",
       "            <script type=\"text/javascript\">\n",
       "                require([\"plotly\"], function(Plotly) {\n",
       "                    window.PLOTLYENV=window.PLOTLYENV || {};\n",
       "                    \n",
       "                if (document.getElementById(\"da2a6d55-949b-40ed-ba60-eea586ce1894\")) {\n",
       "                    Plotly.newPlot(\n",
       "                        'da2a6d55-949b-40ed-ba60-eea586ce1894',\n",
       "                        [{\"line\": {\"color\": \"grey\", \"width\": 4}, \"mode\": \"lines+markers\", \"name\": \"average prediction <br>for different values of <br>PassengerClass\", \"type\": \"scatter\", \"x\": [1.0, 2.0, 3.0], \"y\": [0.41, 0.4, 0.34]}, {\"line\": {\"color\": \"blue\", \"width\": 4}, \"mode\": \"lines+markers\", \"name\": \"prediction for index 0 <br>for different values of <br>PassengerClass\", \"type\": \"scatter\", \"x\": [1.0, 2.0, 3.0], \"y\": [0.94, 0.91, 0.76]}, {\"hoverinfo\": \"skip\", \"line\": {\"color\": \"grey\"}, \"mode\": \"lines\", \"opacity\": 0.1, \"showlegend\": false, \"type\": \"scatter\", \"x\": [1.0, 2.0, 3.0], \"y\": [0.14185929007578288, 0.14200222009788754, 0.13357729898982862]}, {\"hoverinfo\": \"skip\", \"line\": {\"color\": \"grey\"}, \"mode\": \"lines\", \"opacity\": 0.1, \"showlegend\": false, \"type\": \"scatter\", \"x\": [1.0, 2.0, 3.0], \"y\": [0.2051130347113088, 0.17005907639353152, 0.17138200542948703]}, {\"hoverinfo\": \"skip\", \"line\": {\"color\": \"grey\"}, \"mode\": \"lines\", \"opacity\": 0.1, \"showlegend\": false, \"type\": \"scatter\", \"x\": [1.0, 2.0, 3.0], \"y\": [0.14789922837875705, 0.13075718967770733, 0.14516661175805404]}, {\"hoverinfo\": \"skip\", \"line\": {\"color\": \"grey\"}, \"mode\": \"lines\", \"opacity\": 0.1, \"showlegend\": false, \"type\": \"scatter\", \"x\": [1.0, 2.0, 3.0], \"y\": [0.9299987180669455, 0.9042964385476105, 0.7635134128337029]}, {\"hoverinfo\": \"skip\", \"line\": {\"color\": \"grey\"}, \"mode\": \"lines\", \"opacity\": 0.1, \"showlegend\": false, \"type\": \"scatter\", \"x\": [1.0, 2.0, 3.0], \"y\": [0.14846842249442463, 0.12121062455367283, 0.12095665955088096]}, {\"hoverinfo\": \"skip\", \"line\": {\"color\": \"grey\"}, \"mode\": \"lines\", \"opacity\": 0.1, \"showlegend\": false, \"type\": \"scatter\", \"x\": [1.0, 2.0, 3.0], \"y\": [0.1469035673211595, 0.12976152862010984, 0.14417095070045655]}, {\"hoverinfo\": \"skip\", \"line\": {\"color\": \"grey\"}, \"mode\": \"lines\", \"opacity\": 0.1, \"showlegend\": false, \"type\": \"scatter\", \"x\": [1.0, 2.0, 3.0], \"y\": [0.20078437456119796, 0.17655435373254463, 0.17661428550599212]}, {\"hoverinfo\": \"skip\", \"line\": {\"color\": \"grey\"}, \"mode\": \"lines\", \"opacity\": 0.1, \"showlegend\": false, \"type\": \"scatter\", \"x\": [1.0, 2.0, 3.0], \"y\": [0.1743733992373775, 0.15273710595011328, 0.1490341194813495]}, {\"hoverinfo\": \"skip\", \"line\": {\"color\": \"grey\"}, \"mode\": \"lines\", \"opacity\": 0.1, \"showlegend\": false, \"type\": \"scatter\", \"x\": [1.0, 2.0, 3.0], \"y\": [0.14398429007578287, 0.14412722009788756, 0.13570229898982863]}, {\"hoverinfo\": \"skip\", \"line\": {\"color\": \"grey\"}, \"mode\": \"lines\", \"opacity\": 0.1, \"showlegend\": false, \"type\": \"scatter\", \"x\": [1.0, 2.0, 3.0], \"y\": [0.6709310094223478, 0.6671211082733939, 0.500903404374174]}, {\"hoverinfo\": \"skip\", \"line\": {\"color\": \"grey\"}, \"mode\": \"lines\", \"opacity\": 0.1, \"showlegend\": false, \"type\": \"scatter\", \"x\": [1.0, 2.0, 3.0], \"y\": [0.2575626428084799, 0.24291803895748487, 0.28419786107391365]}, {\"hoverinfo\": \"skip\", \"line\": {\"color\": \"grey\"}, \"mode\": \"lines\", \"opacity\": 0.1, \"showlegend\": false, \"type\": \"scatter\", \"x\": [1.0, 2.0, 3.0], \"y\": [0.8473954127373213, 0.8486823480242566, 0.7212273387554182]}, {\"hoverinfo\": \"skip\", \"line\": {\"color\": \"grey\"}, \"mode\": \"lines\", \"opacity\": 0.1, \"showlegend\": false, \"type\": \"scatter\", \"x\": [1.0, 2.0, 3.0], \"y\": [0.14398429007578287, 0.14412722009788756, 0.13570229898982863]}, {\"hoverinfo\": \"skip\", \"line\": {\"color\": \"grey\"}, \"mode\": \"lines\", \"opacity\": 0.1, \"showlegend\": false, \"type\": \"scatter\", \"x\": [1.0, 2.0, 3.0], \"y\": [0.1959976250787963, 0.17176760425014298, 0.17661428550599212]}, {\"hoverinfo\": \"skip\", \"line\": {\"color\": \"grey\"}, \"mode\": \"lines\", \"opacity\": 0.1, \"showlegend\": false, \"type\": \"scatter\", \"x\": [1.0, 2.0, 3.0], \"y\": [0.1466317589729623, 0.15109498180762299, 0.125317421896834]}, {\"hoverinfo\": \"skip\", \"line\": {\"color\": \"grey\"}, \"mode\": \"lines\", \"opacity\": 0.1, \"showlegend\": false, \"type\": \"scatter\", \"x\": [1.0, 2.0, 3.0], \"y\": [0.46578709161595344, 0.4365430247121262, 0.49190848246320196]}, {\"hoverinfo\": \"skip\", \"line\": {\"color\": \"grey\"}, \"mode\": \"lines\", \"opacity\": 0.1, \"showlegend\": false, \"type\": \"scatter\", \"x\": [1.0, 2.0, 3.0], \"y\": [0.37455116389539406, 0.3774443008120606, 0.43694709093606987]}, {\"hoverinfo\": \"skip\", \"line\": {\"color\": \"grey\"}, \"mode\": \"lines\", \"opacity\": 0.1, \"showlegend\": false, \"type\": \"scatter\", \"x\": [1.0, 2.0, 3.0], \"y\": [0.14467451608688517, 0.14481744610898983, 0.1363925250009309]}, {\"hoverinfo\": \"skip\", \"line\": {\"color\": \"grey\"}, \"mode\": \"lines\", \"opacity\": 0.1, \"showlegend\": false, \"type\": \"scatter\", \"x\": [1.0, 2.0, 3.0], \"y\": [0.780834341565665, 0.7637178042611046, 0.5408080322650712]}, {\"hoverinfo\": \"skip\", \"line\": {\"color\": \"grey\"}, \"mode\": \"lines\", \"opacity\": 0.1, \"showlegend\": false, \"type\": \"scatter\", \"x\": [1.0, 2.0, 3.0], \"y\": [0.8393057720307928, 0.8275170263460444, 0.6808720778708599]}, {\"hoverinfo\": \"skip\", \"line\": {\"color\": \"grey\"}, \"mode\": \"lines\", \"opacity\": 0.1, \"showlegend\": false, \"type\": \"scatter\", \"x\": [1.0, 2.0, 3.0], \"y\": [0.1986494218984381, 0.19037508239486323, 0.18306829384275158]}, {\"hoverinfo\": \"skip\", \"line\": {\"color\": \"grey\"}, \"mode\": \"lines\", \"opacity\": 0.1, \"showlegend\": false, \"type\": \"scatter\", \"x\": [1.0, 2.0, 3.0], \"y\": [0.7384646505178661, 0.7536539222390527, 0.5924770811348998]}, {\"hoverinfo\": \"skip\", \"line\": {\"color\": \"grey\"}, \"mode\": \"lines\", \"opacity\": 0.1, \"showlegend\": false, \"type\": \"scatter\", \"x\": [1.0, 2.0, 3.0], \"y\": [0.39540308418469505, 0.4212456378659431, 0.43713417638260316]}, {\"hoverinfo\": \"skip\", \"line\": {\"color\": \"grey\"}, \"mode\": \"lines\", \"opacity\": 0.1, \"showlegend\": false, \"type\": \"scatter\", \"x\": [1.0, 2.0, 3.0], \"y\": [0.6681625608945002, 0.6643526597455462, 0.5081349558463263]}, {\"hoverinfo\": \"skip\", \"line\": {\"color\": \"grey\"}, \"mode\": \"lines\", \"opacity\": 0.1, \"showlegend\": false, \"type\": \"scatter\", \"x\": [1.0, 2.0, 3.0], \"y\": [0.14956293850485858, 0.1210148179834616, 0.12076085298066969]}, {\"hoverinfo\": \"skip\", \"line\": {\"color\": \"grey\"}, \"mode\": \"lines\", \"opacity\": 0.1, \"showlegend\": false, \"type\": \"scatter\", \"x\": [1.0, 2.0, 3.0], \"y\": [0.9374120747792901, 0.9074308354490804, 0.7582729962454603]}, {\"hoverinfo\": \"skip\", \"line\": {\"color\": \"grey\"}, \"mode\": \"lines\", \"opacity\": 0.1, \"showlegend\": false, \"type\": \"scatter\", \"x\": [1.0, 2.0, 3.0], \"y\": [0.15071445438985934, 0.13357241568880965, 0.15487487681839235]}, {\"hoverinfo\": \"skip\", \"line\": {\"color\": \"grey\"}, \"mode\": \"lines\", \"opacity\": 0.1, \"showlegend\": false, \"type\": \"scatter\", \"x\": [1.0, 2.0, 3.0], \"y\": [0.43901112568897316, 0.4648536793702212, 0.4780646576660257]}, {\"hoverinfo\": \"skip\", \"line\": {\"color\": \"grey\"}, \"mode\": \"lines\", \"opacity\": 0.1, \"showlegend\": false, \"type\": \"scatter\", \"x\": [1.0, 2.0, 3.0], \"y\": [0.9090927189791345, 0.8826892546796675, 0.6525685298062653]}, {\"hoverinfo\": \"skip\", \"line\": {\"color\": \"grey\"}, \"mode\": \"lines\", \"opacity\": 0.1, \"showlegend\": false, \"type\": \"scatter\", \"x\": [1.0, 2.0, 3.0], \"y\": [0.9349867905181874, 0.9196022306336274, 0.6516180814637509]}, {\"hoverinfo\": \"skip\", \"line\": {\"color\": \"grey\"}, \"mode\": \"lines\", \"opacity\": 0.1, \"showlegend\": false, \"type\": \"scatter\", \"x\": [1.0, 2.0, 3.0], \"y\": [0.27275070511255495, 0.24179866950634554, 0.23768900825792585]}, {\"hoverinfo\": \"skip\", \"line\": {\"color\": \"grey\"}, \"mode\": \"lines\", \"opacity\": 0.1, \"showlegend\": false, \"type\": \"scatter\", \"x\": [1.0, 2.0, 3.0], \"y\": [0.6158912491500452, 0.6271495464083425, 0.17178641384724283]}, {\"hoverinfo\": \"skip\", \"line\": {\"color\": \"grey\"}, \"mode\": \"lines\", \"opacity\": 0.1, \"showlegend\": false, \"type\": \"scatter\", \"x\": [1.0, 2.0, 3.0], \"y\": [0.4239158613807148, 0.39384120730347333, 0.41016919517294587]}, {\"hoverinfo\": \"skip\", \"line\": {\"color\": \"grey\"}, \"mode\": \"lines\", \"opacity\": 0.1, \"showlegend\": false, \"type\": \"scatter\", \"x\": [1.0, 2.0, 3.0], \"y\": [0.35386319477031114, 0.3840665502040928, 0.43541186783551766]}, {\"hoverinfo\": \"skip\", \"line\": {\"color\": \"grey\"}, \"mode\": \"lines\", \"opacity\": 0.1, \"showlegend\": false, \"type\": \"scatter\", \"x\": [1.0, 2.0, 3.0], \"y\": [0.7855854920122504, 0.8204827795924827, 0.5050377318609081]}, {\"hoverinfo\": \"skip\", \"line\": {\"color\": \"grey\"}, \"mode\": \"lines\", \"opacity\": 0.1, \"showlegend\": false, \"type\": \"scatter\", \"x\": [1.0, 2.0, 3.0], \"y\": [0.15222714667359835, 0.14026893150196046, 0.15467835358230717]}, {\"hoverinfo\": \"skip\", \"line\": {\"color\": \"grey\"}, \"mode\": \"lines\", \"opacity\": 0.1, \"showlegend\": false, \"type\": \"scatter\", \"x\": [1.0, 2.0, 3.0], \"y\": [0.16890085024685422, 0.14154643476447537, 0.09977011281616616]}, {\"hoverinfo\": \"skip\", \"line\": {\"color\": \"grey\"}, \"mode\": \"lines\", \"opacity\": 0.1, \"showlegend\": false, \"type\": \"scatter\", \"x\": [1.0, 2.0, 3.0], \"y\": [0.15532329792727428, 0.1381812592262246, 0.15259068130657133]}, {\"hoverinfo\": \"skip\", \"line\": {\"color\": \"grey\"}, \"mode\": \"lines\", \"opacity\": 0.1, \"showlegend\": false, \"type\": \"scatter\", \"x\": [1.0, 2.0, 3.0], \"y\": [0.8742058417725478, 0.8718095175272532, 0.622278583264175]}, {\"hoverinfo\": \"skip\", \"line\": {\"color\": \"grey\"}, \"mode\": \"lines\", \"opacity\": 0.1, \"showlegend\": false, \"type\": \"scatter\", \"x\": [1.0, 2.0, 3.0], \"y\": [0.14490232149523666, 0.11764452355448488, 0.12246327565178855]}, {\"hoverinfo\": \"skip\", \"line\": {\"color\": \"grey\"}, \"mode\": \"lines\", \"opacity\": 0.1, \"showlegend\": false, \"type\": \"scatter\", \"x\": [1.0, 2.0, 3.0], \"y\": [0.20347650152203364, 0.17924648069338034, 0.1793064124668278]}, {\"hoverinfo\": \"skip\", \"line\": {\"color\": \"grey\"}, \"mode\": \"lines\", \"opacity\": 0.1, \"showlegend\": false, \"type\": \"scatter\", \"x\": [1.0, 2.0, 3.0], \"y\": [0.17249839923737745, 0.15086210595011326, 0.1471591194813495]}, {\"hoverinfo\": \"skip\", \"line\": {\"color\": \"grey\"}, \"mode\": \"lines\", \"opacity\": 0.1, \"showlegend\": false, \"type\": \"scatter\", \"x\": [1.0, 2.0, 3.0], \"y\": [0.21517223633121774, 0.22125657500066612, 0.10213965850301766]}, {\"hoverinfo\": \"skip\", \"line\": {\"color\": \"grey\"}, \"mode\": \"lines\", \"opacity\": 0.1, \"showlegend\": false, \"type\": \"scatter\", \"x\": [1.0, 2.0, 3.0], \"y\": [0.2149967926649265, 0.20672245316135157, 0.1959808820005443]}, {\"hoverinfo\": \"skip\", \"line\": {\"color\": \"grey\"}, \"mode\": \"lines\", \"opacity\": 0.1, \"showlegend\": false, \"type\": \"scatter\", \"x\": [1.0, 2.0, 3.0], \"y\": [0.788561905516381, 0.7619453682118207, 0.5509995533382291]}, {\"hoverinfo\": \"skip\", \"line\": {\"color\": \"grey\"}, \"mode\": \"lines\", \"opacity\": 0.1, \"showlegend\": false, \"type\": \"scatter\", \"x\": [1.0, 2.0, 3.0], \"y\": [0.19500438445254445, 0.15936828180354384, 0.1559058060432051]}, {\"hoverinfo\": \"skip\", \"line\": {\"color\": \"grey\"}, \"mode\": \"lines\", \"opacity\": 0.1, \"showlegend\": false, \"type\": \"scatter\", \"x\": [1.0, 2.0, 3.0], \"y\": [0.21257795937255375, 0.16611791923442915, 0.162196207383229]}, {\"hoverinfo\": \"skip\", \"line\": {\"color\": \"grey\"}, \"mode\": \"lines\", \"opacity\": 0.1, \"showlegend\": false, \"type\": \"scatter\", \"x\": [1.0, 2.0, 3.0], \"y\": [0.8898266261888262, 0.8570810566262014, 0.6293232401067974]}, {\"hoverinfo\": \"skip\", \"line\": {\"color\": \"grey\"}, \"mode\": \"lines\", \"opacity\": 0.1, \"showlegend\": false, \"type\": \"scatter\", \"x\": [1.0, 2.0, 3.0], \"y\": [0.7743971029004004, 0.7843705071557195, 0.7434049926714459]}, {\"hoverinfo\": \"skip\", \"line\": {\"color\": \"grey\"}, \"mode\": \"lines\", \"opacity\": 0.1, \"showlegend\": false, \"type\": \"scatter\", \"x\": [1.0, 2.0, 3.0], \"y\": [0.6647208735495872, 0.6609109724006332, 0.526041320449465]}, {\"hoverinfo\": \"skip\", \"line\": {\"color\": \"grey\"}, \"mode\": \"lines\", \"opacity\": 0.1, \"showlegend\": false, \"type\": \"scatter\", \"x\": [1.0, 2.0, 3.0], \"y\": [0.1714686377788701, 0.1518739332604787, 0.14651770527708863]}, {\"hoverinfo\": \"skip\", \"line\": {\"color\": \"grey\"}, \"mode\": \"lines\", \"opacity\": 0.1, \"showlegend\": false, \"type\": \"scatter\", \"x\": [1.0, 2.0, 3.0], \"y\": [0.3771169971863034, 0.3937290948106346, 0.30111901201776087]}, {\"hoverinfo\": \"skip\", \"line\": {\"color\": \"grey\"}, \"mode\": \"lines\", \"opacity\": 0.1, \"showlegend\": false, \"type\": \"scatter\", \"x\": [1.0, 2.0, 3.0], \"y\": [0.6853847580282387, 0.668408190212618, 0.47800554426648545]}, {\"hoverinfo\": \"skip\", \"line\": {\"color\": \"grey\"}, \"mode\": \"lines\", \"opacity\": 0.1, \"showlegend\": false, \"type\": \"scatter\", \"x\": [1.0, 2.0, 3.0], \"y\": [0.14398429007578287, 0.14412722009788756, 0.13570229898982863]}, {\"hoverinfo\": \"skip\", \"line\": {\"color\": \"grey\"}, \"mode\": \"lines\", \"opacity\": 0.1, \"showlegend\": false, \"type\": \"scatter\", \"x\": [1.0, 2.0, 3.0], \"y\": [0.6157866465801297, 0.6184232130581832, 0.5452393741412181]}, {\"hoverinfo\": \"skip\", \"line\": {\"color\": \"grey\"}, \"mode\": \"lines\", \"opacity\": 0.1, \"showlegend\": false, \"type\": \"scatter\", \"x\": [1.0, 2.0, 3.0], \"y\": [0.6322924185847026, 0.6284825174357487, 0.4622648135365289]}, {\"hoverinfo\": \"skip\", \"line\": {\"color\": \"grey\"}, \"mode\": \"lines\", \"opacity\": 0.1, \"showlegend\": false, \"type\": \"scatter\", \"x\": [1.0, 2.0, 3.0], \"y\": [0.14398429007578287, 0.14412722009788756, 0.13570229898982863]}, {\"hoverinfo\": \"skip\", \"line\": {\"color\": \"grey\"}, \"mode\": \"lines\", \"opacity\": 0.1, \"showlegend\": false, \"type\": \"scatter\", \"x\": [1.0, 2.0, 3.0], \"y\": [0.40147696469578464, 0.4122764666687944, 0.46920468569469054]}, {\"hoverinfo\": \"skip\", \"line\": {\"color\": \"grey\"}, \"mode\": \"lines\", \"opacity\": 0.1, \"showlegend\": false, \"type\": \"scatter\", \"x\": [1.0, 2.0, 3.0], \"y\": [0.14759379333226183, 0.13045175463121214, 0.14486117671155885]}, {\"hoverinfo\": \"skip\", \"line\": {\"color\": \"grey\"}, \"mode\": \"lines\", \"opacity\": 0.1, \"showlegend\": false, \"type\": \"scatter\", \"x\": [1.0, 2.0, 3.0], \"y\": [0.394587605422846, 0.4164001562589265, 0.46774547389035126]}, {\"hoverinfo\": \"skip\", \"line\": {\"color\": \"grey\"}, \"mode\": \"lines\", \"opacity\": 0.1, \"showlegend\": false, \"type\": \"scatter\", \"x\": [1.0, 2.0, 3.0], \"y\": [0.7575531208487807, 0.7592765251040998, 0.6059234090168557]}, {\"hoverinfo\": \"skip\", \"line\": {\"color\": \"grey\"}, \"mode\": \"lines\", \"opacity\": 0.1, \"showlegend\": false, \"type\": \"scatter\", \"x\": [1.0, 2.0, 3.0], \"y\": [0.1466317589729623, 0.15109498180762299, 0.125317421896834]}, {\"hoverinfo\": \"skip\", \"line\": {\"color\": \"grey\"}, \"mode\": \"lines\", \"opacity\": 0.1, \"showlegend\": false, \"type\": \"scatter\", \"x\": [1.0, 2.0, 3.0], \"y\": [0.45751276204148555, 0.4584502644798705, 0.5002086808068351]}, {\"hoverinfo\": \"skip\", \"line\": {\"color\": \"grey\"}, \"mode\": \"lines\", \"opacity\": 0.1, \"showlegend\": false, \"type\": \"scatter\", \"x\": [1.0, 2.0, 3.0], \"y\": [0.1522026368696768, 0.13506059816862714, 0.14947002024897382]}, {\"hoverinfo\": \"skip\", \"line\": {\"color\": \"grey\"}, \"mode\": \"lines\", \"opacity\": 0.1, \"showlegend\": false, \"type\": \"scatter\", \"x\": [1.0, 2.0, 3.0], \"y\": [0.14185929007578288, 0.14200222009788754, 0.13357729898982862]}, {\"hoverinfo\": \"skip\", \"line\": {\"color\": \"grey\"}, \"mode\": \"lines\", \"opacity\": 0.1, \"showlegend\": false, \"type\": \"scatter\", \"x\": [1.0, 2.0, 3.0], \"y\": [0.5358007975048785, 0.5108582336956579, 0.5544685198100856]}, {\"hoverinfo\": \"skip\", \"line\": {\"color\": \"grey\"}, \"mode\": \"lines\", \"opacity\": 0.1, \"showlegend\": false, \"type\": \"scatter\", \"x\": [1.0, 2.0, 3.0], \"y\": [0.6444828285966244, 0.6406729274476706, 0.44899322852974627]}, {\"hoverinfo\": \"skip\", \"line\": {\"color\": \"grey\"}, \"mode\": \"lines\", \"opacity\": 0.1, \"showlegend\": false, \"type\": \"scatter\", \"x\": [1.0, 2.0, 3.0], \"y\": [0.1469035673211595, 0.12976152862010984, 0.14417095070045655]}, {\"hoverinfo\": \"skip\", \"line\": {\"color\": \"grey\"}, \"mode\": \"lines\", \"opacity\": 0.1, \"showlegend\": false, \"type\": \"scatter\", \"x\": [1.0, 2.0, 3.0], \"y\": [0.7743971029004004, 0.7843705071557195, 0.7434049926714459]}, {\"hoverinfo\": \"skip\", \"line\": {\"color\": \"grey\"}, \"mode\": \"lines\", \"opacity\": 0.1, \"showlegend\": false, \"type\": \"scatter\", \"x\": [1.0, 2.0, 3.0], \"y\": [0.8679229757743622, 0.8444675634229472, 0.6810077915157408]}, {\"hoverinfo\": \"skip\", \"line\": {\"color\": \"grey\"}, \"mode\": \"lines\", \"opacity\": 0.1, \"showlegend\": false, \"type\": \"scatter\", \"x\": [1.0, 2.0, 3.0], \"y\": [0.2726016101782302, 0.2261415700401056, 0.2080185757797279]}, {\"hoverinfo\": \"skip\", \"line\": {\"color\": \"grey\"}, \"mode\": \"lines\", \"opacity\": 0.1, \"showlegend\": false, \"type\": \"scatter\", \"x\": [1.0, 2.0, 3.0], \"y\": [0.14329478972253856, 0.11603699178178677, 0.11884754290802717]}, {\"hoverinfo\": \"skip\", \"line\": {\"color\": \"grey\"}, \"mode\": \"lines\", \"opacity\": 0.1, \"showlegend\": false, \"type\": \"scatter\", \"x\": [1.0, 2.0, 3.0], \"y\": [0.1442845197021119, 0.1271424810010622, 0.14155190308140891]}, {\"hoverinfo\": \"skip\", \"line\": {\"color\": \"grey\"}, \"mode\": \"lines\", \"opacity\": 0.1, \"showlegend\": false, \"type\": \"scatter\", \"x\": [1.0, 2.0, 3.0], \"y\": [0.6681625608945002, 0.6643526597455462, 0.5109920987034692]}, {\"hoverinfo\": \"skip\", \"line\": {\"color\": \"grey\"}, \"mode\": \"lines\", \"opacity\": 0.1, \"showlegend\": false, \"type\": \"scatter\", \"x\": [1.0, 2.0, 3.0], \"y\": [0.7482284006349239, 0.7500451228625933, 0.6590617929198156]}, {\"hoverinfo\": \"skip\", \"line\": {\"color\": \"grey\"}, \"mode\": \"lines\", \"opacity\": 0.1, \"showlegend\": false, \"type\": \"scatter\", \"x\": [1.0, 2.0, 3.0], \"y\": [0.1522026368696768, 0.13506059816862714, 0.14947002024897382]}, {\"hoverinfo\": \"skip\", \"line\": {\"color\": \"grey\"}, \"mode\": \"lines\", \"opacity\": 0.1, \"showlegend\": false, \"type\": \"scatter\", \"x\": [1.0, 2.0, 3.0], \"y\": [0.6796221816420869, 0.6626456138264664, 0.4518587507554587]}, {\"hoverinfo\": \"skip\", \"line\": {\"color\": \"grey\"}, \"mode\": \"lines\", \"opacity\": 0.1, \"showlegend\": false, \"type\": \"scatter\", \"x\": [1.0, 2.0, 3.0], \"y\": [0.14759379333226183, 0.13045175463121214, 0.14486117671155885]}, {\"hoverinfo\": \"skip\", \"line\": {\"color\": \"grey\"}, \"mode\": \"lines\", \"opacity\": 0.1, \"showlegend\": false, \"type\": \"scatter\", \"x\": [1.0, 2.0, 3.0], \"y\": [0.6827558080954758, 0.6782930651646477, 0.21277422470294252]}, {\"hoverinfo\": \"skip\", \"line\": {\"color\": \"grey\"}, \"mode\": \"lines\", \"opacity\": 0.1, \"showlegend\": false, \"type\": \"scatter\", \"x\": [1.0, 2.0, 3.0], \"y\": [0.2159148194701051, 0.18882765578430896, 0.191565147778612]}, {\"hoverinfo\": \"skip\", \"line\": {\"color\": \"grey\"}, \"mode\": \"lines\", \"opacity\": 0.1, \"showlegend\": false, \"type\": \"scatter\", \"x\": [1.0, 2.0, 3.0], \"y\": [0.29998329520138184, 0.2896216312252873, 0.30956398305913946]}, {\"hoverinfo\": \"skip\", \"line\": {\"color\": \"grey\"}, \"mode\": \"lines\", \"opacity\": 0.1, \"showlegend\": false, \"type\": \"scatter\", \"x\": [1.0, 2.0, 3.0], \"y\": [0.2317699519252164, 0.22449073106449602, 0.21413950169635965]}, {\"hoverinfo\": \"skip\", \"line\": {\"color\": \"grey\"}, \"mode\": \"lines\", \"opacity\": 0.1, \"showlegend\": false, \"type\": \"scatter\", \"x\": [1.0, 2.0, 3.0], \"y\": [0.14759379333226183, 0.13045175463121214, 0.14486117671155885]}, {\"hoverinfo\": \"skip\", \"line\": {\"color\": \"grey\"}, \"mode\": \"lines\", \"opacity\": 0.1, \"showlegend\": false, \"type\": \"scatter\", \"x\": [1.0, 2.0, 3.0], \"y\": [0.14692807712508105, 0.13496986195344315, 0.14937928403378986]}, {\"hoverinfo\": \"skip\", \"line\": {\"color\": \"grey\"}, \"mode\": \"lines\", \"opacity\": 0.1, \"showlegend\": false, \"type\": \"scatter\", \"x\": [1.0, 2.0, 3.0], \"y\": [0.29691740102814546, 0.2811095468156741, 0.31471381774491847]}, {\"hoverinfo\": \"skip\", \"line\": {\"color\": \"grey\"}, \"mode\": \"lines\", \"opacity\": 0.1, \"showlegend\": false, \"type\": \"scatter\", \"x\": [1.0, 2.0, 3.0], \"y\": [0.37981253219805877, 0.3827404192960742, 0.2767478175546438]}, {\"hoverinfo\": \"skip\", \"line\": {\"color\": \"grey\"}, \"mode\": \"lines\", \"opacity\": 0.1, \"showlegend\": false, \"type\": \"scatter\", \"x\": [1.0, 2.0, 3.0], \"y\": [0.34485066437028555, 0.3789077620244607, 0.3998190468013814]}, {\"hoverinfo\": \"skip\", \"line\": {\"color\": \"grey\"}, \"mode\": \"lines\", \"opacity\": 0.1, \"showlegend\": false, \"type\": \"scatter\", \"x\": [1.0, 2.0, 3.0], \"y\": [0.14759379333226183, 0.13045175463121214, 0.14486117671155885]}, {\"hoverinfo\": \"skip\", \"line\": {\"color\": \"grey\"}, \"mode\": \"lines\", \"opacity\": 0.1, \"showlegend\": false, \"type\": \"scatter\", \"x\": [1.0, 2.0, 3.0], \"y\": [0.7743971029004004, 0.7843705071557195, 0.7490049926714459]}, {\"hoverinfo\": \"skip\", \"line\": {\"color\": \"grey\"}, \"mode\": \"lines\", \"opacity\": 0.1, \"showlegend\": false, \"type\": \"scatter\", \"x\": [1.0, 2.0, 3.0], \"y\": [0.6391719985654791, 0.6221954307498586, 0.43179278480372596]}, {\"hoverinfo\": \"skip\", \"line\": {\"color\": \"grey\"}, \"mode\": \"lines\", \"opacity\": 0.1, \"showlegend\": false, \"type\": \"scatter\", \"x\": [1.0, 2.0, 3.0], \"y\": [0.7428950673015905, 0.7447117895292599, 0.6402936769777867]}, {\"hoverinfo\": \"skip\", \"line\": {\"color\": \"grey\"}, \"mode\": \"lines\", \"opacity\": 0.1, \"showlegend\": false, \"type\": \"scatter\", \"x\": [1.0, 2.0, 3.0], \"y\": [0.20273584553204574, 0.1670997428830451, 0.16670178325173865]}, {\"hoverinfo\": \"skip\", \"line\": {\"color\": \"grey\"}, \"mode\": \"lines\", \"opacity\": 0.1, \"showlegend\": false, \"type\": \"scatter\", \"x\": [1.0, 2.0, 3.0], \"y\": [0.14719358321746673, 0.130051544516417, 0.14446096659676372]}, {\"hoverinfo\": \"skip\", \"line\": {\"color\": \"grey\"}, \"mode\": \"lines\", \"opacity\": 0.1, \"showlegend\": false, \"type\": \"scatter\", \"x\": [1.0, 2.0, 3.0], \"y\": [0.1442845197021119, 0.1271424810010622, 0.14155190308140891]}, {\"hoverinfo\": \"skip\", \"line\": {\"color\": \"grey\"}, \"mode\": \"lines\", \"opacity\": 0.1, \"showlegend\": false, \"type\": \"scatter\", \"x\": [1.0, 2.0, 3.0], \"y\": [0.1442845197021119, 0.1271424810010622, 0.14155190308140891]}, {\"hoverinfo\": \"skip\", \"line\": {\"color\": \"grey\"}, \"mode\": \"lines\", \"opacity\": 0.1, \"showlegend\": false, \"type\": \"scatter\", \"x\": [1.0, 2.0, 3.0], \"y\": [0.8613291439472364, 0.8301891744582968, 0.5696809565442693]}, {\"hoverinfo\": \"skip\", \"line\": {\"color\": \"grey\"}, \"mode\": \"lines\", \"opacity\": 0.1, \"showlegend\": false, \"type\": \"scatter\", \"x\": [1.0, 2.0, 3.0], \"y\": [0.7662245895360215, 0.7634579784303576, 0.6952811694702986]}, {\"hoverinfo\": \"skip\", \"line\": {\"color\": \"grey\"}, \"mode\": \"lines\", \"opacity\": 0.1, \"showlegend\": false, \"type\": \"scatter\", \"x\": [1.0, 2.0, 3.0], \"y\": [0.20471002795904414, 0.19643568845546924, 0.18912889990335763]}, {\"hoverinfo\": \"skip\", \"line\": {\"color\": \"grey\"}, \"mode\": \"lines\", \"opacity\": 0.1, \"showlegend\": false, \"type\": \"scatter\", \"x\": [1.0, 2.0, 3.0], \"y\": [0.26064916604477295, 0.2517399059062775, 0.2793058634992788]}, {\"hoverinfo\": \"skip\", \"line\": {\"color\": \"grey\"}, \"mode\": \"lines\", \"opacity\": 0.1, \"showlegend\": false, \"type\": \"scatter\", \"x\": [1.0, 2.0, 3.0], \"y\": [0.48046304069298984, 0.48319849735887277, 0.5198108989886857]}],\n",
       "                        {\"annotations\": [{\"text\": \"baseline value = 1\", \"x\": 1, \"y\": 0.09977011281616616}, {\"text\": \"baseline pred = 0.94\", \"x\": 3.0, \"y\": 0.9374120747792901}], \"shapes\": [{\"line\": {\"color\": \"MediumPurple\", \"dash\": \"dot\", \"width\": 4}, \"type\": \"line\", \"x0\": 1, \"x1\": 1, \"xref\": \"x\", \"y0\": 0.09977011281616616, \"y1\": 0.9374120747792901, \"yref\": \"y\"}, {\"line\": {\"color\": \"MediumPurple\", \"dash\": \"dot\", \"width\": 4}, \"type\": \"line\", \"x0\": 1.0, \"x1\": 3.0, \"xref\": \"x\", \"y0\": 0.9374120747792901, \"y1\": 0.9374120747792901, \"yref\": \"y\"}], \"showlegend\": false, \"template\": {\"data\": {\"bar\": [{\"error_x\": {\"color\": \"#2a3f5f\"}, \"error_y\": {\"color\": \"#2a3f5f\"}, \"marker\": {\"line\": {\"color\": \"#E5ECF6\", \"width\": 0.5}}, \"type\": \"bar\"}], \"barpolar\": [{\"marker\": {\"line\": {\"color\": \"#E5ECF6\", \"width\": 0.5}}, \"type\": \"barpolar\"}], \"carpet\": [{\"aaxis\": {\"endlinecolor\": \"#2a3f5f\", \"gridcolor\": \"white\", \"linecolor\": \"white\", \"minorgridcolor\": \"white\", \"startlinecolor\": \"#2a3f5f\"}, \"baxis\": {\"endlinecolor\": \"#2a3f5f\", \"gridcolor\": \"white\", \"linecolor\": \"white\", \"minorgridcolor\": \"white\", \"startlinecolor\": \"#2a3f5f\"}, \"type\": \"carpet\"}], \"choropleth\": [{\"colorbar\": {\"outlinewidth\": 0, \"ticks\": \"\"}, \"type\": \"choropleth\"}], \"contour\": [{\"colorbar\": {\"outlinewidth\": 0, \"ticks\": \"\"}, \"colorscale\": [[0.0, \"#0d0887\"], [0.1111111111111111, \"#46039f\"], [0.2222222222222222, \"#7201a8\"], [0.3333333333333333, \"#9c179e\"], [0.4444444444444444, \"#bd3786\"], [0.5555555555555556, \"#d8576b\"], [0.6666666666666666, \"#ed7953\"], [0.7777777777777778, \"#fb9f3a\"], [0.8888888888888888, \"#fdca26\"], [1.0, \"#f0f921\"]], \"type\": \"contour\"}], \"contourcarpet\": [{\"colorbar\": {\"outlinewidth\": 0, \"ticks\": \"\"}, \"type\": \"contourcarpet\"}], \"heatmap\": [{\"colorbar\": {\"outlinewidth\": 0, \"ticks\": \"\"}, \"colorscale\": [[0.0, \"#0d0887\"], [0.1111111111111111, \"#46039f\"], [0.2222222222222222, \"#7201a8\"], [0.3333333333333333, \"#9c179e\"], [0.4444444444444444, \"#bd3786\"], [0.5555555555555556, \"#d8576b\"], [0.6666666666666666, \"#ed7953\"], [0.7777777777777778, \"#fb9f3a\"], [0.8888888888888888, \"#fdca26\"], [1.0, \"#f0f921\"]], \"type\": \"heatmap\"}], \"heatmapgl\": [{\"colorbar\": {\"outlinewidth\": 0, \"ticks\": \"\"}, \"colorscale\": [[0.0, \"#0d0887\"], [0.1111111111111111, \"#46039f\"], [0.2222222222222222, \"#7201a8\"], [0.3333333333333333, \"#9c179e\"], [0.4444444444444444, \"#bd3786\"], [0.5555555555555556, \"#d8576b\"], [0.6666666666666666, \"#ed7953\"], [0.7777777777777778, \"#fb9f3a\"], [0.8888888888888888, \"#fdca26\"], [1.0, \"#f0f921\"]], \"type\": \"heatmapgl\"}], \"histogram\": [{\"marker\": {\"colorbar\": {\"outlinewidth\": 0, \"ticks\": \"\"}}, \"type\": \"histogram\"}], \"histogram2d\": [{\"colorbar\": {\"outlinewidth\": 0, \"ticks\": \"\"}, \"colorscale\": [[0.0, \"#0d0887\"], [0.1111111111111111, \"#46039f\"], [0.2222222222222222, \"#7201a8\"], [0.3333333333333333, \"#9c179e\"], [0.4444444444444444, \"#bd3786\"], [0.5555555555555556, \"#d8576b\"], [0.6666666666666666, \"#ed7953\"], [0.7777777777777778, \"#fb9f3a\"], [0.8888888888888888, \"#fdca26\"], [1.0, \"#f0f921\"]], \"type\": \"histogram2d\"}], \"histogram2dcontour\": [{\"colorbar\": {\"outlinewidth\": 0, \"ticks\": \"\"}, \"colorscale\": [[0.0, \"#0d0887\"], [0.1111111111111111, \"#46039f\"], [0.2222222222222222, \"#7201a8\"], [0.3333333333333333, \"#9c179e\"], [0.4444444444444444, \"#bd3786\"], [0.5555555555555556, \"#d8576b\"], [0.6666666666666666, \"#ed7953\"], [0.7777777777777778, \"#fb9f3a\"], [0.8888888888888888, \"#fdca26\"], [1.0, \"#f0f921\"]], \"type\": \"histogram2dcontour\"}], \"mesh3d\": [{\"colorbar\": {\"outlinewidth\": 0, \"ticks\": \"\"}, \"type\": \"mesh3d\"}], \"parcoords\": [{\"line\": {\"colorbar\": {\"outlinewidth\": 0, \"ticks\": \"\"}}, \"type\": \"parcoords\"}], \"scatter\": [{\"marker\": {\"colorbar\": {\"outlinewidth\": 0, \"ticks\": \"\"}}, \"type\": \"scatter\"}], \"scatter3d\": [{\"line\": {\"colorbar\": {\"outlinewidth\": 0, \"ticks\": \"\"}}, \"marker\": {\"colorbar\": {\"outlinewidth\": 0, \"ticks\": \"\"}}, \"type\": \"scatter3d\"}], \"scattercarpet\": [{\"marker\": {\"colorbar\": {\"outlinewidth\": 0, \"ticks\": \"\"}}, \"type\": \"scattercarpet\"}], \"scattergeo\": [{\"marker\": {\"colorbar\": {\"outlinewidth\": 0, \"ticks\": \"\"}}, \"type\": \"scattergeo\"}], \"scattergl\": [{\"marker\": {\"colorbar\": {\"outlinewidth\": 0, \"ticks\": \"\"}}, \"type\": \"scattergl\"}], \"scattermapbox\": [{\"marker\": {\"colorbar\": {\"outlinewidth\": 0, \"ticks\": \"\"}}, \"type\": \"scattermapbox\"}], \"scatterpolar\": [{\"marker\": {\"colorbar\": {\"outlinewidth\": 0, \"ticks\": \"\"}}, \"type\": \"scatterpolar\"}], \"scatterpolargl\": [{\"marker\": {\"colorbar\": {\"outlinewidth\": 0, \"ticks\": \"\"}}, \"type\": \"scatterpolargl\"}], \"scatterternary\": [{\"marker\": {\"colorbar\": {\"outlinewidth\": 0, \"ticks\": \"\"}}, \"type\": \"scatterternary\"}], \"surface\": [{\"colorbar\": {\"outlinewidth\": 0, \"ticks\": \"\"}, \"colorscale\": [[0.0, \"#0d0887\"], [0.1111111111111111, \"#46039f\"], [0.2222222222222222, \"#7201a8\"], [0.3333333333333333, \"#9c179e\"], [0.4444444444444444, \"#bd3786\"], [0.5555555555555556, \"#d8576b\"], [0.6666666666666666, \"#ed7953\"], [0.7777777777777778, \"#fb9f3a\"], [0.8888888888888888, \"#fdca26\"], [1.0, \"#f0f921\"]], \"type\": \"surface\"}], \"table\": [{\"cells\": {\"fill\": {\"color\": \"#EBF0F8\"}, \"line\": {\"color\": \"white\"}}, \"header\": {\"fill\": {\"color\": \"#C8D4E3\"}, \"line\": {\"color\": \"white\"}}, \"type\": \"table\"}]}, \"layout\": {\"annotationdefaults\": {\"arrowcolor\": \"#2a3f5f\", \"arrowhead\": 0, \"arrowwidth\": 1}, \"colorscale\": {\"diverging\": [[0, \"#8e0152\"], [0.1, \"#c51b7d\"], [0.2, \"#de77ae\"], [0.3, \"#f1b6da\"], [0.4, \"#fde0ef\"], [0.5, \"#f7f7f7\"], [0.6, \"#e6f5d0\"], [0.7, \"#b8e186\"], [0.8, \"#7fbc41\"], [0.9, \"#4d9221\"], [1, \"#276419\"]], \"sequential\": [[0.0, \"#0d0887\"], [0.1111111111111111, \"#46039f\"], [0.2222222222222222, \"#7201a8\"], [0.3333333333333333, \"#9c179e\"], [0.4444444444444444, \"#bd3786\"], [0.5555555555555556, \"#d8576b\"], [0.6666666666666666, \"#ed7953\"], [0.7777777777777778, \"#fb9f3a\"], [0.8888888888888888, \"#fdca26\"], [1.0, \"#f0f921\"]], \"sequentialminus\": [[0.0, \"#0d0887\"], [0.1111111111111111, \"#46039f\"], [0.2222222222222222, \"#7201a8\"], [0.3333333333333333, \"#9c179e\"], [0.4444444444444444, \"#bd3786\"], [0.5555555555555556, \"#d8576b\"], [0.6666666666666666, \"#ed7953\"], [0.7777777777777778, \"#fb9f3a\"], [0.8888888888888888, \"#fdca26\"], [1.0, \"#f0f921\"]]}, \"colorway\": [\"#636efa\", \"#EF553B\", \"#00cc96\", \"#ab63fa\", \"#FFA15A\", \"#19d3f3\", \"#FF6692\", \"#B6E880\", \"#FF97FF\", \"#FECB52\"], \"font\": {\"color\": \"#2a3f5f\"}, \"geo\": {\"bgcolor\": \"white\", \"lakecolor\": \"white\", \"landcolor\": \"#E5ECF6\", \"showlakes\": true, \"showland\": true, \"subunitcolor\": \"white\"}, \"hoverlabel\": {\"align\": \"left\"}, \"hovermode\": \"closest\", \"mapbox\": {\"style\": \"light\"}, \"paper_bgcolor\": \"white\", \"plot_bgcolor\": \"#E5ECF6\", \"polar\": {\"angularaxis\": {\"gridcolor\": \"white\", \"linecolor\": \"white\", \"ticks\": \"\"}, \"bgcolor\": \"#E5ECF6\", \"radialaxis\": {\"gridcolor\": \"white\", \"linecolor\": \"white\", \"ticks\": \"\"}}, \"scene\": {\"xaxis\": {\"backgroundcolor\": \"#E5ECF6\", \"gridcolor\": \"white\", \"gridwidth\": 2, \"linecolor\": \"white\", \"showbackground\": true, \"ticks\": \"\", \"zerolinecolor\": \"white\"}, \"yaxis\": {\"backgroundcolor\": \"#E5ECF6\", \"gridcolor\": \"white\", \"gridwidth\": 2, \"linecolor\": \"white\", \"showbackground\": true, \"ticks\": \"\", \"zerolinecolor\": \"white\"}, \"zaxis\": {\"backgroundcolor\": \"#E5ECF6\", \"gridcolor\": \"white\", \"gridwidth\": 2, \"linecolor\": \"white\", \"showbackground\": true, \"ticks\": \"\", \"zerolinecolor\": \"white\"}}, \"shapedefaults\": {\"line\": {\"color\": \"#2a3f5f\"}}, \"ternary\": {\"aaxis\": {\"gridcolor\": \"white\", \"linecolor\": \"white\", \"ticks\": \"\"}, \"baxis\": {\"gridcolor\": \"white\", \"linecolor\": \"white\", \"ticks\": \"\"}, \"bgcolor\": \"#E5ECF6\", \"caxis\": {\"gridcolor\": \"white\", \"linecolor\": \"white\", \"ticks\": \"\"}}, \"title\": {\"x\": 0.05}, \"xaxis\": {\"automargin\": true, \"gridcolor\": \"white\", \"linecolor\": \"white\", \"ticks\": \"\", \"zerolinecolor\": \"white\", \"zerolinewidth\": 2}, \"yaxis\": {\"automargin\": true, \"gridcolor\": \"white\", \"linecolor\": \"white\", \"ticks\": \"\", \"zerolinecolor\": \"white\", \"zerolinewidth\": 2}}}, \"title\": {\"text\": \"pdp plot for PassengerClass\"}},\n",
       "                        {\"responsive\": true}\n",
       "                    ).then(function(){\n",
       "                            \n",
       "var gd = document.getElementById('da2a6d55-949b-40ed-ba60-eea586ce1894');\n",
       "var x = new MutationObserver(function (mutations, observer) {{\n",
       "        var display = window.getComputedStyle(gd).display;\n",
       "        if (!display || display === 'none') {{\n",
       "            console.log([gd, 'removed!']);\n",
       "            Plotly.purge(gd);\n",
       "            observer.disconnect();\n",
       "        }}\n",
       "}});\n",
       "\n",
       "// Listen for the removal of the full notebook cells\n",
       "var notebookContainer = gd.closest('#notebook-container');\n",
       "if (notebookContainer) {{\n",
       "    x.observe(notebookContainer, {childList: true});\n",
       "}}\n",
       "\n",
       "// Listen for the clearing of the current output cell\n",
       "var outputEl = gd.closest('.output');\n",
       "if (outputEl) {{\n",
       "    x.observe(outputEl, {childList: true});\n",
       "}}\n",
       "\n",
       "                        })\n",
       "                };\n",
       "                });\n",
       "            </script>\n",
       "        </div>"
      ]
     },
     "metadata": {},
     "output_type": "display_data"
    }
   ],
   "source": [
    "explainer.plot_pdp('PassengerClass', index=0)"
   ]
  },
  {
   "cell_type": "code",
   "execution_count": 16,
   "metadata": {},
   "outputs": [
    {
     "data": {
      "application/vnd.plotly.v1+json": {
       "config": {
        "plotlyServerURL": "https://plot.ly"
       },
       "data": [
        {
         "hoverinfo": "text",
         "marker": {
          "opacity": 0.6,
          "size": 7
         },
         "mode": "markers",
         "text": [
          "Age=38.0<br>SHAP=-0.01",
          "Age=35.0<br>SHAP=0.01",
          "Age=2.0<br>SHAP=0.03",
          "Age=27.0<br>SHAP=0.0",
          "Age=14.0<br>SHAP=0.01",
          "Age=20.0<br>SHAP=0.0",
          "Age=14.0<br>SHAP=0.02",
          "Age=38.0<br>SHAP=-0.02",
          "Age=nan<br>SHAP=0.03",
          "Age=28.0<br>SHAP=0.0",
          "Age=nan<br>SHAP=0.02",
          "Age=19.0<br>SHAP=-0.02",
          "Age=18.0<br>SHAP=-0.01",
          "Age=21.0<br>SHAP=-0.0",
          "Age=45.0<br>SHAP=-0.03",
          "Age=4.0<br>SHAP=0.03",
          "Age=26.0<br>SHAP=0.0",
          "Age=21.0<br>SHAP=-0.0",
          "Age=17.0<br>SHAP=-0.0",
          "Age=16.0<br>SHAP=0.01",
          "Age=29.0<br>SHAP=0.01",
          "Age=20.0<br>SHAP=0.0",
          "Age=46.0<br>SHAP=-0.03",
          "Age=nan<br>SHAP=0.01",
          "Age=21.0<br>SHAP=0.01",
          "Age=38.0<br>SHAP=-0.02",
          "Age=nan<br>SHAP=0.02",
          "Age=22.0<br>SHAP=0.0",
          "Age=20.0<br>SHAP=-0.01",
          "Age=21.0<br>SHAP=0.0",
          "Age=29.0<br>SHAP=-0.01",
          "Age=nan<br>SHAP=0.01",
          "Age=16.0<br>SHAP=0.01",
          "Age=9.0<br>SHAP=0.01",
          "Age=36.5<br>SHAP=-0.01",
          "Age=51.0<br>SHAP=-0.02",
          "Age=55.5<br>SHAP=-0.03",
          "Age=44.0<br>SHAP=-0.04",
          "Age=nan<br>SHAP=0.01",
          "Age=61.0<br>SHAP=-0.05",
          "Age=21.0<br>SHAP=0.0",
          "Age=18.0<br>SHAP=0.0",
          "Age=nan<br>SHAP=0.02",
          "Age=19.0<br>SHAP=-0.0",
          "Age=44.0<br>SHAP=-0.03",
          "Age=28.0<br>SHAP=0.0",
          "Age=32.0<br>SHAP=-0.0",
          "Age=40.0<br>SHAP=-0.03",
          "Age=24.0<br>SHAP=0.0",
          "Age=51.0<br>SHAP=-0.03",
          "Age=nan<br>SHAP=0.01",
          "Age=5.0<br>SHAP=0.01",
          "Age=nan<br>SHAP=0.01",
          "Age=33.0<br>SHAP=-0.01",
          "Age=nan<br>SHAP=0.01",
          "Age=62.0<br>SHAP=-0.05",
          "Age=nan<br>SHAP=-0.0",
          "Age=50.0<br>SHAP=-0.03",
          "Age=nan<br>SHAP=0.02",
          "Age=3.0<br>SHAP=0.03",
          "Age=nan<br>SHAP=0.03",
          "Age=63.0<br>SHAP=-0.03",
          "Age=35.0<br>SHAP=-0.01",
          "Age=nan<br>SHAP=0.02",
          "Age=22.0<br>SHAP=-0.01",
          "Age=19.0<br>SHAP=0.0",
          "Age=36.0<br>SHAP=-0.0",
          "Age=nan<br>SHAP=0.02",
          "Age=nan<br>SHAP=0.01",
          "Age=nan<br>SHAP=0.0",
          "Age=61.0<br>SHAP=-0.03",
          "Age=nan<br>SHAP=-0.0",
          "Age=nan<br>SHAP=0.01",
          "Age=41.0<br>SHAP=-0.01",
          "Age=42.0<br>SHAP=-0.03",
          "Age=29.0<br>SHAP=-0.01",
          "Age=19.0<br>SHAP=0.0",
          "Age=nan<br>SHAP=0.0",
          "Age=27.0<br>SHAP=0.01",
          "Age=19.0<br>SHAP=0.0",
          "Age=nan<br>SHAP=0.01",
          "Age=1.0<br>SHAP=0.03",
          "Age=nan<br>SHAP=0.02",
          "Age=28.0<br>SHAP=-0.0",
          "Age=24.0<br>SHAP=0.01",
          "Age=39.0<br>SHAP=-0.03",
          "Age=33.0<br>SHAP=0.0",
          "Age=30.0<br>SHAP=-0.0",
          "Age=21.0<br>SHAP=0.0",
          "Age=19.0<br>SHAP=-0.0",
          "Age=45.0<br>SHAP=-0.03",
          "Age=nan<br>SHAP=0.01",
          "Age=52.0<br>SHAP=-0.04",
          "Age=48.0<br>SHAP=-0.04",
          "Age=48.0<br>SHAP=-0.02",
          "Age=33.0<br>SHAP=0.01",
          "Age=22.0<br>SHAP=0.0",
          "Age=nan<br>SHAP=0.02",
          "Age=25.0<br>SHAP=0.01",
          "Age=21.0<br>SHAP=0.0",
          "Age=nan<br>SHAP=0.01",
          "Age=24.0<br>SHAP=0.0",
          "Age=nan<br>SHAP=0.03",
          "Age=37.0<br>SHAP=-0.02",
          "Age=18.0<br>SHAP=0.02",
          "Age=nan<br>SHAP=0.01",
          "Age=36.0<br>SHAP=-0.01",
          "Age=nan<br>SHAP=0.02",
          "Age=30.0<br>SHAP=0.0",
          "Age=7.0<br>SHAP=0.02",
          "Age=45.0<br>SHAP=-0.02",
          "Age=32.0<br>SHAP=-0.0",
          "Age=33.0<br>SHAP=-0.01",
          "Age=22.0<br>SHAP=0.0",
          "Age=39.0<br>SHAP=-0.01",
          "Age=nan<br>SHAP=0.02",
          "Age=62.0<br>SHAP=-0.02",
          "Age=53.0<br>SHAP=-0.03",
          "Age=19.0<br>SHAP=0.0",
          "Age=36.0<br>SHAP=-0.0",
          "Age=nan<br>SHAP=0.01",
          "Age=nan<br>SHAP=0.03",
          "Age=nan<br>SHAP=0.02",
          "Age=49.0<br>SHAP=-0.02",
          "Age=35.0<br>SHAP=-0.01",
          "Age=36.0<br>SHAP=-0.01",
          "Age=27.0<br>SHAP=0.0",
          "Age=22.0<br>SHAP=0.0",
          "Age=40.0<br>SHAP=-0.01",
          "Age=nan<br>SHAP=0.01",
          "Age=nan<br>SHAP=0.02",
          "Age=26.0<br>SHAP=0.0",
          "Age=27.0<br>SHAP=-0.01",
          "Age=26.0<br>SHAP=0.0",
          "Age=51.0<br>SHAP=-0.03",
          "Age=32.0<br>SHAP=0.02",
          "Age=nan<br>SHAP=0.01",
          "Age=23.0<br>SHAP=0.0",
          "Age=18.0<br>SHAP=-0.02",
          "Age=23.0<br>SHAP=-0.0",
          "Age=47.0<br>SHAP=-0.04",
          "Age=36.0<br>SHAP=-0.02",
          "Age=40.0<br>SHAP=-0.03",
          "Age=31.0<br>SHAP=0.01",
          "Age=18.0<br>SHAP=-0.01",
          "Age=27.0<br>SHAP=0.02",
          "Age=14.0<br>SHAP=0.01",
          "Age=14.0<br>SHAP=0.01",
          "Age=18.0<br>SHAP=0.0",
          "Age=42.0<br>SHAP=-0.04",
          "Age=18.0<br>SHAP=0.0",
          "Age=26.0<br>SHAP=0.0",
          "Age=42.0<br>SHAP=-0.03",
          "Age=nan<br>SHAP=0.03",
          "Age=48.0<br>SHAP=-0.04",
          "Age=29.0<br>SHAP=0.01",
          "Age=52.0<br>SHAP=-0.02",
          "Age=27.0<br>SHAP=0.01",
          "Age=nan<br>SHAP=0.02",
          "Age=33.0<br>SHAP=-0.01",
          "Age=34.0<br>SHAP=-0.01",
          "Age=29.0<br>SHAP=0.0",
          "Age=23.0<br>SHAP=-0.0",
          "Age=23.0<br>SHAP=-0.0",
          "Age=28.5<br>SHAP=0.0",
          "Age=nan<br>SHAP=0.01",
          "Age=24.0<br>SHAP=-0.0",
          "Age=31.0<br>SHAP=0.0",
          "Age=28.0<br>SHAP=0.0",
          "Age=33.0<br>SHAP=0.01",
          "Age=16.0<br>SHAP=0.01",
          "Age=51.0<br>SHAP=-0.03",
          "Age=nan<br>SHAP=0.03",
          "Age=24.0<br>SHAP=0.0",
          "Age=43.0<br>SHAP=-0.01",
          "Age=13.0<br>SHAP=0.03",
          "Age=17.0<br>SHAP=0.0",
          "Age=nan<br>SHAP=0.03",
          "Age=25.0<br>SHAP=0.0",
          "Age=18.0<br>SHAP=-0.0",
          "Age=46.0<br>SHAP=-0.01",
          "Age=49.0<br>SHAP=-0.03",
          "Age=31.0<br>SHAP=0.0",
          "Age=11.0<br>SHAP=0.03",
          "Age=0.42<br>SHAP=0.05",
          "Age=31.0<br>SHAP=0.01",
          "Age=35.0<br>SHAP=-0.01",
          "Age=30.5<br>SHAP=0.01",
          "Age=nan<br>SHAP=0.02",
          "Age=0.83<br>SHAP=0.07",
          "Age=16.0<br>SHAP=0.01",
          "Age=34.5<br>SHAP=-0.02",
          "Age=nan<br>SHAP=0.0",
          "Age=9.0<br>SHAP=0.02",
          "Age=18.0<br>SHAP=-0.0",
          "Age=nan<br>SHAP=0.02",
          "Age=4.0<br>SHAP=0.04",
          "Age=33.0<br>SHAP=0.01",
          "Age=20.0<br>SHAP=0.0",
          "Age=27.0<br>SHAP=-0.0"
         ],
         "type": "scatter",
         "x": [
          38,
          35,
          2,
          27,
          14,
          20,
          14,
          38,
          null,
          28,
          null,
          19,
          18,
          21,
          45,
          4,
          26,
          21,
          17,
          16,
          29,
          20,
          46,
          null,
          21,
          38,
          null,
          22,
          20,
          21,
          29,
          null,
          16,
          9,
          36.5,
          51,
          55.5,
          44,
          null,
          61,
          21,
          18,
          null,
          19,
          44,
          28,
          32,
          40,
          24,
          51,
          null,
          5,
          null,
          33,
          null,
          62,
          null,
          50,
          null,
          3,
          null,
          63,
          35,
          null,
          22,
          19,
          36,
          null,
          null,
          null,
          61,
          null,
          null,
          41,
          42,
          29,
          19,
          null,
          27,
          19,
          null,
          1,
          null,
          28,
          24,
          39,
          33,
          30,
          21,
          19,
          45,
          null,
          52,
          48,
          48,
          33,
          22,
          null,
          25,
          21,
          null,
          24,
          null,
          37,
          18,
          null,
          36,
          null,
          30,
          7,
          45,
          32,
          33,
          22,
          39,
          null,
          62,
          53,
          19,
          36,
          null,
          null,
          null,
          49,
          35,
          36,
          27,
          22,
          40,
          null,
          null,
          26,
          27,
          26,
          51,
          32,
          null,
          23,
          18,
          23,
          47,
          36,
          40,
          31,
          18,
          27,
          14,
          14,
          18,
          42,
          18,
          26,
          42,
          null,
          48,
          29,
          52,
          27,
          null,
          33,
          34,
          29,
          23,
          23,
          28.5,
          null,
          24,
          31,
          28,
          33,
          16,
          51,
          null,
          24,
          43,
          13,
          17,
          null,
          25,
          18,
          46,
          49,
          31,
          11,
          0.42,
          31,
          35,
          30.5,
          null,
          0.83,
          16,
          34.5,
          null,
          9,
          18,
          null,
          4,
          33,
          20,
          27
         ],
         "y": [
          -0.009917674193798477,
          0.005000640041172967,
          0.02981304605172278,
          0.0030828515393154874,
          0.00999274853615796,
          0.0024843693471173125,
          0.016549812691837938,
          -0.024626998584561514,
          0.029052155906183205,
          0.002259355816796382,
          0.01615914548714097,
          -0.01576656610919221,
          -0.007648604036797109,
          -0.002334053849029217,
          -0.031956795971187384,
          0.026862068144656734,
          0.0015939832611358293,
          -0.0010425541659686895,
          -0.004114715349105957,
          0.005570445724824015,
          0.007609709181978021,
          0.0026091321593337954,
          -0.032590056273219745,
          0.01055464203085204,
          0.008125751496156991,
          -0.02024359489255697,
          0.02420583474030664,
          0.0036212462776722427,
          -0.006036375151591869,
          0.004137128492942351,
          -0.0050746908904525205,
          0.010426840454768525,
          0.011531329429584573,
          0.005222511453679286,
          -0.011827202654871524,
          -0.02457386288135045,
          -0.027808393096977958,
          -0.03602581809788158,
          0.006977114405158445,
          -0.047812776862472206,
          0.004137128492942351,
          0.0017263530997802421,
          0.01858270290115901,
          -0.0024327303395505775,
          -0.026989225747243658,
          0.004320144578888099,
          -0.00012102861179005538,
          -0.026075213380907517,
          0.0028274678321149696,
          -0.026563577692754636,
          0.01055464203085204,
          0.014951124034474222,
          0.01490259610491998,
          -0.008285667496577604,
          0.011633055007001012,
          -0.05101632919602364,
          -0.001711658209888955,
          -0.02830713865197507,
          0.01657068128718499,
          0.02858712261906685,
          0.029052155906183205,
          -0.0343720243586887,
          -0.011538657407754229,
          0.022390158461401972,
          -0.009720513647761761,
          0.0031863478054081048,
          -0.00310450372760393,
          0.017203823275338915,
          0.010426840454768525,
          0.0047498635689419266,
          -0.029425118426735807,
          -0.004032152309379743,
          0.01055464203085204,
          -0.007036822311364317,
          -0.02670931359934455,
          -0.010551220215191184,
          0.0024843693471173125,
          0.0011363691680342143,
          0.006314191384153683,
          0.002962332647564986,
          0.01055464203085204,
          0.028104735446819254,
          0.016417210455009337,
          -0.0007497996817861684,
          0.009139079147931585,
          -0.02859710538882112,
          0.0032497201343767586,
          -0.001216622830654642,
          0.0032874758215795013,
          -0.0017115094558161675,
          -0.029069426909981416,
          0.010426840454768525,
          -0.04335338985766449,
          -0.03893981261327862,
          -0.022408167268782853,
          0.0052327237883125315,
          0.0038241192489238216,
          0.018627802036447056,
          0.013380570838654474,
          0.004057193609942541,
          0.014846664721498216,
          0.0031025581613110626,
          0.027658193904940207,
          -0.02299735471798754,
          0.019889031800322737,
          0.010778792839947222,
          -0.00592458719096607,
          0.017203765309860113,
          0.00022692418328551777,
          0.020188510411992207,
          -0.020912950225537637,
          -0.0020788744643324736,
          -0.014999503148596143,
          0.002408976467804901,
          -0.013921001716511264,
          0.01657068128718499,
          -0.024668947404226878,
          -0.025834421463795724,
          0.0009604060709027482,
          -0.00047212266641094016,
          0.010426840454768525,
          0.03402332061755474,
          0.017203765309860113,
          -0.022791648756951808,
          -0.009795994057065754,
          -0.014956224667328898,
          0.0008516212226303218,
          0.0019912593653407685,
          -0.012648424965550761,
          0.011633055007001012,
          0.01657068128718499,
          0.0014259400963796214,
          -0.011220161924082055,
          0.004601601375183466,
          -0.027576540271325636,
          0.01635455624540401,
          0.011633055007001012,
          0.0027638643189510405,
          -0.015159404315928899,
          -0.0029648956620953186,
          -0.040510747913634466,
          -0.015700290002608933,
          -0.02646356008580537,
          0.00879802085649108,
          -0.007688612163398783,
          0.015995348089048046,
          0.007274526068838365,
          0.007280317413615458,
          0.0028319690618628657,
          -0.04145946778064372,
          0.004215336855433479,
          0.0019317943458812652,
          -0.0271404568400476,
          0.026801761542191653,
          -0.03858577344577813,
          0.007609709181978021,
          -0.02457386288135045,
          0.01351492395563618,
          0.018358294492080998,
          -0.012688775562765368,
          -0.008808308850351722,
          0.0032466011877170763,
          -0.0029648956620953186,
          -0.0029648956620953186,
          0.00043462051652261573,
          0.01055464203085204,
          -0.003052923650314672,
          0.00021773822523607185,
          0.0024667747643449625,
          0.005599136094711325,
          0.01200929273003224,
          -0.034992906435286845,
          0.027273728482806636,
          0.00262459486086339,
          -0.012486182836861042,
          0.02636135138197085,
          0.003847088087482649,
          0.031295959441230765,
          0.0031031357732164344,
          -0.0032491176437806526,
          -0.009373193484635825,
          -0.028869524479338226,
          0.003513327144933767,
          0.02663863769210295,
          0.04650153653142047,
          0.005816659496488573,
          -0.010467412928065929,
          0.007605331950468415,
          0.01657068128718499,
          0.06864363679513849,
          0.008420308181183986,
          -0.02196086049942612,
          0.0047498635689419266,
          0.023817373752066405,
          -0.004366281584628177,
          0.017203765309860113,
          0.03723195806226272,
          0.00825850583345582,
          0.0024843693471173125,
          -0.0008340559868047252
         ]
        }
       ],
       "layout": {
        "hovermode": "closest",
        "paper_bgcolor": "rgba(245, 246, 249, 1)",
        "plot_bgcolor": "rgba(245, 246, 249, 1)",
        "showlegend": false,
        "template": {
         "data": {
          "bar": [
           {
            "error_x": {
             "color": "#2a3f5f"
            },
            "error_y": {
             "color": "#2a3f5f"
            },
            "marker": {
             "line": {
              "color": "#E5ECF6",
              "width": 0.5
             }
            },
            "type": "bar"
           }
          ],
          "barpolar": [
           {
            "marker": {
             "line": {
              "color": "#E5ECF6",
              "width": 0.5
             }
            },
            "type": "barpolar"
           }
          ],
          "carpet": [
           {
            "aaxis": {
             "endlinecolor": "#2a3f5f",
             "gridcolor": "white",
             "linecolor": "white",
             "minorgridcolor": "white",
             "startlinecolor": "#2a3f5f"
            },
            "baxis": {
             "endlinecolor": "#2a3f5f",
             "gridcolor": "white",
             "linecolor": "white",
             "minorgridcolor": "white",
             "startlinecolor": "#2a3f5f"
            },
            "type": "carpet"
           }
          ],
          "choropleth": [
           {
            "colorbar": {
             "outlinewidth": 0,
             "ticks": ""
            },
            "type": "choropleth"
           }
          ],
          "contour": [
           {
            "colorbar": {
             "outlinewidth": 0,
             "ticks": ""
            },
            "colorscale": [
             [
              0,
              "#0d0887"
             ],
             [
              0.1111111111111111,
              "#46039f"
             ],
             [
              0.2222222222222222,
              "#7201a8"
             ],
             [
              0.3333333333333333,
              "#9c179e"
             ],
             [
              0.4444444444444444,
              "#bd3786"
             ],
             [
              0.5555555555555556,
              "#d8576b"
             ],
             [
              0.6666666666666666,
              "#ed7953"
             ],
             [
              0.7777777777777778,
              "#fb9f3a"
             ],
             [
              0.8888888888888888,
              "#fdca26"
             ],
             [
              1,
              "#f0f921"
             ]
            ],
            "type": "contour"
           }
          ],
          "contourcarpet": [
           {
            "colorbar": {
             "outlinewidth": 0,
             "ticks": ""
            },
            "type": "contourcarpet"
           }
          ],
          "heatmap": [
           {
            "colorbar": {
             "outlinewidth": 0,
             "ticks": ""
            },
            "colorscale": [
             [
              0,
              "#0d0887"
             ],
             [
              0.1111111111111111,
              "#46039f"
             ],
             [
              0.2222222222222222,
              "#7201a8"
             ],
             [
              0.3333333333333333,
              "#9c179e"
             ],
             [
              0.4444444444444444,
              "#bd3786"
             ],
             [
              0.5555555555555556,
              "#d8576b"
             ],
             [
              0.6666666666666666,
              "#ed7953"
             ],
             [
              0.7777777777777778,
              "#fb9f3a"
             ],
             [
              0.8888888888888888,
              "#fdca26"
             ],
             [
              1,
              "#f0f921"
             ]
            ],
            "type": "heatmap"
           }
          ],
          "heatmapgl": [
           {
            "colorbar": {
             "outlinewidth": 0,
             "ticks": ""
            },
            "colorscale": [
             [
              0,
              "#0d0887"
             ],
             [
              0.1111111111111111,
              "#46039f"
             ],
             [
              0.2222222222222222,
              "#7201a8"
             ],
             [
              0.3333333333333333,
              "#9c179e"
             ],
             [
              0.4444444444444444,
              "#bd3786"
             ],
             [
              0.5555555555555556,
              "#d8576b"
             ],
             [
              0.6666666666666666,
              "#ed7953"
             ],
             [
              0.7777777777777778,
              "#fb9f3a"
             ],
             [
              0.8888888888888888,
              "#fdca26"
             ],
             [
              1,
              "#f0f921"
             ]
            ],
            "type": "heatmapgl"
           }
          ],
          "histogram": [
           {
            "marker": {
             "colorbar": {
              "outlinewidth": 0,
              "ticks": ""
             }
            },
            "type": "histogram"
           }
          ],
          "histogram2d": [
           {
            "colorbar": {
             "outlinewidth": 0,
             "ticks": ""
            },
            "colorscale": [
             [
              0,
              "#0d0887"
             ],
             [
              0.1111111111111111,
              "#46039f"
             ],
             [
              0.2222222222222222,
              "#7201a8"
             ],
             [
              0.3333333333333333,
              "#9c179e"
             ],
             [
              0.4444444444444444,
              "#bd3786"
             ],
             [
              0.5555555555555556,
              "#d8576b"
             ],
             [
              0.6666666666666666,
              "#ed7953"
             ],
             [
              0.7777777777777778,
              "#fb9f3a"
             ],
             [
              0.8888888888888888,
              "#fdca26"
             ],
             [
              1,
              "#f0f921"
             ]
            ],
            "type": "histogram2d"
           }
          ],
          "histogram2dcontour": [
           {
            "colorbar": {
             "outlinewidth": 0,
             "ticks": ""
            },
            "colorscale": [
             [
              0,
              "#0d0887"
             ],
             [
              0.1111111111111111,
              "#46039f"
             ],
             [
              0.2222222222222222,
              "#7201a8"
             ],
             [
              0.3333333333333333,
              "#9c179e"
             ],
             [
              0.4444444444444444,
              "#bd3786"
             ],
             [
              0.5555555555555556,
              "#d8576b"
             ],
             [
              0.6666666666666666,
              "#ed7953"
             ],
             [
              0.7777777777777778,
              "#fb9f3a"
             ],
             [
              0.8888888888888888,
              "#fdca26"
             ],
             [
              1,
              "#f0f921"
             ]
            ],
            "type": "histogram2dcontour"
           }
          ],
          "mesh3d": [
           {
            "colorbar": {
             "outlinewidth": 0,
             "ticks": ""
            },
            "type": "mesh3d"
           }
          ],
          "parcoords": [
           {
            "line": {
             "colorbar": {
              "outlinewidth": 0,
              "ticks": ""
             }
            },
            "type": "parcoords"
           }
          ],
          "scatter": [
           {
            "marker": {
             "colorbar": {
              "outlinewidth": 0,
              "ticks": ""
             }
            },
            "type": "scatter"
           }
          ],
          "scatter3d": [
           {
            "line": {
             "colorbar": {
              "outlinewidth": 0,
              "ticks": ""
             }
            },
            "marker": {
             "colorbar": {
              "outlinewidth": 0,
              "ticks": ""
             }
            },
            "type": "scatter3d"
           }
          ],
          "scattercarpet": [
           {
            "marker": {
             "colorbar": {
              "outlinewidth": 0,
              "ticks": ""
             }
            },
            "type": "scattercarpet"
           }
          ],
          "scattergeo": [
           {
            "marker": {
             "colorbar": {
              "outlinewidth": 0,
              "ticks": ""
             }
            },
            "type": "scattergeo"
           }
          ],
          "scattergl": [
           {
            "marker": {
             "colorbar": {
              "outlinewidth": 0,
              "ticks": ""
             }
            },
            "type": "scattergl"
           }
          ],
          "scattermapbox": [
           {
            "marker": {
             "colorbar": {
              "outlinewidth": 0,
              "ticks": ""
             }
            },
            "type": "scattermapbox"
           }
          ],
          "scatterpolar": [
           {
            "marker": {
             "colorbar": {
              "outlinewidth": 0,
              "ticks": ""
             }
            },
            "type": "scatterpolar"
           }
          ],
          "scatterpolargl": [
           {
            "marker": {
             "colorbar": {
              "outlinewidth": 0,
              "ticks": ""
             }
            },
            "type": "scatterpolargl"
           }
          ],
          "scatterternary": [
           {
            "marker": {
             "colorbar": {
              "outlinewidth": 0,
              "ticks": ""
             }
            },
            "type": "scatterternary"
           }
          ],
          "surface": [
           {
            "colorbar": {
             "outlinewidth": 0,
             "ticks": ""
            },
            "colorscale": [
             [
              0,
              "#0d0887"
             ],
             [
              0.1111111111111111,
              "#46039f"
             ],
             [
              0.2222222222222222,
              "#7201a8"
             ],
             [
              0.3333333333333333,
              "#9c179e"
             ],
             [
              0.4444444444444444,
              "#bd3786"
             ],
             [
              0.5555555555555556,
              "#d8576b"
             ],
             [
              0.6666666666666666,
              "#ed7953"
             ],
             [
              0.7777777777777778,
              "#fb9f3a"
             ],
             [
              0.8888888888888888,
              "#fdca26"
             ],
             [
              1,
              "#f0f921"
             ]
            ],
            "type": "surface"
           }
          ],
          "table": [
           {
            "cells": {
             "fill": {
              "color": "#EBF0F8"
             },
             "line": {
              "color": "white"
             }
            },
            "header": {
             "fill": {
              "color": "#C8D4E3"
             },
             "line": {
              "color": "white"
             }
            },
            "type": "table"
           }
          ]
         },
         "layout": {
          "annotationdefaults": {
           "arrowcolor": "#2a3f5f",
           "arrowhead": 0,
           "arrowwidth": 1
          },
          "colorscale": {
           "diverging": [
            [
             0,
             "#8e0152"
            ],
            [
             0.1,
             "#c51b7d"
            ],
            [
             0.2,
             "#de77ae"
            ],
            [
             0.3,
             "#f1b6da"
            ],
            [
             0.4,
             "#fde0ef"
            ],
            [
             0.5,
             "#f7f7f7"
            ],
            [
             0.6,
             "#e6f5d0"
            ],
            [
             0.7,
             "#b8e186"
            ],
            [
             0.8,
             "#7fbc41"
            ],
            [
             0.9,
             "#4d9221"
            ],
            [
             1,
             "#276419"
            ]
           ],
           "sequential": [
            [
             0,
             "#0d0887"
            ],
            [
             0.1111111111111111,
             "#46039f"
            ],
            [
             0.2222222222222222,
             "#7201a8"
            ],
            [
             0.3333333333333333,
             "#9c179e"
            ],
            [
             0.4444444444444444,
             "#bd3786"
            ],
            [
             0.5555555555555556,
             "#d8576b"
            ],
            [
             0.6666666666666666,
             "#ed7953"
            ],
            [
             0.7777777777777778,
             "#fb9f3a"
            ],
            [
             0.8888888888888888,
             "#fdca26"
            ],
            [
             1,
             "#f0f921"
            ]
           ],
           "sequentialminus": [
            [
             0,
             "#0d0887"
            ],
            [
             0.1111111111111111,
             "#46039f"
            ],
            [
             0.2222222222222222,
             "#7201a8"
            ],
            [
             0.3333333333333333,
             "#9c179e"
            ],
            [
             0.4444444444444444,
             "#bd3786"
            ],
            [
             0.5555555555555556,
             "#d8576b"
            ],
            [
             0.6666666666666666,
             "#ed7953"
            ],
            [
             0.7777777777777778,
             "#fb9f3a"
            ],
            [
             0.8888888888888888,
             "#fdca26"
            ],
            [
             1,
             "#f0f921"
            ]
           ]
          },
          "colorway": [
           "#636efa",
           "#EF553B",
           "#00cc96",
           "#ab63fa",
           "#FFA15A",
           "#19d3f3",
           "#FF6692",
           "#B6E880",
           "#FF97FF",
           "#FECB52"
          ],
          "font": {
           "color": "#2a3f5f"
          },
          "geo": {
           "bgcolor": "white",
           "lakecolor": "white",
           "landcolor": "#E5ECF6",
           "showlakes": true,
           "showland": true,
           "subunitcolor": "white"
          },
          "hoverlabel": {
           "align": "left"
          },
          "hovermode": "closest",
          "mapbox": {
           "style": "light"
          },
          "paper_bgcolor": "white",
          "plot_bgcolor": "#E5ECF6",
          "polar": {
           "angularaxis": {
            "gridcolor": "white",
            "linecolor": "white",
            "ticks": ""
           },
           "bgcolor": "#E5ECF6",
           "radialaxis": {
            "gridcolor": "white",
            "linecolor": "white",
            "ticks": ""
           }
          },
          "scene": {
           "xaxis": {
            "backgroundcolor": "#E5ECF6",
            "gridcolor": "white",
            "gridwidth": 2,
            "linecolor": "white",
            "showbackground": true,
            "ticks": "",
            "zerolinecolor": "white"
           },
           "yaxis": {
            "backgroundcolor": "#E5ECF6",
            "gridcolor": "white",
            "gridwidth": 2,
            "linecolor": "white",
            "showbackground": true,
            "ticks": "",
            "zerolinecolor": "white"
           },
           "zaxis": {
            "backgroundcolor": "#E5ECF6",
            "gridcolor": "white",
            "gridwidth": 2,
            "linecolor": "white",
            "showbackground": true,
            "ticks": "",
            "zerolinecolor": "white"
           }
          },
          "shapedefaults": {
           "line": {
            "color": "#2a3f5f"
           }
          },
          "ternary": {
           "aaxis": {
            "gridcolor": "white",
            "linecolor": "white",
            "ticks": ""
           },
           "baxis": {
            "gridcolor": "white",
            "linecolor": "white",
            "ticks": ""
           },
           "bgcolor": "#E5ECF6",
           "caxis": {
            "gridcolor": "white",
            "linecolor": "white",
            "ticks": ""
           }
          },
          "title": {
           "x": 0.05
          },
          "xaxis": {
           "automargin": true,
           "gridcolor": "white",
           "linecolor": "white",
           "ticks": "",
           "zerolinecolor": "white",
           "zerolinewidth": 2
          },
          "yaxis": {
           "automargin": true,
           "gridcolor": "white",
           "linecolor": "white",
           "ticks": "",
           "zerolinecolor": "white",
           "zerolinewidth": 2
          }
         }
        },
        "title": {
         "text": "dependence plot for Age"
        },
        "xaxis": {
         "title": {
          "text": "Age"
         }
        },
        "yaxis": {
         "title": {
          "text": "SHAP value"
         }
        }
       }
      },
      "text/html": [
       "<div>\n",
       "        \n",
       "        \n",
       "            <div id=\"635478fc-dd8a-466a-b85c-7638732524cd\" class=\"plotly-graph-div\" style=\"height:525px; width:100%;\"></div>\n",
       "            <script type=\"text/javascript\">\n",
       "                require([\"plotly\"], function(Plotly) {\n",
       "                    window.PLOTLYENV=window.PLOTLYENV || {};\n",
       "                    \n",
       "                if (document.getElementById(\"635478fc-dd8a-466a-b85c-7638732524cd\")) {\n",
       "                    Plotly.newPlot(\n",
       "                        '635478fc-dd8a-466a-b85c-7638732524cd',\n",
       "                        [{\"hoverinfo\": \"text\", \"marker\": {\"opacity\": 0.6, \"size\": 7}, \"mode\": \"markers\", \"text\": [\"Age=38.0<br>SHAP=-0.01\", \"Age=35.0<br>SHAP=0.01\", \"Age=2.0<br>SHAP=0.03\", \"Age=27.0<br>SHAP=0.0\", \"Age=14.0<br>SHAP=0.01\", \"Age=20.0<br>SHAP=0.0\", \"Age=14.0<br>SHAP=0.02\", \"Age=38.0<br>SHAP=-0.02\", \"Age=nan<br>SHAP=0.03\", \"Age=28.0<br>SHAP=0.0\", \"Age=nan<br>SHAP=0.02\", \"Age=19.0<br>SHAP=-0.02\", \"Age=18.0<br>SHAP=-0.01\", \"Age=21.0<br>SHAP=-0.0\", \"Age=45.0<br>SHAP=-0.03\", \"Age=4.0<br>SHAP=0.03\", \"Age=26.0<br>SHAP=0.0\", \"Age=21.0<br>SHAP=-0.0\", \"Age=17.0<br>SHAP=-0.0\", \"Age=16.0<br>SHAP=0.01\", \"Age=29.0<br>SHAP=0.01\", \"Age=20.0<br>SHAP=0.0\", \"Age=46.0<br>SHAP=-0.03\", \"Age=nan<br>SHAP=0.01\", \"Age=21.0<br>SHAP=0.01\", \"Age=38.0<br>SHAP=-0.02\", \"Age=nan<br>SHAP=0.02\", \"Age=22.0<br>SHAP=0.0\", \"Age=20.0<br>SHAP=-0.01\", \"Age=21.0<br>SHAP=0.0\", \"Age=29.0<br>SHAP=-0.01\", \"Age=nan<br>SHAP=0.01\", \"Age=16.0<br>SHAP=0.01\", \"Age=9.0<br>SHAP=0.01\", \"Age=36.5<br>SHAP=-0.01\", \"Age=51.0<br>SHAP=-0.02\", \"Age=55.5<br>SHAP=-0.03\", \"Age=44.0<br>SHAP=-0.04\", \"Age=nan<br>SHAP=0.01\", \"Age=61.0<br>SHAP=-0.05\", \"Age=21.0<br>SHAP=0.0\", \"Age=18.0<br>SHAP=0.0\", \"Age=nan<br>SHAP=0.02\", \"Age=19.0<br>SHAP=-0.0\", \"Age=44.0<br>SHAP=-0.03\", \"Age=28.0<br>SHAP=0.0\", \"Age=32.0<br>SHAP=-0.0\", \"Age=40.0<br>SHAP=-0.03\", \"Age=24.0<br>SHAP=0.0\", \"Age=51.0<br>SHAP=-0.03\", \"Age=nan<br>SHAP=0.01\", \"Age=5.0<br>SHAP=0.01\", \"Age=nan<br>SHAP=0.01\", \"Age=33.0<br>SHAP=-0.01\", \"Age=nan<br>SHAP=0.01\", \"Age=62.0<br>SHAP=-0.05\", \"Age=nan<br>SHAP=-0.0\", \"Age=50.0<br>SHAP=-0.03\", \"Age=nan<br>SHAP=0.02\", \"Age=3.0<br>SHAP=0.03\", \"Age=nan<br>SHAP=0.03\", \"Age=63.0<br>SHAP=-0.03\", \"Age=35.0<br>SHAP=-0.01\", \"Age=nan<br>SHAP=0.02\", \"Age=22.0<br>SHAP=-0.01\", \"Age=19.0<br>SHAP=0.0\", \"Age=36.0<br>SHAP=-0.0\", \"Age=nan<br>SHAP=0.02\", \"Age=nan<br>SHAP=0.01\", \"Age=nan<br>SHAP=0.0\", \"Age=61.0<br>SHAP=-0.03\", \"Age=nan<br>SHAP=-0.0\", \"Age=nan<br>SHAP=0.01\", \"Age=41.0<br>SHAP=-0.01\", \"Age=42.0<br>SHAP=-0.03\", \"Age=29.0<br>SHAP=-0.01\", \"Age=19.0<br>SHAP=0.0\", \"Age=nan<br>SHAP=0.0\", \"Age=27.0<br>SHAP=0.01\", \"Age=19.0<br>SHAP=0.0\", \"Age=nan<br>SHAP=0.01\", \"Age=1.0<br>SHAP=0.03\", \"Age=nan<br>SHAP=0.02\", \"Age=28.0<br>SHAP=-0.0\", \"Age=24.0<br>SHAP=0.01\", \"Age=39.0<br>SHAP=-0.03\", \"Age=33.0<br>SHAP=0.0\", \"Age=30.0<br>SHAP=-0.0\", \"Age=21.0<br>SHAP=0.0\", \"Age=19.0<br>SHAP=-0.0\", \"Age=45.0<br>SHAP=-0.03\", \"Age=nan<br>SHAP=0.01\", \"Age=52.0<br>SHAP=-0.04\", \"Age=48.0<br>SHAP=-0.04\", \"Age=48.0<br>SHAP=-0.02\", \"Age=33.0<br>SHAP=0.01\", \"Age=22.0<br>SHAP=0.0\", \"Age=nan<br>SHAP=0.02\", \"Age=25.0<br>SHAP=0.01\", \"Age=21.0<br>SHAP=0.0\", \"Age=nan<br>SHAP=0.01\", \"Age=24.0<br>SHAP=0.0\", \"Age=nan<br>SHAP=0.03\", \"Age=37.0<br>SHAP=-0.02\", \"Age=18.0<br>SHAP=0.02\", \"Age=nan<br>SHAP=0.01\", \"Age=36.0<br>SHAP=-0.01\", \"Age=nan<br>SHAP=0.02\", \"Age=30.0<br>SHAP=0.0\", \"Age=7.0<br>SHAP=0.02\", \"Age=45.0<br>SHAP=-0.02\", \"Age=32.0<br>SHAP=-0.0\", \"Age=33.0<br>SHAP=-0.01\", \"Age=22.0<br>SHAP=0.0\", \"Age=39.0<br>SHAP=-0.01\", \"Age=nan<br>SHAP=0.02\", \"Age=62.0<br>SHAP=-0.02\", \"Age=53.0<br>SHAP=-0.03\", \"Age=19.0<br>SHAP=0.0\", \"Age=36.0<br>SHAP=-0.0\", \"Age=nan<br>SHAP=0.01\", \"Age=nan<br>SHAP=0.03\", \"Age=nan<br>SHAP=0.02\", \"Age=49.0<br>SHAP=-0.02\", \"Age=35.0<br>SHAP=-0.01\", \"Age=36.0<br>SHAP=-0.01\", \"Age=27.0<br>SHAP=0.0\", \"Age=22.0<br>SHAP=0.0\", \"Age=40.0<br>SHAP=-0.01\", \"Age=nan<br>SHAP=0.01\", \"Age=nan<br>SHAP=0.02\", \"Age=26.0<br>SHAP=0.0\", \"Age=27.0<br>SHAP=-0.01\", \"Age=26.0<br>SHAP=0.0\", \"Age=51.0<br>SHAP=-0.03\", \"Age=32.0<br>SHAP=0.02\", \"Age=nan<br>SHAP=0.01\", \"Age=23.0<br>SHAP=0.0\", \"Age=18.0<br>SHAP=-0.02\", \"Age=23.0<br>SHAP=-0.0\", \"Age=47.0<br>SHAP=-0.04\", \"Age=36.0<br>SHAP=-0.02\", \"Age=40.0<br>SHAP=-0.03\", \"Age=31.0<br>SHAP=0.01\", \"Age=18.0<br>SHAP=-0.01\", \"Age=27.0<br>SHAP=0.02\", \"Age=14.0<br>SHAP=0.01\", \"Age=14.0<br>SHAP=0.01\", \"Age=18.0<br>SHAP=0.0\", \"Age=42.0<br>SHAP=-0.04\", \"Age=18.0<br>SHAP=0.0\", \"Age=26.0<br>SHAP=0.0\", \"Age=42.0<br>SHAP=-0.03\", \"Age=nan<br>SHAP=0.03\", \"Age=48.0<br>SHAP=-0.04\", \"Age=29.0<br>SHAP=0.01\", \"Age=52.0<br>SHAP=-0.02\", \"Age=27.0<br>SHAP=0.01\", \"Age=nan<br>SHAP=0.02\", \"Age=33.0<br>SHAP=-0.01\", \"Age=34.0<br>SHAP=-0.01\", \"Age=29.0<br>SHAP=0.0\", \"Age=23.0<br>SHAP=-0.0\", \"Age=23.0<br>SHAP=-0.0\", \"Age=28.5<br>SHAP=0.0\", \"Age=nan<br>SHAP=0.01\", \"Age=24.0<br>SHAP=-0.0\", \"Age=31.0<br>SHAP=0.0\", \"Age=28.0<br>SHAP=0.0\", \"Age=33.0<br>SHAP=0.01\", \"Age=16.0<br>SHAP=0.01\", \"Age=51.0<br>SHAP=-0.03\", \"Age=nan<br>SHAP=0.03\", \"Age=24.0<br>SHAP=0.0\", \"Age=43.0<br>SHAP=-0.01\", \"Age=13.0<br>SHAP=0.03\", \"Age=17.0<br>SHAP=0.0\", \"Age=nan<br>SHAP=0.03\", \"Age=25.0<br>SHAP=0.0\", \"Age=18.0<br>SHAP=-0.0\", \"Age=46.0<br>SHAP=-0.01\", \"Age=49.0<br>SHAP=-0.03\", \"Age=31.0<br>SHAP=0.0\", \"Age=11.0<br>SHAP=0.03\", \"Age=0.42<br>SHAP=0.05\", \"Age=31.0<br>SHAP=0.01\", \"Age=35.0<br>SHAP=-0.01\", \"Age=30.5<br>SHAP=0.01\", \"Age=nan<br>SHAP=0.02\", \"Age=0.83<br>SHAP=0.07\", \"Age=16.0<br>SHAP=0.01\", \"Age=34.5<br>SHAP=-0.02\", \"Age=nan<br>SHAP=0.0\", \"Age=9.0<br>SHAP=0.02\", \"Age=18.0<br>SHAP=-0.0\", \"Age=nan<br>SHAP=0.02\", \"Age=4.0<br>SHAP=0.04\", \"Age=33.0<br>SHAP=0.01\", \"Age=20.0<br>SHAP=0.0\", \"Age=27.0<br>SHAP=-0.0\"], \"type\": \"scatter\", \"x\": [38.0, 35.0, 2.0, 27.0, 14.0, 20.0, 14.0, 38.0, null, 28.0, null, 19.0, 18.0, 21.0, 45.0, 4.0, 26.0, 21.0, 17.0, 16.0, 29.0, 20.0, 46.0, null, 21.0, 38.0, null, 22.0, 20.0, 21.0, 29.0, null, 16.0, 9.0, 36.5, 51.0, 55.5, 44.0, null, 61.0, 21.0, 18.0, null, 19.0, 44.0, 28.0, 32.0, 40.0, 24.0, 51.0, null, 5.0, null, 33.0, null, 62.0, null, 50.0, null, 3.0, null, 63.0, 35.0, null, 22.0, 19.0, 36.0, null, null, null, 61.0, null, null, 41.0, 42.0, 29.0, 19.0, null, 27.0, 19.0, null, 1.0, null, 28.0, 24.0, 39.0, 33.0, 30.0, 21.0, 19.0, 45.0, null, 52.0, 48.0, 48.0, 33.0, 22.0, null, 25.0, 21.0, null, 24.0, null, 37.0, 18.0, null, 36.0, null, 30.0, 7.0, 45.0, 32.0, 33.0, 22.0, 39.0, null, 62.0, 53.0, 19.0, 36.0, null, null, null, 49.0, 35.0, 36.0, 27.0, 22.0, 40.0, null, null, 26.0, 27.0, 26.0, 51.0, 32.0, null, 23.0, 18.0, 23.0, 47.0, 36.0, 40.0, 31.0, 18.0, 27.0, 14.0, 14.0, 18.0, 42.0, 18.0, 26.0, 42.0, null, 48.0, 29.0, 52.0, 27.0, null, 33.0, 34.0, 29.0, 23.0, 23.0, 28.5, null, 24.0, 31.0, 28.0, 33.0, 16.0, 51.0, null, 24.0, 43.0, 13.0, 17.0, null, 25.0, 18.0, 46.0, 49.0, 31.0, 11.0, 0.42, 31.0, 35.0, 30.5, null, 0.83, 16.0, 34.5, null, 9.0, 18.0, null, 4.0, 33.0, 20.0, 27.0], \"y\": [-0.009917674193798477, 0.005000640041172967, 0.02981304605172278, 0.0030828515393154874, 0.00999274853615796, 0.0024843693471173125, 0.016549812691837938, -0.024626998584561514, 0.029052155906183205, 0.002259355816796382, 0.01615914548714097, -0.01576656610919221, -0.007648604036797109, -0.002334053849029217, -0.031956795971187384, 0.026862068144656734, 0.0015939832611358293, -0.0010425541659686895, -0.004114715349105957, 0.005570445724824015, 0.007609709181978021, 0.0026091321593337954, -0.032590056273219745, 0.01055464203085204, 0.008125751496156991, -0.02024359489255697, 0.02420583474030664, 0.0036212462776722427, -0.006036375151591869, 0.004137128492942351, -0.0050746908904525205, 0.010426840454768525, 0.011531329429584573, 0.005222511453679286, -0.011827202654871524, -0.02457386288135045, -0.027808393096977958, -0.03602581809788158, 0.006977114405158445, -0.047812776862472206, 0.004137128492942351, 0.0017263530997802421, 0.01858270290115901, -0.0024327303395505775, -0.026989225747243658, 0.004320144578888099, -0.00012102861179005538, -0.026075213380907517, 0.0028274678321149696, -0.026563577692754636, 0.01055464203085204, 0.014951124034474222, 0.01490259610491998, -0.008285667496577604, 0.011633055007001012, -0.05101632919602364, -0.001711658209888955, -0.02830713865197507, 0.01657068128718499, 0.02858712261906685, 0.029052155906183205, -0.0343720243586887, -0.011538657407754229, 0.022390158461401972, -0.009720513647761761, 0.0031863478054081048, -0.00310450372760393, 0.017203823275338915, 0.010426840454768525, 0.0047498635689419266, -0.029425118426735807, -0.004032152309379743, 0.01055464203085204, -0.007036822311364317, -0.02670931359934455, -0.010551220215191184, 0.0024843693471173125, 0.0011363691680342143, 0.006314191384153683, 0.002962332647564986, 0.01055464203085204, 0.028104735446819254, 0.016417210455009337, -0.0007497996817861684, 0.009139079147931585, -0.02859710538882112, 0.0032497201343767586, -0.001216622830654642, 0.0032874758215795013, -0.0017115094558161675, -0.029069426909981416, 0.010426840454768525, -0.04335338985766449, -0.03893981261327862, -0.022408167268782853, 0.0052327237883125315, 0.0038241192489238216, 0.018627802036447056, 0.013380570838654474, 0.004057193609942541, 0.014846664721498216, 0.0031025581613110626, 0.027658193904940207, -0.02299735471798754, 0.019889031800322737, 0.010778792839947222, -0.00592458719096607, 0.017203765309860113, 0.00022692418328551777, 0.020188510411992207, -0.020912950225537637, -0.0020788744643324736, -0.014999503148596143, 0.002408976467804901, -0.013921001716511264, 0.01657068128718499, -0.024668947404226878, -0.025834421463795724, 0.0009604060709027482, -0.00047212266641094016, 0.010426840454768525, 0.03402332061755474, 0.017203765309860113, -0.022791648756951808, -0.009795994057065754, -0.014956224667328898, 0.0008516212226303218, 0.0019912593653407685, -0.012648424965550761, 0.011633055007001012, 0.01657068128718499, 0.0014259400963796214, -0.011220161924082055, 0.004601601375183466, -0.027576540271325636, 0.01635455624540401, 0.011633055007001012, 0.0027638643189510405, -0.015159404315928899, -0.0029648956620953186, -0.040510747913634466, -0.015700290002608933, -0.02646356008580537, 0.00879802085649108, -0.007688612163398783, 0.015995348089048046, 0.007274526068838365, 0.007280317413615458, 0.0028319690618628657, -0.04145946778064372, 0.004215336855433479, 0.0019317943458812652, -0.0271404568400476, 0.026801761542191653, -0.03858577344577813, 0.007609709181978021, -0.02457386288135045, 0.01351492395563618, 0.018358294492080998, -0.012688775562765368, -0.008808308850351722, 0.0032466011877170763, -0.0029648956620953186, -0.0029648956620953186, 0.00043462051652261573, 0.01055464203085204, -0.003052923650314672, 0.00021773822523607185, 0.0024667747643449625, 0.005599136094711325, 0.01200929273003224, -0.034992906435286845, 0.027273728482806636, 0.00262459486086339, -0.012486182836861042, 0.02636135138197085, 0.003847088087482649, 0.031295959441230765, 0.0031031357732164344, -0.0032491176437806526, -0.009373193484635825, -0.028869524479338226, 0.003513327144933767, 0.02663863769210295, 0.04650153653142047, 0.005816659496488573, -0.010467412928065929, 0.007605331950468415, 0.01657068128718499, 0.06864363679513849, 0.008420308181183986, -0.02196086049942612, 0.0047498635689419266, 0.023817373752066405, -0.004366281584628177, 0.017203765309860113, 0.03723195806226272, 0.00825850583345582, 0.0024843693471173125, -0.0008340559868047252]}],\n",
       "                        {\"hovermode\": \"closest\", \"paper_bgcolor\": \"rgba(245, 246, 249, 1)\", \"plot_bgcolor\": \"rgba(245, 246, 249, 1)\", \"showlegend\": false, \"template\": {\"data\": {\"bar\": [{\"error_x\": {\"color\": \"#2a3f5f\"}, \"error_y\": {\"color\": \"#2a3f5f\"}, \"marker\": {\"line\": {\"color\": \"#E5ECF6\", \"width\": 0.5}}, \"type\": \"bar\"}], \"barpolar\": [{\"marker\": {\"line\": {\"color\": \"#E5ECF6\", \"width\": 0.5}}, \"type\": \"barpolar\"}], \"carpet\": [{\"aaxis\": {\"endlinecolor\": \"#2a3f5f\", \"gridcolor\": \"white\", \"linecolor\": \"white\", \"minorgridcolor\": \"white\", \"startlinecolor\": \"#2a3f5f\"}, \"baxis\": {\"endlinecolor\": \"#2a3f5f\", \"gridcolor\": \"white\", \"linecolor\": \"white\", \"minorgridcolor\": \"white\", \"startlinecolor\": \"#2a3f5f\"}, \"type\": \"carpet\"}], \"choropleth\": [{\"colorbar\": {\"outlinewidth\": 0, \"ticks\": \"\"}, \"type\": \"choropleth\"}], \"contour\": [{\"colorbar\": {\"outlinewidth\": 0, \"ticks\": \"\"}, \"colorscale\": [[0.0, \"#0d0887\"], [0.1111111111111111, \"#46039f\"], [0.2222222222222222, \"#7201a8\"], [0.3333333333333333, \"#9c179e\"], [0.4444444444444444, \"#bd3786\"], [0.5555555555555556, \"#d8576b\"], [0.6666666666666666, \"#ed7953\"], [0.7777777777777778, \"#fb9f3a\"], [0.8888888888888888, \"#fdca26\"], [1.0, \"#f0f921\"]], \"type\": \"contour\"}], \"contourcarpet\": [{\"colorbar\": {\"outlinewidth\": 0, \"ticks\": \"\"}, \"type\": \"contourcarpet\"}], \"heatmap\": [{\"colorbar\": {\"outlinewidth\": 0, \"ticks\": \"\"}, \"colorscale\": [[0.0, \"#0d0887\"], [0.1111111111111111, \"#46039f\"], [0.2222222222222222, \"#7201a8\"], [0.3333333333333333, \"#9c179e\"], [0.4444444444444444, \"#bd3786\"], [0.5555555555555556, \"#d8576b\"], [0.6666666666666666, \"#ed7953\"], [0.7777777777777778, \"#fb9f3a\"], [0.8888888888888888, \"#fdca26\"], [1.0, \"#f0f921\"]], \"type\": \"heatmap\"}], \"heatmapgl\": [{\"colorbar\": {\"outlinewidth\": 0, \"ticks\": \"\"}, \"colorscale\": [[0.0, \"#0d0887\"], [0.1111111111111111, \"#46039f\"], [0.2222222222222222, \"#7201a8\"], [0.3333333333333333, \"#9c179e\"], [0.4444444444444444, \"#bd3786\"], [0.5555555555555556, \"#d8576b\"], [0.6666666666666666, \"#ed7953\"], [0.7777777777777778, \"#fb9f3a\"], [0.8888888888888888, \"#fdca26\"], [1.0, \"#f0f921\"]], \"type\": \"heatmapgl\"}], \"histogram\": [{\"marker\": {\"colorbar\": {\"outlinewidth\": 0, \"ticks\": \"\"}}, \"type\": \"histogram\"}], \"histogram2d\": [{\"colorbar\": {\"outlinewidth\": 0, \"ticks\": \"\"}, \"colorscale\": [[0.0, \"#0d0887\"], [0.1111111111111111, \"#46039f\"], [0.2222222222222222, \"#7201a8\"], [0.3333333333333333, \"#9c179e\"], [0.4444444444444444, \"#bd3786\"], [0.5555555555555556, \"#d8576b\"], [0.6666666666666666, \"#ed7953\"], [0.7777777777777778, \"#fb9f3a\"], [0.8888888888888888, \"#fdca26\"], [1.0, \"#f0f921\"]], \"type\": \"histogram2d\"}], \"histogram2dcontour\": [{\"colorbar\": {\"outlinewidth\": 0, \"ticks\": \"\"}, \"colorscale\": [[0.0, \"#0d0887\"], [0.1111111111111111, \"#46039f\"], [0.2222222222222222, \"#7201a8\"], [0.3333333333333333, \"#9c179e\"], [0.4444444444444444, \"#bd3786\"], [0.5555555555555556, \"#d8576b\"], [0.6666666666666666, \"#ed7953\"], [0.7777777777777778, \"#fb9f3a\"], [0.8888888888888888, \"#fdca26\"], [1.0, \"#f0f921\"]], \"type\": \"histogram2dcontour\"}], \"mesh3d\": [{\"colorbar\": {\"outlinewidth\": 0, \"ticks\": \"\"}, \"type\": \"mesh3d\"}], \"parcoords\": [{\"line\": {\"colorbar\": {\"outlinewidth\": 0, \"ticks\": \"\"}}, \"type\": \"parcoords\"}], \"scatter\": [{\"marker\": {\"colorbar\": {\"outlinewidth\": 0, \"ticks\": \"\"}}, \"type\": \"scatter\"}], \"scatter3d\": [{\"line\": {\"colorbar\": {\"outlinewidth\": 0, \"ticks\": \"\"}}, \"marker\": {\"colorbar\": {\"outlinewidth\": 0, \"ticks\": \"\"}}, \"type\": \"scatter3d\"}], \"scattercarpet\": [{\"marker\": {\"colorbar\": {\"outlinewidth\": 0, \"ticks\": \"\"}}, \"type\": \"scattercarpet\"}], \"scattergeo\": [{\"marker\": {\"colorbar\": {\"outlinewidth\": 0, \"ticks\": \"\"}}, \"type\": \"scattergeo\"}], \"scattergl\": [{\"marker\": {\"colorbar\": {\"outlinewidth\": 0, \"ticks\": \"\"}}, \"type\": \"scattergl\"}], \"scattermapbox\": [{\"marker\": {\"colorbar\": {\"outlinewidth\": 0, \"ticks\": \"\"}}, \"type\": \"scattermapbox\"}], \"scatterpolar\": [{\"marker\": {\"colorbar\": {\"outlinewidth\": 0, \"ticks\": \"\"}}, \"type\": \"scatterpolar\"}], \"scatterpolargl\": [{\"marker\": {\"colorbar\": {\"outlinewidth\": 0, \"ticks\": \"\"}}, \"type\": \"scatterpolargl\"}], \"scatterternary\": [{\"marker\": {\"colorbar\": {\"outlinewidth\": 0, \"ticks\": \"\"}}, \"type\": \"scatterternary\"}], \"surface\": [{\"colorbar\": {\"outlinewidth\": 0, \"ticks\": \"\"}, \"colorscale\": [[0.0, \"#0d0887\"], [0.1111111111111111, \"#46039f\"], [0.2222222222222222, \"#7201a8\"], [0.3333333333333333, \"#9c179e\"], [0.4444444444444444, \"#bd3786\"], [0.5555555555555556, \"#d8576b\"], [0.6666666666666666, \"#ed7953\"], [0.7777777777777778, \"#fb9f3a\"], [0.8888888888888888, \"#fdca26\"], [1.0, \"#f0f921\"]], \"type\": \"surface\"}], \"table\": [{\"cells\": {\"fill\": {\"color\": \"#EBF0F8\"}, \"line\": {\"color\": \"white\"}}, \"header\": {\"fill\": {\"color\": \"#C8D4E3\"}, \"line\": {\"color\": \"white\"}}, \"type\": \"table\"}]}, \"layout\": {\"annotationdefaults\": {\"arrowcolor\": \"#2a3f5f\", \"arrowhead\": 0, \"arrowwidth\": 1}, \"colorscale\": {\"diverging\": [[0, \"#8e0152\"], [0.1, \"#c51b7d\"], [0.2, \"#de77ae\"], [0.3, \"#f1b6da\"], [0.4, \"#fde0ef\"], [0.5, \"#f7f7f7\"], [0.6, \"#e6f5d0\"], [0.7, \"#b8e186\"], [0.8, \"#7fbc41\"], [0.9, \"#4d9221\"], [1, \"#276419\"]], \"sequential\": [[0.0, \"#0d0887\"], [0.1111111111111111, \"#46039f\"], [0.2222222222222222, \"#7201a8\"], [0.3333333333333333, \"#9c179e\"], [0.4444444444444444, \"#bd3786\"], [0.5555555555555556, \"#d8576b\"], [0.6666666666666666, \"#ed7953\"], [0.7777777777777778, \"#fb9f3a\"], [0.8888888888888888, \"#fdca26\"], [1.0, \"#f0f921\"]], \"sequentialminus\": [[0.0, \"#0d0887\"], [0.1111111111111111, \"#46039f\"], [0.2222222222222222, \"#7201a8\"], [0.3333333333333333, \"#9c179e\"], [0.4444444444444444, \"#bd3786\"], [0.5555555555555556, \"#d8576b\"], [0.6666666666666666, \"#ed7953\"], [0.7777777777777778, \"#fb9f3a\"], [0.8888888888888888, \"#fdca26\"], [1.0, \"#f0f921\"]]}, \"colorway\": [\"#636efa\", \"#EF553B\", \"#00cc96\", \"#ab63fa\", \"#FFA15A\", \"#19d3f3\", \"#FF6692\", \"#B6E880\", \"#FF97FF\", \"#FECB52\"], \"font\": {\"color\": \"#2a3f5f\"}, \"geo\": {\"bgcolor\": \"white\", \"lakecolor\": \"white\", \"landcolor\": \"#E5ECF6\", \"showlakes\": true, \"showland\": true, \"subunitcolor\": \"white\"}, \"hoverlabel\": {\"align\": \"left\"}, \"hovermode\": \"closest\", \"mapbox\": {\"style\": \"light\"}, \"paper_bgcolor\": \"white\", \"plot_bgcolor\": \"#E5ECF6\", \"polar\": {\"angularaxis\": {\"gridcolor\": \"white\", \"linecolor\": \"white\", \"ticks\": \"\"}, \"bgcolor\": \"#E5ECF6\", \"radialaxis\": {\"gridcolor\": \"white\", \"linecolor\": \"white\", \"ticks\": \"\"}}, \"scene\": {\"xaxis\": {\"backgroundcolor\": \"#E5ECF6\", \"gridcolor\": \"white\", \"gridwidth\": 2, \"linecolor\": \"white\", \"showbackground\": true, \"ticks\": \"\", \"zerolinecolor\": \"white\"}, \"yaxis\": {\"backgroundcolor\": \"#E5ECF6\", \"gridcolor\": \"white\", \"gridwidth\": 2, \"linecolor\": \"white\", \"showbackground\": true, \"ticks\": \"\", \"zerolinecolor\": \"white\"}, \"zaxis\": {\"backgroundcolor\": \"#E5ECF6\", \"gridcolor\": \"white\", \"gridwidth\": 2, \"linecolor\": \"white\", \"showbackground\": true, \"ticks\": \"\", \"zerolinecolor\": \"white\"}}, \"shapedefaults\": {\"line\": {\"color\": \"#2a3f5f\"}}, \"ternary\": {\"aaxis\": {\"gridcolor\": \"white\", \"linecolor\": \"white\", \"ticks\": \"\"}, \"baxis\": {\"gridcolor\": \"white\", \"linecolor\": \"white\", \"ticks\": \"\"}, \"bgcolor\": \"#E5ECF6\", \"caxis\": {\"gridcolor\": \"white\", \"linecolor\": \"white\", \"ticks\": \"\"}}, \"title\": {\"x\": 0.05}, \"xaxis\": {\"automargin\": true, \"gridcolor\": \"white\", \"linecolor\": \"white\", \"ticks\": \"\", \"zerolinecolor\": \"white\", \"zerolinewidth\": 2}, \"yaxis\": {\"automargin\": true, \"gridcolor\": \"white\", \"linecolor\": \"white\", \"ticks\": \"\", \"zerolinecolor\": \"white\", \"zerolinewidth\": 2}}}, \"title\": {\"text\": \"dependence plot for Age\"}, \"xaxis\": {\"title\": {\"text\": \"Age\"}}, \"yaxis\": {\"title\": {\"text\": \"SHAP value\"}}},\n",
       "                        {\"responsive\": true}\n",
       "                    ).then(function(){\n",
       "                            \n",
       "var gd = document.getElementById('635478fc-dd8a-466a-b85c-7638732524cd');\n",
       "var x = new MutationObserver(function (mutations, observer) {{\n",
       "        var display = window.getComputedStyle(gd).display;\n",
       "        if (!display || display === 'none') {{\n",
       "            console.log([gd, 'removed!']);\n",
       "            Plotly.purge(gd);\n",
       "            observer.disconnect();\n",
       "        }}\n",
       "}});\n",
       "\n",
       "// Listen for the removal of the full notebook cells\n",
       "var notebookContainer = gd.closest('#notebook-container');\n",
       "if (notebookContainer) {{\n",
       "    x.observe(notebookContainer, {childList: true});\n",
       "}}\n",
       "\n",
       "// Listen for the clearing of the current output cell\n",
       "var outputEl = gd.closest('.output');\n",
       "if (outputEl) {{\n",
       "    x.observe(outputEl, {childList: true});\n",
       "}}\n",
       "\n",
       "                        })\n",
       "                };\n",
       "                });\n",
       "            </script>\n",
       "        </div>"
      ]
     },
     "metadata": {},
     "output_type": "display_data"
    }
   ],
   "source": [
    "explainer.plot_shap_dependence('Age')"
   ]
  },
  {
   "cell_type": "code",
   "execution_count": 17,
   "metadata": {},
   "outputs": [
    {
     "data": {
      "application/vnd.plotly.v1+json": {
       "config": {
        "plotlyServerURL": "https://plot.ly"
       },
       "data": [
        {
         "hoverinfo": "text",
         "marker": {
          "opacity": 0.6,
          "size": 7
         },
         "mode": "markers",
         "text": [
          "Sex=female<br>SHAP=0.27",
          "Sex=female<br>SHAP=0.27",
          "Sex=male<br>SHAP=-0.11",
          "Sex=female<br>SHAP=0.22",
          "Sex=female<br>SHAP=0.3",
          "Sex=male<br>SHAP=-0.13",
          "Sex=female<br>SHAP=0.27",
          "Sex=female<br>SHAP=0.16",
          "Sex=female<br>SHAP=0.32",
          "Sex=male<br>SHAP=-0.19",
          "Sex=male<br>SHAP=-0.15",
          "Sex=female<br>SHAP=0.3",
          "Sex=female<br>SHAP=0.25",
          "Sex=female<br>SHAP=0.32",
          "Sex=male<br>SHAP=-0.19",
          "Sex=male<br>SHAP=-0.1",
          "Sex=male<br>SHAP=-0.13",
          "Sex=male<br>SHAP=-0.19",
          "Sex=female<br>SHAP=0.32",
          "Sex=male<br>SHAP=-0.11",
          "Sex=male<br>SHAP=-0.13",
          "Sex=male<br>SHAP=-0.14",
          "Sex=male<br>SHAP=-0.17",
          "Sex=male<br>SHAP=-0.14",
          "Sex=male<br>SHAP=-0.19",
          "Sex=male<br>SHAP=-0.13",
          "Sex=female<br>SHAP=0.27",
          "Sex=male<br>SHAP=-0.13",
          "Sex=female<br>SHAP=0.23",
          "Sex=male<br>SHAP=-0.14",
          "Sex=male<br>SHAP=-0.2",
          "Sex=male<br>SHAP=-0.13",
          "Sex=male<br>SHAP=-0.13",
          "Sex=female<br>SHAP=0.17",
          "Sex=male<br>SHAP=-0.17",
          "Sex=male<br>SHAP=-0.19",
          "Sex=male<br>SHAP=-0.13",
          "Sex=male<br>SHAP=-0.14",
          "Sex=female<br>SHAP=0.24",
          "Sex=male<br>SHAP=-0.19",
          "Sex=male<br>SHAP=-0.14",
          "Sex=male<br>SHAP=-0.13",
          "Sex=male<br>SHAP=-0.17",
          "Sex=female<br>SHAP=0.25",
          "Sex=female<br>SHAP=0.29",
          "Sex=male<br>SHAP=-0.13",
          "Sex=male<br>SHAP=-0.15",
          "Sex=male<br>SHAP=-0.18",
          "Sex=male<br>SHAP=-0.14",
          "Sex=male<br>SHAP=-0.13",
          "Sex=male<br>SHAP=-0.14",
          "Sex=female<br>SHAP=0.15",
          "Sex=female<br>SHAP=0.27",
          "Sex=male<br>SHAP=-0.19",
          "Sex=male<br>SHAP=-0.14",
          "Sex=male<br>SHAP=-0.17",
          "Sex=female<br>SHAP=0.3",
          "Sex=female<br>SHAP=0.31",
          "Sex=male<br>SHAP=-0.18",
          "Sex=male<br>SHAP=-0.09",
          "Sex=female<br>SHAP=0.32",
          "Sex=female<br>SHAP=0.27",
          "Sex=female<br>SHAP=0.24",
          "Sex=male<br>SHAP=-0.17",
          "Sex=female<br>SHAP=0.31",
          "Sex=female<br>SHAP=0.25",
          "Sex=male<br>SHAP=-0.17",
          "Sex=male<br>SHAP=-0.19",
          "Sex=male<br>SHAP=-0.13",
          "Sex=male<br>SHAP=-0.08",
          "Sex=male<br>SHAP=-0.13",
          "Sex=female<br>SHAP=0.29",
          "Sex=male<br>SHAP=-0.14",
          "Sex=female<br>SHAP=0.26",
          "Sex=male<br>SHAP=-0.13",
          "Sex=male<br>SHAP=-0.2",
          "Sex=male<br>SHAP=-0.13",
          "Sex=female<br>SHAP=0.27",
          "Sex=male<br>SHAP=-0.18",
          "Sex=male<br>SHAP=-0.14",
          "Sex=male<br>SHAP=-0.14",
          "Sex=male<br>SHAP=-0.09",
          "Sex=male<br>SHAP=-0.18",
          "Sex=male<br>SHAP=-0.13",
          "Sex=female<br>SHAP=0.19",
          "Sex=male<br>SHAP=-0.13",
          "Sex=female<br>SHAP=0.29",
          "Sex=male<br>SHAP=-0.19",
          "Sex=male<br>SHAP=-0.17",
          "Sex=female<br>SHAP=0.32",
          "Sex=female<br>SHAP=0.29",
          "Sex=male<br>SHAP=-0.13",
          "Sex=male<br>SHAP=-0.17",
          "Sex=male<br>SHAP=-0.15",
          "Sex=male<br>SHAP=-0.19",
          "Sex=female<br>SHAP=0.29",
          "Sex=male<br>SHAP=-0.14",
          "Sex=male<br>SHAP=-0.17",
          "Sex=male<br>SHAP=-0.18",
          "Sex=male<br>SHAP=-0.14",
          "Sex=male<br>SHAP=-0.15",
          "Sex=male<br>SHAP=-0.14",
          "Sex=female<br>SHAP=0.32",
          "Sex=female<br>SHAP=0.25",
          "Sex=male<br>SHAP=-0.17",
          "Sex=male<br>SHAP=-0.18",
          "Sex=female<br>SHAP=0.31",
          "Sex=male<br>SHAP=-0.15",
          "Sex=female<br>SHAP=0.25",
          "Sex=female<br>SHAP=0.26",
          "Sex=male<br>SHAP=-0.18",
          "Sex=male<br>SHAP=-0.2",
          "Sex=male<br>SHAP=-0.15",
          "Sex=female<br>SHAP=0.27",
          "Sex=female<br>SHAP=0.24",
          "Sex=male<br>SHAP=-0.18",
          "Sex=male<br>SHAP=-0.17",
          "Sex=female<br>SHAP=0.28",
          "Sex=male<br>SHAP=-0.15",
          "Sex=male<br>SHAP=-0.18",
          "Sex=male<br>SHAP=-0.13",
          "Sex=female<br>SHAP=0.25",
          "Sex=male<br>SHAP=-0.16",
          "Sex=male<br>SHAP=-0.19",
          "Sex=male<br>SHAP=-0.19",
          "Sex=male<br>SHAP=-0.15",
          "Sex=male<br>SHAP=-0.19",
          "Sex=female<br>SHAP=0.29",
          "Sex=female<br>SHAP=0.28",
          "Sex=male<br>SHAP=-0.14",
          "Sex=male<br>SHAP=-0.18",
          "Sex=female<br>SHAP=0.25",
          "Sex=male<br>SHAP=-0.16",
          "Sex=male<br>SHAP=-0.14",
          "Sex=male<br>SHAP=-0.13",
          "Sex=male<br>SHAP=-0.19",
          "Sex=male<br>SHAP=-0.14",
          "Sex=female<br>SHAP=0.27",
          "Sex=female<br>SHAP=0.31",
          "Sex=male<br>SHAP=-0.19",
          "Sex=male<br>SHAP=-0.15",
          "Sex=male<br>SHAP=-0.14",
          "Sex=female<br>SHAP=0.3",
          "Sex=male<br>SHAP=-0.19",
          "Sex=female<br>SHAP=0.25",
          "Sex=male<br>SHAP=-0.17",
          "Sex=male<br>SHAP=-0.1",
          "Sex=male<br>SHAP=-0.11",
          "Sex=male<br>SHAP=-0.13",
          "Sex=male<br>SHAP=-0.12",
          "Sex=female<br>SHAP=0.25",
          "Sex=male<br>SHAP=-0.14",
          "Sex=male<br>SHAP=-0.15",
          "Sex=male<br>SHAP=-0.16",
          "Sex=male<br>SHAP=-0.19",
          "Sex=male<br>SHAP=-0.13",
          "Sex=male<br>SHAP=-0.19",
          "Sex=female<br>SHAP=0.22",
          "Sex=male<br>SHAP=-0.18",
          "Sex=male<br>SHAP=-0.14",
          "Sex=male<br>SHAP=-0.19",
          "Sex=female<br>SHAP=0.27",
          "Sex=male<br>SHAP=-0.19",
          "Sex=male<br>SHAP=-0.19",
          "Sex=male<br>SHAP=-0.15",
          "Sex=male<br>SHAP=-0.14",
          "Sex=male<br>SHAP=-0.15",
          "Sex=male<br>SHAP=-0.16",
          "Sex=male<br>SHAP=-0.13",
          "Sex=female<br>SHAP=0.27",
          "Sex=male<br>SHAP=-0.14",
          "Sex=female<br>SHAP=0.26",
          "Sex=male<br>SHAP=-0.17",
          "Sex=male<br>SHAP=-0.13",
          "Sex=female<br>SHAP=0.26",
          "Sex=female<br>SHAP=0.3",
          "Sex=female<br>SHAP=0.26",
          "Sex=male<br>SHAP=-0.13",
          "Sex=male<br>SHAP=-0.14",
          "Sex=female<br>SHAP=0.27",
          "Sex=male<br>SHAP=-0.2",
          "Sex=female<br>SHAP=0.29",
          "Sex=female<br>SHAP=0.29",
          "Sex=male<br>SHAP=-0.15",
          "Sex=male<br>SHAP=-0.13",
          "Sex=male<br>SHAP=-0.13",
          "Sex=male<br>SHAP=-0.18",
          "Sex=male<br>SHAP=-0.13",
          "Sex=male<br>SHAP=-0.18",
          "Sex=male<br>SHAP=-0.17",
          "Sex=male<br>SHAP=-0.17",
          "Sex=male<br>SHAP=-0.15",
          "Sex=male<br>SHAP=-0.08",
          "Sex=female<br>SHAP=0.23",
          "Sex=female<br>SHAP=0.23",
          "Sex=male<br>SHAP=-0.15",
          "Sex=male<br>SHAP=-0.13",
          "Sex=male<br>SHAP=-0.17",
          "Sex=male<br>SHAP=-0.13",
          "Sex=male<br>SHAP=-0.19"
         ],
         "type": "scatter",
         "x": [
          "female",
          "female",
          "male",
          "female",
          "female",
          "male",
          "female",
          "female",
          "female",
          "male",
          "male",
          "female",
          "female",
          "female",
          "male",
          "male",
          "male",
          "male",
          "female",
          "male",
          "male",
          "male",
          "male",
          "male",
          "male",
          "male",
          "female",
          "male",
          "female",
          "male",
          "male",
          "male",
          "male",
          "female",
          "male",
          "male",
          "male",
          "male",
          "female",
          "male",
          "male",
          "male",
          "male",
          "female",
          "female",
          "male",
          "male",
          "male",
          "male",
          "male",
          "male",
          "female",
          "female",
          "male",
          "male",
          "male",
          "female",
          "female",
          "male",
          "male",
          "female",
          "female",
          "female",
          "male",
          "female",
          "female",
          "male",
          "male",
          "male",
          "male",
          "male",
          "female",
          "male",
          "female",
          "male",
          "male",
          "male",
          "female",
          "male",
          "male",
          "male",
          "male",
          "male",
          "male",
          "female",
          "male",
          "female",
          "male",
          "male",
          "female",
          "female",
          "male",
          "male",
          "male",
          "male",
          "female",
          "male",
          "male",
          "male",
          "male",
          "male",
          "male",
          "female",
          "female",
          "male",
          "male",
          "female",
          "male",
          "female",
          "female",
          "male",
          "male",
          "male",
          "female",
          "female",
          "male",
          "male",
          "female",
          "male",
          "male",
          "male",
          "female",
          "male",
          "male",
          "male",
          "male",
          "male",
          "female",
          "female",
          "male",
          "male",
          "female",
          "male",
          "male",
          "male",
          "male",
          "male",
          "female",
          "female",
          "male",
          "male",
          "male",
          "female",
          "male",
          "female",
          "male",
          "male",
          "male",
          "male",
          "male",
          "female",
          "male",
          "male",
          "male",
          "male",
          "male",
          "male",
          "female",
          "male",
          "male",
          "male",
          "female",
          "male",
          "male",
          "male",
          "male",
          "male",
          "male",
          "male",
          "female",
          "male",
          "female",
          "male",
          "male",
          "female",
          "female",
          "female",
          "male",
          "male",
          "female",
          "male",
          "female",
          "female",
          "male",
          "male",
          "male",
          "male",
          "male",
          "male",
          "male",
          "male",
          "male",
          "male",
          "female",
          "female",
          "male",
          "male",
          "male",
          "male",
          "male"
         ],
         "y": [
          0.26925335032168657,
          0.27413844859547254,
          -0.10633214084738715,
          0.222764436261547,
          0.3040110626867608,
          -0.1305344840115097,
          0.270746829885801,
          0.16272765428319053,
          0.3205554946803474,
          -0.19098039228710093,
          -0.1519961815478433,
          0.30150758004565026,
          0.24574852746811993,
          0.3162175831042521,
          -0.18548907860886052,
          -0.0963016949929201,
          -0.12897064164485547,
          -0.19418150034965737,
          0.3153272139889687,
          -0.10975912481059225,
          -0.13172055974416835,
          -0.13526960473848118,
          -0.1679288714604021,
          -0.13847792352862703,
          -0.18932329881250215,
          -0.1313557126132862,
          0.2733530800448484,
          -0.13216827601025766,
          0.2327052154948377,
          -0.13533964639826543,
          -0.19808187276856995,
          -0.13451496483279035,
          -0.13355530917317565,
          0.16768900015409777,
          -0.16513173752856963,
          -0.1868249185425238,
          -0.1291697815893074,
          -0.1438832660144423,
          0.24031819422228773,
          -0.18983576225411322,
          -0.13533964639826543,
          -0.1304022969317316,
          -0.1747211731870883,
          0.24988324596453593,
          0.29068422536623084,
          -0.13191308582290467,
          -0.14974439465710648,
          -0.1816522430328244,
          -0.13834982224157055,
          -0.12900859859583286,
          -0.13847792352862703,
          0.15142357663920653,
          0.2723696318801959,
          -0.1933340267701579,
          -0.13985244134693067,
          -0.17186214143165437,
          0.30110577757391765,
          0.3055012443505325,
          -0.17941747194036545,
          -0.09174135996465287,
          0.3205554946803474,
          0.2733110230378418,
          0.23957012618408108,
          -0.16589170940975412,
          0.3090231809075738,
          0.25230686999026075,
          -0.16989207413401408,
          -0.18885216757235362,
          -0.13451496483279035,
          -0.08267039261715718,
          -0.13282505477848766,
          0.2888538076599674,
          -0.13847792352862703,
          0.2600176203282883,
          -0.12801705074362238,
          -0.1997945205272597,
          -0.1305344840115097,
          0.2741082786470092,
          -0.18076076792958717,
          -0.13500937980678804,
          -0.13847792352862703,
          -0.08924732830476789,
          -0.18130163624331536,
          -0.12933439741810077,
          0.1858121098749363,
          -0.1275070293959632,
          0.29014498145815115,
          -0.19076585939415058,
          -0.1684273500980517,
          0.31741464265454805,
          0.2928872995045204,
          -0.13451496483279035,
          -0.17249002787932655,
          -0.15308086445236008,
          -0.18888046648666412,
          0.29477496285649885,
          -0.13822530376462633,
          -0.1691621258228176,
          -0.18083219241286044,
          -0.1382026593858766,
          -0.14818718672694525,
          -0.13671416798371977,
          0.32319465178461215,
          0.25194120981889156,
          -0.17449801188461228,
          -0.1839162068237727,
          0.31196149438773035,
          -0.1548127427249901,
          0.2516107429010829,
          0.2613908413250589,
          -0.1804842786360843,
          -0.19781992175176397,
          -0.15120596365243577,
          0.26581149530278386,
          0.24042610878244136,
          -0.17941747194036545,
          -0.17310426546435886,
          0.2844318749147604,
          -0.14658808978060384,
          -0.17837826064539064,
          -0.13451496483279035,
          0.24813448880923267,
          -0.15561987199951777,
          -0.18685489101587463,
          -0.18936503190015455,
          -0.15040369363476352,
          -0.19225461393461685,
          0.288314146027154,
          0.2788637191806767,
          -0.13991757677245825,
          -0.17941747194036545,
          0.25120749712571316,
          -0.1557049603041005,
          -0.13615119854547325,
          -0.13266387178501313,
          -0.1900242023322089,
          -0.13985244134693067,
          0.2702583233415863,
          0.30993889596153157,
          -0.18964228966279534,
          -0.14693260948617182,
          -0.13586449617107207,
          0.29989107153105377,
          -0.1856405033504213,
          0.24734681237786352,
          -0.17490118741950442,
          -0.09555655366531754,
          -0.10677893939974836,
          -0.13464454904536644,
          -0.12273578285351358,
          0.2510254411288138,
          -0.1364874255635171,
          -0.1491855384892436,
          -0.1607624766355432,
          -0.1866530776581667,
          -0.13140478028683514,
          -0.1868249185425238,
          0.22061390128806763,
          -0.18369924009830663,
          -0.13667533852814973,
          -0.19081646352432807,
          0.27032195015029137,
          -0.18964228966279534,
          -0.18964228966279534,
          -0.15039527408797665,
          -0.13847792352862703,
          -0.15148444050706422,
          -0.15950186440146236,
          -0.13412123915348906,
          0.2724220221743098,
          -0.13834598442578722,
          0.26437639655188017,
          -0.17010220338971893,
          -0.1319118796043411,
          0.2594253405464223,
          0.29845366656866656,
          0.26099331353707944,
          -0.12846233663465118,
          -0.1382778357663416,
          0.2669314678750706,
          -0.19729823863396206,
          0.2865455200785818,
          0.2930109761377305,
          -0.15241751182953134,
          -0.13189870059795572,
          -0.1335094799167193,
          -0.17590114083768416,
          -0.13162871917023528,
          -0.17941747194036545,
          -0.1701232705762286,
          -0.17305331518832368,
          -0.14599800483352615,
          -0.08267039261715718,
          0.22561301870197759,
          0.22778246107739095,
          -0.1548127427249901,
          -0.13263006235274438,
          -0.1683905013302716,
          -0.1302187045541765,
          -0.19014597785602602
         ]
        }
       ],
       "layout": {
        "hovermode": "closest",
        "paper_bgcolor": "rgba(245, 246, 249, 1)",
        "plot_bgcolor": "rgba(245, 246, 249, 1)",
        "showlegend": false,
        "template": {
         "data": {
          "bar": [
           {
            "error_x": {
             "color": "#2a3f5f"
            },
            "error_y": {
             "color": "#2a3f5f"
            },
            "marker": {
             "line": {
              "color": "#E5ECF6",
              "width": 0.5
             }
            },
            "type": "bar"
           }
          ],
          "barpolar": [
           {
            "marker": {
             "line": {
              "color": "#E5ECF6",
              "width": 0.5
             }
            },
            "type": "barpolar"
           }
          ],
          "carpet": [
           {
            "aaxis": {
             "endlinecolor": "#2a3f5f",
             "gridcolor": "white",
             "linecolor": "white",
             "minorgridcolor": "white",
             "startlinecolor": "#2a3f5f"
            },
            "baxis": {
             "endlinecolor": "#2a3f5f",
             "gridcolor": "white",
             "linecolor": "white",
             "minorgridcolor": "white",
             "startlinecolor": "#2a3f5f"
            },
            "type": "carpet"
           }
          ],
          "choropleth": [
           {
            "colorbar": {
             "outlinewidth": 0,
             "ticks": ""
            },
            "type": "choropleth"
           }
          ],
          "contour": [
           {
            "colorbar": {
             "outlinewidth": 0,
             "ticks": ""
            },
            "colorscale": [
             [
              0,
              "#0d0887"
             ],
             [
              0.1111111111111111,
              "#46039f"
             ],
             [
              0.2222222222222222,
              "#7201a8"
             ],
             [
              0.3333333333333333,
              "#9c179e"
             ],
             [
              0.4444444444444444,
              "#bd3786"
             ],
             [
              0.5555555555555556,
              "#d8576b"
             ],
             [
              0.6666666666666666,
              "#ed7953"
             ],
             [
              0.7777777777777778,
              "#fb9f3a"
             ],
             [
              0.8888888888888888,
              "#fdca26"
             ],
             [
              1,
              "#f0f921"
             ]
            ],
            "type": "contour"
           }
          ],
          "contourcarpet": [
           {
            "colorbar": {
             "outlinewidth": 0,
             "ticks": ""
            },
            "type": "contourcarpet"
           }
          ],
          "heatmap": [
           {
            "colorbar": {
             "outlinewidth": 0,
             "ticks": ""
            },
            "colorscale": [
             [
              0,
              "#0d0887"
             ],
             [
              0.1111111111111111,
              "#46039f"
             ],
             [
              0.2222222222222222,
              "#7201a8"
             ],
             [
              0.3333333333333333,
              "#9c179e"
             ],
             [
              0.4444444444444444,
              "#bd3786"
             ],
             [
              0.5555555555555556,
              "#d8576b"
             ],
             [
              0.6666666666666666,
              "#ed7953"
             ],
             [
              0.7777777777777778,
              "#fb9f3a"
             ],
             [
              0.8888888888888888,
              "#fdca26"
             ],
             [
              1,
              "#f0f921"
             ]
            ],
            "type": "heatmap"
           }
          ],
          "heatmapgl": [
           {
            "colorbar": {
             "outlinewidth": 0,
             "ticks": ""
            },
            "colorscale": [
             [
              0,
              "#0d0887"
             ],
             [
              0.1111111111111111,
              "#46039f"
             ],
             [
              0.2222222222222222,
              "#7201a8"
             ],
             [
              0.3333333333333333,
              "#9c179e"
             ],
             [
              0.4444444444444444,
              "#bd3786"
             ],
             [
              0.5555555555555556,
              "#d8576b"
             ],
             [
              0.6666666666666666,
              "#ed7953"
             ],
             [
              0.7777777777777778,
              "#fb9f3a"
             ],
             [
              0.8888888888888888,
              "#fdca26"
             ],
             [
              1,
              "#f0f921"
             ]
            ],
            "type": "heatmapgl"
           }
          ],
          "histogram": [
           {
            "marker": {
             "colorbar": {
              "outlinewidth": 0,
              "ticks": ""
             }
            },
            "type": "histogram"
           }
          ],
          "histogram2d": [
           {
            "colorbar": {
             "outlinewidth": 0,
             "ticks": ""
            },
            "colorscale": [
             [
              0,
              "#0d0887"
             ],
             [
              0.1111111111111111,
              "#46039f"
             ],
             [
              0.2222222222222222,
              "#7201a8"
             ],
             [
              0.3333333333333333,
              "#9c179e"
             ],
             [
              0.4444444444444444,
              "#bd3786"
             ],
             [
              0.5555555555555556,
              "#d8576b"
             ],
             [
              0.6666666666666666,
              "#ed7953"
             ],
             [
              0.7777777777777778,
              "#fb9f3a"
             ],
             [
              0.8888888888888888,
              "#fdca26"
             ],
             [
              1,
              "#f0f921"
             ]
            ],
            "type": "histogram2d"
           }
          ],
          "histogram2dcontour": [
           {
            "colorbar": {
             "outlinewidth": 0,
             "ticks": ""
            },
            "colorscale": [
             [
              0,
              "#0d0887"
             ],
             [
              0.1111111111111111,
              "#46039f"
             ],
             [
              0.2222222222222222,
              "#7201a8"
             ],
             [
              0.3333333333333333,
              "#9c179e"
             ],
             [
              0.4444444444444444,
              "#bd3786"
             ],
             [
              0.5555555555555556,
              "#d8576b"
             ],
             [
              0.6666666666666666,
              "#ed7953"
             ],
             [
              0.7777777777777778,
              "#fb9f3a"
             ],
             [
              0.8888888888888888,
              "#fdca26"
             ],
             [
              1,
              "#f0f921"
             ]
            ],
            "type": "histogram2dcontour"
           }
          ],
          "mesh3d": [
           {
            "colorbar": {
             "outlinewidth": 0,
             "ticks": ""
            },
            "type": "mesh3d"
           }
          ],
          "parcoords": [
           {
            "line": {
             "colorbar": {
              "outlinewidth": 0,
              "ticks": ""
             }
            },
            "type": "parcoords"
           }
          ],
          "scatter": [
           {
            "marker": {
             "colorbar": {
              "outlinewidth": 0,
              "ticks": ""
             }
            },
            "type": "scatter"
           }
          ],
          "scatter3d": [
           {
            "line": {
             "colorbar": {
              "outlinewidth": 0,
              "ticks": ""
             }
            },
            "marker": {
             "colorbar": {
              "outlinewidth": 0,
              "ticks": ""
             }
            },
            "type": "scatter3d"
           }
          ],
          "scattercarpet": [
           {
            "marker": {
             "colorbar": {
              "outlinewidth": 0,
              "ticks": ""
             }
            },
            "type": "scattercarpet"
           }
          ],
          "scattergeo": [
           {
            "marker": {
             "colorbar": {
              "outlinewidth": 0,
              "ticks": ""
             }
            },
            "type": "scattergeo"
           }
          ],
          "scattergl": [
           {
            "marker": {
             "colorbar": {
              "outlinewidth": 0,
              "ticks": ""
             }
            },
            "type": "scattergl"
           }
          ],
          "scattermapbox": [
           {
            "marker": {
             "colorbar": {
              "outlinewidth": 0,
              "ticks": ""
             }
            },
            "type": "scattermapbox"
           }
          ],
          "scatterpolar": [
           {
            "marker": {
             "colorbar": {
              "outlinewidth": 0,
              "ticks": ""
             }
            },
            "type": "scatterpolar"
           }
          ],
          "scatterpolargl": [
           {
            "marker": {
             "colorbar": {
              "outlinewidth": 0,
              "ticks": ""
             }
            },
            "type": "scatterpolargl"
           }
          ],
          "scatterternary": [
           {
            "marker": {
             "colorbar": {
              "outlinewidth": 0,
              "ticks": ""
             }
            },
            "type": "scatterternary"
           }
          ],
          "surface": [
           {
            "colorbar": {
             "outlinewidth": 0,
             "ticks": ""
            },
            "colorscale": [
             [
              0,
              "#0d0887"
             ],
             [
              0.1111111111111111,
              "#46039f"
             ],
             [
              0.2222222222222222,
              "#7201a8"
             ],
             [
              0.3333333333333333,
              "#9c179e"
             ],
             [
              0.4444444444444444,
              "#bd3786"
             ],
             [
              0.5555555555555556,
              "#d8576b"
             ],
             [
              0.6666666666666666,
              "#ed7953"
             ],
             [
              0.7777777777777778,
              "#fb9f3a"
             ],
             [
              0.8888888888888888,
              "#fdca26"
             ],
             [
              1,
              "#f0f921"
             ]
            ],
            "type": "surface"
           }
          ],
          "table": [
           {
            "cells": {
             "fill": {
              "color": "#EBF0F8"
             },
             "line": {
              "color": "white"
             }
            },
            "header": {
             "fill": {
              "color": "#C8D4E3"
             },
             "line": {
              "color": "white"
             }
            },
            "type": "table"
           }
          ]
         },
         "layout": {
          "annotationdefaults": {
           "arrowcolor": "#2a3f5f",
           "arrowhead": 0,
           "arrowwidth": 1
          },
          "colorscale": {
           "diverging": [
            [
             0,
             "#8e0152"
            ],
            [
             0.1,
             "#c51b7d"
            ],
            [
             0.2,
             "#de77ae"
            ],
            [
             0.3,
             "#f1b6da"
            ],
            [
             0.4,
             "#fde0ef"
            ],
            [
             0.5,
             "#f7f7f7"
            ],
            [
             0.6,
             "#e6f5d0"
            ],
            [
             0.7,
             "#b8e186"
            ],
            [
             0.8,
             "#7fbc41"
            ],
            [
             0.9,
             "#4d9221"
            ],
            [
             1,
             "#276419"
            ]
           ],
           "sequential": [
            [
             0,
             "#0d0887"
            ],
            [
             0.1111111111111111,
             "#46039f"
            ],
            [
             0.2222222222222222,
             "#7201a8"
            ],
            [
             0.3333333333333333,
             "#9c179e"
            ],
            [
             0.4444444444444444,
             "#bd3786"
            ],
            [
             0.5555555555555556,
             "#d8576b"
            ],
            [
             0.6666666666666666,
             "#ed7953"
            ],
            [
             0.7777777777777778,
             "#fb9f3a"
            ],
            [
             0.8888888888888888,
             "#fdca26"
            ],
            [
             1,
             "#f0f921"
            ]
           ],
           "sequentialminus": [
            [
             0,
             "#0d0887"
            ],
            [
             0.1111111111111111,
             "#46039f"
            ],
            [
             0.2222222222222222,
             "#7201a8"
            ],
            [
             0.3333333333333333,
             "#9c179e"
            ],
            [
             0.4444444444444444,
             "#bd3786"
            ],
            [
             0.5555555555555556,
             "#d8576b"
            ],
            [
             0.6666666666666666,
             "#ed7953"
            ],
            [
             0.7777777777777778,
             "#fb9f3a"
            ],
            [
             0.8888888888888888,
             "#fdca26"
            ],
            [
             1,
             "#f0f921"
            ]
           ]
          },
          "colorway": [
           "#636efa",
           "#EF553B",
           "#00cc96",
           "#ab63fa",
           "#FFA15A",
           "#19d3f3",
           "#FF6692",
           "#B6E880",
           "#FF97FF",
           "#FECB52"
          ],
          "font": {
           "color": "#2a3f5f"
          },
          "geo": {
           "bgcolor": "white",
           "lakecolor": "white",
           "landcolor": "#E5ECF6",
           "showlakes": true,
           "showland": true,
           "subunitcolor": "white"
          },
          "hoverlabel": {
           "align": "left"
          },
          "hovermode": "closest",
          "mapbox": {
           "style": "light"
          },
          "paper_bgcolor": "white",
          "plot_bgcolor": "#E5ECF6",
          "polar": {
           "angularaxis": {
            "gridcolor": "white",
            "linecolor": "white",
            "ticks": ""
           },
           "bgcolor": "#E5ECF6",
           "radialaxis": {
            "gridcolor": "white",
            "linecolor": "white",
            "ticks": ""
           }
          },
          "scene": {
           "xaxis": {
            "backgroundcolor": "#E5ECF6",
            "gridcolor": "white",
            "gridwidth": 2,
            "linecolor": "white",
            "showbackground": true,
            "ticks": "",
            "zerolinecolor": "white"
           },
           "yaxis": {
            "backgroundcolor": "#E5ECF6",
            "gridcolor": "white",
            "gridwidth": 2,
            "linecolor": "white",
            "showbackground": true,
            "ticks": "",
            "zerolinecolor": "white"
           },
           "zaxis": {
            "backgroundcolor": "#E5ECF6",
            "gridcolor": "white",
            "gridwidth": 2,
            "linecolor": "white",
            "showbackground": true,
            "ticks": "",
            "zerolinecolor": "white"
           }
          },
          "shapedefaults": {
           "line": {
            "color": "#2a3f5f"
           }
          },
          "ternary": {
           "aaxis": {
            "gridcolor": "white",
            "linecolor": "white",
            "ticks": ""
           },
           "baxis": {
            "gridcolor": "white",
            "linecolor": "white",
            "ticks": ""
           },
           "bgcolor": "#E5ECF6",
           "caxis": {
            "gridcolor": "white",
            "linecolor": "white",
            "ticks": ""
           }
          },
          "title": {
           "x": 0.05
          },
          "xaxis": {
           "automargin": true,
           "gridcolor": "white",
           "linecolor": "white",
           "ticks": "",
           "zerolinecolor": "white",
           "zerolinewidth": 2
          },
          "yaxis": {
           "automargin": true,
           "gridcolor": "white",
           "linecolor": "white",
           "ticks": "",
           "zerolinecolor": "white",
           "zerolinewidth": 2
          }
         }
        },
        "title": {
         "text": "dependence plot for Sex"
        },
        "xaxis": {
         "title": {
          "text": "Sex"
         }
        },
        "yaxis": {
         "title": {
          "text": "SHAP value"
         }
        }
       }
      },
      "text/html": [
       "<div>\n",
       "        \n",
       "        \n",
       "            <div id=\"1a31d7c6-c19d-40c9-a6e2-6921d4ad0b50\" class=\"plotly-graph-div\" style=\"height:525px; width:100%;\"></div>\n",
       "            <script type=\"text/javascript\">\n",
       "                require([\"plotly\"], function(Plotly) {\n",
       "                    window.PLOTLYENV=window.PLOTLYENV || {};\n",
       "                    \n",
       "                if (document.getElementById(\"1a31d7c6-c19d-40c9-a6e2-6921d4ad0b50\")) {\n",
       "                    Plotly.newPlot(\n",
       "                        '1a31d7c6-c19d-40c9-a6e2-6921d4ad0b50',\n",
       "                        [{\"hoverinfo\": \"text\", \"marker\": {\"opacity\": 0.6, \"size\": 7}, \"mode\": \"markers\", \"text\": [\"Sex=female<br>SHAP=0.27\", \"Sex=female<br>SHAP=0.27\", \"Sex=male<br>SHAP=-0.11\", \"Sex=female<br>SHAP=0.22\", \"Sex=female<br>SHAP=0.3\", \"Sex=male<br>SHAP=-0.13\", \"Sex=female<br>SHAP=0.27\", \"Sex=female<br>SHAP=0.16\", \"Sex=female<br>SHAP=0.32\", \"Sex=male<br>SHAP=-0.19\", \"Sex=male<br>SHAP=-0.15\", \"Sex=female<br>SHAP=0.3\", \"Sex=female<br>SHAP=0.25\", \"Sex=female<br>SHAP=0.32\", \"Sex=male<br>SHAP=-0.19\", \"Sex=male<br>SHAP=-0.1\", \"Sex=male<br>SHAP=-0.13\", \"Sex=male<br>SHAP=-0.19\", \"Sex=female<br>SHAP=0.32\", \"Sex=male<br>SHAP=-0.11\", \"Sex=male<br>SHAP=-0.13\", \"Sex=male<br>SHAP=-0.14\", \"Sex=male<br>SHAP=-0.17\", \"Sex=male<br>SHAP=-0.14\", \"Sex=male<br>SHAP=-0.19\", \"Sex=male<br>SHAP=-0.13\", \"Sex=female<br>SHAP=0.27\", \"Sex=male<br>SHAP=-0.13\", \"Sex=female<br>SHAP=0.23\", \"Sex=male<br>SHAP=-0.14\", \"Sex=male<br>SHAP=-0.2\", \"Sex=male<br>SHAP=-0.13\", \"Sex=male<br>SHAP=-0.13\", \"Sex=female<br>SHAP=0.17\", \"Sex=male<br>SHAP=-0.17\", \"Sex=male<br>SHAP=-0.19\", \"Sex=male<br>SHAP=-0.13\", \"Sex=male<br>SHAP=-0.14\", \"Sex=female<br>SHAP=0.24\", \"Sex=male<br>SHAP=-0.19\", \"Sex=male<br>SHAP=-0.14\", \"Sex=male<br>SHAP=-0.13\", \"Sex=male<br>SHAP=-0.17\", \"Sex=female<br>SHAP=0.25\", \"Sex=female<br>SHAP=0.29\", \"Sex=male<br>SHAP=-0.13\", \"Sex=male<br>SHAP=-0.15\", \"Sex=male<br>SHAP=-0.18\", \"Sex=male<br>SHAP=-0.14\", \"Sex=male<br>SHAP=-0.13\", \"Sex=male<br>SHAP=-0.14\", \"Sex=female<br>SHAP=0.15\", \"Sex=female<br>SHAP=0.27\", \"Sex=male<br>SHAP=-0.19\", \"Sex=male<br>SHAP=-0.14\", \"Sex=male<br>SHAP=-0.17\", \"Sex=female<br>SHAP=0.3\", \"Sex=female<br>SHAP=0.31\", \"Sex=male<br>SHAP=-0.18\", \"Sex=male<br>SHAP=-0.09\", \"Sex=female<br>SHAP=0.32\", \"Sex=female<br>SHAP=0.27\", \"Sex=female<br>SHAP=0.24\", \"Sex=male<br>SHAP=-0.17\", \"Sex=female<br>SHAP=0.31\", \"Sex=female<br>SHAP=0.25\", \"Sex=male<br>SHAP=-0.17\", \"Sex=male<br>SHAP=-0.19\", \"Sex=male<br>SHAP=-0.13\", \"Sex=male<br>SHAP=-0.08\", \"Sex=male<br>SHAP=-0.13\", \"Sex=female<br>SHAP=0.29\", \"Sex=male<br>SHAP=-0.14\", \"Sex=female<br>SHAP=0.26\", \"Sex=male<br>SHAP=-0.13\", \"Sex=male<br>SHAP=-0.2\", \"Sex=male<br>SHAP=-0.13\", \"Sex=female<br>SHAP=0.27\", \"Sex=male<br>SHAP=-0.18\", \"Sex=male<br>SHAP=-0.14\", \"Sex=male<br>SHAP=-0.14\", \"Sex=male<br>SHAP=-0.09\", \"Sex=male<br>SHAP=-0.18\", \"Sex=male<br>SHAP=-0.13\", \"Sex=female<br>SHAP=0.19\", \"Sex=male<br>SHAP=-0.13\", \"Sex=female<br>SHAP=0.29\", \"Sex=male<br>SHAP=-0.19\", \"Sex=male<br>SHAP=-0.17\", \"Sex=female<br>SHAP=0.32\", \"Sex=female<br>SHAP=0.29\", \"Sex=male<br>SHAP=-0.13\", \"Sex=male<br>SHAP=-0.17\", \"Sex=male<br>SHAP=-0.15\", \"Sex=male<br>SHAP=-0.19\", \"Sex=female<br>SHAP=0.29\", \"Sex=male<br>SHAP=-0.14\", \"Sex=male<br>SHAP=-0.17\", \"Sex=male<br>SHAP=-0.18\", \"Sex=male<br>SHAP=-0.14\", \"Sex=male<br>SHAP=-0.15\", \"Sex=male<br>SHAP=-0.14\", \"Sex=female<br>SHAP=0.32\", \"Sex=female<br>SHAP=0.25\", \"Sex=male<br>SHAP=-0.17\", \"Sex=male<br>SHAP=-0.18\", \"Sex=female<br>SHAP=0.31\", \"Sex=male<br>SHAP=-0.15\", \"Sex=female<br>SHAP=0.25\", \"Sex=female<br>SHAP=0.26\", \"Sex=male<br>SHAP=-0.18\", \"Sex=male<br>SHAP=-0.2\", \"Sex=male<br>SHAP=-0.15\", \"Sex=female<br>SHAP=0.27\", \"Sex=female<br>SHAP=0.24\", \"Sex=male<br>SHAP=-0.18\", \"Sex=male<br>SHAP=-0.17\", \"Sex=female<br>SHAP=0.28\", \"Sex=male<br>SHAP=-0.15\", \"Sex=male<br>SHAP=-0.18\", \"Sex=male<br>SHAP=-0.13\", \"Sex=female<br>SHAP=0.25\", \"Sex=male<br>SHAP=-0.16\", \"Sex=male<br>SHAP=-0.19\", \"Sex=male<br>SHAP=-0.19\", \"Sex=male<br>SHAP=-0.15\", \"Sex=male<br>SHAP=-0.19\", \"Sex=female<br>SHAP=0.29\", \"Sex=female<br>SHAP=0.28\", \"Sex=male<br>SHAP=-0.14\", \"Sex=male<br>SHAP=-0.18\", \"Sex=female<br>SHAP=0.25\", \"Sex=male<br>SHAP=-0.16\", \"Sex=male<br>SHAP=-0.14\", \"Sex=male<br>SHAP=-0.13\", \"Sex=male<br>SHAP=-0.19\", \"Sex=male<br>SHAP=-0.14\", \"Sex=female<br>SHAP=0.27\", \"Sex=female<br>SHAP=0.31\", \"Sex=male<br>SHAP=-0.19\", \"Sex=male<br>SHAP=-0.15\", \"Sex=male<br>SHAP=-0.14\", \"Sex=female<br>SHAP=0.3\", \"Sex=male<br>SHAP=-0.19\", \"Sex=female<br>SHAP=0.25\", \"Sex=male<br>SHAP=-0.17\", \"Sex=male<br>SHAP=-0.1\", \"Sex=male<br>SHAP=-0.11\", \"Sex=male<br>SHAP=-0.13\", \"Sex=male<br>SHAP=-0.12\", \"Sex=female<br>SHAP=0.25\", \"Sex=male<br>SHAP=-0.14\", \"Sex=male<br>SHAP=-0.15\", \"Sex=male<br>SHAP=-0.16\", \"Sex=male<br>SHAP=-0.19\", \"Sex=male<br>SHAP=-0.13\", \"Sex=male<br>SHAP=-0.19\", \"Sex=female<br>SHAP=0.22\", \"Sex=male<br>SHAP=-0.18\", \"Sex=male<br>SHAP=-0.14\", \"Sex=male<br>SHAP=-0.19\", \"Sex=female<br>SHAP=0.27\", \"Sex=male<br>SHAP=-0.19\", \"Sex=male<br>SHAP=-0.19\", \"Sex=male<br>SHAP=-0.15\", \"Sex=male<br>SHAP=-0.14\", \"Sex=male<br>SHAP=-0.15\", \"Sex=male<br>SHAP=-0.16\", \"Sex=male<br>SHAP=-0.13\", \"Sex=female<br>SHAP=0.27\", \"Sex=male<br>SHAP=-0.14\", \"Sex=female<br>SHAP=0.26\", \"Sex=male<br>SHAP=-0.17\", \"Sex=male<br>SHAP=-0.13\", \"Sex=female<br>SHAP=0.26\", \"Sex=female<br>SHAP=0.3\", \"Sex=female<br>SHAP=0.26\", \"Sex=male<br>SHAP=-0.13\", \"Sex=male<br>SHAP=-0.14\", \"Sex=female<br>SHAP=0.27\", \"Sex=male<br>SHAP=-0.2\", \"Sex=female<br>SHAP=0.29\", \"Sex=female<br>SHAP=0.29\", \"Sex=male<br>SHAP=-0.15\", \"Sex=male<br>SHAP=-0.13\", \"Sex=male<br>SHAP=-0.13\", \"Sex=male<br>SHAP=-0.18\", \"Sex=male<br>SHAP=-0.13\", \"Sex=male<br>SHAP=-0.18\", \"Sex=male<br>SHAP=-0.17\", \"Sex=male<br>SHAP=-0.17\", \"Sex=male<br>SHAP=-0.15\", \"Sex=male<br>SHAP=-0.08\", \"Sex=female<br>SHAP=0.23\", \"Sex=female<br>SHAP=0.23\", \"Sex=male<br>SHAP=-0.15\", \"Sex=male<br>SHAP=-0.13\", \"Sex=male<br>SHAP=-0.17\", \"Sex=male<br>SHAP=-0.13\", \"Sex=male<br>SHAP=-0.19\"], \"type\": \"scatter\", \"x\": [\"female\", \"female\", \"male\", \"female\", \"female\", \"male\", \"female\", \"female\", \"female\", \"male\", \"male\", \"female\", \"female\", \"female\", \"male\", \"male\", \"male\", \"male\", \"female\", \"male\", \"male\", \"male\", \"male\", \"male\", \"male\", \"male\", \"female\", \"male\", \"female\", \"male\", \"male\", \"male\", \"male\", \"female\", \"male\", \"male\", \"male\", \"male\", \"female\", \"male\", \"male\", \"male\", \"male\", \"female\", \"female\", \"male\", \"male\", \"male\", \"male\", \"male\", \"male\", \"female\", \"female\", \"male\", \"male\", \"male\", \"female\", \"female\", \"male\", \"male\", \"female\", \"female\", \"female\", \"male\", \"female\", \"female\", \"male\", \"male\", \"male\", \"male\", \"male\", \"female\", \"male\", \"female\", \"male\", \"male\", \"male\", \"female\", \"male\", \"male\", \"male\", \"male\", \"male\", \"male\", \"female\", \"male\", \"female\", \"male\", \"male\", \"female\", \"female\", \"male\", \"male\", \"male\", \"male\", \"female\", \"male\", \"male\", \"male\", \"male\", \"male\", \"male\", \"female\", \"female\", \"male\", \"male\", \"female\", \"male\", \"female\", \"female\", \"male\", \"male\", \"male\", \"female\", \"female\", \"male\", \"male\", \"female\", \"male\", \"male\", \"male\", \"female\", \"male\", \"male\", \"male\", \"male\", \"male\", \"female\", \"female\", \"male\", \"male\", \"female\", \"male\", \"male\", \"male\", \"male\", \"male\", \"female\", \"female\", \"male\", \"male\", \"male\", \"female\", \"male\", \"female\", \"male\", \"male\", \"male\", \"male\", \"male\", \"female\", \"male\", \"male\", \"male\", \"male\", \"male\", \"male\", \"female\", \"male\", \"male\", \"male\", \"female\", \"male\", \"male\", \"male\", \"male\", \"male\", \"male\", \"male\", \"female\", \"male\", \"female\", \"male\", \"male\", \"female\", \"female\", \"female\", \"male\", \"male\", \"female\", \"male\", \"female\", \"female\", \"male\", \"male\", \"male\", \"male\", \"male\", \"male\", \"male\", \"male\", \"male\", \"male\", \"female\", \"female\", \"male\", \"male\", \"male\", \"male\", \"male\"], \"y\": [0.26925335032168657, 0.27413844859547254, -0.10633214084738715, 0.222764436261547, 0.3040110626867608, -0.1305344840115097, 0.270746829885801, 0.16272765428319053, 0.3205554946803474, -0.19098039228710093, -0.1519961815478433, 0.30150758004565026, 0.24574852746811993, 0.3162175831042521, -0.18548907860886052, -0.0963016949929201, -0.12897064164485547, -0.19418150034965737, 0.3153272139889687, -0.10975912481059225, -0.13172055974416835, -0.13526960473848118, -0.1679288714604021, -0.13847792352862703, -0.18932329881250215, -0.1313557126132862, 0.2733530800448484, -0.13216827601025766, 0.2327052154948377, -0.13533964639826543, -0.19808187276856995, -0.13451496483279035, -0.13355530917317565, 0.16768900015409777, -0.16513173752856963, -0.1868249185425238, -0.1291697815893074, -0.1438832660144423, 0.24031819422228773, -0.18983576225411322, -0.13533964639826543, -0.1304022969317316, -0.1747211731870883, 0.24988324596453593, 0.29068422536623084, -0.13191308582290467, -0.14974439465710648, -0.1816522430328244, -0.13834982224157055, -0.12900859859583286, -0.13847792352862703, 0.15142357663920653, 0.2723696318801959, -0.1933340267701579, -0.13985244134693067, -0.17186214143165437, 0.30110577757391765, 0.3055012443505325, -0.17941747194036545, -0.09174135996465287, 0.3205554946803474, 0.2733110230378418, 0.23957012618408108, -0.16589170940975412, 0.3090231809075738, 0.25230686999026075, -0.16989207413401408, -0.18885216757235362, -0.13451496483279035, -0.08267039261715718, -0.13282505477848766, 0.2888538076599674, -0.13847792352862703, 0.2600176203282883, -0.12801705074362238, -0.1997945205272597, -0.1305344840115097, 0.2741082786470092, -0.18076076792958717, -0.13500937980678804, -0.13847792352862703, -0.08924732830476789, -0.18130163624331536, -0.12933439741810077, 0.1858121098749363, -0.1275070293959632, 0.29014498145815115, -0.19076585939415058, -0.1684273500980517, 0.31741464265454805, 0.2928872995045204, -0.13451496483279035, -0.17249002787932655, -0.15308086445236008, -0.18888046648666412, 0.29477496285649885, -0.13822530376462633, -0.1691621258228176, -0.18083219241286044, -0.1382026593858766, -0.14818718672694525, -0.13671416798371977, 0.32319465178461215, 0.25194120981889156, -0.17449801188461228, -0.1839162068237727, 0.31196149438773035, -0.1548127427249901, 0.2516107429010829, 0.2613908413250589, -0.1804842786360843, -0.19781992175176397, -0.15120596365243577, 0.26581149530278386, 0.24042610878244136, -0.17941747194036545, -0.17310426546435886, 0.2844318749147604, -0.14658808978060384, -0.17837826064539064, -0.13451496483279035, 0.24813448880923267, -0.15561987199951777, -0.18685489101587463, -0.18936503190015455, -0.15040369363476352, -0.19225461393461685, 0.288314146027154, 0.2788637191806767, -0.13991757677245825, -0.17941747194036545, 0.25120749712571316, -0.1557049603041005, -0.13615119854547325, -0.13266387178501313, -0.1900242023322089, -0.13985244134693067, 0.2702583233415863, 0.30993889596153157, -0.18964228966279534, -0.14693260948617182, -0.13586449617107207, 0.29989107153105377, -0.1856405033504213, 0.24734681237786352, -0.17490118741950442, -0.09555655366531754, -0.10677893939974836, -0.13464454904536644, -0.12273578285351358, 0.2510254411288138, -0.1364874255635171, -0.1491855384892436, -0.1607624766355432, -0.1866530776581667, -0.13140478028683514, -0.1868249185425238, 0.22061390128806763, -0.18369924009830663, -0.13667533852814973, -0.19081646352432807, 0.27032195015029137, -0.18964228966279534, -0.18964228966279534, -0.15039527408797665, -0.13847792352862703, -0.15148444050706422, -0.15950186440146236, -0.13412123915348906, 0.2724220221743098, -0.13834598442578722, 0.26437639655188017, -0.17010220338971893, -0.1319118796043411, 0.2594253405464223, 0.29845366656866656, 0.26099331353707944, -0.12846233663465118, -0.1382778357663416, 0.2669314678750706, -0.19729823863396206, 0.2865455200785818, 0.2930109761377305, -0.15241751182953134, -0.13189870059795572, -0.1335094799167193, -0.17590114083768416, -0.13162871917023528, -0.17941747194036545, -0.1701232705762286, -0.17305331518832368, -0.14599800483352615, -0.08267039261715718, 0.22561301870197759, 0.22778246107739095, -0.1548127427249901, -0.13263006235274438, -0.1683905013302716, -0.1302187045541765, -0.19014597785602602]}],\n",
       "                        {\"hovermode\": \"closest\", \"paper_bgcolor\": \"rgba(245, 246, 249, 1)\", \"plot_bgcolor\": \"rgba(245, 246, 249, 1)\", \"showlegend\": false, \"template\": {\"data\": {\"bar\": [{\"error_x\": {\"color\": \"#2a3f5f\"}, \"error_y\": {\"color\": \"#2a3f5f\"}, \"marker\": {\"line\": {\"color\": \"#E5ECF6\", \"width\": 0.5}}, \"type\": \"bar\"}], \"barpolar\": [{\"marker\": {\"line\": {\"color\": \"#E5ECF6\", \"width\": 0.5}}, \"type\": \"barpolar\"}], \"carpet\": [{\"aaxis\": {\"endlinecolor\": \"#2a3f5f\", \"gridcolor\": \"white\", \"linecolor\": \"white\", \"minorgridcolor\": \"white\", \"startlinecolor\": \"#2a3f5f\"}, \"baxis\": {\"endlinecolor\": \"#2a3f5f\", \"gridcolor\": \"white\", \"linecolor\": \"white\", \"minorgridcolor\": \"white\", \"startlinecolor\": \"#2a3f5f\"}, \"type\": \"carpet\"}], \"choropleth\": [{\"colorbar\": {\"outlinewidth\": 0, \"ticks\": \"\"}, \"type\": \"choropleth\"}], \"contour\": [{\"colorbar\": {\"outlinewidth\": 0, \"ticks\": \"\"}, \"colorscale\": [[0.0, \"#0d0887\"], [0.1111111111111111, \"#46039f\"], [0.2222222222222222, \"#7201a8\"], [0.3333333333333333, \"#9c179e\"], [0.4444444444444444, \"#bd3786\"], [0.5555555555555556, \"#d8576b\"], [0.6666666666666666, \"#ed7953\"], [0.7777777777777778, \"#fb9f3a\"], [0.8888888888888888, \"#fdca26\"], [1.0, \"#f0f921\"]], \"type\": \"contour\"}], \"contourcarpet\": [{\"colorbar\": {\"outlinewidth\": 0, \"ticks\": \"\"}, \"type\": \"contourcarpet\"}], \"heatmap\": [{\"colorbar\": {\"outlinewidth\": 0, \"ticks\": \"\"}, \"colorscale\": [[0.0, \"#0d0887\"], [0.1111111111111111, \"#46039f\"], [0.2222222222222222, \"#7201a8\"], [0.3333333333333333, \"#9c179e\"], [0.4444444444444444, \"#bd3786\"], [0.5555555555555556, \"#d8576b\"], [0.6666666666666666, \"#ed7953\"], [0.7777777777777778, \"#fb9f3a\"], [0.8888888888888888, \"#fdca26\"], [1.0, \"#f0f921\"]], \"type\": \"heatmap\"}], \"heatmapgl\": [{\"colorbar\": {\"outlinewidth\": 0, \"ticks\": \"\"}, \"colorscale\": [[0.0, \"#0d0887\"], [0.1111111111111111, \"#46039f\"], [0.2222222222222222, \"#7201a8\"], [0.3333333333333333, \"#9c179e\"], [0.4444444444444444, \"#bd3786\"], [0.5555555555555556, \"#d8576b\"], [0.6666666666666666, \"#ed7953\"], [0.7777777777777778, \"#fb9f3a\"], [0.8888888888888888, \"#fdca26\"], [1.0, \"#f0f921\"]], \"type\": \"heatmapgl\"}], \"histogram\": [{\"marker\": {\"colorbar\": {\"outlinewidth\": 0, \"ticks\": \"\"}}, \"type\": \"histogram\"}], \"histogram2d\": [{\"colorbar\": {\"outlinewidth\": 0, \"ticks\": \"\"}, \"colorscale\": [[0.0, \"#0d0887\"], [0.1111111111111111, \"#46039f\"], [0.2222222222222222, \"#7201a8\"], [0.3333333333333333, \"#9c179e\"], [0.4444444444444444, \"#bd3786\"], [0.5555555555555556, \"#d8576b\"], [0.6666666666666666, \"#ed7953\"], [0.7777777777777778, \"#fb9f3a\"], [0.8888888888888888, \"#fdca26\"], [1.0, \"#f0f921\"]], \"type\": \"histogram2d\"}], \"histogram2dcontour\": [{\"colorbar\": {\"outlinewidth\": 0, \"ticks\": \"\"}, \"colorscale\": [[0.0, \"#0d0887\"], [0.1111111111111111, \"#46039f\"], [0.2222222222222222, \"#7201a8\"], [0.3333333333333333, \"#9c179e\"], [0.4444444444444444, \"#bd3786\"], [0.5555555555555556, \"#d8576b\"], [0.6666666666666666, \"#ed7953\"], [0.7777777777777778, \"#fb9f3a\"], [0.8888888888888888, \"#fdca26\"], [1.0, \"#f0f921\"]], \"type\": \"histogram2dcontour\"}], \"mesh3d\": [{\"colorbar\": {\"outlinewidth\": 0, \"ticks\": \"\"}, \"type\": \"mesh3d\"}], \"parcoords\": [{\"line\": {\"colorbar\": {\"outlinewidth\": 0, \"ticks\": \"\"}}, \"type\": \"parcoords\"}], \"scatter\": [{\"marker\": {\"colorbar\": {\"outlinewidth\": 0, \"ticks\": \"\"}}, \"type\": \"scatter\"}], \"scatter3d\": [{\"line\": {\"colorbar\": {\"outlinewidth\": 0, \"ticks\": \"\"}}, \"marker\": {\"colorbar\": {\"outlinewidth\": 0, \"ticks\": \"\"}}, \"type\": \"scatter3d\"}], \"scattercarpet\": [{\"marker\": {\"colorbar\": {\"outlinewidth\": 0, \"ticks\": \"\"}}, \"type\": \"scattercarpet\"}], \"scattergeo\": [{\"marker\": {\"colorbar\": {\"outlinewidth\": 0, \"ticks\": \"\"}}, \"type\": \"scattergeo\"}], \"scattergl\": [{\"marker\": {\"colorbar\": {\"outlinewidth\": 0, \"ticks\": \"\"}}, \"type\": \"scattergl\"}], \"scattermapbox\": [{\"marker\": {\"colorbar\": {\"outlinewidth\": 0, \"ticks\": \"\"}}, \"type\": \"scattermapbox\"}], \"scatterpolar\": [{\"marker\": {\"colorbar\": {\"outlinewidth\": 0, \"ticks\": \"\"}}, \"type\": \"scatterpolar\"}], \"scatterpolargl\": [{\"marker\": {\"colorbar\": {\"outlinewidth\": 0, \"ticks\": \"\"}}, \"type\": \"scatterpolargl\"}], \"scatterternary\": [{\"marker\": {\"colorbar\": {\"outlinewidth\": 0, \"ticks\": \"\"}}, \"type\": \"scatterternary\"}], \"surface\": [{\"colorbar\": {\"outlinewidth\": 0, \"ticks\": \"\"}, \"colorscale\": [[0.0, \"#0d0887\"], [0.1111111111111111, \"#46039f\"], [0.2222222222222222, \"#7201a8\"], [0.3333333333333333, \"#9c179e\"], [0.4444444444444444, \"#bd3786\"], [0.5555555555555556, \"#d8576b\"], [0.6666666666666666, \"#ed7953\"], [0.7777777777777778, \"#fb9f3a\"], [0.8888888888888888, \"#fdca26\"], [1.0, \"#f0f921\"]], \"type\": \"surface\"}], \"table\": [{\"cells\": {\"fill\": {\"color\": \"#EBF0F8\"}, \"line\": {\"color\": \"white\"}}, \"header\": {\"fill\": {\"color\": \"#C8D4E3\"}, \"line\": {\"color\": \"white\"}}, \"type\": \"table\"}]}, \"layout\": {\"annotationdefaults\": {\"arrowcolor\": \"#2a3f5f\", \"arrowhead\": 0, \"arrowwidth\": 1}, \"colorscale\": {\"diverging\": [[0, \"#8e0152\"], [0.1, \"#c51b7d\"], [0.2, \"#de77ae\"], [0.3, \"#f1b6da\"], [0.4, \"#fde0ef\"], [0.5, \"#f7f7f7\"], [0.6, \"#e6f5d0\"], [0.7, \"#b8e186\"], [0.8, \"#7fbc41\"], [0.9, \"#4d9221\"], [1, \"#276419\"]], \"sequential\": [[0.0, \"#0d0887\"], [0.1111111111111111, \"#46039f\"], [0.2222222222222222, \"#7201a8\"], [0.3333333333333333, \"#9c179e\"], [0.4444444444444444, \"#bd3786\"], [0.5555555555555556, \"#d8576b\"], [0.6666666666666666, \"#ed7953\"], [0.7777777777777778, \"#fb9f3a\"], [0.8888888888888888, \"#fdca26\"], [1.0, \"#f0f921\"]], \"sequentialminus\": [[0.0, \"#0d0887\"], [0.1111111111111111, \"#46039f\"], [0.2222222222222222, \"#7201a8\"], [0.3333333333333333, \"#9c179e\"], [0.4444444444444444, \"#bd3786\"], [0.5555555555555556, \"#d8576b\"], [0.6666666666666666, \"#ed7953\"], [0.7777777777777778, \"#fb9f3a\"], [0.8888888888888888, \"#fdca26\"], [1.0, \"#f0f921\"]]}, \"colorway\": [\"#636efa\", \"#EF553B\", \"#00cc96\", \"#ab63fa\", \"#FFA15A\", \"#19d3f3\", \"#FF6692\", \"#B6E880\", \"#FF97FF\", \"#FECB52\"], \"font\": {\"color\": \"#2a3f5f\"}, \"geo\": {\"bgcolor\": \"white\", \"lakecolor\": \"white\", \"landcolor\": \"#E5ECF6\", \"showlakes\": true, \"showland\": true, \"subunitcolor\": \"white\"}, \"hoverlabel\": {\"align\": \"left\"}, \"hovermode\": \"closest\", \"mapbox\": {\"style\": \"light\"}, \"paper_bgcolor\": \"white\", \"plot_bgcolor\": \"#E5ECF6\", \"polar\": {\"angularaxis\": {\"gridcolor\": \"white\", \"linecolor\": \"white\", \"ticks\": \"\"}, \"bgcolor\": \"#E5ECF6\", \"radialaxis\": {\"gridcolor\": \"white\", \"linecolor\": \"white\", \"ticks\": \"\"}}, \"scene\": {\"xaxis\": {\"backgroundcolor\": \"#E5ECF6\", \"gridcolor\": \"white\", \"gridwidth\": 2, \"linecolor\": \"white\", \"showbackground\": true, \"ticks\": \"\", \"zerolinecolor\": \"white\"}, \"yaxis\": {\"backgroundcolor\": \"#E5ECF6\", \"gridcolor\": \"white\", \"gridwidth\": 2, \"linecolor\": \"white\", \"showbackground\": true, \"ticks\": \"\", \"zerolinecolor\": \"white\"}, \"zaxis\": {\"backgroundcolor\": \"#E5ECF6\", \"gridcolor\": \"white\", \"gridwidth\": 2, \"linecolor\": \"white\", \"showbackground\": true, \"ticks\": \"\", \"zerolinecolor\": \"white\"}}, \"shapedefaults\": {\"line\": {\"color\": \"#2a3f5f\"}}, \"ternary\": {\"aaxis\": {\"gridcolor\": \"white\", \"linecolor\": \"white\", \"ticks\": \"\"}, \"baxis\": {\"gridcolor\": \"white\", \"linecolor\": \"white\", \"ticks\": \"\"}, \"bgcolor\": \"#E5ECF6\", \"caxis\": {\"gridcolor\": \"white\", \"linecolor\": \"white\", \"ticks\": \"\"}}, \"title\": {\"x\": 0.05}, \"xaxis\": {\"automargin\": true, \"gridcolor\": \"white\", \"linecolor\": \"white\", \"ticks\": \"\", \"zerolinecolor\": \"white\", \"zerolinewidth\": 2}, \"yaxis\": {\"automargin\": true, \"gridcolor\": \"white\", \"linecolor\": \"white\", \"ticks\": \"\", \"zerolinecolor\": \"white\", \"zerolinewidth\": 2}}}, \"title\": {\"text\": \"dependence plot for Sex\"}, \"xaxis\": {\"title\": {\"text\": \"Sex\"}}, \"yaxis\": {\"title\": {\"text\": \"SHAP value\"}}},\n",
       "                        {\"responsive\": true}\n",
       "                    ).then(function(){\n",
       "                            \n",
       "var gd = document.getElementById('1a31d7c6-c19d-40c9-a6e2-6921d4ad0b50');\n",
       "var x = new MutationObserver(function (mutations, observer) {{\n",
       "        var display = window.getComputedStyle(gd).display;\n",
       "        if (!display || display === 'none') {{\n",
       "            console.log([gd, 'removed!']);\n",
       "            Plotly.purge(gd);\n",
       "            observer.disconnect();\n",
       "        }}\n",
       "}});\n",
       "\n",
       "// Listen for the removal of the full notebook cells\n",
       "var notebookContainer = gd.closest('#notebook-container');\n",
       "if (notebookContainer) {{\n",
       "    x.observe(notebookContainer, {childList: true});\n",
       "}}\n",
       "\n",
       "// Listen for the clearing of the current output cell\n",
       "var outputEl = gd.closest('.output');\n",
       "if (outputEl) {{\n",
       "    x.observe(outputEl, {childList: true});\n",
       "}}\n",
       "\n",
       "                        })\n",
       "                };\n",
       "                });\n",
       "            </script>\n",
       "        </div>"
      ]
     },
     "metadata": {},
     "output_type": "display_data"
    }
   ],
   "source": [
    "explainer.plot_shap_dependence('Sex', cats=True)"
   ]
  },
  {
   "cell_type": "code",
   "execution_count": 19,
   "metadata": {},
   "outputs": [
    {
     "data": {
      "application/vnd.plotly.v1+json": {
       "config": {
        "plotlyServerURL": "https://plot.ly"
       },
       "data": [
        {
         "hoverinfo": "text",
         "text": [
          "tree no 12:<br> prediction=50.0<br> click for detailed info",
          "tree no 41:<br> prediction=69.57<br> click for detailed info",
          "tree no 47:<br> prediction=71.43<br> click for detailed info",
          "tree no 25:<br> prediction=75.0<br> click for detailed info",
          "tree no 19:<br> prediction=76.92<br> click for detailed info",
          "tree no 40:<br> prediction=81.82<br> click for detailed info",
          "tree no 23:<br> prediction=83.24<br> click for detailed info",
          "tree no 7:<br> prediction=86.84<br> click for detailed info",
          "tree no 16:<br> prediction=87.5<br> click for detailed info",
          "tree no 4:<br> prediction=87.7<br> click for detailed info",
          "tree no 38:<br> prediction=88.57<br> click for detailed info",
          "tree no 21:<br> prediction=90.91<br> click for detailed info",
          "tree no 42:<br> prediction=91.43<br> click for detailed info",
          "tree no 0:<br> prediction=92.73<br> click for detailed info",
          "tree no 34:<br> prediction=92.98<br> click for detailed info",
          "tree no 18:<br> prediction=94.26<br> click for detailed info",
          "tree no 15:<br> prediction=94.44<br> click for detailed info",
          "tree no 28:<br> prediction=95.0<br> click for detailed info",
          "tree no 44:<br> prediction=95.24<br> click for detailed info",
          "tree no 17:<br> prediction=95.65<br> click for detailed info",
          "tree no 46:<br> prediction=95.89<br> click for detailed info",
          "tree no 45:<br> prediction=96.88<br> click for detailed info",
          "tree no 43:<br> prediction=97.92<br> click for detailed info",
          "tree no 37:<br> prediction=98.25<br> click for detailed info",
          "tree no 32:<br> prediction=98.39<br> click for detailed info",
          "tree no 49:<br> prediction=98.51<br> click for detailed info",
          "tree no 26:<br> prediction=100.0<br> click for detailed info",
          "tree no 1:<br> prediction=100.0<br> click for detailed info",
          "tree no 2:<br> prediction=100.0<br> click for detailed info",
          "tree no 3:<br> prediction=100.0<br> click for detailed info",
          "tree no 5:<br> prediction=100.0<br> click for detailed info",
          "tree no 6:<br> prediction=100.0<br> click for detailed info",
          "tree no 8:<br> prediction=100.0<br> click for detailed info",
          "tree no 9:<br> prediction=100.0<br> click for detailed info",
          "tree no 10:<br> prediction=100.0<br> click for detailed info",
          "tree no 39:<br> prediction=100.0<br> click for detailed info",
          "tree no 11:<br> prediction=100.0<br> click for detailed info",
          "tree no 13:<br> prediction=100.0<br> click for detailed info",
          "tree no 36:<br> prediction=100.0<br> click for detailed info",
          "tree no 35:<br> prediction=100.0<br> click for detailed info",
          "tree no 14:<br> prediction=100.0<br> click for detailed info",
          "tree no 33:<br> prediction=100.0<br> click for detailed info",
          "tree no 20:<br> prediction=100.0<br> click for detailed info",
          "tree no 31:<br> prediction=100.0<br> click for detailed info",
          "tree no 30:<br> prediction=100.0<br> click for detailed info",
          "tree no 29:<br> prediction=100.0<br> click for detailed info",
          "tree no 22:<br> prediction=100.0<br> click for detailed info",
          "tree no 27:<br> prediction=100.0<br> click for detailed info",
          "tree no 48:<br> prediction=100.0<br> click for detailed info",
          "tree no 24:<br> prediction=100.0<br> click for detailed info"
         ],
         "type": "bar",
         "x": [
          0,
          1,
          2,
          3,
          4,
          5,
          6,
          7,
          8,
          9,
          10,
          11,
          12,
          13,
          14,
          15,
          16,
          17,
          18,
          19,
          20,
          21,
          22,
          23,
          24,
          25,
          26,
          27,
          28,
          29,
          30,
          31,
          32,
          33,
          34,
          35,
          36,
          37,
          38,
          39,
          40,
          41,
          42,
          43,
          44,
          45,
          46,
          47,
          48,
          49
         ],
         "y": [
          50,
          69.57,
          71.43,
          75,
          76.92,
          81.82,
          83.24,
          86.84,
          87.5,
          87.7,
          88.57,
          90.91,
          91.43,
          92.73,
          92.98,
          94.26,
          94.44,
          95,
          95.24,
          95.65,
          95.89,
          96.88,
          97.92,
          98.25,
          98.39,
          98.51,
          100,
          100,
          100,
          100,
          100,
          100,
          100,
          100,
          100,
          100,
          100,
          100,
          100,
          100,
          100,
          100,
          100,
          100,
          100,
          100,
          100,
          100,
          100,
          100
         ]
        }
       ],
       "layout": {
        "annotations": [
         {
          "text": "Average prediction = 93.74",
          "x": 24.5,
          "y": 93.74140000000001
         }
        ],
        "shapes": [
         {
          "line": {
           "color": "darkslategray",
           "dash": "dot",
           "width": 4
          },
          "type": "line",
          "x0": 0,
          "x1": 49,
          "xref": "x",
          "y0": 93.74140000000001,
          "y1": 93.74140000000001,
          "yref": "y"
         }
        ],
        "template": {
         "data": {
          "bar": [
           {
            "error_x": {
             "color": "#2a3f5f"
            },
            "error_y": {
             "color": "#2a3f5f"
            },
            "marker": {
             "line": {
              "color": "#E5ECF6",
              "width": 0.5
             }
            },
            "type": "bar"
           }
          ],
          "barpolar": [
           {
            "marker": {
             "line": {
              "color": "#E5ECF6",
              "width": 0.5
             }
            },
            "type": "barpolar"
           }
          ],
          "carpet": [
           {
            "aaxis": {
             "endlinecolor": "#2a3f5f",
             "gridcolor": "white",
             "linecolor": "white",
             "minorgridcolor": "white",
             "startlinecolor": "#2a3f5f"
            },
            "baxis": {
             "endlinecolor": "#2a3f5f",
             "gridcolor": "white",
             "linecolor": "white",
             "minorgridcolor": "white",
             "startlinecolor": "#2a3f5f"
            },
            "type": "carpet"
           }
          ],
          "choropleth": [
           {
            "colorbar": {
             "outlinewidth": 0,
             "ticks": ""
            },
            "type": "choropleth"
           }
          ],
          "contour": [
           {
            "colorbar": {
             "outlinewidth": 0,
             "ticks": ""
            },
            "colorscale": [
             [
              0,
              "#0d0887"
             ],
             [
              0.1111111111111111,
              "#46039f"
             ],
             [
              0.2222222222222222,
              "#7201a8"
             ],
             [
              0.3333333333333333,
              "#9c179e"
             ],
             [
              0.4444444444444444,
              "#bd3786"
             ],
             [
              0.5555555555555556,
              "#d8576b"
             ],
             [
              0.6666666666666666,
              "#ed7953"
             ],
             [
              0.7777777777777778,
              "#fb9f3a"
             ],
             [
              0.8888888888888888,
              "#fdca26"
             ],
             [
              1,
              "#f0f921"
             ]
            ],
            "type": "contour"
           }
          ],
          "contourcarpet": [
           {
            "colorbar": {
             "outlinewidth": 0,
             "ticks": ""
            },
            "type": "contourcarpet"
           }
          ],
          "heatmap": [
           {
            "colorbar": {
             "outlinewidth": 0,
             "ticks": ""
            },
            "colorscale": [
             [
              0,
              "#0d0887"
             ],
             [
              0.1111111111111111,
              "#46039f"
             ],
             [
              0.2222222222222222,
              "#7201a8"
             ],
             [
              0.3333333333333333,
              "#9c179e"
             ],
             [
              0.4444444444444444,
              "#bd3786"
             ],
             [
              0.5555555555555556,
              "#d8576b"
             ],
             [
              0.6666666666666666,
              "#ed7953"
             ],
             [
              0.7777777777777778,
              "#fb9f3a"
             ],
             [
              0.8888888888888888,
              "#fdca26"
             ],
             [
              1,
              "#f0f921"
             ]
            ],
            "type": "heatmap"
           }
          ],
          "heatmapgl": [
           {
            "colorbar": {
             "outlinewidth": 0,
             "ticks": ""
            },
            "colorscale": [
             [
              0,
              "#0d0887"
             ],
             [
              0.1111111111111111,
              "#46039f"
             ],
             [
              0.2222222222222222,
              "#7201a8"
             ],
             [
              0.3333333333333333,
              "#9c179e"
             ],
             [
              0.4444444444444444,
              "#bd3786"
             ],
             [
              0.5555555555555556,
              "#d8576b"
             ],
             [
              0.6666666666666666,
              "#ed7953"
             ],
             [
              0.7777777777777778,
              "#fb9f3a"
             ],
             [
              0.8888888888888888,
              "#fdca26"
             ],
             [
              1,
              "#f0f921"
             ]
            ],
            "type": "heatmapgl"
           }
          ],
          "histogram": [
           {
            "marker": {
             "colorbar": {
              "outlinewidth": 0,
              "ticks": ""
             }
            },
            "type": "histogram"
           }
          ],
          "histogram2d": [
           {
            "colorbar": {
             "outlinewidth": 0,
             "ticks": ""
            },
            "colorscale": [
             [
              0,
              "#0d0887"
             ],
             [
              0.1111111111111111,
              "#46039f"
             ],
             [
              0.2222222222222222,
              "#7201a8"
             ],
             [
              0.3333333333333333,
              "#9c179e"
             ],
             [
              0.4444444444444444,
              "#bd3786"
             ],
             [
              0.5555555555555556,
              "#d8576b"
             ],
             [
              0.6666666666666666,
              "#ed7953"
             ],
             [
              0.7777777777777778,
              "#fb9f3a"
             ],
             [
              0.8888888888888888,
              "#fdca26"
             ],
             [
              1,
              "#f0f921"
             ]
            ],
            "type": "histogram2d"
           }
          ],
          "histogram2dcontour": [
           {
            "colorbar": {
             "outlinewidth": 0,
             "ticks": ""
            },
            "colorscale": [
             [
              0,
              "#0d0887"
             ],
             [
              0.1111111111111111,
              "#46039f"
             ],
             [
              0.2222222222222222,
              "#7201a8"
             ],
             [
              0.3333333333333333,
              "#9c179e"
             ],
             [
              0.4444444444444444,
              "#bd3786"
             ],
             [
              0.5555555555555556,
              "#d8576b"
             ],
             [
              0.6666666666666666,
              "#ed7953"
             ],
             [
              0.7777777777777778,
              "#fb9f3a"
             ],
             [
              0.8888888888888888,
              "#fdca26"
             ],
             [
              1,
              "#f0f921"
             ]
            ],
            "type": "histogram2dcontour"
           }
          ],
          "mesh3d": [
           {
            "colorbar": {
             "outlinewidth": 0,
             "ticks": ""
            },
            "type": "mesh3d"
           }
          ],
          "parcoords": [
           {
            "line": {
             "colorbar": {
              "outlinewidth": 0,
              "ticks": ""
             }
            },
            "type": "parcoords"
           }
          ],
          "scatter": [
           {
            "marker": {
             "colorbar": {
              "outlinewidth": 0,
              "ticks": ""
             }
            },
            "type": "scatter"
           }
          ],
          "scatter3d": [
           {
            "line": {
             "colorbar": {
              "outlinewidth": 0,
              "ticks": ""
             }
            },
            "marker": {
             "colorbar": {
              "outlinewidth": 0,
              "ticks": ""
             }
            },
            "type": "scatter3d"
           }
          ],
          "scattercarpet": [
           {
            "marker": {
             "colorbar": {
              "outlinewidth": 0,
              "ticks": ""
             }
            },
            "type": "scattercarpet"
           }
          ],
          "scattergeo": [
           {
            "marker": {
             "colorbar": {
              "outlinewidth": 0,
              "ticks": ""
             }
            },
            "type": "scattergeo"
           }
          ],
          "scattergl": [
           {
            "marker": {
             "colorbar": {
              "outlinewidth": 0,
              "ticks": ""
             }
            },
            "type": "scattergl"
           }
          ],
          "scattermapbox": [
           {
            "marker": {
             "colorbar": {
              "outlinewidth": 0,
              "ticks": ""
             }
            },
            "type": "scattermapbox"
           }
          ],
          "scatterpolar": [
           {
            "marker": {
             "colorbar": {
              "outlinewidth": 0,
              "ticks": ""
             }
            },
            "type": "scatterpolar"
           }
          ],
          "scatterpolargl": [
           {
            "marker": {
             "colorbar": {
              "outlinewidth": 0,
              "ticks": ""
             }
            },
            "type": "scatterpolargl"
           }
          ],
          "scatterternary": [
           {
            "marker": {
             "colorbar": {
              "outlinewidth": 0,
              "ticks": ""
             }
            },
            "type": "scatterternary"
           }
          ],
          "surface": [
           {
            "colorbar": {
             "outlinewidth": 0,
             "ticks": ""
            },
            "colorscale": [
             [
              0,
              "#0d0887"
             ],
             [
              0.1111111111111111,
              "#46039f"
             ],
             [
              0.2222222222222222,
              "#7201a8"
             ],
             [
              0.3333333333333333,
              "#9c179e"
             ],
             [
              0.4444444444444444,
              "#bd3786"
             ],
             [
              0.5555555555555556,
              "#d8576b"
             ],
             [
              0.6666666666666666,
              "#ed7953"
             ],
             [
              0.7777777777777778,
              "#fb9f3a"
             ],
             [
              0.8888888888888888,
              "#fdca26"
             ],
             [
              1,
              "#f0f921"
             ]
            ],
            "type": "surface"
           }
          ],
          "table": [
           {
            "cells": {
             "fill": {
              "color": "#EBF0F8"
             },
             "line": {
              "color": "white"
             }
            },
            "header": {
             "fill": {
              "color": "#C8D4E3"
             },
             "line": {
              "color": "white"
             }
            },
            "type": "table"
           }
          ]
         },
         "layout": {
          "annotationdefaults": {
           "arrowcolor": "#2a3f5f",
           "arrowhead": 0,
           "arrowwidth": 1
          },
          "colorscale": {
           "diverging": [
            [
             0,
             "#8e0152"
            ],
            [
             0.1,
             "#c51b7d"
            ],
            [
             0.2,
             "#de77ae"
            ],
            [
             0.3,
             "#f1b6da"
            ],
            [
             0.4,
             "#fde0ef"
            ],
            [
             0.5,
             "#f7f7f7"
            ],
            [
             0.6,
             "#e6f5d0"
            ],
            [
             0.7,
             "#b8e186"
            ],
            [
             0.8,
             "#7fbc41"
            ],
            [
             0.9,
             "#4d9221"
            ],
            [
             1,
             "#276419"
            ]
           ],
           "sequential": [
            [
             0,
             "#0d0887"
            ],
            [
             0.1111111111111111,
             "#46039f"
            ],
            [
             0.2222222222222222,
             "#7201a8"
            ],
            [
             0.3333333333333333,
             "#9c179e"
            ],
            [
             0.4444444444444444,
             "#bd3786"
            ],
            [
             0.5555555555555556,
             "#d8576b"
            ],
            [
             0.6666666666666666,
             "#ed7953"
            ],
            [
             0.7777777777777778,
             "#fb9f3a"
            ],
            [
             0.8888888888888888,
             "#fdca26"
            ],
            [
             1,
             "#f0f921"
            ]
           ],
           "sequentialminus": [
            [
             0,
             "#0d0887"
            ],
            [
             0.1111111111111111,
             "#46039f"
            ],
            [
             0.2222222222222222,
             "#7201a8"
            ],
            [
             0.3333333333333333,
             "#9c179e"
            ],
            [
             0.4444444444444444,
             "#bd3786"
            ],
            [
             0.5555555555555556,
             "#d8576b"
            ],
            [
             0.6666666666666666,
             "#ed7953"
            ],
            [
             0.7777777777777778,
             "#fb9f3a"
            ],
            [
             0.8888888888888888,
             "#fdca26"
            ],
            [
             1,
             "#f0f921"
            ]
           ]
          },
          "colorway": [
           "#636efa",
           "#EF553B",
           "#00cc96",
           "#ab63fa",
           "#FFA15A",
           "#19d3f3",
           "#FF6692",
           "#B6E880",
           "#FF97FF",
           "#FECB52"
          ],
          "font": {
           "color": "#2a3f5f"
          },
          "geo": {
           "bgcolor": "white",
           "lakecolor": "white",
           "landcolor": "#E5ECF6",
           "showlakes": true,
           "showland": true,
           "subunitcolor": "white"
          },
          "hoverlabel": {
           "align": "left"
          },
          "hovermode": "closest",
          "mapbox": {
           "style": "light"
          },
          "paper_bgcolor": "white",
          "plot_bgcolor": "#E5ECF6",
          "polar": {
           "angularaxis": {
            "gridcolor": "white",
            "linecolor": "white",
            "ticks": ""
           },
           "bgcolor": "#E5ECF6",
           "radialaxis": {
            "gridcolor": "white",
            "linecolor": "white",
            "ticks": ""
           }
          },
          "scene": {
           "xaxis": {
            "backgroundcolor": "#E5ECF6",
            "gridcolor": "white",
            "gridwidth": 2,
            "linecolor": "white",
            "showbackground": true,
            "ticks": "",
            "zerolinecolor": "white"
           },
           "yaxis": {
            "backgroundcolor": "#E5ECF6",
            "gridcolor": "white",
            "gridwidth": 2,
            "linecolor": "white",
            "showbackground": true,
            "ticks": "",
            "zerolinecolor": "white"
           },
           "zaxis": {
            "backgroundcolor": "#E5ECF6",
            "gridcolor": "white",
            "gridwidth": 2,
            "linecolor": "white",
            "showbackground": true,
            "ticks": "",
            "zerolinecolor": "white"
           }
          },
          "shapedefaults": {
           "line": {
            "color": "#2a3f5f"
           }
          },
          "ternary": {
           "aaxis": {
            "gridcolor": "white",
            "linecolor": "white",
            "ticks": ""
           },
           "baxis": {
            "gridcolor": "white",
            "linecolor": "white",
            "ticks": ""
           },
           "bgcolor": "#E5ECF6",
           "caxis": {
            "gridcolor": "white",
            "linecolor": "white",
            "ticks": ""
           }
          },
          "title": {
           "x": 0.05
          },
          "xaxis": {
           "automargin": true,
           "gridcolor": "white",
           "linecolor": "white",
           "ticks": "",
           "zerolinecolor": "white",
           "zerolinewidth": 2
          },
          "yaxis": {
           "automargin": true,
           "gridcolor": "white",
           "linecolor": "white",
           "ticks": "",
           "zerolinecolor": "white",
           "zerolinewidth": 2
          }
         }
        },
        "title": {
         "text": "individual predictions trees"
        }
       }
      },
      "text/html": [
       "<div>\n",
       "        \n",
       "        \n",
       "            <div id=\"80ac4f78-e508-4dd5-aef8-0da1ee8bd384\" class=\"plotly-graph-div\" style=\"height:525px; width:100%;\"></div>\n",
       "            <script type=\"text/javascript\">\n",
       "                require([\"plotly\"], function(Plotly) {\n",
       "                    window.PLOTLYENV=window.PLOTLYENV || {};\n",
       "                    \n",
       "                if (document.getElementById(\"80ac4f78-e508-4dd5-aef8-0da1ee8bd384\")) {\n",
       "                    Plotly.newPlot(\n",
       "                        '80ac4f78-e508-4dd5-aef8-0da1ee8bd384',\n",
       "                        [{\"hoverinfo\": \"text\", \"text\": [\"tree no 12:<br> prediction=50.0<br> click for detailed info\", \"tree no 41:<br> prediction=69.57<br> click for detailed info\", \"tree no 47:<br> prediction=71.43<br> click for detailed info\", \"tree no 25:<br> prediction=75.0<br> click for detailed info\", \"tree no 19:<br> prediction=76.92<br> click for detailed info\", \"tree no 40:<br> prediction=81.82<br> click for detailed info\", \"tree no 23:<br> prediction=83.24<br> click for detailed info\", \"tree no 7:<br> prediction=86.84<br> click for detailed info\", \"tree no 16:<br> prediction=87.5<br> click for detailed info\", \"tree no 4:<br> prediction=87.7<br> click for detailed info\", \"tree no 38:<br> prediction=88.57<br> click for detailed info\", \"tree no 21:<br> prediction=90.91<br> click for detailed info\", \"tree no 42:<br> prediction=91.43<br> click for detailed info\", \"tree no 0:<br> prediction=92.73<br> click for detailed info\", \"tree no 34:<br> prediction=92.98<br> click for detailed info\", \"tree no 18:<br> prediction=94.26<br> click for detailed info\", \"tree no 15:<br> prediction=94.44<br> click for detailed info\", \"tree no 28:<br> prediction=95.0<br> click for detailed info\", \"tree no 44:<br> prediction=95.24<br> click for detailed info\", \"tree no 17:<br> prediction=95.65<br> click for detailed info\", \"tree no 46:<br> prediction=95.89<br> click for detailed info\", \"tree no 45:<br> prediction=96.88<br> click for detailed info\", \"tree no 43:<br> prediction=97.92<br> click for detailed info\", \"tree no 37:<br> prediction=98.25<br> click for detailed info\", \"tree no 32:<br> prediction=98.39<br> click for detailed info\", \"tree no 49:<br> prediction=98.51<br> click for detailed info\", \"tree no 26:<br> prediction=100.0<br> click for detailed info\", \"tree no 1:<br> prediction=100.0<br> click for detailed info\", \"tree no 2:<br> prediction=100.0<br> click for detailed info\", \"tree no 3:<br> prediction=100.0<br> click for detailed info\", \"tree no 5:<br> prediction=100.0<br> click for detailed info\", \"tree no 6:<br> prediction=100.0<br> click for detailed info\", \"tree no 8:<br> prediction=100.0<br> click for detailed info\", \"tree no 9:<br> prediction=100.0<br> click for detailed info\", \"tree no 10:<br> prediction=100.0<br> click for detailed info\", \"tree no 39:<br> prediction=100.0<br> click for detailed info\", \"tree no 11:<br> prediction=100.0<br> click for detailed info\", \"tree no 13:<br> prediction=100.0<br> click for detailed info\", \"tree no 36:<br> prediction=100.0<br> click for detailed info\", \"tree no 35:<br> prediction=100.0<br> click for detailed info\", \"tree no 14:<br> prediction=100.0<br> click for detailed info\", \"tree no 33:<br> prediction=100.0<br> click for detailed info\", \"tree no 20:<br> prediction=100.0<br> click for detailed info\", \"tree no 31:<br> prediction=100.0<br> click for detailed info\", \"tree no 30:<br> prediction=100.0<br> click for detailed info\", \"tree no 29:<br> prediction=100.0<br> click for detailed info\", \"tree no 22:<br> prediction=100.0<br> click for detailed info\", \"tree no 27:<br> prediction=100.0<br> click for detailed info\", \"tree no 48:<br> prediction=100.0<br> click for detailed info\", \"tree no 24:<br> prediction=100.0<br> click for detailed info\"], \"type\": \"bar\", \"x\": [0, 1, 2, 3, 4, 5, 6, 7, 8, 9, 10, 11, 12, 13, 14, 15, 16, 17, 18, 19, 20, 21, 22, 23, 24, 25, 26, 27, 28, 29, 30, 31, 32, 33, 34, 35, 36, 37, 38, 39, 40, 41, 42, 43, 44, 45, 46, 47, 48, 49], \"y\": [50.0, 69.57, 71.43, 75.0, 76.92, 81.82, 83.24, 86.84, 87.5, 87.7, 88.57, 90.91, 91.43, 92.73, 92.98, 94.26, 94.44, 95.0, 95.24, 95.65, 95.89, 96.88, 97.92, 98.25, 98.39, 98.51, 100.0, 100.0, 100.0, 100.0, 100.0, 100.0, 100.0, 100.0, 100.0, 100.0, 100.0, 100.0, 100.0, 100.0, 100.0, 100.0, 100.0, 100.0, 100.0, 100.0, 100.0, 100.0, 100.0, 100.0]}],\n",
       "                        {\"annotations\": [{\"text\": \"Average prediction = 93.74\", \"x\": 24.5, \"y\": 93.74140000000001}], \"shapes\": [{\"line\": {\"color\": \"darkslategray\", \"dash\": \"dot\", \"width\": 4}, \"type\": \"line\", \"x0\": 0, \"x1\": 49, \"xref\": \"x\", \"y0\": 93.74140000000001, \"y1\": 93.74140000000001, \"yref\": \"y\"}], \"template\": {\"data\": {\"bar\": [{\"error_x\": {\"color\": \"#2a3f5f\"}, \"error_y\": {\"color\": \"#2a3f5f\"}, \"marker\": {\"line\": {\"color\": \"#E5ECF6\", \"width\": 0.5}}, \"type\": \"bar\"}], \"barpolar\": [{\"marker\": {\"line\": {\"color\": \"#E5ECF6\", \"width\": 0.5}}, \"type\": \"barpolar\"}], \"carpet\": [{\"aaxis\": {\"endlinecolor\": \"#2a3f5f\", \"gridcolor\": \"white\", \"linecolor\": \"white\", \"minorgridcolor\": \"white\", \"startlinecolor\": \"#2a3f5f\"}, \"baxis\": {\"endlinecolor\": \"#2a3f5f\", \"gridcolor\": \"white\", \"linecolor\": \"white\", \"minorgridcolor\": \"white\", \"startlinecolor\": \"#2a3f5f\"}, \"type\": \"carpet\"}], \"choropleth\": [{\"colorbar\": {\"outlinewidth\": 0, \"ticks\": \"\"}, \"type\": \"choropleth\"}], \"contour\": [{\"colorbar\": {\"outlinewidth\": 0, \"ticks\": \"\"}, \"colorscale\": [[0.0, \"#0d0887\"], [0.1111111111111111, \"#46039f\"], [0.2222222222222222, \"#7201a8\"], [0.3333333333333333, \"#9c179e\"], [0.4444444444444444, \"#bd3786\"], [0.5555555555555556, \"#d8576b\"], [0.6666666666666666, \"#ed7953\"], [0.7777777777777778, \"#fb9f3a\"], [0.8888888888888888, \"#fdca26\"], [1.0, \"#f0f921\"]], \"type\": \"contour\"}], \"contourcarpet\": [{\"colorbar\": {\"outlinewidth\": 0, \"ticks\": \"\"}, \"type\": \"contourcarpet\"}], \"heatmap\": [{\"colorbar\": {\"outlinewidth\": 0, \"ticks\": \"\"}, \"colorscale\": [[0.0, \"#0d0887\"], [0.1111111111111111, \"#46039f\"], [0.2222222222222222, \"#7201a8\"], [0.3333333333333333, \"#9c179e\"], [0.4444444444444444, \"#bd3786\"], [0.5555555555555556, \"#d8576b\"], [0.6666666666666666, \"#ed7953\"], [0.7777777777777778, \"#fb9f3a\"], [0.8888888888888888, \"#fdca26\"], [1.0, \"#f0f921\"]], \"type\": \"heatmap\"}], \"heatmapgl\": [{\"colorbar\": {\"outlinewidth\": 0, \"ticks\": \"\"}, \"colorscale\": [[0.0, \"#0d0887\"], [0.1111111111111111, \"#46039f\"], [0.2222222222222222, \"#7201a8\"], [0.3333333333333333, \"#9c179e\"], [0.4444444444444444, \"#bd3786\"], [0.5555555555555556, \"#d8576b\"], [0.6666666666666666, \"#ed7953\"], [0.7777777777777778, \"#fb9f3a\"], [0.8888888888888888, \"#fdca26\"], [1.0, \"#f0f921\"]], \"type\": \"heatmapgl\"}], \"histogram\": [{\"marker\": {\"colorbar\": {\"outlinewidth\": 0, \"ticks\": \"\"}}, \"type\": \"histogram\"}], \"histogram2d\": [{\"colorbar\": {\"outlinewidth\": 0, \"ticks\": \"\"}, \"colorscale\": [[0.0, \"#0d0887\"], [0.1111111111111111, \"#46039f\"], [0.2222222222222222, \"#7201a8\"], [0.3333333333333333, \"#9c179e\"], [0.4444444444444444, \"#bd3786\"], [0.5555555555555556, \"#d8576b\"], [0.6666666666666666, \"#ed7953\"], [0.7777777777777778, \"#fb9f3a\"], [0.8888888888888888, \"#fdca26\"], [1.0, \"#f0f921\"]], \"type\": \"histogram2d\"}], \"histogram2dcontour\": [{\"colorbar\": {\"outlinewidth\": 0, \"ticks\": \"\"}, \"colorscale\": [[0.0, \"#0d0887\"], [0.1111111111111111, \"#46039f\"], [0.2222222222222222, \"#7201a8\"], [0.3333333333333333, \"#9c179e\"], [0.4444444444444444, \"#bd3786\"], [0.5555555555555556, \"#d8576b\"], [0.6666666666666666, \"#ed7953\"], [0.7777777777777778, \"#fb9f3a\"], [0.8888888888888888, \"#fdca26\"], [1.0, \"#f0f921\"]], \"type\": \"histogram2dcontour\"}], \"mesh3d\": [{\"colorbar\": {\"outlinewidth\": 0, \"ticks\": \"\"}, \"type\": \"mesh3d\"}], \"parcoords\": [{\"line\": {\"colorbar\": {\"outlinewidth\": 0, \"ticks\": \"\"}}, \"type\": \"parcoords\"}], \"scatter\": [{\"marker\": {\"colorbar\": {\"outlinewidth\": 0, \"ticks\": \"\"}}, \"type\": \"scatter\"}], \"scatter3d\": [{\"line\": {\"colorbar\": {\"outlinewidth\": 0, \"ticks\": \"\"}}, \"marker\": {\"colorbar\": {\"outlinewidth\": 0, \"ticks\": \"\"}}, \"type\": \"scatter3d\"}], \"scattercarpet\": [{\"marker\": {\"colorbar\": {\"outlinewidth\": 0, \"ticks\": \"\"}}, \"type\": \"scattercarpet\"}], \"scattergeo\": [{\"marker\": {\"colorbar\": {\"outlinewidth\": 0, \"ticks\": \"\"}}, \"type\": \"scattergeo\"}], \"scattergl\": [{\"marker\": {\"colorbar\": {\"outlinewidth\": 0, \"ticks\": \"\"}}, \"type\": \"scattergl\"}], \"scattermapbox\": [{\"marker\": {\"colorbar\": {\"outlinewidth\": 0, \"ticks\": \"\"}}, \"type\": \"scattermapbox\"}], \"scatterpolar\": [{\"marker\": {\"colorbar\": {\"outlinewidth\": 0, \"ticks\": \"\"}}, \"type\": \"scatterpolar\"}], \"scatterpolargl\": [{\"marker\": {\"colorbar\": {\"outlinewidth\": 0, \"ticks\": \"\"}}, \"type\": \"scatterpolargl\"}], \"scatterternary\": [{\"marker\": {\"colorbar\": {\"outlinewidth\": 0, \"ticks\": \"\"}}, \"type\": \"scatterternary\"}], \"surface\": [{\"colorbar\": {\"outlinewidth\": 0, \"ticks\": \"\"}, \"colorscale\": [[0.0, \"#0d0887\"], [0.1111111111111111, \"#46039f\"], [0.2222222222222222, \"#7201a8\"], [0.3333333333333333, \"#9c179e\"], [0.4444444444444444, \"#bd3786\"], [0.5555555555555556, \"#d8576b\"], [0.6666666666666666, \"#ed7953\"], [0.7777777777777778, \"#fb9f3a\"], [0.8888888888888888, \"#fdca26\"], [1.0, \"#f0f921\"]], \"type\": \"surface\"}], \"table\": [{\"cells\": {\"fill\": {\"color\": \"#EBF0F8\"}, \"line\": {\"color\": \"white\"}}, \"header\": {\"fill\": {\"color\": \"#C8D4E3\"}, \"line\": {\"color\": \"white\"}}, \"type\": \"table\"}]}, \"layout\": {\"annotationdefaults\": {\"arrowcolor\": \"#2a3f5f\", \"arrowhead\": 0, \"arrowwidth\": 1}, \"colorscale\": {\"diverging\": [[0, \"#8e0152\"], [0.1, \"#c51b7d\"], [0.2, \"#de77ae\"], [0.3, \"#f1b6da\"], [0.4, \"#fde0ef\"], [0.5, \"#f7f7f7\"], [0.6, \"#e6f5d0\"], [0.7, \"#b8e186\"], [0.8, \"#7fbc41\"], [0.9, \"#4d9221\"], [1, \"#276419\"]], \"sequential\": [[0.0, \"#0d0887\"], [0.1111111111111111, \"#46039f\"], [0.2222222222222222, \"#7201a8\"], [0.3333333333333333, \"#9c179e\"], [0.4444444444444444, \"#bd3786\"], [0.5555555555555556, \"#d8576b\"], [0.6666666666666666, \"#ed7953\"], [0.7777777777777778, \"#fb9f3a\"], [0.8888888888888888, \"#fdca26\"], [1.0, \"#f0f921\"]], \"sequentialminus\": [[0.0, \"#0d0887\"], [0.1111111111111111, \"#46039f\"], [0.2222222222222222, \"#7201a8\"], [0.3333333333333333, \"#9c179e\"], [0.4444444444444444, \"#bd3786\"], [0.5555555555555556, \"#d8576b\"], [0.6666666666666666, \"#ed7953\"], [0.7777777777777778, \"#fb9f3a\"], [0.8888888888888888, \"#fdca26\"], [1.0, \"#f0f921\"]]}, \"colorway\": [\"#636efa\", \"#EF553B\", \"#00cc96\", \"#ab63fa\", \"#FFA15A\", \"#19d3f3\", \"#FF6692\", \"#B6E880\", \"#FF97FF\", \"#FECB52\"], \"font\": {\"color\": \"#2a3f5f\"}, \"geo\": {\"bgcolor\": \"white\", \"lakecolor\": \"white\", \"landcolor\": \"#E5ECF6\", \"showlakes\": true, \"showland\": true, \"subunitcolor\": \"white\"}, \"hoverlabel\": {\"align\": \"left\"}, \"hovermode\": \"closest\", \"mapbox\": {\"style\": \"light\"}, \"paper_bgcolor\": \"white\", \"plot_bgcolor\": \"#E5ECF6\", \"polar\": {\"angularaxis\": {\"gridcolor\": \"white\", \"linecolor\": \"white\", \"ticks\": \"\"}, \"bgcolor\": \"#E5ECF6\", \"radialaxis\": {\"gridcolor\": \"white\", \"linecolor\": \"white\", \"ticks\": \"\"}}, \"scene\": {\"xaxis\": {\"backgroundcolor\": \"#E5ECF6\", \"gridcolor\": \"white\", \"gridwidth\": 2, \"linecolor\": \"white\", \"showbackground\": true, \"ticks\": \"\", \"zerolinecolor\": \"white\"}, \"yaxis\": {\"backgroundcolor\": \"#E5ECF6\", \"gridcolor\": \"white\", \"gridwidth\": 2, \"linecolor\": \"white\", \"showbackground\": true, \"ticks\": \"\", \"zerolinecolor\": \"white\"}, \"zaxis\": {\"backgroundcolor\": \"#E5ECF6\", \"gridcolor\": \"white\", \"gridwidth\": 2, \"linecolor\": \"white\", \"showbackground\": true, \"ticks\": \"\", \"zerolinecolor\": \"white\"}}, \"shapedefaults\": {\"line\": {\"color\": \"#2a3f5f\"}}, \"ternary\": {\"aaxis\": {\"gridcolor\": \"white\", \"linecolor\": \"white\", \"ticks\": \"\"}, \"baxis\": {\"gridcolor\": \"white\", \"linecolor\": \"white\", \"ticks\": \"\"}, \"bgcolor\": \"#E5ECF6\", \"caxis\": {\"gridcolor\": \"white\", \"linecolor\": \"white\", \"ticks\": \"\"}}, \"title\": {\"x\": 0.05}, \"xaxis\": {\"automargin\": true, \"gridcolor\": \"white\", \"linecolor\": \"white\", \"ticks\": \"\", \"zerolinecolor\": \"white\", \"zerolinewidth\": 2}, \"yaxis\": {\"automargin\": true, \"gridcolor\": \"white\", \"linecolor\": \"white\", \"ticks\": \"\", \"zerolinecolor\": \"white\", \"zerolinewidth\": 2}}}, \"title\": {\"text\": \"individual predictions trees\"}},\n",
       "                        {\"responsive\": true}\n",
       "                    ).then(function(){\n",
       "                            \n",
       "var gd = document.getElementById('80ac4f78-e508-4dd5-aef8-0da1ee8bd384');\n",
       "var x = new MutationObserver(function (mutations, observer) {{\n",
       "        var display = window.getComputedStyle(gd).display;\n",
       "        if (!display || display === 'none') {{\n",
       "            console.log([gd, 'removed!']);\n",
       "            Plotly.purge(gd);\n",
       "            observer.disconnect();\n",
       "        }}\n",
       "}});\n",
       "\n",
       "// Listen for the removal of the full notebook cells\n",
       "var notebookContainer = gd.closest('#notebook-container');\n",
       "if (notebookContainer) {{\n",
       "    x.observe(notebookContainer, {childList: true});\n",
       "}}\n",
       "\n",
       "// Listen for the clearing of the current output cell\n",
       "var outputEl = gd.closest('.output');\n",
       "if (outputEl) {{\n",
       "    x.observe(outputEl, {childList: true});\n",
       "}}\n",
       "\n",
       "                        })\n",
       "                };\n",
       "                });\n",
       "            </script>\n",
       "        </div>"
      ]
     },
     "metadata": {},
     "output_type": "display_data"
    }
   ],
   "source": [
    "explainer.plot_trees(idx=0)"
   ]
  },
  {
   "cell_type": "code",
   "execution_count": 24,
   "metadata": {},
   "outputs": [
    {
     "data": {
      "text/html": [
       "<div>\n",
       "<style scoped>\n",
       "    .dataframe tbody tr th:only-of-type {\n",
       "        vertical-align: middle;\n",
       "    }\n",
       "\n",
       "    .dataframe tbody tr th {\n",
       "        vertical-align: top;\n",
       "    }\n",
       "\n",
       "    .dataframe thead th {\n",
       "        text-align: right;\n",
       "    }\n",
       "</style>\n",
       "<table border=\"1\" class=\"dataframe\">\n",
       "  <thead>\n",
       "    <tr style=\"text-align: right;\">\n",
       "      <th></th>\n",
       "      <th>value</th>\n",
       "      <th>condition</th>\n",
       "      <th>change</th>\n",
       "      <th>prediction</th>\n",
       "    </tr>\n",
       "  </thead>\n",
       "  <tbody>\n",
       "    <tr>\n",
       "      <th>0</th>\n",
       "      <td>Sex_female=1.0                                ...</td>\n",
       "      <td>&gt;=0.5</td>\n",
       "      <td>+29.99%</td>\n",
       "      <td>68.63%</td>\n",
       "    </tr>\n",
       "    <tr>\n",
       "      <th>1</th>\n",
       "      <td>No_of_relatives_on_board=1.0                  ...</td>\n",
       "      <td>&lt; 3.5</td>\n",
       "      <td>+11.28%</td>\n",
       "      <td>79.91%</td>\n",
       "    </tr>\n",
       "    <tr>\n",
       "      <th>2</th>\n",
       "      <td>No_of_parents_plus_children_on_board=0.0      ...</td>\n",
       "      <td>&lt; 1.5</td>\n",
       "      <td>+3.06%</td>\n",
       "      <td>82.97%</td>\n",
       "    </tr>\n",
       "    <tr>\n",
       "      <th>3</th>\n",
       "      <td>Fare=71.2833                                  ...</td>\n",
       "      <td>&gt;=15.125</td>\n",
       "      <td>+12.99%</td>\n",
       "      <td>95.96%</td>\n",
       "    </tr>\n",
       "    <tr>\n",
       "      <th>4</th>\n",
       "      <td>No_of_siblings_plus_spouses_on_board=1.0      ...</td>\n",
       "      <td>&gt;=0.5</td>\n",
       "      <td>-3.23%</td>\n",
       "      <td>92.73%</td>\n",
       "    </tr>\n",
       "  </tbody>\n",
       "</table>\n",
       "</div>"
      ],
      "text/plain": [
       "                                               value     condition   change  \\\n",
       "0  Sex_female=1.0                                ...  >=0.5         +29.99%   \n",
       "1  No_of_relatives_on_board=1.0                  ...  < 3.5         +11.28%   \n",
       "2  No_of_parents_plus_children_on_board=0.0      ...  < 1.5          +3.06%   \n",
       "3  Fare=71.2833                                  ...  >=15.125      +12.99%   \n",
       "4  No_of_siblings_plus_spouses_on_board=1.0      ...  >=0.5          -3.23%   \n",
       "\n",
       "  prediction  \n",
       "0     68.63%  \n",
       "1     79.91%  \n",
       "2     82.97%  \n",
       "3     95.96%  \n",
       "4     92.73%  "
      ]
     },
     "execution_count": 24,
     "metadata": {},
     "output_type": "execute_result"
    }
   ],
   "source": [
    "base, pred, tree_df = explainer.shadowtree_df_summary(tree_idx=0, index=0)\n",
    "tree_df"
   ]
  },
  {
   "cell_type": "code",
   "execution_count": null,
   "metadata": {
    "collapsed": true
   },
   "outputs": [],
   "source": []
  }
 ],
 "metadata": {
  "kernelspec": {
   "display_name": "Python 3",
   "language": "python",
   "name": "python3"
  },
  "language_info": {
   "codemirror_mode": {
    "name": "ipython",
    "version": 3
   },
   "file_extension": ".py",
   "mimetype": "text/x-python",
   "name": "python",
   "nbconvert_exporter": "python",
   "pygments_lexer": "ipython3",
   "version": "3.7.6"
  },
  "toc": {
   "base_numbering": 1,
   "nav_menu": {},
   "number_sections": true,
   "sideBar": true,
   "skip_h1_title": false,
   "title_cell": "Table of Contents",
   "title_sidebar": "Contents",
   "toc_cell": false,
   "toc_position": {},
   "toc_section_display": true,
   "toc_window_display": false
  }
 },
 "nbformat": 4,
 "nbformat_minor": 2
}
