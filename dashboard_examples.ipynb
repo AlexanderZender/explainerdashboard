{
 "cells": [
  {
   "cell_type": "code",
   "execution_count": 1,
   "metadata": {},
   "outputs": [],
   "source": [
    "%load_ext autoreload\n",
    "%autoreload 2"
   ]
  },
  {
   "cell_type": "code",
   "execution_count": 2,
   "metadata": {},
   "outputs": [],
   "source": [
    "import pandas as pd\n",
    "from sklearn.ensemble import RandomForestClassifier, RandomForestRegressor\n",
    "from xgboost import XGBClassifier\n",
    "from sklearn.metrics import roc_auc_score, r2_score, accuracy_score, f1_score, precision_score, recall_score, log_loss"
   ]
  },
  {
   "cell_type": "code",
   "execution_count": 3,
   "metadata": {},
   "outputs": [],
   "source": [
    "from explainerdashboard.explainers import *\n",
    "from explainerdashboard.dashboards import *\n",
    "from explainerdashboard.datasets import *"
   ]
  },
  {
   "cell_type": "markdown",
   "metadata": {},
   "source": [
    "# RandomForestClassifier dashboard"
   ]
  },
  {
   "cell_type": "code",
   "execution_count": 34,
   "metadata": {},
   "outputs": [],
   "source": [
    "X_train, y_train, X_test, y_test = titanic_survive()\n",
    "train_names, test_names = titanic_names()\n",
    "\n",
    "model = RandomForestClassifier(n_estimators=50, max_depth=5)\n",
    "model.fit(X_train, y_train)\n",
    "\n",
    "explainer = RandomForestClassifierBunch(model, X_test, y_test, metric=roc_auc_score, \n",
    "                               cats=['Sex', 'Deck', 'Embarked'],\n",
    "                               idxs=test_names, #names of passengers \n",
    "                               labels=['Not survived', 'Survived'])"
   ]
  },
  {
   "cell_type": "code",
   "execution_count": 35,
   "metadata": {},
   "outputs": [
    {
     "name": "stdout",
     "output_type": "stream",
     "text": [
      "Calculating shap values...\n",
      "Generating shap TreeExplainer...\n"
     ]
    },
    {
     "data": {
      "application/vnd.plotly.v1+json": {
       "config": {
        "plotlyServerURL": "https://plot.ly"
       },
       "data": [
        {
         "hoverinfo": "text",
         "insidetextanchor": "end",
         "orientation": "h",
         "text": [
          0.005,
          0.008,
          0.014,
          0.017,
          0.019,
          0.031,
          0.044,
          0.058,
          0.192
         ],
         "textposition": "inside",
         "type": "bar",
         "x": [
          0.00458096298176404,
          0.008232665905103388,
          0.014328523398893652,
          0.017247492951014173,
          0.018572156046081437,
          0.031144381700169945,
          0.044036350357076995,
          0.058438039182511205,
          0.191825575061754
         ],
         "y": [
          "9. No_of_siblings_plus_spouses_on_board",
          "8. No_of_parents_plus_children_on_board",
          "7. No_of_relatives_on_board",
          "6. Age",
          "5. Embarked",
          "4. Fare",
          "3. PassengerClass",
          "2. Deck",
          "1. Sex"
         ]
        }
       ],
       "layout": {
        "height": 380,
        "margin": {
         "b": 50,
         "l": 252,
         "pad": 4,
         "r": 50,
         "t": 50
        },
        "plot_bgcolor": "#fff",
        "showlegend": false,
        "template": {
         "data": {
          "scatter": [
           {
            "type": "scatter"
           }
          ]
         }
        },
        "title": {
         "text": "MEAN_ABS_SHAP"
        },
        "xaxis": {
         "automargin": true
        },
        "yaxis": {
         "automargin": true
        }
       }
      },
      "text/html": [
       "<div>\n",
       "        \n",
       "        \n",
       "            <div id=\"bcad42e2-31d1-4c15-ae15-c83e16bfccb7\" class=\"plotly-graph-div\" style=\"height:380px; width:100%;\"></div>\n",
       "            <script type=\"text/javascript\">\n",
       "                require([\"plotly\"], function(Plotly) {\n",
       "                    window.PLOTLYENV=window.PLOTLYENV || {};\n",
       "                    \n",
       "                if (document.getElementById(\"bcad42e2-31d1-4c15-ae15-c83e16bfccb7\")) {\n",
       "                    Plotly.newPlot(\n",
       "                        'bcad42e2-31d1-4c15-ae15-c83e16bfccb7',\n",
       "                        [{\"hoverinfo\": \"text\", \"insidetextanchor\": \"end\", \"orientation\": \"h\", \"text\": [0.005, 0.008, 0.014, 0.017, 0.019, 0.031, 0.044, 0.058, 0.192], \"textposition\": \"inside\", \"type\": \"bar\", \"x\": [0.00458096298176404, 0.008232665905103388, 0.014328523398893652, 0.017247492951014173, 0.018572156046081437, 0.031144381700169945, 0.044036350357076995, 0.058438039182511205, 0.191825575061754], \"y\": [\"9. No_of_siblings_plus_spouses_on_board\", \"8. No_of_parents_plus_children_on_board\", \"7. No_of_relatives_on_board\", \"6. Age\", \"5. Embarked\", \"4. Fare\", \"3. PassengerClass\", \"2. Deck\", \"1. Sex\"]}],\n",
       "                        {\"height\": 380, \"margin\": {\"b\": 50, \"l\": 252, \"pad\": 4, \"r\": 50, \"t\": 50}, \"plot_bgcolor\": \"#fff\", \"showlegend\": false, \"template\": {\"data\": {\"scatter\": [{\"type\": \"scatter\"}]}}, \"title\": {\"text\": \"MEAN_ABS_SHAP\"}, \"xaxis\": {\"automargin\": true}, \"yaxis\": {\"automargin\": true}},\n",
       "                        {\"responsive\": true}\n",
       "                    ).then(function(){\n",
       "                            \n",
       "var gd = document.getElementById('bcad42e2-31d1-4c15-ae15-c83e16bfccb7');\n",
       "var x = new MutationObserver(function (mutations, observer) {{\n",
       "        var display = window.getComputedStyle(gd).display;\n",
       "        if (!display || display === 'none') {{\n",
       "            console.log([gd, 'removed!']);\n",
       "            Plotly.purge(gd);\n",
       "            observer.disconnect();\n",
       "        }}\n",
       "}});\n",
       "\n",
       "// Listen for the removal of the full notebook cells\n",
       "var notebookContainer = gd.closest('#notebook-container');\n",
       "if (notebookContainer) {{\n",
       "    x.observe(notebookContainer, {childList: true});\n",
       "}}\n",
       "\n",
       "// Listen for the clearing of the current output cell\n",
       "var outputEl = gd.closest('.output');\n",
       "if (outputEl) {{\n",
       "    x.observe(outputEl, {childList: true});\n",
       "}}\n",
       "\n",
       "                        })\n",
       "                };\n",
       "                });\n",
       "            </script>\n",
       "        </div>"
      ]
     },
     "metadata": {},
     "output_type": "display_data"
    }
   ],
   "source": [
    "explainer.plot_importances(cats=True)"
   ]
  },
  {
   "cell_type": "code",
   "execution_count": 37,
   "metadata": {},
   "outputs": [
    {
     "name": "stdout",
     "output_type": "stream",
     "text": [
      "Calculating predictions...\n",
      "Calculating pred_percentiles...\n",
      "Calculating prediction probabilities...\n",
      "Calculating importances...\n",
      "Calculating shap interaction values...\n",
      "Generating ShadowDecTree for each individual decision tree...\n",
      "Running Model Explainer on http://localhost:8052\n",
      " * Serving Flask app \"explainerdashboard.dashboards\" (lazy loading)\n",
      " * Environment: production\n",
      "   WARNING: This is a development server. Do not use it in a production deployment.\n",
      "   Use a production WSGI server instead.\n",
      " * Debug mode: off\n"
     ]
    },
    {
     "name": "stderr",
     "output_type": "stream",
     "text": [
      " * Running on http://127.0.0.1:8052/ (Press CTRL+C to quit)\n",
      "127.0.0.1 - - [28/Feb/2020 15:09:29] \"GET / HTTP/1.1\" 200 -\n",
      "127.0.0.1 - - [28/Feb/2020 15:09:29] \"GET /_dash-dependencies HTTP/1.1\" 200 -\n",
      "127.0.0.1 - - [28/Feb/2020 15:09:29] \"GET /_dash-layout HTTP/1.1\" 200 -\n",
      "127.0.0.1 - - [28/Feb/2020 15:09:30] \"POST /_dash-update-component HTTP/1.1\" 200 -\n",
      "127.0.0.1 - - [28/Feb/2020 15:09:30] \"POST /_dash-update-component HTTP/1.1\" 200 -\n",
      "127.0.0.1 - - [28/Feb/2020 15:09:30] \"POST /_dash-update-component HTTP/1.1\" 200 -\n",
      "127.0.0.1 - - [28/Feb/2020 15:09:30] \"POST /_dash-update-component HTTP/1.1\" 200 -\n",
      "127.0.0.1 - - [28/Feb/2020 15:09:30] \"POST /_dash-update-component HTTP/1.1\" 200 -\n",
      "127.0.0.1 - - [28/Feb/2020 15:09:30] \"POST /_dash-update-component HTTP/1.1\" 200 -\n",
      "127.0.0.1 - - [28/Feb/2020 15:09:30] \"POST /_dash-update-component HTTP/1.1\" 200 -\n",
      "127.0.0.1 - - [28/Feb/2020 15:09:30] \"POST /_dash-update-component HTTP/1.1\" 200 -\n",
      "127.0.0.1 - - [28/Feb/2020 15:09:31] \"POST /_dash-update-component HTTP/1.1\" 200 -\n",
      "127.0.0.1 - - [28/Feb/2020 15:09:31] \"POST /_dash-update-component HTTP/1.1\" 200 -\n",
      "127.0.0.1 - - [28/Feb/2020 15:09:31] \"POST /_dash-update-component HTTP/1.1\" 200 -\n",
      "127.0.0.1 - - [28/Feb/2020 15:09:32] \"POST /_dash-update-component HTTP/1.1\" 200 -\n",
      "127.0.0.1 - - [28/Feb/2020 15:09:32] \"POST /_dash-update-component HTTP/1.1\" 200 -\n",
      "127.0.0.1 - - [28/Feb/2020 15:09:32] \"POST /_dash-update-component HTTP/1.1\" 200 -\n",
      "127.0.0.1 - - [28/Feb/2020 15:09:34] \"POST /_dash-update-component HTTP/1.1\" 200 -\n",
      "127.0.0.1 - - [28/Feb/2020 15:09:34] \"POST /_dash-update-component HTTP/1.1\" 200 -\n",
      "127.0.0.1 - - [28/Feb/2020 15:09:34] \"POST /_dash-update-component HTTP/1.1\" 204 -\n",
      "127.0.0.1 - - [28/Feb/2020 15:09:34] \"POST /_dash-update-component HTTP/1.1\" 204 -\n",
      "127.0.0.1 - - [28/Feb/2020 15:09:34] \"POST /_dash-update-component HTTP/1.1\" 204 -\n",
      "127.0.0.1 - - [28/Feb/2020 15:09:34] \"POST /_dash-update-component HTTP/1.1\" 204 -\n",
      "127.0.0.1 - - [28/Feb/2020 15:09:34] \"POST /_dash-update-component HTTP/1.1\" 200 -\n",
      "127.0.0.1 - - [28/Feb/2020 15:09:35] \"POST /_dash-update-component HTTP/1.1\" 200 -\n",
      "127.0.0.1 - - [28/Feb/2020 15:09:35] \"POST /_dash-update-component HTTP/1.1\" 200 -\n",
      "127.0.0.1 - - [28/Feb/2020 15:09:36] \"POST /_dash-update-component HTTP/1.1\" 200 -\n",
      "127.0.0.1 - - [28/Feb/2020 15:09:37] \"POST /_dash-update-component HTTP/1.1\" 200 -\n",
      "127.0.0.1 - - [28/Feb/2020 15:09:37] \"POST /_dash-update-component HTTP/1.1\" 200 -\n",
      "127.0.0.1 - - [28/Feb/2020 15:09:39] \"POST /_dash-update-component HTTP/1.1\" 200 -\n",
      "127.0.0.1 - - [28/Feb/2020 15:09:39] \"POST /_dash-update-component HTTP/1.1\" 200 -\n",
      "127.0.0.1 - - [28/Feb/2020 15:09:40] \"POST /_dash-update-component HTTP/1.1\" 200 -\n",
      "127.0.0.1 - - [28/Feb/2020 15:09:41] \"POST /_dash-update-component HTTP/1.1\" 200 -\n",
      "127.0.0.1 - - [28/Feb/2020 15:09:42] \"POST /_dash-update-component HTTP/1.1\" 200 -\n",
      "127.0.0.1 - - [28/Feb/2020 15:09:42] \"POST /_dash-update-component HTTP/1.1\" 200 -\n",
      "127.0.0.1 - - [28/Feb/2020 15:09:43] \"POST /_dash-update-component HTTP/1.1\" 200 -\n",
      "127.0.0.1 - - [28/Feb/2020 15:09:44] \"POST /_dash-update-component HTTP/1.1\" 200 -\n",
      "127.0.0.1 - - [28/Feb/2020 15:09:44] \"POST /_dash-update-component HTTP/1.1\" 200 -\n",
      "127.0.0.1 - - [28/Feb/2020 15:09:45] \"POST /_dash-update-component HTTP/1.1\" 200 -\n",
      "127.0.0.1 - - [28/Feb/2020 15:09:45] \"POST /_dash-update-component HTTP/1.1\" 200 -\n",
      "127.0.0.1 - - [28/Feb/2020 15:09:46] \"POST /_dash-update-component HTTP/1.1\" 200 -\n",
      "127.0.0.1 - - [28/Feb/2020 15:09:48] \"POST /_dash-update-component HTTP/1.1\" 200 -\n",
      "127.0.0.1 - - [28/Feb/2020 15:09:48] \"POST /_dash-update-component HTTP/1.1\" 200 -\n",
      "127.0.0.1 - - [28/Feb/2020 15:10:06] \"POST /_dash-update-component HTTP/1.1\" 200 -\n"
     ]
    }
   ],
   "source": [
    "db = ExplainerDashboard(explainer,\n",
    "                        model_summary=True,\n",
    "                        contributions=True,\n",
    "                        shap_dependence=True,\n",
    "                        shap_interaction=True,\n",
    "                        decision_trees=True)\n",
    "db.run(8052)"
   ]
  },
  {
   "cell_type": "markdown",
   "metadata": {},
   "source": [
    "# RandomForestRegressor example"
   ]
  },
  {
   "cell_type": "code",
   "execution_count": null,
   "metadata": {},
   "outputs": [],
   "source": [
    "X_train, y_train, X_test, y_test = titanic_fare()\n",
    "train_names, test_names = titanic_names()\n",
    "\n",
    "model = RandomForestRegressor(n_estimators=50, max_depth=5)\n",
    "model.fit(X_train, y_train)\n",
    "\n",
    "explainer = RandomForestRegressionBunch(model, X_test, y_test, r2_score,\n",
    "                               cats=['Sex', 'Deck', 'Embarked'],\n",
    "                               idxs=test_names, units=\"$\")"
   ]
  },
  {
   "cell_type": "code",
   "execution_count": null,
   "metadata": {},
   "outputs": [],
   "source": [
    "db = ExplainerDashboard(explainer,\n",
    "                        model_summary=True,\n",
    "                        contributions=True,\n",
    "                        shap_dependence=True,\n",
    "                        shap_interaction=True,\n",
    "                        shadow_trees=True)\n",
    "db.run(8052)"
   ]
  },
  {
   "cell_type": "markdown",
   "metadata": {},
   "source": [
    "# XGBClassifier example"
   ]
  },
  {
   "cell_type": "code",
   "execution_count": null,
   "metadata": {},
   "outputs": [],
   "source": [
    "X_train, y_train, X_test, y_test = titanic_survive()\n",
    "train_names, test_names = titanic_names()\n",
    "\n",
    "xgb_model = XGBClassifier()\n",
    "xgb_model.fit(X_train, y_train)\n",
    "\n",
    "explainer = TreeClassifierBunch(xgb_model, X_test, y_test, roc_auc_score,\n",
    "                                   cats=['Sex', 'Cabin', 'Embarked'],\n",
    "                                   idxs=test_names, #names of passengers \n",
    "                                   labels=['Not survived', 'Survived'])\n",
    "\n",
    "db = ExplainerDashboard(explainer,\n",
    "                        model_summary=True,\n",
    "                        contributions=True,\n",
    "                        shap_dependence=True,\n",
    "                        shap_interaction=False)\n",
    "db.run(8052)"
   ]
  },
  {
   "cell_type": "code",
   "execution_count": null,
   "metadata": {},
   "outputs": [],
   "source": []
  }
 ],
 "metadata": {
  "kernelspec": {
   "display_name": "Python 3",
   "language": "python",
   "name": "python3"
  },
  "language_info": {
   "codemirror_mode": {
    "name": "ipython",
    "version": 3
   },
   "file_extension": ".py",
   "mimetype": "text/x-python",
   "name": "python",
   "nbconvert_exporter": "python",
   "pygments_lexer": "ipython3",
   "version": "3.7.5"
  }
 },
 "nbformat": 4,
 "nbformat_minor": 4
}
