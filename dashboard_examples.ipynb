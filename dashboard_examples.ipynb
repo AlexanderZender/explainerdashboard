{
 "cells": [
  {
   "cell_type": "code",
   "execution_count": 8,
   "metadata": {},
   "outputs": [
    {
     "name": "stdout",
     "output_type": "stream",
     "text": [
      "The autoreload extension is already loaded. To reload it, use:\n",
      "  %reload_ext autoreload\n"
     ]
    }
   ],
   "source": [
    "%load_ext autoreload\n",
    "%autoreload 2"
   ]
  },
  {
   "cell_type": "code",
   "execution_count": 2,
   "metadata": {},
   "outputs": [],
   "source": [
    "import pandas as pd\n",
    "from sklearn.ensemble import RandomForestClassifier, RandomForestRegressor\n",
    "from xgboost import XGBClassifier\n",
    "from sklearn.metrics import roc_auc_score, r2_score, accuracy_score, f1_score, precision_score, recall_score, log_loss"
   ]
  },
  {
   "cell_type": "code",
   "execution_count": 3,
   "metadata": {},
   "outputs": [],
   "source": [
    "from explainerdashboard.explainers import *\n",
    "from explainerdashboard.dashboards import *\n",
    "from explainerdashboard.datasets import *"
   ]
  },
  {
   "cell_type": "code",
   "execution_count": 4,
   "metadata": {},
   "outputs": [],
   "source": [
    "feature_descriptions = {\n",
    "    \"Sex\": \"Gender of passenger\",\n",
    "    \"Deck\": \"The deck the passenger had their cabin on\",\n",
    "    \"PassengerClass\": \"The class of the ticket: 1st, 2nd or 3rd class\",\n",
    "    \"Fare\": \"The amount of money people paid\", \n",
    "    \"No_of_relatives_on_board\": \"number of siblings, spouses, parents plus children on board\",\n",
    "    \"Embarked\": \"the port where the passenger boarded the Titanic. Either Southampton, Cherbourg or Queenstown\",\n",
    "    \"Age\": \"Age of the passenger\",\n",
    "    \"No_of_siblings_plus_spouses_on_board\": \"The sum of the number of siblings plus the number of spouses on board\",\n",
    "    \"No_of_parents_plus_children_on_board\" : \"The sum of the number of parents plus the number of children on board\",\n",
    "}"
   ]
  },
  {
   "cell_type": "markdown",
   "metadata": {},
   "source": [
    "# RandomForestClassifier dashboard"
   ]
  },
  {
   "cell_type": "code",
   "execution_count": 5,
   "metadata": {},
   "outputs": [],
   "source": [
    "X_train, y_train, X_test, y_test = titanic_survive()\n",
    "train_names, test_names = titanic_names()\n",
    "\n",
    "model = RandomForestClassifier(n_estimators=50, max_depth=5)\n",
    "model.fit(X_train, y_train)\n",
    "\n",
    "explainer = RandomForestClassifierBunch(model, X_test, y_test, metric=roc_auc_score, \n",
    "                               cats=['Sex', 'Deck', 'Embarked'],\n",
    "                               idxs=test_names, #names of passengers \n",
    "                               descriptions=feature_descriptions,\n",
    "                               labels=['Not survived', 'Survived'])"
   ]
  },
  {
   "cell_type": "code",
   "execution_count": 10,
   "metadata": {},
   "outputs": [],
   "source": [
    "fig = explainer.plot_confusion_matrix()"
   ]
  },
  {
   "cell_type": "code",
   "execution_count": 70,
   "metadata": {},
   "outputs": [
    {
     "data": {
      "application/vnd.plotly.v1+json": {
       "config": {
        "plotlyServerURL": "https://plot.ly"
       },
       "data": [
        {
         "hoverinfo": "text",
         "orientation": "h",
         "type": "bar",
         "x": [
          0.1100822241135548,
          0.24611099299901829,
          0.28555129697291687,
          0.3011614651954554,
          0.3446740413866881,
          0.9468936524642974,
          2.1221258105417586,
          2.3438608238848793
         ],
         "y": [
          "8. Embarked",
          "7. Survived",
          "6. No_of_parents_plus_children_on_board",
          "5. Age",
          "4. No_of_relatives_on_board",
          "3. Deck",
          "2. PassengerClass",
          "1. Sex"
         ]
        }
       ],
       "layout": {
        "height": 360,
        "margin": {
         "b": 50,
         "l": 252,
         "pad": 4,
         "r": 50,
         "t": 50
        },
        "plot_bgcolor": "#fff",
        "showlegend": false,
        "template": {
         "data": {
          "scatter": [
           {
            "type": "scatter"
           }
          ]
         }
        },
        "title": {
         "text": "MEAN_ABS_SHAP"
        },
        "xaxis": {
         "automargin": true
        },
        "yaxis": {
         "automargin": true
        }
       }
      },
      "text/html": [
       "<div>\n",
       "        \n",
       "        \n",
       "            <div id=\"905b31c8-2bb1-41db-a24d-3f64a74d00cd\" class=\"plotly-graph-div\" style=\"height:360px; width:100%;\"></div>\n",
       "            <script type=\"text/javascript\">\n",
       "                require([\"plotly\"], function(Plotly) {\n",
       "                    window.PLOTLYENV=window.PLOTLYENV || {};\n",
       "                    \n",
       "                if (document.getElementById(\"905b31c8-2bb1-41db-a24d-3f64a74d00cd\")) {\n",
       "                    Plotly.newPlot(\n",
       "                        '905b31c8-2bb1-41db-a24d-3f64a74d00cd',\n",
       "                        [{\"hoverinfo\": \"text\", \"orientation\": \"h\", \"type\": \"bar\", \"x\": [0.1100822241135548, 0.24611099299901829, 0.28555129697291687, 0.3011614651954554, 0.3446740413866881, 0.9468936524642974, 2.1221258105417586, 2.3438608238848793], \"y\": [\"8. Embarked\", \"7. Survived\", \"6. No_of_parents_plus_children_on_board\", \"5. Age\", \"4. No_of_relatives_on_board\", \"3. Deck\", \"2. PassengerClass\", \"1. Sex\"]}],\n",
       "                        {\"height\": 360, \"margin\": {\"b\": 50, \"l\": 252, \"pad\": 4, \"r\": 50, \"t\": 50}, \"plot_bgcolor\": \"#fff\", \"showlegend\": false, \"template\": {\"data\": {\"scatter\": [{\"type\": \"scatter\"}]}}, \"title\": {\"text\": \"MEAN_ABS_SHAP\"}, \"xaxis\": {\"automargin\": true}, \"yaxis\": {\"automargin\": true}},\n",
       "                        {\"responsive\": true}\n",
       "                    ).then(function(){\n",
       "                            \n",
       "var gd = document.getElementById('905b31c8-2bb1-41db-a24d-3f64a74d00cd');\n",
       "var x = new MutationObserver(function (mutations, observer) {{\n",
       "        var display = window.getComputedStyle(gd).display;\n",
       "        if (!display || display === 'none') {{\n",
       "            console.log([gd, 'removed!']);\n",
       "            Plotly.purge(gd);\n",
       "            observer.disconnect();\n",
       "        }}\n",
       "}});\n",
       "\n",
       "// Listen for the removal of the full notebook cells\n",
       "var notebookContainer = gd.closest('#notebook-container');\n",
       "if (notebookContainer) {{\n",
       "    x.observe(notebookContainer, {childList: true});\n",
       "}}\n",
       "\n",
       "// Listen for the clearing of the current output cell\n",
       "var outputEl = gd.closest('.output');\n",
       "if (outputEl) {{\n",
       "    x.observe(outputEl, {childList: true});\n",
       "}}\n",
       "\n",
       "                        })\n",
       "                };\n",
       "                });\n",
       "            </script>\n",
       "        </div>"
      ]
     },
     "metadata": {},
     "output_type": "display_data"
    }
   ],
   "source": [
    "explainer.plot_interactions(\"Sex\", cats=True)"
   ]
  },
  {
   "cell_type": "code",
   "execution_count": 26,
   "metadata": {},
   "outputs": [
    {
     "data": {
      "text/plain": [
       "0           C\n",
       "1           C\n",
       "2      Unkown\n",
       "3      Unkown\n",
       "4      Unkown\n",
       "        ...  \n",
       "195    Unkown\n",
       "196    Unkown\n",
       "197         B\n",
       "198    Unkown\n",
       "199    Unkown\n",
       "Length: 200, dtype: object"
      ]
     },
     "execution_count": 26,
     "metadata": {},
     "output_type": "execute_result"
    }
   ],
   "source": [
    "explainer.get_col(\"Deck\")"
   ]
  },
  {
   "cell_type": "code",
   "execution_count": 27,
   "metadata": {},
   "outputs": [
    {
     "data": {
      "text/plain": [
       "0      71.2833\n",
       "1      53.1000\n",
       "2      21.0750\n",
       "3      11.1333\n",
       "4      30.0708\n",
       "        ...   \n",
       "195     7.2292\n",
       "196    11.1333\n",
       "197     5.0000\n",
       "198     9.8458\n",
       "199    13.0000\n",
       "Name: Fare, Length: 200, dtype: float64"
      ]
     },
     "execution_count": 27,
     "metadata": {},
     "output_type": "execute_result"
    }
   ],
   "source": [
    "explainer.get_col(\"Fare\")"
   ]
  },
  {
   "cell_type": "code",
   "execution_count": 41,
   "metadata": {},
   "outputs": [
    {
     "data": {
      "text/plain": [
       "False"
      ]
     },
     "execution_count": 41,
     "metadata": {},
     "output_type": "execute_result"
    }
   ],
   "source": [
    "isinstance(explainer.pred_percentiles, str)"
   ]
  },
  {
   "cell_type": "code",
   "execution_count": 53,
   "metadata": {},
   "outputs": [
    {
     "data": {
      "text/html": [
       "<div>\n",
       "<style scoped>\n",
       "    .dataframe tbody tr th:only-of-type {\n",
       "        vertical-align: middle;\n",
       "    }\n",
       "\n",
       "    .dataframe tbody tr th {\n",
       "        vertical-align: top;\n",
       "    }\n",
       "\n",
       "    .dataframe thead th {\n",
       "        text-align: right;\n",
       "    }\n",
       "</style>\n",
       "<table border=\"1\" class=\"dataframe\">\n",
       "  <thead>\n",
       "    <tr style=\"text-align: right;\">\n",
       "      <th></th>\n",
       "      <th>col</th>\n",
       "      <th>contribution</th>\n",
       "      <th>value</th>\n",
       "      <th>cumulative</th>\n",
       "      <th>base</th>\n",
       "    </tr>\n",
       "  </thead>\n",
       "  <tbody>\n",
       "    <tr>\n",
       "      <th>0</th>\n",
       "      <td>base_value</td>\n",
       "      <td>0.388191</td>\n",
       "      <td>-</td>\n",
       "      <td>0.388191</td>\n",
       "      <td>0.000000</td>\n",
       "    </tr>\n",
       "    <tr>\n",
       "      <th>1</th>\n",
       "      <td>Sex</td>\n",
       "      <td>0.276826</td>\n",
       "      <td>female</td>\n",
       "      <td>0.665017</td>\n",
       "      <td>0.388191</td>\n",
       "    </tr>\n",
       "    <tr>\n",
       "      <th>2</th>\n",
       "      <td>PassengerClass</td>\n",
       "      <td>0.068943</td>\n",
       "      <td>1</td>\n",
       "      <td>0.733960</td>\n",
       "      <td>0.665017</td>\n",
       "    </tr>\n",
       "    <tr>\n",
       "      <th>3</th>\n",
       "      <td>Fare</td>\n",
       "      <td>0.060766</td>\n",
       "      <td>71.2833</td>\n",
       "      <td>0.794726</td>\n",
       "      <td>0.733960</td>\n",
       "    </tr>\n",
       "    <tr>\n",
       "      <th>4</th>\n",
       "      <td>Deck</td>\n",
       "      <td>0.058431</td>\n",
       "      <td>C</td>\n",
       "      <td>0.853157</td>\n",
       "      <td>0.794726</td>\n",
       "    </tr>\n",
       "    <tr>\n",
       "      <th>5</th>\n",
       "      <td>Embarked</td>\n",
       "      <td>0.028445</td>\n",
       "      <td>Cherbourg</td>\n",
       "      <td>0.881602</td>\n",
       "      <td>0.853157</td>\n",
       "    </tr>\n",
       "    <tr>\n",
       "      <th>6</th>\n",
       "      <td>No_of_relatives_on_board</td>\n",
       "      <td>0.010288</td>\n",
       "      <td>1</td>\n",
       "      <td>0.891890</td>\n",
       "      <td>0.881602</td>\n",
       "    </tr>\n",
       "    <tr>\n",
       "      <th>7</th>\n",
       "      <td>No_of_siblings_plus_spouses_on_board</td>\n",
       "      <td>0.009293</td>\n",
       "      <td>1</td>\n",
       "      <td>0.901183</td>\n",
       "      <td>0.891890</td>\n",
       "    </tr>\n",
       "    <tr>\n",
       "      <th>8</th>\n",
       "      <td>Age</td>\n",
       "      <td>-0.002969</td>\n",
       "      <td>38</td>\n",
       "      <td>0.898214</td>\n",
       "      <td>0.901183</td>\n",
       "    </tr>\n",
       "    <tr>\n",
       "      <th>9</th>\n",
       "      <td>No_of_parents_plus_children_on_board</td>\n",
       "      <td>0.002655</td>\n",
       "      <td>0</td>\n",
       "      <td>0.900869</td>\n",
       "      <td>0.898214</td>\n",
       "    </tr>\n",
       "  </tbody>\n",
       "</table>\n",
       "</div>"
      ],
      "text/plain": [
       "                                    col  contribution      value  cumulative  \\\n",
       "0                            base_value      0.388191          -    0.388191   \n",
       "1                                   Sex      0.276826     female    0.665017   \n",
       "2                        PassengerClass      0.068943          1    0.733960   \n",
       "3                                  Fare      0.060766    71.2833    0.794726   \n",
       "4                                  Deck      0.058431          C    0.853157   \n",
       "5                              Embarked      0.028445  Cherbourg    0.881602   \n",
       "6              No_of_relatives_on_board      0.010288          1    0.891890   \n",
       "7  No_of_siblings_plus_spouses_on_board      0.009293          1    0.901183   \n",
       "8                                   Age     -0.002969         38    0.898214   \n",
       "9  No_of_parents_plus_children_on_board      0.002655          0    0.900869   \n",
       "\n",
       "       base  \n",
       "0  0.000000  \n",
       "1  0.388191  \n",
       "2  0.665017  \n",
       "3  0.733960  \n",
       "4  0.794726  \n",
       "5  0.853157  \n",
       "6  0.881602  \n",
       "7  0.891890  \n",
       "8  0.901183  \n",
       "9  0.898214  "
      ]
     },
     "execution_count": 53,
     "metadata": {},
     "output_type": "execute_result"
    }
   ],
   "source": [
    "explainer.contrib_df(0)"
   ]
  },
  {
   "cell_type": "code",
   "execution_count": 51,
   "metadata": {},
   "outputs": [
    {
     "data": {
      "text/plain": [
       "True"
      ]
     },
     "execution_count": 51,
     "metadata": {},
     "output_type": "execute_result"
    }
   ],
   "source": [
    "isinstance(explainer.get_pdp_result(\"Fare\"), pdpbox.pdp.PDPIsolate)"
   ]
  },
  {
   "cell_type": "code",
   "execution_count": null,
   "metadata": {},
   "outputs": [],
   "source": []
  },
  {
   "cell_type": "code",
   "execution_count": 45,
   "metadata": {},
   "outputs": [
    {
     "data": {
      "text/plain": [
       "True"
      ]
     },
     "execution_count": 45,
     "metadata": {},
     "output_type": "execute_result"
    }
   ],
   "source": [
    "isinstance(explainer.contrib_summary_df(0), pd.DataFrame)"
   ]
  },
  {
   "cell_type": "code",
   "execution_count": 15,
   "metadata": {},
   "outputs": [],
   "source": [
    "import plotly.graph_objs as go"
   ]
  },
  {
   "cell_type": "code",
   "execution_count": 18,
   "metadata": {},
   "outputs": [
    {
     "data": {
      "text/plain": [
       "True"
      ]
     },
     "execution_count": 18,
     "metadata": {},
     "output_type": "execute_result"
    }
   ],
   "source": [
    "isinstance(fig, go.Figure)"
   ]
  },
  {
   "cell_type": "code",
   "execution_count": 9,
   "metadata": {},
   "outputs": [
    {
     "name": "stdout",
     "output_type": "stream",
     "text": [
      "Running Model Explainer on http://localhost:8052\n",
      " * Serving Flask app \"explainerdashboard.dashboards\" (lazy loading)\n",
      " * Environment: production\n",
      "   WARNING: This is a development server. Do not use it in a production deployment.\n",
      "   Use a production WSGI server instead.\n",
      " * Debug mode: off\n"
     ]
    },
    {
     "name": "stderr",
     "output_type": "stream",
     "text": [
      " * Running on http://127.0.0.1:8052/ (Press CTRL+C to quit)\n",
      "127.0.0.1 - - [15/May/2020 12:51:08] \"GET / HTTP/1.1\" 200 -\n",
      "127.0.0.1 - - [15/May/2020 12:51:09] \"GET /_dash-dependencies HTTP/1.1\" 200 -\n",
      "127.0.0.1 - - [15/May/2020 12:51:09] \"GET /_dash-layout HTTP/1.1\" 200 -\n",
      "127.0.0.1 - - [15/May/2020 12:51:09] \"POST /_dash-update-component HTTP/1.1\" 200 -\n",
      "127.0.0.1 - - [15/May/2020 12:51:09] \"POST /_dash-update-component HTTP/1.1\" 200 -\n",
      "127.0.0.1 - - [15/May/2020 12:51:09] \"POST /_dash-update-component HTTP/1.1\" 200 -\n",
      "127.0.0.1 - - [15/May/2020 12:51:09] \"POST /_dash-update-component HTTP/1.1\" 204 -\n",
      "127.0.0.1 - - [15/May/2020 12:51:09] \"POST /_dash-update-component HTTP/1.1\" 200 -\n",
      "127.0.0.1 - - [15/May/2020 12:51:09] \"POST /_dash-update-component HTTP/1.1\" 204 -\n",
      "127.0.0.1 - - [15/May/2020 12:51:09] \"POST /_dash-update-component HTTP/1.1\" 200 -\n",
      "127.0.0.1 - - [15/May/2020 12:51:09] \"POST /_dash-update-component HTTP/1.1\" 204 -\n",
      "127.0.0.1 - - [15/May/2020 12:51:09] \"POST /_dash-update-component HTTP/1.1\" 200 -\n",
      "127.0.0.1 - - [15/May/2020 12:51:09] \"POST /_dash-update-component HTTP/1.1\" 204 -\n",
      "127.0.0.1 - - [15/May/2020 12:51:09] \"POST /_dash-update-component HTTP/1.1\" 200 -\n",
      "127.0.0.1 - - [15/May/2020 12:51:11] \"POST /_dash-update-component HTTP/1.1\" 200 -\n",
      "127.0.0.1 - - [15/May/2020 12:51:11] \"POST /_dash-update-component HTTP/1.1\" 200 -\n",
      "127.0.0.1 - - [15/May/2020 12:51:12] \"POST /_dash-update-component HTTP/1.1\" 200 -\n",
      "127.0.0.1 - - [15/May/2020 12:51:12] \"POST /_dash-update-component HTTP/1.1\" 200 -\n",
      "127.0.0.1 - - [15/May/2020 12:51:12] \"POST /_dash-update-component HTTP/1.1\" 200 -\n",
      "127.0.0.1 - - [15/May/2020 12:51:12] \"POST /_dash-update-component HTTP/1.1\" 200 -\n",
      "127.0.0.1 - - [15/May/2020 12:51:12] \"POST /_dash-update-component HTTP/1.1\" 200 -\n",
      "127.0.0.1 - - [15/May/2020 12:51:12] \"POST /_dash-update-component HTTP/1.1\" 200 -\n",
      "127.0.0.1 - - [15/May/2020 12:51:12] \"POST /_dash-update-component HTTP/1.1\" 200 -\n",
      "127.0.0.1 - - [15/May/2020 12:51:12] \"POST /_dash-update-component HTTP/1.1\" 200 -\n",
      "127.0.0.1 - - [15/May/2020 12:51:12] \"POST /_dash-update-component HTTP/1.1\" 200 -\n",
      "127.0.0.1 - - [15/May/2020 12:51:12] \"POST /_dash-update-component HTTP/1.1\" 200 -\n",
      "127.0.0.1 - - [15/May/2020 12:51:12] \"POST /_dash-update-component HTTP/1.1\" 200 -\n",
      "127.0.0.1 - - [15/May/2020 12:51:14] \"POST /_dash-update-component HTTP/1.1\" 200 -\n",
      "127.0.0.1 - - [15/May/2020 12:51:14] \"POST /_dash-update-component HTTP/1.1\" 200 -\n",
      "127.0.0.1 - - [15/May/2020 12:51:14] \"POST /_dash-update-component HTTP/1.1\" 200 -\n",
      "127.0.0.1 - - [15/May/2020 12:51:14] \"POST /_dash-update-component HTTP/1.1\" 200 -\n",
      "127.0.0.1 - - [15/May/2020 12:51:18] \"POST /_dash-update-component HTTP/1.1\" 200 -\n",
      "127.0.0.1 - - [15/May/2020 12:51:18] \"POST /_dash-update-component HTTP/1.1\" 200 -\n",
      "127.0.0.1 - - [15/May/2020 12:51:18] \"POST /_dash-update-component HTTP/1.1\" 200 -\n",
      "127.0.0.1 - - [15/May/2020 12:51:19] \"POST /_dash-update-component HTTP/1.1\" 200 -\n",
      "127.0.0.1 - - [15/May/2020 12:51:19] \"POST /_dash-update-component HTTP/1.1\" 200 -\n",
      "127.0.0.1 - - [15/May/2020 12:51:19] \"POST /_dash-update-component HTTP/1.1\" 200 -\n",
      "127.0.0.1 - - [15/May/2020 12:51:26] \"POST /_dash-update-component HTTP/1.1\" 200 -\n",
      "127.0.0.1 - - [15/May/2020 12:51:26] \"POST /_dash-update-component HTTP/1.1\" 200 -\n",
      "127.0.0.1 - - [15/May/2020 12:51:26] \"POST /_dash-update-component HTTP/1.1\" 200 -\n",
      "127.0.0.1 - - [15/May/2020 12:51:30] \"POST /_dash-update-component HTTP/1.1\" 200 -\n",
      "127.0.0.1 - - [15/May/2020 12:51:30] \"GET / HTTP/1.1\" 200 -\n",
      "127.0.0.1 - - [15/May/2020 12:51:30] \"GET /_dash-dependencies HTTP/1.1\" 200 -\n",
      "127.0.0.1 - - [15/May/2020 12:51:30] \"GET /_dash-layout HTTP/1.1\" 200 -\n",
      "127.0.0.1 - - [15/May/2020 12:51:31] \"POST /_dash-update-component HTTP/1.1\" 200 -\n",
      "127.0.0.1 - - [15/May/2020 12:51:31] \"POST /_dash-update-component HTTP/1.1\" 200 -\n",
      "127.0.0.1 - - [15/May/2020 12:51:31] \"POST /_dash-update-component HTTP/1.1\" 200 -\n",
      "127.0.0.1 - - [15/May/2020 12:51:31] \"POST /_dash-update-component HTTP/1.1\" 204 -\n",
      "127.0.0.1 - - [15/May/2020 12:51:31] \"POST /_dash-update-component HTTP/1.1\" 200 -\n",
      "127.0.0.1 - - [15/May/2020 12:51:31] \"POST /_dash-update-component HTTP/1.1\" 204 -\n",
      "127.0.0.1 - - [15/May/2020 12:51:31] \"POST /_dash-update-component HTTP/1.1\" 200 -\n",
      "127.0.0.1 - - [15/May/2020 12:51:31] \"POST /_dash-update-component HTTP/1.1\" 204 -\n",
      "127.0.0.1 - - [15/May/2020 12:51:31] \"POST /_dash-update-component HTTP/1.1\" 200 -\n",
      "127.0.0.1 - - [15/May/2020 12:51:31] \"POST /_dash-update-component HTTP/1.1\" 204 -\n",
      "127.0.0.1 - - [15/May/2020 12:51:31] \"POST /_dash-update-component HTTP/1.1\" 200 -\n",
      "127.0.0.1 - - [15/May/2020 12:51:32] \"POST /_dash-update-component HTTP/1.1\" 200 -\n",
      "127.0.0.1 - - [15/May/2020 12:51:32] \"POST /_dash-update-component HTTP/1.1\" 200 -\n",
      "127.0.0.1 - - [15/May/2020 12:51:32] \"POST /_dash-update-component HTTP/1.1\" 200 -\n",
      "127.0.0.1 - - [15/May/2020 12:51:33] \"POST /_dash-update-component HTTP/1.1\" 200 -\n",
      "127.0.0.1 - - [15/May/2020 12:51:33] \"POST /_dash-update-component HTTP/1.1\" 200 -\n",
      "127.0.0.1 - - [15/May/2020 12:51:33] \"POST /_dash-update-component HTTP/1.1\" 200 -\n",
      "127.0.0.1 - - [15/May/2020 12:51:33] \"POST /_dash-update-component HTTP/1.1\" 200 -\n",
      "127.0.0.1 - - [15/May/2020 12:51:33] \"POST /_dash-update-component HTTP/1.1\" 200 -\n",
      "127.0.0.1 - - [15/May/2020 12:51:33] \"POST /_dash-update-component HTTP/1.1\" 200 -\n",
      "127.0.0.1 - - [15/May/2020 12:51:33] \"POST /_dash-update-component HTTP/1.1\" 200 -\n",
      "127.0.0.1 - - [15/May/2020 12:51:33] \"POST /_dash-update-component HTTP/1.1\" 200 -\n",
      "127.0.0.1 - - [15/May/2020 12:51:33] \"POST /_dash-update-component HTTP/1.1\" 200 -\n",
      "127.0.0.1 - - [15/May/2020 12:51:33] \"POST /_dash-update-component HTTP/1.1\" 200 -\n",
      "127.0.0.1 - - [15/May/2020 12:51:35] \"POST /_dash-update-component HTTP/1.1\" 200 -\n",
      "127.0.0.1 - - [15/May/2020 12:51:35] \"POST /_dash-update-component HTTP/1.1\" 200 -\n",
      "127.0.0.1 - - [15/May/2020 12:51:35] \"POST /_dash-update-component HTTP/1.1\" 200 -\n"
     ]
    }
   ],
   "source": [
    "db = ExplainerDashboard(explainer,\n",
    "                        model_summary=True,\n",
    "                        contributions=True,\n",
    "                        shap_dependence=True,\n",
    "                        shap_interaction=True,\n",
    "                        decision_trees=True)\n",
    "db.run(8052)"
   ]
  },
  {
   "cell_type": "markdown",
   "metadata": {},
   "source": [
    "# RandomForestRegressor example"
   ]
  },
  {
   "cell_type": "code",
   "execution_count": 54,
   "metadata": {},
   "outputs": [],
   "source": [
    "X_train, y_train, X_test, y_test = titanic_fare()\n",
    "train_names, test_names = titanic_names()\n",
    "\n",
    "model = RandomForestRegressor(n_estimators=50, max_depth=5)\n",
    "model.fit(X_train, y_train)\n",
    "\n",
    "explainer = RandomForestRegressionBunch(model, X_test, y_test, r2_score, \n",
    "                               cats=['Sex', 'Deck', 'Embarked'],\n",
    "                               idxs=test_names, units=\"$\")"
   ]
  },
  {
   "cell_type": "code",
   "execution_count": 68,
   "metadata": {},
   "outputs": [
    {
     "data": {
      "application/vnd.plotly.v1+json": {
       "config": {
        "plotlyServerURL": "https://plot.ly"
       },
       "data": [
        {
         "hoverinfo": "text",
         "orientation": "h",
         "type": "bar",
         "x": [
          0.004281457672706507,
          0.006774277510167392,
          0.031178870777128793,
          0.03180544297974861,
          0.03364846332047225,
          0.1191434730932795,
          0.14025381094212597,
          0.18593341205162195,
          0.18713154523089098,
          0.22940226740041922,
          0.3251294524634358,
          0.86851490858148,
          0.9191091892063841
         ],
         "y": [
          "13. Deck_A",
          "12. Deck_C",
          "11. No_of_siblings_plus_spouses_on_board",
          "10. Embarked_Southamption",
          "9. Embarked_Cherbourg",
          "8. Age",
          "7. No_of_parents_plus_children_on_board",
          "6. No_of_relatives_on_board",
          "5. Survived",
          "4. Deck_Unkown",
          "3. Deck_B",
          "2. PassengerClass",
          "1. Sex_female"
         ]
        }
       ],
       "layout": {
        "height": 460,
        "margin": {
         "b": 50,
         "l": 252,
         "pad": 4,
         "r": 50,
         "t": 50
        },
        "plot_bgcolor": "#fff",
        "showlegend": false,
        "template": {
         "data": {
          "scatter": [
           {
            "type": "scatter"
           }
          ]
         }
        },
        "title": {
         "text": "MEAN_ABS_SHAP"
        },
        "xaxis": {
         "automargin": true
        },
        "yaxis": {
         "automargin": true
        }
       }
      },
      "text/html": [
       "<div>\n",
       "        \n",
       "        \n",
       "            <div id=\"5559fa6c-effb-43df-9d3b-7ce855f5b70e\" class=\"plotly-graph-div\" style=\"height:460px; width:100%;\"></div>\n",
       "            <script type=\"text/javascript\">\n",
       "                require([\"plotly\"], function(Plotly) {\n",
       "                    window.PLOTLYENV=window.PLOTLYENV || {};\n",
       "                    \n",
       "                if (document.getElementById(\"5559fa6c-effb-43df-9d3b-7ce855f5b70e\")) {\n",
       "                    Plotly.newPlot(\n",
       "                        '5559fa6c-effb-43df-9d3b-7ce855f5b70e',\n",
       "                        [{\"hoverinfo\": \"text\", \"orientation\": \"h\", \"type\": \"bar\", \"x\": [0.004281457672706507, 0.006774277510167392, 0.031178870777128793, 0.03180544297974861, 0.03364846332047225, 0.1191434730932795, 0.14025381094212597, 0.18593341205162195, 0.18713154523089098, 0.22940226740041922, 0.3251294524634358, 0.86851490858148, 0.9191091892063841], \"y\": [\"13. Deck_A\", \"12. Deck_C\", \"11. No_of_siblings_plus_spouses_on_board\", \"10. Embarked_Southamption\", \"9. Embarked_Cherbourg\", \"8. Age\", \"7. No_of_parents_plus_children_on_board\", \"6. No_of_relatives_on_board\", \"5. Survived\", \"4. Deck_Unkown\", \"3. Deck_B\", \"2. PassengerClass\", \"1. Sex_female\"]}],\n",
       "                        {\"height\": 460, \"margin\": {\"b\": 50, \"l\": 252, \"pad\": 4, \"r\": 50, \"t\": 50}, \"plot_bgcolor\": \"#fff\", \"showlegend\": false, \"template\": {\"data\": {\"scatter\": [{\"type\": \"scatter\"}]}}, \"title\": {\"text\": \"MEAN_ABS_SHAP\"}, \"xaxis\": {\"automargin\": true}, \"yaxis\": {\"automargin\": true}},\n",
       "                        {\"responsive\": true}\n",
       "                    ).then(function(){\n",
       "                            \n",
       "var gd = document.getElementById('5559fa6c-effb-43df-9d3b-7ce855f5b70e');\n",
       "var x = new MutationObserver(function (mutations, observer) {{\n",
       "        var display = window.getComputedStyle(gd).display;\n",
       "        if (!display || display === 'none') {{\n",
       "            console.log([gd, 'removed!']);\n",
       "            Plotly.purge(gd);\n",
       "            observer.disconnect();\n",
       "        }}\n",
       "}});\n",
       "\n",
       "// Listen for the removal of the full notebook cells\n",
       "var notebookContainer = gd.closest('#notebook-container');\n",
       "if (notebookContainer) {{\n",
       "    x.observe(notebookContainer, {childList: true});\n",
       "}}\n",
       "\n",
       "// Listen for the clearing of the current output cell\n",
       "var outputEl = gd.closest('.output');\n",
       "if (outputEl) {{\n",
       "    x.observe(outputEl, {childList: true});\n",
       "}}\n",
       "\n",
       "                        })\n",
       "                };\n",
       "                });\n",
       "            </script>\n",
       "        </div>"
      ]
     },
     "metadata": {},
     "output_type": "display_data"
    }
   ],
   "source": [
    "explainer.plot_interactions(\"Sex_female\")"
   ]
  },
  {
   "cell_type": "code",
   "execution_count": 57,
   "metadata": {},
   "outputs": [
    {
     "data": {
      "text/plain": [
       "Index(['Survived', 'No_of_relatives_on_board', 'Age', 'PassengerClass',\n",
       "       'No_of_siblings_plus_spouses_on_board',\n",
       "       'No_of_parents_plus_children_on_board', 'Sex_female', 'Sex_male',\n",
       "       'Sex_nan', 'Deck_A', 'Deck_B', 'Deck_C', 'Deck_D', 'Deck_E', 'Deck_F',\n",
       "       'Deck_G', 'Deck_T', 'Deck_Unkown', 'Embarked_Cherbourg',\n",
       "       'Embarked_Queenstown', 'Embarked_Southamption', 'Embarked_Unknown'],\n",
       "      dtype='object')"
      ]
     },
     "execution_count": 57,
     "metadata": {},
     "output_type": "execute_result"
    }
   ],
   "source": [
    "X_train.columns"
   ]
  },
  {
   "cell_type": "code",
   "execution_count": 62,
   "metadata": {},
   "outputs": [
    {
     "data": {
      "text/plain": [
       "int"
      ]
     },
     "execution_count": 62,
     "metadata": {},
     "output_type": "execute_result"
    }
   ],
   "source": [
    "type(int(explainer.random_index()))"
   ]
  },
  {
   "cell_type": "code",
   "execution_count": null,
   "metadata": {},
   "outputs": [],
   "source": [
    "db = ExplainerDashboard(explainer,\n",
    "                        model_summary=True,\n",
    "                        contributions=True,\n",
    "                        shap_dependence=True,\n",
    "                        shap_interaction=True,\n",
    "                        decision_trees=True)\n",
    "db.run(8052)"
   ]
  },
  {
   "cell_type": "code",
   "execution_count": null,
   "metadata": {},
   "outputs": [],
   "source": [
    "\n"
   ]
  },
  {
   "cell_type": "code",
   "execution_count": null,
   "metadata": {},
   "outputs": [],
   "source": [
    "\n"
   ]
  },
  {
   "cell_type": "markdown",
   "metadata": {},
   "source": [
    "# XGBClassifier example"
   ]
  },
  {
   "cell_type": "code",
   "execution_count": null,
   "metadata": {},
   "outputs": [],
   "source": [
    "X_train, y_train, X_test, y_test = titanic_survive()\n",
    "train_names, test_names = titanic_names()\n",
    "\n",
    "xgb_model = XGBClassifier()\n",
    "xgb_model.fit(X_train, y_train)\n",
    "\n",
    "explainer = ClassifierBunch(xgb_model, X_test, y_test, roc_auc_score, shap='tree',\n",
    "                                   cats=['Sex', 'Deck', 'Embarked'],\n",
    "                                   idxs=test_names, #names of passengers \n",
    "                                   labels=['Not survived', 'Survived'])\n",
    "\n",
    "db = ExplainerDashboard(explainer,\n",
    "                        model_summary=True,\n",
    "                        contributions=True,\n",
    "                        shap_dependence=True,\n",
    "                        shap_interaction=False)\n",
    "db.run(8052)"
   ]
  },
  {
   "cell_type": "code",
   "execution_count": null,
   "metadata": {},
   "outputs": [],
   "source": []
  }
 ],
 "metadata": {
  "kernelspec": {
   "display_name": "Python 3",
   "language": "python",
   "name": "python3"
  },
  "language_info": {
   "codemirror_mode": {
    "name": "ipython",
    "version": 3
   },
   "file_extension": ".py",
   "mimetype": "text/x-python",
   "name": "python",
   "nbconvert_exporter": "python",
   "pygments_lexer": "ipython3",
   "version": "3.7.5"
  }
 },
 "nbformat": 4,
 "nbformat_minor": 4
}
