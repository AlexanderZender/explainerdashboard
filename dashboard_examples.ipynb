{
 "cells": [
  {
   "cell_type": "markdown",
   "metadata": {
    "toc": true
   },
   "source": [
    "<h1>Table of Contents<span class=\"tocSkip\"></span></h1>\n",
    "<div class=\"toc\"><ul class=\"toc-item\"><li><span><a href=\"#Google-colab-link:\" data-toc-modified-id=\"Google-colab-link:-1\"><span class=\"toc-item-num\">1&nbsp;&nbsp;</span>Google colab link:</a></span></li><li><span><a href=\"#Set-notebook-properties:\" data-toc-modified-id=\"Set-notebook-properties:-2\"><span class=\"toc-item-num\">2&nbsp;&nbsp;</span>Set notebook properties:</a></span></li><li><span><a href=\"#ClassifierExplainer-examples\" data-toc-modified-id=\"ClassifierExplainer-examples-3\"><span class=\"toc-item-num\">3&nbsp;&nbsp;</span>ClassifierExplainer examples</a></span><ul class=\"toc-item\"><li><span><a href=\"#Load-classifier-data:\" data-toc-modified-id=\"Load-classifier-data:-3.1\"><span class=\"toc-item-num\">3.1&nbsp;&nbsp;</span>Load classifier data:</a></span></li><li><span><a href=\"#One-line-example:\" data-toc-modified-id=\"One-line-example:-3.2\"><span class=\"toc-item-num\">3.2&nbsp;&nbsp;</span>One line example:</a></span></li><li><span><a href=\"#Multi-line-example\" data-toc-modified-id=\"Multi-line-example-3.3\"><span class=\"toc-item-num\">3.3&nbsp;&nbsp;</span>Multi line example</a></span><ul class=\"toc-item\"><li><span><a href=\"#Run-on-specific-port\" data-toc-modified-id=\"Run-on-specific-port-3.3.1\"><span class=\"toc-item-num\">3.3.1&nbsp;&nbsp;</span>Run on specific port</a></span></li><li><span><a href=\"#Switch-on/off-specific-tabs-(+add-title)\" data-toc-modified-id=\"Switch-on/off-specific-tabs-(+add-title)-3.3.2\"><span class=\"toc-item-num\">3.3.2&nbsp;&nbsp;</span>Switch on/off specific tabs (+add title)</a></span></li><li><span><a href=\"#cats,-idxs,-descriptions,-labels\" data-toc-modified-id=\"cats,-idxs,-descriptions,-labels-3.3.3\"><span class=\"toc-item-num\">3.3.3&nbsp;&nbsp;</span>cats, idxs, descriptions, labels</a></span></li><li><span><a href=\"#X_background,-model_output-and-shap\" data-toc-modified-id=\"X_background,-model_output-and-shap-3.3.4\"><span class=\"toc-item-num\">3.3.4&nbsp;&nbsp;</span>X_background, model_output and shap</a></span></li></ul></li></ul></li><li><span><a href=\"#mode='inline',-'jupyterlab',-'external'\" data-toc-modified-id=\"mode='inline',-'jupyterlab',-'external'-4\"><span class=\"toc-item-num\">4&nbsp;&nbsp;</span>mode='inline', 'jupyterlab', 'external'</a></span><ul class=\"toc-item\"><li><span><a href=\"#mode='inline'\" data-toc-modified-id=\"mode='inline'-4.1\"><span class=\"toc-item-num\">4.1&nbsp;&nbsp;</span>mode='inline'</a></span></li><li><span><a href=\"#Display-a-single-tab\" data-toc-modified-id=\"Display-a-single-tab-4.2\"><span class=\"toc-item-num\">4.2&nbsp;&nbsp;</span>Display a single tab</a></span></li><li><span><a href=\"#InlineExplainer\" data-toc-modified-id=\"InlineExplainer-4.3\"><span class=\"toc-item-num\">4.3&nbsp;&nbsp;</span>InlineExplainer</a></span></li><li><span><a href=\"#Terminating-'inline',-'jupyterlab'-or-'external'-dashboard\" data-toc-modified-id=\"Terminating-'inline',-'jupyterlab'-or-'external'-dashboard-4.4\"><span class=\"toc-item-num\">4.4&nbsp;&nbsp;</span>Terminating 'inline', 'jupyterlab' or 'external' dashboard</a></span></li></ul></li><li><span><a href=\"#XGBClassifier,-LGBMClassifier,-CatBoostClassifier\" data-toc-modified-id=\"XGBClassifier,-LGBMClassifier,-CatBoostClassifier-5\"><span class=\"toc-item-num\">5&nbsp;&nbsp;</span>XGBClassifier, LGBMClassifier, CatBoostClassifier</a></span></li><li><span><a href=\"#RegressionExplainer\" data-toc-modified-id=\"RegressionExplainer-6\"><span class=\"toc-item-num\">6&nbsp;&nbsp;</span>RegressionExplainer</a></span><ul class=\"toc-item\"><li><span><a href=\"#Load-regression-data:\" data-toc-modified-id=\"Load-regression-data:-6.1\"><span class=\"toc-item-num\">6.1&nbsp;&nbsp;</span>Load regression data:</a></span></li><li><span><a href=\"#Adding-units-of-target\" data-toc-modified-id=\"Adding-units-of-target-6.2\"><span class=\"toc-item-num\">6.2&nbsp;&nbsp;</span>Adding units of target</a></span></li><li><span><a href=\"#LGBMRegressor,-LinearRegression,-CatBoostRegressor,-XGBRegressor\" data-toc-modified-id=\"LGBMRegressor,-LinearRegression,-CatBoostRegressor,-XGBRegressor-6.3\"><span class=\"toc-item-num\">6.3&nbsp;&nbsp;</span>LGBMRegressor, LinearRegression, CatBoostRegressor, XGBRegressor</a></span></li></ul></li><li><span><a href=\"#Multiclass-Classifiers\" data-toc-modified-id=\"Multiclass-Classifiers-7\"><span class=\"toc-item-num\">7&nbsp;&nbsp;</span>Multiclass Classifiers</a></span></li></ul></div>"
   ]
  },
  {
   "cell_type": "markdown",
   "metadata": {},
   "source": [
    "# Google colab link:\n",
    "\n",
    "[https://colab.research.google.com/github/oegedijk/explainerdashboard/blob/master/dashboard_examples.ipynb](https://colab.research.google.com/github/oegedijk/explainerdashboard/blob/master/dashboard_examples.ipynb)"
   ]
  },
  {
   "cell_type": "markdown",
   "metadata": {
    "ExecuteTime": {
     "end_time": "2020-10-01T09:06:26.294359Z",
     "start_time": "2020-10-01T09:06:26.289751Z"
    }
   },
   "source": [
    "Uncomment to install explainerdashboard:"
   ]
  },
  {
   "cell_type": "code",
   "execution_count": 1,
   "metadata": {
    "ExecuteTime": {
     "end_time": "2020-10-12T08:50:52.449203Z",
     "start_time": "2020-10-12T08:50:52.437808Z"
    }
   },
   "outputs": [],
   "source": [
    "#!pip install explainerdashboard"
   ]
  },
  {
   "cell_type": "markdown",
   "metadata": {},
   "source": [
    "# Set notebook properties:"
   ]
  },
  {
   "cell_type": "code",
   "execution_count": 3,
   "metadata": {
    "ExecuteTime": {
     "end_time": "2020-10-12T08:51:31.129900Z",
     "start_time": "2020-10-12T08:51:31.126379Z"
    }
   },
   "outputs": [],
   "source": [
    "from IPython.core.interactiveshell import InteractiveShell\n",
    "InteractiveShell.ast_node_interactivity = \"all\""
   ]
  },
  {
   "cell_type": "markdown",
   "metadata": {},
   "source": [
    "# ClassifierExplainer examples"
   ]
  },
  {
   "cell_type": "markdown",
   "metadata": {},
   "source": [
    "## Load classifier data:\n",
    "    - predicting probability that a person on the titanic survived"
   ]
  },
  {
   "cell_type": "code",
   "execution_count": 4,
   "metadata": {
    "ExecuteTime": {
     "end_time": "2020-10-12T08:51:59.625174Z",
     "start_time": "2020-10-12T08:51:57.762086Z"
    }
   },
   "outputs": [],
   "source": [
    "from explainerdashboard.datasets import titanic_survive, titanic_names"
   ]
  },
  {
   "cell_type": "code",
   "execution_count": 5,
   "metadata": {
    "ExecuteTime": {
     "end_time": "2020-10-12T08:52:00.388797Z",
     "start_time": "2020-10-12T08:52:00.376885Z"
    }
   },
   "outputs": [],
   "source": [
    "X_train, y_train, X_test, y_test = titanic_survive()\n",
    "train_names, test_names = titanic_names()"
   ]
  },
  {
   "cell_type": "code",
   "execution_count": 6,
   "metadata": {
    "ExecuteTime": {
     "end_time": "2020-10-12T08:52:01.026553Z",
     "start_time": "2020-10-12T08:52:00.995125Z"
    }
   },
   "outputs": [
    {
     "data": {
      "text/html": [
       "<div>\n",
       "<style scoped>\n",
       "    .dataframe tbody tr th:only-of-type {\n",
       "        vertical-align: middle;\n",
       "    }\n",
       "\n",
       "    .dataframe tbody tr th {\n",
       "        vertical-align: top;\n",
       "    }\n",
       "\n",
       "    .dataframe thead th {\n",
       "        text-align: right;\n",
       "    }\n",
       "</style>\n",
       "<table border=\"1\" class=\"dataframe\">\n",
       "  <thead>\n",
       "    <tr style=\"text-align: right;\">\n",
       "      <th></th>\n",
       "      <th>Fare</th>\n",
       "      <th>No_of_relatives_on_board</th>\n",
       "      <th>Age</th>\n",
       "      <th>PassengerClass</th>\n",
       "      <th>No_of_siblings_plus_spouses_on_board</th>\n",
       "      <th>No_of_parents_plus_children_on_board</th>\n",
       "      <th>Sex_female</th>\n",
       "      <th>Sex_male</th>\n",
       "      <th>Sex_nan</th>\n",
       "      <th>Deck_A</th>\n",
       "      <th>...</th>\n",
       "      <th>Deck_D</th>\n",
       "      <th>Deck_E</th>\n",
       "      <th>Deck_F</th>\n",
       "      <th>Deck_G</th>\n",
       "      <th>Deck_T</th>\n",
       "      <th>Deck_Unkown</th>\n",
       "      <th>Embarked_Cherbourg</th>\n",
       "      <th>Embarked_Queenstown</th>\n",
       "      <th>Embarked_Southampton</th>\n",
       "      <th>Embarked_Unknown</th>\n",
       "    </tr>\n",
       "  </thead>\n",
       "  <tbody>\n",
       "    <tr>\n",
       "      <th>0</th>\n",
       "      <td>7.2500</td>\n",
       "      <td>1</td>\n",
       "      <td>22.0</td>\n",
       "      <td>3</td>\n",
       "      <td>1</td>\n",
       "      <td>0</td>\n",
       "      <td>0</td>\n",
       "      <td>1</td>\n",
       "      <td>0</td>\n",
       "      <td>0</td>\n",
       "      <td>...</td>\n",
       "      <td>0</td>\n",
       "      <td>0</td>\n",
       "      <td>0</td>\n",
       "      <td>0</td>\n",
       "      <td>0</td>\n",
       "      <td>1</td>\n",
       "      <td>0</td>\n",
       "      <td>0</td>\n",
       "      <td>1</td>\n",
       "      <td>0</td>\n",
       "    </tr>\n",
       "    <tr>\n",
       "      <th>1</th>\n",
       "      <td>7.9250</td>\n",
       "      <td>0</td>\n",
       "      <td>26.0</td>\n",
       "      <td>3</td>\n",
       "      <td>0</td>\n",
       "      <td>0</td>\n",
       "      <td>1</td>\n",
       "      <td>0</td>\n",
       "      <td>0</td>\n",
       "      <td>0</td>\n",
       "      <td>...</td>\n",
       "      <td>0</td>\n",
       "      <td>0</td>\n",
       "      <td>0</td>\n",
       "      <td>0</td>\n",
       "      <td>0</td>\n",
       "      <td>1</td>\n",
       "      <td>0</td>\n",
       "      <td>0</td>\n",
       "      <td>1</td>\n",
       "      <td>0</td>\n",
       "    </tr>\n",
       "    <tr>\n",
       "      <th>2</th>\n",
       "      <td>8.0500</td>\n",
       "      <td>0</td>\n",
       "      <td>35.0</td>\n",
       "      <td>3</td>\n",
       "      <td>0</td>\n",
       "      <td>0</td>\n",
       "      <td>0</td>\n",
       "      <td>1</td>\n",
       "      <td>0</td>\n",
       "      <td>0</td>\n",
       "      <td>...</td>\n",
       "      <td>0</td>\n",
       "      <td>0</td>\n",
       "      <td>0</td>\n",
       "      <td>0</td>\n",
       "      <td>0</td>\n",
       "      <td>1</td>\n",
       "      <td>0</td>\n",
       "      <td>0</td>\n",
       "      <td>1</td>\n",
       "      <td>0</td>\n",
       "    </tr>\n",
       "    <tr>\n",
       "      <th>3</th>\n",
       "      <td>8.4583</td>\n",
       "      <td>0</td>\n",
       "      <td>-999.0</td>\n",
       "      <td>3</td>\n",
       "      <td>0</td>\n",
       "      <td>0</td>\n",
       "      <td>0</td>\n",
       "      <td>1</td>\n",
       "      <td>0</td>\n",
       "      <td>0</td>\n",
       "      <td>...</td>\n",
       "      <td>0</td>\n",
       "      <td>0</td>\n",
       "      <td>0</td>\n",
       "      <td>0</td>\n",
       "      <td>0</td>\n",
       "      <td>1</td>\n",
       "      <td>0</td>\n",
       "      <td>1</td>\n",
       "      <td>0</td>\n",
       "      <td>0</td>\n",
       "    </tr>\n",
       "    <tr>\n",
       "      <th>4</th>\n",
       "      <td>51.8625</td>\n",
       "      <td>0</td>\n",
       "      <td>54.0</td>\n",
       "      <td>1</td>\n",
       "      <td>0</td>\n",
       "      <td>0</td>\n",
       "      <td>0</td>\n",
       "      <td>1</td>\n",
       "      <td>0</td>\n",
       "      <td>0</td>\n",
       "      <td>...</td>\n",
       "      <td>0</td>\n",
       "      <td>1</td>\n",
       "      <td>0</td>\n",
       "      <td>0</td>\n",
       "      <td>0</td>\n",
       "      <td>0</td>\n",
       "      <td>0</td>\n",
       "      <td>0</td>\n",
       "      <td>1</td>\n",
       "      <td>0</td>\n",
       "    </tr>\n",
       "  </tbody>\n",
       "</table>\n",
       "<p>5 rows × 22 columns</p>\n",
       "</div>"
      ],
      "text/plain": [
       "      Fare  No_of_relatives_on_board    Age  PassengerClass  \\\n",
       "0   7.2500                         1   22.0               3   \n",
       "1   7.9250                         0   26.0               3   \n",
       "2   8.0500                         0   35.0               3   \n",
       "3   8.4583                         0 -999.0               3   \n",
       "4  51.8625                         0   54.0               1   \n",
       "\n",
       "   No_of_siblings_plus_spouses_on_board  No_of_parents_plus_children_on_board  \\\n",
       "0                                     1                                     0   \n",
       "1                                     0                                     0   \n",
       "2                                     0                                     0   \n",
       "3                                     0                                     0   \n",
       "4                                     0                                     0   \n",
       "\n",
       "   Sex_female  Sex_male  Sex_nan  Deck_A  ...  Deck_D  Deck_E  Deck_F  Deck_G  \\\n",
       "0           0         1        0       0  ...       0       0       0       0   \n",
       "1           1         0        0       0  ...       0       0       0       0   \n",
       "2           0         1        0       0  ...       0       0       0       0   \n",
       "3           0         1        0       0  ...       0       0       0       0   \n",
       "4           0         1        0       0  ...       0       1       0       0   \n",
       "\n",
       "   Deck_T  Deck_Unkown  Embarked_Cherbourg  Embarked_Queenstown  \\\n",
       "0       0            1                   0                    0   \n",
       "1       0            1                   0                    0   \n",
       "2       0            1                   0                    0   \n",
       "3       0            1                   0                    1   \n",
       "4       0            0                   0                    0   \n",
       "\n",
       "   Embarked_Southampton  Embarked_Unknown  \n",
       "0                     1                 0  \n",
       "1                     1                 0  \n",
       "2                     1                 0  \n",
       "3                     0                 0  \n",
       "4                     1                 0  \n",
       "\n",
       "[5 rows x 22 columns]"
      ]
     },
     "execution_count": 6,
     "metadata": {},
     "output_type": "execute_result"
    }
   ],
   "source": [
    "X_train.head()"
   ]
  },
  {
   "cell_type": "markdown",
   "metadata": {},
   "source": [
    "We'll use the passenger names later as idxs for the Explainer, such that they get displayed on the contributions tab of the dashboard, and you can also use them to pass as an index into various methods:"
   ]
  },
  {
   "cell_type": "code",
   "execution_count": 7,
   "metadata": {
    "ExecuteTime": {
     "end_time": "2020-10-12T08:52:02.245423Z",
     "start_time": "2020-10-12T08:52:02.241935Z"
    }
   },
   "outputs": [
    {
     "data": {
      "text/plain": [
       "['Braund, Mr. Owen Harris',\n",
       " 'Heikkinen, Miss. Laina',\n",
       " 'Allen, Mr. William Henry',\n",
       " 'Moran, Mr. James',\n",
       " 'McCarthy, Mr. Timothy J']"
      ]
     },
     "execution_count": 7,
     "metadata": {},
     "output_type": "execute_result"
    }
   ],
   "source": [
    "train_names[:5]"
   ]
  },
  {
   "cell_type": "markdown",
   "metadata": {},
   "source": [
    "## One line example:\n",
    "- click on the link (http://localhost:8050) to go to the dashboard\n",
    "- Interrupt the kernel to stop the dashboard"
   ]
  },
  {
   "cell_type": "code",
   "execution_count": 8,
   "metadata": {
    "ExecuteTime": {
     "end_time": "2020-10-12T08:52:22.280342Z",
     "start_time": "2020-10-12T08:52:22.276345Z"
    }
   },
   "outputs": [],
   "source": [
    "from sklearn.ensemble import RandomForestClassifier\n",
    "from explainerdashboard import ClassifierExplainer, ExplainerDashboard"
   ]
  },
  {
   "cell_type": "code",
   "execution_count": 9,
   "metadata": {
    "ExecuteTime": {
     "end_time": "2020-10-12T08:53:08.224924Z",
     "start_time": "2020-10-12T08:52:23.318157Z"
    }
   },
   "outputs": [
    {
     "name": "stdout",
     "output_type": "stream",
     "text": [
      "Note: shap=='guess' so guessing for RandomForestClassifier shap='tree'...\n",
      "Note: model_output=='probability', so assuming that raw shap output of RandomForestClassifier is in probability space...\n",
      "Generating self.shap_explainer = shap.TreeExplainer(model)\n",
      "Detected RandomForestClassifier model: Changing class type to RandomForestClassifierExplainer...\n",
      "Building ExplainerDashboard..\n",
      "Detected notebook environment, consider setting mode='external', mode='inline' or mode='jupyterlab'...\n",
      "Generating ShadowDecTree for each individual decision tree...\n",
      "Generating layout...\n",
      "Calculating shap values...\n",
      "Calculating dependencies...\n",
      "Calculating permutation importances (if slow, try setting n_jobs parameter)...\n",
      "Calculating categorical permutation importances (if slow, try setting n_jobs parameter)...\n",
      "Calculating predictions...\n",
      "Calculating prediction probabilities...\n",
      "Calculating pred_percentiles...\n",
      "Calculating shap interaction values...\n",
      "Registering callbacks...\n",
      "Starting ExplainerDashboard on http://localhost:8050\n",
      "Dash is running on http://127.0.0.1:8050/\n",
      "\n",
      " * Serving Flask app \"explainerdashboard.dashboards\" (lazy loading)\n",
      " * Environment: production\n",
      "\u001b[31m   WARNING: This is a development server. Do not use it in a production deployment.\u001b[0m\n",
      "\u001b[2m   Use a production WSGI server instead.\u001b[0m\n",
      " * Debug mode: off\n"
     ]
    },
    {
     "name": "stderr",
     "output_type": "stream",
     "text": [
      " * Running on http://127.0.0.1:8050/ (Press CTRL+C to quit)\n",
      "127.0.0.1 - - [12/Oct/2020 10:52:57] \"\u001b[37mGET / HTTP/1.1\u001b[0m\" 200 -\n",
      "127.0.0.1 - - [12/Oct/2020 10:52:58] \"\u001b[37mGET /_dash-dependencies HTTP/1.1\u001b[0m\" 200 -\n",
      "127.0.0.1 - - [12/Oct/2020 10:52:58] \"\u001b[37mGET /_dash-layout HTTP/1.1\u001b[0m\" 200 -\n",
      "127.0.0.1 - - [12/Oct/2020 10:52:58] \"\u001b[37mPOST /_dash-update-component HTTP/1.1\u001b[0m\" 200 -\n",
      "127.0.0.1 - - [12/Oct/2020 10:52:58] \"\u001b[37mPOST /_dash-update-component HTTP/1.1\u001b[0m\" 200 -\n",
      "127.0.0.1 - - [12/Oct/2020 10:52:58] \"\u001b[37mPOST /_dash-update-component HTTP/1.1\u001b[0m\" 200 -\n",
      "127.0.0.1 - - [12/Oct/2020 10:52:58] \"\u001b[37mPOST /_dash-update-component HTTP/1.1\u001b[0m\" 200 -\n",
      "127.0.0.1 - - [12/Oct/2020 10:52:59] \"\u001b[37mPOST /_dash-update-component HTTP/1.1\u001b[0m\" 200 -\n",
      "127.0.0.1 - - [12/Oct/2020 10:52:59] \"\u001b[37mPOST /_dash-update-component HTTP/1.1\u001b[0m\" 200 -\n",
      "127.0.0.1 - - [12/Oct/2020 10:52:59] \"\u001b[37mPOST /_dash-update-component HTTP/1.1\u001b[0m\" 200 -\n",
      "127.0.0.1 - - [12/Oct/2020 10:52:59] \"\u001b[37mPOST /_dash-update-component HTTP/1.1\u001b[0m\" 200 -\n",
      "127.0.0.1 - - [12/Oct/2020 10:52:59] \"\u001b[37mPOST /_dash-update-component HTTP/1.1\u001b[0m\" 200 -\n",
      "127.0.0.1 - - [12/Oct/2020 10:52:59] \"\u001b[37mPOST /_dash-update-component HTTP/1.1\u001b[0m\" 200 -\n",
      "127.0.0.1 - - [12/Oct/2020 10:52:59] \"\u001b[37mPOST /_dash-update-component HTTP/1.1\u001b[0m\" 200 -\n",
      "127.0.0.1 - - [12/Oct/2020 10:52:59] \"\u001b[37mPOST /_dash-update-component HTTP/1.1\u001b[0m\" 204 -\n",
      "127.0.0.1 - - [12/Oct/2020 10:52:59] \"\u001b[37mPOST /_dash-update-component HTTP/1.1\u001b[0m\" 204 -\n",
      "127.0.0.1 - - [12/Oct/2020 10:52:59] \"\u001b[37mPOST /_dash-update-component HTTP/1.1\u001b[0m\" 204 -\n",
      "127.0.0.1 - - [12/Oct/2020 10:52:59] \"\u001b[37mPOST /_dash-update-component HTTP/1.1\u001b[0m\" 204 -\n",
      "127.0.0.1 - - [12/Oct/2020 10:52:59] \"\u001b[37mPOST /_dash-update-component HTTP/1.1\u001b[0m\" 200 -\n",
      "127.0.0.1 - - [12/Oct/2020 10:52:59] \"\u001b[37mPOST /_dash-update-component HTTP/1.1\u001b[0m\" 204 -\n",
      "127.0.0.1 - - [12/Oct/2020 10:52:59] \"\u001b[37mPOST /_dash-update-component HTTP/1.1\u001b[0m\" 204 -\n",
      "127.0.0.1 - - [12/Oct/2020 10:52:59] \"\u001b[37mPOST /_dash-update-component HTTP/1.1\u001b[0m\" 200 -\n",
      "127.0.0.1 - - [12/Oct/2020 10:52:59] \"\u001b[37mPOST /_dash-update-component HTTP/1.1\u001b[0m\" 200 -\n",
      "127.0.0.1 - - [12/Oct/2020 10:52:59] \"\u001b[37mPOST /_dash-update-component HTTP/1.1\u001b[0m\" 200 -\n",
      "127.0.0.1 - - [12/Oct/2020 10:52:59] \"\u001b[37mPOST /_dash-update-component HTTP/1.1\u001b[0m\" 200 -\n",
      "127.0.0.1 - - [12/Oct/2020 10:52:59] \"\u001b[37mPOST /_dash-update-component HTTP/1.1\u001b[0m\" 200 -\n",
      "127.0.0.1 - - [12/Oct/2020 10:52:59] \"\u001b[37mPOST /_dash-update-component HTTP/1.1\u001b[0m\" 200 -\n",
      "127.0.0.1 - - [12/Oct/2020 10:52:59] \"\u001b[37mPOST /_dash-update-component HTTP/1.1\u001b[0m\" 200 -\n",
      "127.0.0.1 - - [12/Oct/2020 10:52:59] \"\u001b[37mPOST /_dash-update-component HTTP/1.1\u001b[0m\" 200 -\n",
      "127.0.0.1 - - [12/Oct/2020 10:52:59] \"\u001b[37mPOST /_dash-update-component HTTP/1.1\u001b[0m\" 200 -\n",
      "127.0.0.1 - - [12/Oct/2020 10:52:59] \"\u001b[37mPOST /_dash-update-component HTTP/1.1\u001b[0m\" 200 -\n",
      "127.0.0.1 - - [12/Oct/2020 10:52:59] \"\u001b[37mPOST /_dash-update-component HTTP/1.1\u001b[0m\" 200 -\n",
      "127.0.0.1 - - [12/Oct/2020 10:52:59] \"\u001b[37mPOST /_dash-update-component HTTP/1.1\u001b[0m\" 200 -\n",
      "127.0.0.1 - - [12/Oct/2020 10:52:59] \"\u001b[37mPOST /_dash-update-component HTTP/1.1\u001b[0m\" 200 -\n",
      "127.0.0.1 - - [12/Oct/2020 10:52:59] \"\u001b[37mPOST /_dash-update-component HTTP/1.1\u001b[0m\" 200 -\n",
      "127.0.0.1 - - [12/Oct/2020 10:52:59] \"\u001b[37mPOST /_dash-update-component HTTP/1.1\u001b[0m\" 200 -\n",
      "127.0.0.1 - - [12/Oct/2020 10:53:00] \"\u001b[37mPOST /_dash-update-component HTTP/1.1\u001b[0m\" 204 -\n",
      "127.0.0.1 - - [12/Oct/2020 10:53:00] \"\u001b[37mPOST /_dash-update-component HTTP/1.1\u001b[0m\" 200 -\n",
      "127.0.0.1 - - [12/Oct/2020 10:53:00] \"\u001b[37mPOST /_dash-update-component HTTP/1.1\u001b[0m\" 200 -\n",
      "127.0.0.1 - - [12/Oct/2020 10:53:00] \"\u001b[37mPOST /_dash-update-component HTTP/1.1\u001b[0m\" 200 -\n",
      "127.0.0.1 - - [12/Oct/2020 10:53:00] \"\u001b[37mPOST /_dash-update-component HTTP/1.1\u001b[0m\" 200 -\n",
      "127.0.0.1 - - [12/Oct/2020 10:53:00] \"\u001b[37mPOST /_dash-update-component HTTP/1.1\u001b[0m\" 200 -\n",
      "127.0.0.1 - - [12/Oct/2020 10:53:00] \"\u001b[37mPOST /_dash-update-component HTTP/1.1\u001b[0m\" 200 -\n",
      "127.0.0.1 - - [12/Oct/2020 10:53:00] \"\u001b[37mPOST /_dash-update-component HTTP/1.1\u001b[0m\" 200 -\n",
      "127.0.0.1 - - [12/Oct/2020 10:53:00] \"\u001b[37mPOST /_dash-update-component HTTP/1.1\u001b[0m\" 200 -\n",
      "127.0.0.1 - - [12/Oct/2020 10:53:00] \"\u001b[37mPOST /_dash-update-component HTTP/1.1\u001b[0m\" 200 -\n",
      "127.0.0.1 - - [12/Oct/2020 10:53:00] \"\u001b[37mPOST /_dash-update-component HTTP/1.1\u001b[0m\" 200 -\n",
      "127.0.0.1 - - [12/Oct/2020 10:53:00] \"\u001b[37mPOST /_dash-update-component HTTP/1.1\u001b[0m\" 200 -\n",
      "127.0.0.1 - - [12/Oct/2020 10:53:00] \"\u001b[37mPOST /_dash-update-component HTTP/1.1\u001b[0m\" 200 -\n",
      "127.0.0.1 - - [12/Oct/2020 10:53:00] \"\u001b[37mPOST /_dash-update-component HTTP/1.1\u001b[0m\" 200 -\n"
     ]
    }
   ],
   "source": [
    "ExplainerDashboard(ClassifierExplainer(RandomForestClassifier().fit(X_train, y_train), X_test, y_test)).run()"
   ]
  },
  {
   "cell_type": "markdown",
   "metadata": {},
   "source": [
    "## Multi line example\n",
    "- create an explainer object out the model and the X and y that you wish to display.\n",
    "- the explainer object calculates shap values, permutation importances, pdp's, etc, and provides all kinds of plots that will be used by the ExplainerDashboard object"
   ]
  },
  {
   "cell_type": "code",
   "execution_count": 13,
   "metadata": {
    "ExecuteTime": {
     "end_time": "2020-10-12T08:58:31.079080Z",
     "start_time": "2020-10-12T08:58:30.975819Z"
    }
   },
   "outputs": [
    {
     "data": {
      "text/plain": [
       "RandomForestClassifier(max_depth=5, n_estimators=50)"
      ]
     },
     "execution_count": 13,
     "metadata": {},
     "output_type": "execute_result"
    },
    {
     "name": "stdout",
     "output_type": "stream",
     "text": [
      "Note: shap=='guess' so guessing for RandomForestClassifier shap='tree'...\n",
      "Note: model_output=='probability', so assuming that raw shap output of RandomForestClassifier is in probability space...\n",
      "Generating self.shap_explainer = shap.TreeExplainer(model)\n",
      "Detected RandomForestClassifier model: Changing class type to RandomForestClassifierExplainer...\n"
     ]
    }
   ],
   "source": [
    "model = RandomForestClassifier(n_estimators=50, max_depth=5)\n",
    "model.fit(X_train, y_train)\n",
    "\n",
    "explainer = ClassifierExplainer(model, X_test, y_test)"
   ]
  },
  {
   "cell_type": "markdown",
   "metadata": {},
   "source": [
    "Now create an ExplainerDashboard instance out of the explainer instance:\n",
    "- depending on which tabs are included, all necessary calculations (shap values, importances, etc) get done up front"
   ]
  },
  {
   "cell_type": "code",
   "execution_count": null,
   "metadata": {},
   "outputs": [],
   "source": [
    "db = ExplainerDashboard(explainer)"
   ]
  },
  {
   "cell_type": "markdown",
   "metadata": {},
   "source": [
    "And run the dashboard on the default port (=8050):"
   ]
  },
  {
   "cell_type": "code",
   "execution_count": null,
   "metadata": {},
   "outputs": [],
   "source": [
    "db.run()"
   ]
  },
  {
   "cell_type": "markdown",
   "metadata": {},
   "source": [
    "Or on another port, e.g. port 8051:"
   ]
  },
  {
   "cell_type": "markdown",
   "metadata": {},
   "source": [
    "### Run on specific port"
   ]
  },
  {
   "cell_type": "code",
   "execution_count": null,
   "metadata": {},
   "outputs": [],
   "source": [
    "db.run(8051)"
   ]
  },
  {
   "cell_type": "markdown",
   "metadata": {},
   "source": [
    "### Switch on/off specific tabs (+add title)"
   ]
  },
  {
   "cell_type": "markdown",
   "metadata": {},
   "source": [
    "By default all the tabs that should work are displayed, exceptions:\n",
    "- shap_interaction tab is disabled when model doesn't support shap interaction values\n",
    "    - e.g. linear models, or when calculating shap values in probability space for gradient boosting models\n",
    "- **Depending on your model and data calculating shap interaction values may be slow, so in that case switch off the interactions tab manually!**\n",
    "- decision_trees tab is disabled unless explainer is RandomForestClassifierExplainer or RandomForestRegressionExplainer\n",
    "\n",
    "- You can also manually switch tabs on or off with booleans, as shown below:"
   ]
  },
  {
   "cell_type": "code",
   "execution_count": null,
   "metadata": {},
   "outputs": [],
   "source": [
    "ExplainerDashboard(explainer, title=\"Titanic Explainer\",\n",
    "                        importances=False,\n",
    "                        model_summary=True,  \n",
    "                        contributions=False,\n",
    "                        whatif=True,\n",
    "                        shap_dependence=False,\n",
    "                        shap_interaction=False,\n",
    "                        decision_trees=False).run()"
   ]
  },
  {
   "cell_type": "markdown",
   "metadata": {},
   "source": [
    "### cats, idxs, descriptions, labels\n",
    "\n",
    "You can make the dashboard a bit more user friendly by passing in some additional information about the variables in the model:\n",
    "\n",
    "- `cats`: If you have onehotencoded some variables, you get a lot of shap values for binary features that are either 0 or 1, which are hard to interpret as a whole. \n",
    "    - However, given that shap values are additive, we can sum them up and give a single shap value for the onehotencoded variables! \n",
    "    - Furthermore, we can use different types of default plots for categorical variables than continuous ones. \n",
    "    - By passing a list of variables that have been encoded with `varname_category` `explainerdashboard` will allow you to group the cats and show appropriate plots\n",
    "    - In our sample dataset this would be:\n",
    "        - `Sex`: `Sex_female`, `Sex_male` \n",
    "        - `Deck`: `Deck_A`, `Deck_B`, etc\n",
    "        - `Embarked`: `Embarked_Southampton`, `Embarked_Cherbourg`, etc\n",
    "- `idxs`: You may have specific identifiers (names, customer id's, etc) for each row in your dataset.\n",
    "    - If you pass these the the Explainer object, you can index using both the numerical index, e.g. `explainer.contrib_df(0)` for the first row, or using the identifier, e.g. `explainer.contrib_df(\"Braund, Mr. Owen Harris\")` \n",
    "    - The proper name or id will also be displayed and searchable on the contributions tab\n",
    "- `descriptions`: a dictionary of descriptions for each variable.\n",
    "    - In order to be explanatory, you often have to explain the meaning of the features themselves (especially if the naming is not obvious)\n",
    "    - Passing the dict along to `descriptions` will show hover-over tooltips for the various variables in the dashboard\n",
    "- `target`: the name of the target variable to be displayed, e.g. `Survival` or `Fare`.\n",
    "- `labels`: The outcome variables for a classification problem are assumed to be encoded 0, 1 (, 2, 3, ...)\n",
    "    - This is not very human readable, so you can pass a list of human readable labels"
   ]
  },
  {
   "cell_type": "code",
   "execution_count": 10,
   "metadata": {
    "ExecuteTime": {
     "end_time": "2020-10-12T08:55:18.240677Z",
     "start_time": "2020-10-12T08:55:18.236782Z"
    }
   },
   "outputs": [
    {
     "data": {
      "text/plain": [
       "{'Sex': 'Gender of passenger',\n",
       " 'Deck': 'The deck the passenger had their cabin on',\n",
       " 'PassengerClass': 'The class of the ticket: 1st, 2nd or 3rd class',\n",
       " 'Fare': 'The amount of money people paid',\n",
       " 'No_of_relatives_on_board': 'number of siblings, spouses, parents plus children on board',\n",
       " 'Embarked': 'the port where the passenger boarded the Titanic. Either Southampton, Cherbourg or Queenstown',\n",
       " 'Age': 'Age of the passenger',\n",
       " 'No_of_siblings_plus_spouses_on_board': 'The sum of the number of siblings plus the number of spouses on board',\n",
       " 'No_of_parents_plus_children_on_board': 'The sum of the number of parents plus the number of children on board'}"
      ]
     },
     "execution_count": 10,
     "metadata": {},
     "output_type": "execute_result"
    }
   ],
   "source": [
    "from explainerdashboard.datasets import feature_descriptions\n",
    "\n",
    "feature_descriptions"
   ]
  },
  {
   "cell_type": "code",
   "execution_count": null,
   "metadata": {},
   "outputs": [],
   "source": [
    "explainer = ClassifierExplainer(model, X_test, y_test,\n",
    "                               cats=['Sex', 'Deck', 'Embarked'], # makes it easy to group onehotencoded vars\n",
    "                               idxs=test_names, #names of passengers # index by name\n",
    "                               descriptions=feature_descriptions, # show feature descriptions in plots\n",
    "                               target='Survival',\n",
    "                               labels=['Not survived', 'Survived']) # show nice labels\n",
    "ExplainerDashboard(explainer).run()"
   ]
  },
  {
   "cell_type": "markdown",
   "metadata": {},
   "source": [
    "### X_background, model_output and shap\n",
    "- `X_background`: \n",
    "    - Some models like LogisticRegression (as well as certain gradienst boosting algorithms in probability space) need a background dataset to calculate shap values. These can be passed as `X_background`.\n",
    "    - If you don't pass an `X_background`, Explainer uses X instead but gives off a warning.\n",
    "- `model_output`: \n",
    "    - By default model_output for classifier is set to \"probability\", as this is more intuitively explainable to non data scientist stakeholders\n",
    "    - However for certain models (e.g. XGBClassifier, LGBMCLassifier, CatBoostClassifier), need a background dataset X_background to calculate shap values in probability space, and are not able to calculate shap interaction values.\n",
    "    - Therefore you can also pass `model_output='logodds'`, in which case shap values get calculated as logodds\n",
    "- `shap`:\n",
    "    - By default `shap='guess'`, which means that the Explainer will try to guess based on the model what kind of shap explainer it needs: e.g. `shap.TreeExplainer(...)`, `shap.LinearExplainer(...)`, etc.\n",
    "    - In case the guess fails or you'd like to override it, you can set it manually:\n",
    "        - e.g. `shap='tree'`, `shap='linear'`, `shap='kernel'`, `shap='deep'` "
   ]
  },
  {
   "cell_type": "code",
   "execution_count": null,
   "metadata": {},
   "outputs": [],
   "source": [
    "from sklearn.linear_model import LogisticRegression\n",
    "from explainerdashboard.datasets import titanic_survive\n",
    "\n",
    "X_\n",
    "model = LogisticRegression()\n",
    "model.fit(X_train, y_train)\n",
    "\n",
    "explainer = ClassifierExplainer(model, X_test, y_test, \n",
    "                                    shap='linear', \n",
    "                                    X_background=X_train, \n",
    "                                    model_output='logodds',\n",
    "                                    cats=['Sex', 'Deck', 'Embarked'])\n",
    "ExplainerDashboard(explainer).run()"
   ]
  },
  {
   "cell_type": "markdown",
   "metadata": {},
   "source": [
    "# mode='inline', 'jupyterlab', 'external'"
   ]
  },
  {
   "cell_type": "markdown",
   "metadata": {},
   "source": [
    "## mode='inline'\n",
    "\n",
    "Besides the default `dash.Dash(__name__)` dashboard, plotly also released a package called `jupyter-dash` that makes it more convenient to deploy dashboards either inline in a notebook, or run from a notebook cell, while the rest of the notebook stays interactive. \n",
    "\n",
    "By passing an appropriate mode to the `ExplainerDashboard` constructur you can make use of `JupyterDash`. The three modes are:\n",
    "\n",
    "- `\"inline\"`, displays the dashboard in the output area underneath the current cell\n",
    "- `\"jupyterlab\"` displays the dashboard in a seperate pane in jupyterlab\n",
    "- `\"external\"` opens up a server that you can acces from a seperate browser tab\n"
   ]
  },
  {
   "cell_type": "markdown",
   "metadata": {},
   "source": [
    "Note: although the default is `mode='dash'`, when a google Colab environment is detected, the default is `'external'`."
   ]
  },
  {
   "cell_type": "code",
   "execution_count": null,
   "metadata": {},
   "outputs": [],
   "source": [
    "ExplainerDashboard(explainer, mode='inline').run()"
   ]
  },
  {
   "cell_type": "code",
   "execution_count": null,
   "metadata": {},
   "outputs": [],
   "source": [
    "ExplainerDashboard(explainer, mode='inline', width=1200, height=1000).run()"
   ]
  },
  {
   "cell_type": "code",
   "execution_count": null,
   "metadata": {},
   "outputs": [],
   "source": [
    "ExplainerDashboard(explainer, mode='jupyterlab').run()"
   ]
  },
  {
   "cell_type": "code",
   "execution_count": null,
   "metadata": {},
   "outputs": [],
   "source": [
    "ExplainerDashboard(explainer, mode='external').run()"
   ]
  },
  {
   "cell_type": "markdown",
   "metadata": {},
   "source": [
    "## Display a single tab\n",
    "If you just want to display a single tab, you can use pass that tab to ExplainerDashboard:"
   ]
  },
  {
   "cell_type": "code",
   "execution_count": 11,
   "metadata": {
    "ExecuteTime": {
     "end_time": "2020-10-12T08:57:22.193055Z",
     "start_time": "2020-10-12T08:57:22.188906Z"
    }
   },
   "outputs": [],
   "source": [
    "from explainerdashboard.dashboard_tabs import ContributionsTab"
   ]
  },
  {
   "cell_type": "code",
   "execution_count": 14,
   "metadata": {
    "ExecuteTime": {
     "end_time": "2020-10-12T09:00:22.321188Z",
     "start_time": "2020-10-12T08:58:42.570592Z"
    }
   },
   "outputs": [
    {
     "name": "stdout",
     "output_type": "stream",
     "text": [
      "Building ExplainerDashboard..\n",
      "Detected notebook environment, consider setting mode='external', mode='inline' or mode='jupyterlab'...\n",
      "Generating layout...\n",
      "Calculating shap values...\n",
      "Calculating dependencies...\n",
      "Registering callbacks...\n",
      "Starting ExplainerDashboard on http://localhost:8050\n",
      "Dash is running on http://127.0.0.1:8050/\n",
      "\n",
      "Dash is running on http://127.0.0.1:8050/\n",
      "\n",
      " * Serving Flask app \"explainerdashboard.dashboards\" (lazy loading)\n",
      " * Environment: production\n",
      "\u001b[31m   WARNING: This is a development server. Do not use it in a production deployment.\u001b[0m\n",
      "\u001b[2m   Use a production WSGI server instead.\u001b[0m\n",
      " * Debug mode: off\n"
     ]
    },
    {
     "name": "stderr",
     "output_type": "stream",
     "text": [
      " * Running on http://127.0.0.1:8050/ (Press CTRL+C to quit)\n",
      "127.0.0.1 - - [12/Oct/2020 11:00:12] \"\u001b[37mGET / HTTP/1.1\u001b[0m\" 200 -\n",
      "127.0.0.1 - - [12/Oct/2020 11:00:12] \"\u001b[37mGET /_dash-dependencies HTTP/1.1\u001b[0m\" 200 -\n",
      "127.0.0.1 - - [12/Oct/2020 11:00:12] \"\u001b[37mGET /_dash-layout HTTP/1.1\u001b[0m\" 200 -\n",
      "127.0.0.1 - - [12/Oct/2020 11:00:12] \"\u001b[37mPOST /_dash-update-component HTTP/1.1\u001b[0m\" 200 -\n"
     ]
    },
    {
     "name": "stdout",
     "output_type": "stream",
     "text": [
      "Calculating prediction probabilities...\n"
     ]
    },
    {
     "name": "stderr",
     "output_type": "stream",
     "text": [
      "127.0.0.1 - - [12/Oct/2020 11:00:12] \"\u001b[37mPOST /_dash-update-component HTTP/1.1\u001b[0m\" 200 -\n",
      "127.0.0.1 - - [12/Oct/2020 11:00:12] \"\u001b[37mPOST /_dash-update-component HTTP/1.1\u001b[0m\" 200 -\n"
     ]
    },
    {
     "name": "stdout",
     "output_type": "stream",
     "text": [
      "Calculating pred_percentiles...\n"
     ]
    },
    {
     "name": "stderr",
     "output_type": "stream",
     "text": [
      "127.0.0.1 - - [12/Oct/2020 11:00:12] \"\u001b[37mPOST /_dash-update-component HTTP/1.1\u001b[0m\" 200 -\n",
      "127.0.0.1 - - [12/Oct/2020 11:00:13] \"\u001b[37mPOST /_dash-update-component HTTP/1.1\u001b[0m\" 200 -\n",
      "127.0.0.1 - - [12/Oct/2020 11:00:13] \"\u001b[37mPOST /_dash-update-component HTTP/1.1\u001b[0m\" 200 -\n",
      "127.0.0.1 - - [12/Oct/2020 11:00:13] \"\u001b[37mPOST /_dash-update-component HTTP/1.1\u001b[0m\" 200 -\n",
      "127.0.0.1 - - [12/Oct/2020 11:00:13] \"\u001b[37mPOST /_dash-update-component HTTP/1.1\u001b[0m\" 200 -\n",
      "127.0.0.1 - - [12/Oct/2020 11:00:13] \"\u001b[37mPOST /_dash-update-component HTTP/1.1\u001b[0m\" 200 -\n"
     ]
    }
   ],
   "source": [
    "ExplainerDashboard(explainer, ContributionsTab).run()\n"
   ]
  },
  {
   "cell_type": "markdown",
   "metadata": {},
   "source": [
    "Can also instantiate first:"
   ]
  },
  {
   "cell_type": "code",
   "execution_count": null,
   "metadata": {},
   "outputs": [],
   "source": [
    "db = ContributionsTab(explainer)\n",
    "ExplainerDashboard(explainer, db).run()"
   ]
  },
  {
   "cell_type": "markdown",
   "metadata": {},
   "source": [
    "Or even use string shorthands:"
   ]
  },
  {
   "cell_type": "code",
   "execution_count": null,
   "metadata": {},
   "outputs": [],
   "source": [
    "ExplainerDashboard(explainer, \"model_summary\").run()"
   ]
  },
  {
   "cell_type": "markdown",
   "metadata": {},
   "source": [
    "## InlineExplainer\n",
    "\n",
    "Alternative API to display a single component inline in a notebook"
   ]
  },
  {
   "cell_type": "code",
   "execution_count": 16,
   "metadata": {
    "ExecuteTime": {
     "end_time": "2020-10-12T09:00:59.058797Z",
     "start_time": "2020-10-12T09:00:59.054719Z"
    }
   },
   "outputs": [],
   "source": [
    "from explainerdashboard import InlineExplainer"
   ]
  },
  {
   "cell_type": "code",
   "execution_count": 17,
   "metadata": {
    "ExecuteTime": {
     "end_time": "2020-10-12T09:00:59.819688Z",
     "start_time": "2020-10-12T09:00:59.816570Z"
    }
   },
   "outputs": [],
   "source": [
    "ie = InlineExplainer(explainer)"
   ]
  },
  {
   "cell_type": "code",
   "execution_count": 18,
   "metadata": {
    "ExecuteTime": {
     "end_time": "2020-10-12T09:01:00.878783Z",
     "start_time": "2020-10-12T09:01:00.842016Z"
    }
   },
   "outputs": [
    {
     "data": {
      "text/html": [
       "\n",
       "        <iframe\n",
       "            width=\"1000\"\n",
       "            height=\"800\"\n",
       "            src=\"http://127.0.0.1:8050/\"\n",
       "            frameborder=\"0\"\n",
       "            allowfullscreen\n",
       "        ></iframe>\n",
       "        "
      ],
      "text/plain": [
       "<IPython.lib.display.IFrame at 0x13287ac40>"
      ]
     },
     "metadata": {},
     "output_type": "display_data"
    }
   ],
   "source": [
    "ie.model_stats()"
   ]
  },
  {
   "cell_type": "code",
   "execution_count": 19,
   "metadata": {
    "ExecuteTime": {
     "end_time": "2020-10-12T09:01:02.314284Z",
     "start_time": "2020-10-12T09:01:01.895914Z"
    },
    "scrolled": true
   },
   "outputs": [
    {
     "data": {
      "text/html": [
       "\n",
       "        <iframe\n",
       "            width=\"1000\"\n",
       "            height=\"800\"\n",
       "            src=\"http://127.0.0.1:8050/\"\n",
       "            frameborder=\"0\"\n",
       "            allowfullscreen\n",
       "        ></iframe>\n",
       "        "
      ],
      "text/plain": [
       "<IPython.lib.display.IFrame at 0x10c4318e0>"
      ]
     },
     "metadata": {},
     "output_type": "display_data"
    }
   ],
   "source": [
    "ie.tab.contributions()"
   ]
  },
  {
   "cell_type": "code",
   "execution_count": 20,
   "metadata": {
    "ExecuteTime": {
     "end_time": "2020-10-12T09:01:03.121212Z",
     "start_time": "2020-10-12T09:01:02.775327Z"
    }
   },
   "outputs": [
    {
     "data": {
      "text/html": [
       "\n",
       "        <iframe\n",
       "            width=\"1000\"\n",
       "            height=\"800\"\n",
       "            src=\"http://127.0.0.1:8050/\"\n",
       "            frameborder=\"0\"\n",
       "            allowfullscreen\n",
       "        ></iframe>\n",
       "        "
      ],
      "text/plain": [
       "<IPython.lib.display.IFrame at 0x132973910>"
      ]
     },
     "metadata": {},
     "output_type": "display_data"
    }
   ],
   "source": [
    "ie.classifier.confusion_matrix()"
   ]
  },
  {
   "cell_type": "code",
   "execution_count": 21,
   "metadata": {
    "ExecuteTime": {
     "end_time": "2020-10-12T09:01:04.000176Z",
     "start_time": "2020-10-12T09:01:03.650348Z"
    }
   },
   "outputs": [
    {
     "data": {
      "text/html": [
       "\n",
       "        <iframe\n",
       "            width=\"1000\"\n",
       "            height=\"800\"\n",
       "            src=\"http://127.0.0.1:8050/\"\n",
       "            frameborder=\"0\"\n",
       "            allowfullscreen\n",
       "        ></iframe>\n",
       "        "
      ],
      "text/plain": [
       "<IPython.lib.display.IFrame at 0x1329ca8e0>"
      ]
     },
     "metadata": {},
     "output_type": "display_data"
    },
    {
     "name": "stdout",
     "output_type": "stream",
     "text": [
      "\u001b[1;31m---------------------------------------------------------------------------\u001b[0m\n",
      "\u001b[1;31mKeyError\u001b[0m                                  Traceback (most recent call last)\n",
      "\u001b[1;32m~/projects/explainerdashboard/venv/lib/python3.8/site-packages/flask/app.py\u001b[0m in \u001b[0;36mfull_dispatch_request\u001b[1;34m(\n",
      "    self=<Flask 'explainerdashboard.dashboards'>\n",
      ")\u001b[0m\n",
      "\u001b[0;32m   1948\u001b[0m             \u001b[0mrv\u001b[0m \u001b[1;33m=\u001b[0m \u001b[0mself\u001b[0m\u001b[1;33m.\u001b[0m\u001b[0mpreprocess_request\u001b[0m\u001b[1;33m(\u001b[0m\u001b[1;33m)\u001b[0m\u001b[1;33m\u001b[0m\u001b[1;33m\u001b[0m\u001b[0m\n",
      "\u001b[0;32m   1949\u001b[0m             \u001b[1;32mif\u001b[0m \u001b[0mrv\u001b[0m \u001b[1;32mis\u001b[0m \u001b[1;32mNone\u001b[0m\u001b[1;33m:\u001b[0m\u001b[1;33m\u001b[0m\u001b[1;33m\u001b[0m\u001b[0m\n",
      "\u001b[1;32m-> 1950\u001b[1;33m                 \u001b[0mrv\u001b[0m \u001b[1;33m=\u001b[0m \u001b[0mself\u001b[0m\u001b[1;33m.\u001b[0m\u001b[0mdispatch_request\u001b[0m\u001b[1;33m(\u001b[0m\u001b[1;33m)\u001b[0m\u001b[1;33m\u001b[0m\u001b[1;33m\u001b[0m\u001b[0m\n",
      "\u001b[0m        \u001b[0;36mrv\u001b[0m \u001b[1;34m= None\u001b[0m\u001b[1;34m\n",
      "        \u001b[0m\u001b[0;36mself.dispatch_request\u001b[0m \u001b[1;34m= <bound method Flask.dispatch_request of <Flask 'explainerdashboard.dashboards'>>\u001b[0m\n",
      "\u001b[0;32m   1951\u001b[0m         \u001b[1;32mexcept\u001b[0m \u001b[0mException\u001b[0m \u001b[1;32mas\u001b[0m \u001b[0me\u001b[0m\u001b[1;33m:\u001b[0m\u001b[1;33m\u001b[0m\u001b[1;33m\u001b[0m\u001b[0m\n",
      "\u001b[0;32m   1952\u001b[0m             \u001b[0mrv\u001b[0m \u001b[1;33m=\u001b[0m \u001b[0mself\u001b[0m\u001b[1;33m.\u001b[0m\u001b[0mhandle_user_exception\u001b[0m\u001b[1;33m(\u001b[0m\u001b[0me\u001b[0m\u001b[1;33m)\u001b[0m\u001b[1;33m\u001b[0m\u001b[1;33m\u001b[0m\u001b[0m\n",
      "\n",
      "\u001b[1;32m~/projects/explainerdashboard/venv/lib/python3.8/site-packages/flask/app.py\u001b[0m in \u001b[0;36mdispatch_request\u001b[1;34m(\n",
      "    self=<Flask 'explainerdashboard.dashboards'>\n",
      ")\u001b[0m\n",
      "\u001b[0;32m   1934\u001b[0m             \u001b[1;32mreturn\u001b[0m \u001b[0mself\u001b[0m\u001b[1;33m.\u001b[0m\u001b[0mmake_default_options_response\u001b[0m\u001b[1;33m(\u001b[0m\u001b[1;33m)\u001b[0m\u001b[1;33m\u001b[0m\u001b[1;33m\u001b[0m\u001b[0m\n",
      "\u001b[0;32m   1935\u001b[0m         \u001b[1;31m# otherwise dispatch to the handler for that endpoint\u001b[0m\u001b[1;33m\u001b[0m\u001b[1;33m\u001b[0m\u001b[1;33m\u001b[0m\u001b[0m\n",
      "\u001b[1;32m-> 1936\u001b[1;33m         \u001b[1;32mreturn\u001b[0m \u001b[0mself\u001b[0m\u001b[1;33m.\u001b[0m\u001b[0mview_functions\u001b[0m\u001b[1;33m[\u001b[0m\u001b[0mrule\u001b[0m\u001b[1;33m.\u001b[0m\u001b[0mendpoint\u001b[0m\u001b[1;33m]\u001b[0m\u001b[1;33m(\u001b[0m\u001b[1;33m**\u001b[0m\u001b[0mreq\u001b[0m\u001b[1;33m.\u001b[0m\u001b[0mview_args\u001b[0m\u001b[1;33m)\u001b[0m\u001b[1;33m\u001b[0m\u001b[1;33m\u001b[0m\u001b[0m\n",
      "\u001b[0m        \u001b[0;36mself.view_functions\u001b[0m \u001b[1;34m= {'static': <bound method _PackageBoundObject.send_static_file of <Flask 'explainerdashboard.dashboards'>>, '_dash_assets.static': <bound method _PackageBoundObject.send_static_file of <flask.blueprints.Blueprint object at 0x13297f3d0>>, '/_dash-component-suites/<string:package_name>/<path:fingerprinted_path>': <bound method Dash.serve_component_suites of <jupyter_dash.jupyter_app.JupyterDash object at 0x1329916a0>>, '/_dash-layout': <bound method Dash.serve_layout of <jupyter_dash.jupyter_app.JupyterDash object at 0x1329916a0>>, '/_dash-dependencies': <bound method Dash.dependencies of <jupyter_dash.jupyter_app.JupyterDash object at 0x1329916a0>>, '/_dash-update-component': <bound method Dash.dispatch of <jupyter_dash.jupyter_app.JupyterDash object at 0x1329916a0>>, '/_reload-hash': <bound method Dash.serve_reload_hash of <jupyter_dash.jupyter_app.JupyterDash object at 0x1329916a0>>, '/_favicon.ico': <function Dash._serve_default_favicon at 0x131690dc0>, '/': <bound method Dash.index of <jupyter_dash.jupyter_app.JupyterDash object at 0x1329916a0>>, '/<path:path>': <bound method Dash.index of <jupyter_dash.jupyter_app.JupyterDash object at 0x1329916a0>>, 'shutdown': <function JupyterDash.__init__.<locals>.shutdown at 0x1327b80d0>, 'alive': <function JupyterDash.__init__.<locals>.alive at 0x1328fc4c0>}\u001b[0m\u001b[1;34m\n",
      "        \u001b[0m\u001b[0;36mrule.endpoint\u001b[0m \u001b[1;34m= '/_dash-update-component'\u001b[0m\u001b[1;34m\n",
      "        \u001b[0m\u001b[0;36mreq.view_args\u001b[0m \u001b[1;34m= {}\u001b[0m\n",
      "\u001b[0;32m   1937\u001b[0m \u001b[1;33m\u001b[0m\u001b[0m\n",
      "\u001b[0;32m   1938\u001b[0m     \u001b[1;32mdef\u001b[0m \u001b[0mfull_dispatch_request\u001b[0m\u001b[1;33m(\u001b[0m\u001b[0mself\u001b[0m\u001b[1;33m)\u001b[0m\u001b[1;33m:\u001b[0m\u001b[1;33m\u001b[0m\u001b[1;33m\u001b[0m\u001b[0m\n",
      "\n",
      "\u001b[1;32m~/projects/explainerdashboard/venv/lib/python3.8/site-packages/dash/dash.py\u001b[0m in \u001b[0;36mdispatch\u001b[1;34m(\n",
      "    self=<jupyter_dash.jupyter_app.JupyterDash object>\n",
      ")\u001b[0m\n",
      "\u001b[0;32m   1056\u001b[0m         \u001b[0margs\u001b[0m \u001b[1;33m=\u001b[0m \u001b[0minputs_to_vals\u001b[0m\u001b[1;33m(\u001b[0m\u001b[0minputs\u001b[0m \u001b[1;33m+\u001b[0m \u001b[0mstate\u001b[0m\u001b[1;33m)\u001b[0m\u001b[1;33m\u001b[0m\u001b[1;33m\u001b[0m\u001b[0m\n",
      "\u001b[0;32m   1057\u001b[0m \u001b[1;33m\u001b[0m\u001b[0m\n",
      "\u001b[1;32m-> 1058\u001b[1;33m         \u001b[0mfunc\u001b[0m \u001b[1;33m=\u001b[0m \u001b[0mself\u001b[0m\u001b[1;33m.\u001b[0m\u001b[0mcallback_map\u001b[0m\u001b[1;33m[\u001b[0m\u001b[0moutput\u001b[0m\u001b[1;33m]\u001b[0m\u001b[1;33m[\u001b[0m\u001b[1;34m\"callback\"\u001b[0m\u001b[1;33m]\u001b[0m\u001b[1;33m\u001b[0m\u001b[1;33m\u001b[0m\u001b[0m\n",
      "\u001b[0m        \u001b[0;36mfunc\u001b[0m \u001b[1;34m= \u001b[1;36mundefined\u001b[0m\u001b[0m\u001b[1;34m\n",
      "        \u001b[0m\u001b[0;36mself.callback_map\u001b[0m \u001b[1;34m= {'..shap-dependence-color-col-BHAr5VjNBW.options...shap-dependence-color-col-BHAr5VjNBW.value..': {'inputs': [{'id': 'shap-dependence-col-BHAr5VjNBW', 'property': 'value'}], 'state': [{'id': 'shap-dependence-group-cats-BHAr5VjNBW', 'property': 'checked'}, {'id': 'pos-label-BHAr5VjNBW', 'property': 'value'}], 'callback': <function ShapDependenceComponent._register_callbacks.<locals>.set_color_col_dropdown at 0x1329b8550>}, 'shap-dependence-graph-BHAr5VjNBW.figure': {'inputs': [{'id': 'shap-dependence-color-col-BHAr5VjNBW', 'property': 'value'}, {'id': 'shap-dependence-index-BHAr5VjNBW', 'property': 'value'}, {'id': 'pos-label-BHAr5VjNBW', 'property': 'value'}], 'state': [{'id': 'shap-dependence-col-BHAr5VjNBW', 'property': 'value'}], 'callback': <function ShapDependenceComponent._register_callbacks.<locals>.update_dependence_graph at 0x1329b8700>}, 'shap-dependence-col-BHAr5VjNBW.options': {'inputs': [{'id': 'shap-dependence-group-cats-BHAr5VjNBW', 'property': 'checked'}], 'state': [{'id': 'shap-dependence-col-BHAr5VjNBW', 'property': 'value'}], 'callback': <function ShapDependenceComponent._register_callbacks.<locals>.update_dependence_shap_scatter_graph at 0x1329b8820>}}\u001b[0m\u001b[1;34m\n",
      "        \u001b[0m\u001b[0;36moutput\u001b[0m \u001b[1;34m= 'confusionmatrix-graph-JX6qNoVYbf.figure'\u001b[0m\n",
      "\u001b[0;32m   1059\u001b[0m         \u001b[0mresponse\u001b[0m\u001b[1;33m.\u001b[0m\u001b[0mset_data\u001b[0m\u001b[1;33m(\u001b[0m\u001b[0mfunc\u001b[0m\u001b[1;33m(\u001b[0m\u001b[1;33m*\u001b[0m\u001b[0margs\u001b[0m\u001b[1;33m,\u001b[0m \u001b[0moutputs_list\u001b[0m\u001b[1;33m=\u001b[0m\u001b[0moutputs_list\u001b[0m\u001b[1;33m)\u001b[0m\u001b[1;33m)\u001b[0m\u001b[1;33m\u001b[0m\u001b[1;33m\u001b[0m\u001b[0m\n",
      "\u001b[0;32m   1060\u001b[0m         \u001b[1;32mreturn\u001b[0m \u001b[0mresponse\u001b[0m\u001b[1;33m\u001b[0m\u001b[1;33m\u001b[0m\u001b[0m\n",
      "\n",
      "\u001b[1;31mKeyError\u001b[0m: 'confusionmatrix-graph-JX6qNoVYbf.figure'\n",
      "\n",
      "\u001b[1;31m---------------------------------------------------------------------------\u001b[0m\n",
      "\u001b[1;31mKeyError\u001b[0m                                  Traceback (most recent call last)\n",
      "\u001b[1;32m~/projects/explainerdashboard/venv/lib/python3.8/site-packages/flask/app.py\u001b[0m in \u001b[0;36mfull_dispatch_request\u001b[1;34m(\n",
      "    self=<Flask 'explainerdashboard.dashboards'>\n",
      ")\u001b[0m\n",
      "\u001b[0;32m   1948\u001b[0m             \u001b[0mrv\u001b[0m \u001b[1;33m=\u001b[0m \u001b[0mself\u001b[0m\u001b[1;33m.\u001b[0m\u001b[0mpreprocess_request\u001b[0m\u001b[1;33m(\u001b[0m\u001b[1;33m)\u001b[0m\u001b[1;33m\u001b[0m\u001b[1;33m\u001b[0m\u001b[0m\n",
      "\u001b[0;32m   1949\u001b[0m             \u001b[1;32mif\u001b[0m \u001b[0mrv\u001b[0m \u001b[1;32mis\u001b[0m \u001b[1;32mNone\u001b[0m\u001b[1;33m:\u001b[0m\u001b[1;33m\u001b[0m\u001b[1;33m\u001b[0m\u001b[0m\n",
      "\u001b[1;32m-> 1950\u001b[1;33m                 \u001b[0mrv\u001b[0m \u001b[1;33m=\u001b[0m \u001b[0mself\u001b[0m\u001b[1;33m.\u001b[0m\u001b[0mdispatch_request\u001b[0m\u001b[1;33m(\u001b[0m\u001b[1;33m)\u001b[0m\u001b[1;33m\u001b[0m\u001b[1;33m\u001b[0m\u001b[0m\n",
      "\u001b[0m        \u001b[0;36mrv\u001b[0m \u001b[1;34m= None\u001b[0m\u001b[1;34m\n",
      "        \u001b[0m\u001b[0;36mself.dispatch_request\u001b[0m \u001b[1;34m= <bound method Flask.dispatch_request of <Flask 'explainerdashboard.dashboards'>>\u001b[0m\n",
      "\u001b[0;32m   1951\u001b[0m         \u001b[1;32mexcept\u001b[0m \u001b[0mException\u001b[0m \u001b[1;32mas\u001b[0m \u001b[0me\u001b[0m\u001b[1;33m:\u001b[0m\u001b[1;33m\u001b[0m\u001b[1;33m\u001b[0m\u001b[0m\n",
      "\u001b[0;32m   1952\u001b[0m             \u001b[0mrv\u001b[0m \u001b[1;33m=\u001b[0m \u001b[0mself\u001b[0m\u001b[1;33m.\u001b[0m\u001b[0mhandle_user_exception\u001b[0m\u001b[1;33m(\u001b[0m\u001b[0me\u001b[0m\u001b[1;33m)\u001b[0m\u001b[1;33m\u001b[0m\u001b[1;33m\u001b[0m\u001b[0m\n",
      "\n",
      "\u001b[1;32m~/projects/explainerdashboard/venv/lib/python3.8/site-packages/flask/app.py\u001b[0m in \u001b[0;36mdispatch_request\u001b[1;34m(\n",
      "    self=<Flask 'explainerdashboard.dashboards'>\n",
      ")\u001b[0m\n",
      "\u001b[0;32m   1934\u001b[0m             \u001b[1;32mreturn\u001b[0m \u001b[0mself\u001b[0m\u001b[1;33m.\u001b[0m\u001b[0mmake_default_options_response\u001b[0m\u001b[1;33m(\u001b[0m\u001b[1;33m)\u001b[0m\u001b[1;33m\u001b[0m\u001b[1;33m\u001b[0m\u001b[0m\n",
      "\u001b[0;32m   1935\u001b[0m         \u001b[1;31m# otherwise dispatch to the handler for that endpoint\u001b[0m\u001b[1;33m\u001b[0m\u001b[1;33m\u001b[0m\u001b[1;33m\u001b[0m\u001b[0m\n",
      "\u001b[1;32m-> 1936\u001b[1;33m         \u001b[1;32mreturn\u001b[0m \u001b[0mself\u001b[0m\u001b[1;33m.\u001b[0m\u001b[0mview_functions\u001b[0m\u001b[1;33m[\u001b[0m\u001b[0mrule\u001b[0m\u001b[1;33m.\u001b[0m\u001b[0mendpoint\u001b[0m\u001b[1;33m]\u001b[0m\u001b[1;33m(\u001b[0m\u001b[1;33m**\u001b[0m\u001b[0mreq\u001b[0m\u001b[1;33m.\u001b[0m\u001b[0mview_args\u001b[0m\u001b[1;33m)\u001b[0m\u001b[1;33m\u001b[0m\u001b[1;33m\u001b[0m\u001b[0m\n",
      "\u001b[0m        \u001b[0;36mself.view_functions\u001b[0m \u001b[1;34m= {'static': <bound method _PackageBoundObject.send_static_file of <Flask 'explainerdashboard.dashboards'>>, '_dash_assets.static': <bound method _PackageBoundObject.send_static_file of <flask.blueprints.Blueprint object at 0x13297f3d0>>, '/_dash-component-suites/<string:package_name>/<path:fingerprinted_path>': <bound method Dash.serve_component_suites of <jupyter_dash.jupyter_app.JupyterDash object at 0x1329916a0>>, '/_dash-layout': <bound method Dash.serve_layout of <jupyter_dash.jupyter_app.JupyterDash object at 0x1329916a0>>, '/_dash-dependencies': <bound method Dash.dependencies of <jupyter_dash.jupyter_app.JupyterDash object at 0x1329916a0>>, '/_dash-update-component': <bound method Dash.dispatch of <jupyter_dash.jupyter_app.JupyterDash object at 0x1329916a0>>, '/_reload-hash': <bound method Dash.serve_reload_hash of <jupyter_dash.jupyter_app.JupyterDash object at 0x1329916a0>>, '/_favicon.ico': <function Dash._serve_default_favicon at 0x131690dc0>, '/': <bound method Dash.index of <jupyter_dash.jupyter_app.JupyterDash object at 0x1329916a0>>, '/<path:path>': <bound method Dash.index of <jupyter_dash.jupyter_app.JupyterDash object at 0x1329916a0>>, 'shutdown': <function JupyterDash.__init__.<locals>.shutdown at 0x1327b80d0>, 'alive': <function JupyterDash.__init__.<locals>.alive at 0x1328fc4c0>}\u001b[0m\u001b[1;34m\n",
      "        \u001b[0m\u001b[0;36mrule.endpoint\u001b[0m \u001b[1;34m= '/_dash-update-component'\u001b[0m\u001b[1;34m\n",
      "        \u001b[0m\u001b[0;36mreq.view_args\u001b[0m \u001b[1;34m= {}\u001b[0m\n",
      "\u001b[0;32m   1937\u001b[0m \u001b[1;33m\u001b[0m\u001b[0m\n",
      "\u001b[0;32m   1938\u001b[0m     \u001b[1;32mdef\u001b[0m \u001b[0mfull_dispatch_request\u001b[0m\u001b[1;33m(\u001b[0m\u001b[0mself\u001b[0m\u001b[1;33m)\u001b[0m\u001b[1;33m:\u001b[0m\u001b[1;33m\u001b[0m\u001b[1;33m\u001b[0m\u001b[0m\n",
      "\n",
      "\u001b[1;32m~/projects/explainerdashboard/venv/lib/python3.8/site-packages/dash/dash.py\u001b[0m in \u001b[0;36mdispatch\u001b[1;34m(\n",
      "    self=<jupyter_dash.jupyter_app.JupyterDash object>\n",
      ")\u001b[0m\n",
      "\u001b[0;32m   1056\u001b[0m         \u001b[0margs\u001b[0m \u001b[1;33m=\u001b[0m \u001b[0minputs_to_vals\u001b[0m\u001b[1;33m(\u001b[0m\u001b[0minputs\u001b[0m \u001b[1;33m+\u001b[0m \u001b[0mstate\u001b[0m\u001b[1;33m)\u001b[0m\u001b[1;33m\u001b[0m\u001b[1;33m\u001b[0m\u001b[0m\n",
      "\u001b[0;32m   1057\u001b[0m \u001b[1;33m\u001b[0m\u001b[0m\n",
      "\u001b[1;32m-> 1058\u001b[1;33m         \u001b[0mfunc\u001b[0m \u001b[1;33m=\u001b[0m \u001b[0mself\u001b[0m\u001b[1;33m.\u001b[0m\u001b[0mcallback_map\u001b[0m\u001b[1;33m[\u001b[0m\u001b[0moutput\u001b[0m\u001b[1;33m]\u001b[0m\u001b[1;33m[\u001b[0m\u001b[1;34m\"callback\"\u001b[0m\u001b[1;33m]\u001b[0m\u001b[1;33m\u001b[0m\u001b[1;33m\u001b[0m\u001b[0m\n",
      "\u001b[0m        \u001b[0;36mfunc\u001b[0m \u001b[1;34m= \u001b[1;36mundefined\u001b[0m\u001b[0m\u001b[1;34m\n",
      "        \u001b[0m\u001b[0;36mself.callback_map\u001b[0m \u001b[1;34m= {'..shap-dependence-color-col-BHAr5VjNBW.options...shap-dependence-color-col-BHAr5VjNBW.value..': {'inputs': [{'id': 'shap-dependence-col-BHAr5VjNBW', 'property': 'value'}], 'state': [{'id': 'shap-dependence-group-cats-BHAr5VjNBW', 'property': 'checked'}, {'id': 'pos-label-BHAr5VjNBW', 'property': 'value'}], 'callback': <function ShapDependenceComponent._register_callbacks.<locals>.set_color_col_dropdown at 0x1329b8550>}, 'shap-dependence-graph-BHAr5VjNBW.figure': {'inputs': [{'id': 'shap-dependence-color-col-BHAr5VjNBW', 'property': 'value'}, {'id': 'shap-dependence-index-BHAr5VjNBW', 'property': 'value'}, {'id': 'pos-label-BHAr5VjNBW', 'property': 'value'}], 'state': [{'id': 'shap-dependence-col-BHAr5VjNBW', 'property': 'value'}], 'callback': <function ShapDependenceComponent._register_callbacks.<locals>.update_dependence_graph at 0x1329b8700>}, 'shap-dependence-col-BHAr5VjNBW.options': {'inputs': [{'id': 'shap-dependence-group-cats-BHAr5VjNBW', 'property': 'checked'}], 'state': [{'id': 'shap-dependence-col-BHAr5VjNBW', 'property': 'value'}], 'callback': <function ShapDependenceComponent._register_callbacks.<locals>.update_dependence_shap_scatter_graph at 0x1329b8820>}}\u001b[0m\u001b[1;34m\n",
      "        \u001b[0m\u001b[0;36moutput\u001b[0m \u001b[1;34m= 'confusionmatrix-graph-JX6qNoVYbf.figure'\u001b[0m\n",
      "\u001b[0;32m   1059\u001b[0m         \u001b[0mresponse\u001b[0m\u001b[1;33m.\u001b[0m\u001b[0mset_data\u001b[0m\u001b[1;33m(\u001b[0m\u001b[0mfunc\u001b[0m\u001b[1;33m(\u001b[0m\u001b[1;33m*\u001b[0m\u001b[0margs\u001b[0m\u001b[1;33m,\u001b[0m \u001b[0moutputs_list\u001b[0m\u001b[1;33m=\u001b[0m\u001b[0moutputs_list\u001b[0m\u001b[1;33m)\u001b[0m\u001b[1;33m)\u001b[0m\u001b[1;33m\u001b[0m\u001b[1;33m\u001b[0m\u001b[0m\n",
      "\u001b[0;32m   1060\u001b[0m         \u001b[1;32mreturn\u001b[0m \u001b[0mresponse\u001b[0m\u001b[1;33m\u001b[0m\u001b[1;33m\u001b[0m\u001b[0m\n",
      "\n",
      "\u001b[1;31mKeyError\u001b[0m: 'confusionmatrix-graph-JX6qNoVYbf.figure'\n",
      "\n"
     ]
    }
   ],
   "source": [
    "ie.shap.dependence()"
   ]
  },
  {
   "cell_type": "markdown",
   "metadata": {},
   "source": [
    "## Terminating 'inline', 'jupyterlab' or 'external' dashboard\n",
    "\n",
    "You can terminate a `JupyterDash` based dashboard with the `.terminate(port)` method.\n",
    "\n",
    "Any ExplainerDashboard or InlineExplainer dashboard can terminate any other running dashboard as long you \n",
    "pass the right port."
   ]
  },
  {
   "cell_type": "code",
   "execution_count": 34,
   "metadata": {
    "ExecuteTime": {
     "end_time": "2020-10-12T11:38:34.382554Z",
     "start_time": "2020-10-12T11:38:34.357216Z"
    }
   },
   "outputs": [
    {
     "name": "stdout",
     "output_type": "stream",
     "text": [
      "Trying to shut down dashboard on port 8050...\n"
     ]
    }
   ],
   "source": [
    "ie.terminate()"
   ]
  },
  {
   "cell_type": "code",
   "execution_count": null,
   "metadata": {},
   "outputs": [],
   "source": [
    "db1 = ExplainerDashboard(explainer, mode='external')\n",
    "db1.run(8051)"
   ]
  },
  {
   "cell_type": "code",
   "execution_count": null,
   "metadata": {},
   "outputs": [],
   "source": [
    "db1.terminate()"
   ]
  },
  {
   "cell_type": "code",
   "execution_count": null,
   "metadata": {},
   "outputs": [],
   "source": [
    "db2 = ExplainerDashboard(explainer, mode='external')\n",
    "db2.terminate(8051)"
   ]
  },
  {
   "cell_type": "markdown",
   "metadata": {},
   "source": [
    "# XGBClassifier, LGBMClassifier, CatBoostClassifier\n",
    "- default for ClassifierExplainer is `model_output='probability'`, but for most gradient boosting classifier algorithms (e.g xgboost, lightgbm, catboost):\n",
    "    - You have to pass an `X_background` to calculate the shape values against (defaults to using `X`)\n",
    "    - You can't calculate shap interaction values\n",
    "- alternative is to pass model_output='logodds':\n",
    "    - Can then calculate shap values based on trees alone (so no background data needed), and can calculate interaction values as well.\n",
    "    - plus: faster"
   ]
  },
  {
   "cell_type": "code",
   "execution_count": null,
   "metadata": {},
   "outputs": [],
   "source": [
    "#from lightgbm.sklearn import LGBMClassifier\n",
    "#model = LGBMClassifier()\n",
    "\n",
    "#from catboost import CatBoostClassifier\n",
    "#model = CatBoostClassifier(iterations=100, learning_rate=100)\n",
    "\n",
    "from xgboost import XGBClassifier\n",
    "model = XGBClassifier()\n",
    "\n",
    "model.fit(X_train, y_train)\n",
    "\n",
    "explainer = ClassifierExplainer(model, X_test, y_test, \n",
    "                                    X_background=X_train,\n",
    "                                    cats=['Sex', 'Deck', 'Embarked'],\n",
    "                                    idxs=test_names, #names of passengers \n",
    "                                    labels=['Not survived', 'Survived'])"
   ]
  },
  {
   "cell_type": "code",
   "execution_count": null,
   "metadata": {},
   "outputs": [],
   "source": [
    "ExplainerDashboard(explainer, mode='external').run(8052)"
   ]
  },
  {
   "cell_type": "markdown",
   "metadata": {},
   "source": [
    "# RegressionExplainer"
   ]
  },
  {
   "cell_type": "markdown",
   "metadata": {},
   "source": [
    "## Load regression data:\n",
    "    - predicting the fare that a titanic passenger paid for their ticket"
   ]
  },
  {
   "cell_type": "code",
   "execution_count": 23,
   "metadata": {
    "ExecuteTime": {
     "end_time": "2020-10-12T09:02:26.311006Z",
     "start_time": "2020-10-12T09:02:26.307162Z"
    }
   },
   "outputs": [],
   "source": [
    "from explainerdashboard.datasets import titanic_fare, titanic_names"
   ]
  },
  {
   "cell_type": "code",
   "execution_count": 24,
   "metadata": {
    "ExecuteTime": {
     "end_time": "2020-10-12T09:02:26.795632Z",
     "start_time": "2020-10-12T09:02:26.790486Z"
    }
   },
   "outputs": [],
   "source": [
    "X_train, y_train, X_test, y_test = titanic_fare()\n",
    "train_names, test_names = titanic_names()"
   ]
  },
  {
   "cell_type": "code",
   "execution_count": 25,
   "metadata": {
    "ExecuteTime": {
     "end_time": "2020-10-12T09:02:27.238136Z",
     "start_time": "2020-10-12T09:02:27.219716Z"
    }
   },
   "outputs": [
    {
     "data": {
      "text/html": [
       "<div>\n",
       "<style scoped>\n",
       "    .dataframe tbody tr th:only-of-type {\n",
       "        vertical-align: middle;\n",
       "    }\n",
       "\n",
       "    .dataframe tbody tr th {\n",
       "        vertical-align: top;\n",
       "    }\n",
       "\n",
       "    .dataframe thead th {\n",
       "        text-align: right;\n",
       "    }\n",
       "</style>\n",
       "<table border=\"1\" class=\"dataframe\">\n",
       "  <thead>\n",
       "    <tr style=\"text-align: right;\">\n",
       "      <th></th>\n",
       "      <th>Survived</th>\n",
       "      <th>No_of_relatives_on_board</th>\n",
       "      <th>Age</th>\n",
       "      <th>PassengerClass</th>\n",
       "      <th>No_of_siblings_plus_spouses_on_board</th>\n",
       "      <th>No_of_parents_plus_children_on_board</th>\n",
       "      <th>Sex_female</th>\n",
       "      <th>Sex_male</th>\n",
       "      <th>Sex_nan</th>\n",
       "      <th>Deck_A</th>\n",
       "      <th>...</th>\n",
       "      <th>Deck_D</th>\n",
       "      <th>Deck_E</th>\n",
       "      <th>Deck_F</th>\n",
       "      <th>Deck_G</th>\n",
       "      <th>Deck_T</th>\n",
       "      <th>Deck_Unkown</th>\n",
       "      <th>Embarked_Cherbourg</th>\n",
       "      <th>Embarked_Queenstown</th>\n",
       "      <th>Embarked_Southampton</th>\n",
       "      <th>Embarked_Unknown</th>\n",
       "    </tr>\n",
       "  </thead>\n",
       "  <tbody>\n",
       "    <tr>\n",
       "      <th>0</th>\n",
       "      <td>0</td>\n",
       "      <td>1</td>\n",
       "      <td>22.0</td>\n",
       "      <td>3</td>\n",
       "      <td>1</td>\n",
       "      <td>0</td>\n",
       "      <td>0</td>\n",
       "      <td>1</td>\n",
       "      <td>0</td>\n",
       "      <td>0</td>\n",
       "      <td>...</td>\n",
       "      <td>0</td>\n",
       "      <td>0</td>\n",
       "      <td>0</td>\n",
       "      <td>0</td>\n",
       "      <td>0</td>\n",
       "      <td>1</td>\n",
       "      <td>0</td>\n",
       "      <td>0</td>\n",
       "      <td>1</td>\n",
       "      <td>0</td>\n",
       "    </tr>\n",
       "    <tr>\n",
       "      <th>1</th>\n",
       "      <td>1</td>\n",
       "      <td>0</td>\n",
       "      <td>26.0</td>\n",
       "      <td>3</td>\n",
       "      <td>0</td>\n",
       "      <td>0</td>\n",
       "      <td>1</td>\n",
       "      <td>0</td>\n",
       "      <td>0</td>\n",
       "      <td>0</td>\n",
       "      <td>...</td>\n",
       "      <td>0</td>\n",
       "      <td>0</td>\n",
       "      <td>0</td>\n",
       "      <td>0</td>\n",
       "      <td>0</td>\n",
       "      <td>1</td>\n",
       "      <td>0</td>\n",
       "      <td>0</td>\n",
       "      <td>1</td>\n",
       "      <td>0</td>\n",
       "    </tr>\n",
       "    <tr>\n",
       "      <th>2</th>\n",
       "      <td>0</td>\n",
       "      <td>0</td>\n",
       "      <td>35.0</td>\n",
       "      <td>3</td>\n",
       "      <td>0</td>\n",
       "      <td>0</td>\n",
       "      <td>0</td>\n",
       "      <td>1</td>\n",
       "      <td>0</td>\n",
       "      <td>0</td>\n",
       "      <td>...</td>\n",
       "      <td>0</td>\n",
       "      <td>0</td>\n",
       "      <td>0</td>\n",
       "      <td>0</td>\n",
       "      <td>0</td>\n",
       "      <td>1</td>\n",
       "      <td>0</td>\n",
       "      <td>0</td>\n",
       "      <td>1</td>\n",
       "      <td>0</td>\n",
       "    </tr>\n",
       "    <tr>\n",
       "      <th>3</th>\n",
       "      <td>0</td>\n",
       "      <td>0</td>\n",
       "      <td>-999.0</td>\n",
       "      <td>3</td>\n",
       "      <td>0</td>\n",
       "      <td>0</td>\n",
       "      <td>0</td>\n",
       "      <td>1</td>\n",
       "      <td>0</td>\n",
       "      <td>0</td>\n",
       "      <td>...</td>\n",
       "      <td>0</td>\n",
       "      <td>0</td>\n",
       "      <td>0</td>\n",
       "      <td>0</td>\n",
       "      <td>0</td>\n",
       "      <td>1</td>\n",
       "      <td>0</td>\n",
       "      <td>1</td>\n",
       "      <td>0</td>\n",
       "      <td>0</td>\n",
       "    </tr>\n",
       "    <tr>\n",
       "      <th>4</th>\n",
       "      <td>0</td>\n",
       "      <td>0</td>\n",
       "      <td>54.0</td>\n",
       "      <td>1</td>\n",
       "      <td>0</td>\n",
       "      <td>0</td>\n",
       "      <td>0</td>\n",
       "      <td>1</td>\n",
       "      <td>0</td>\n",
       "      <td>0</td>\n",
       "      <td>...</td>\n",
       "      <td>0</td>\n",
       "      <td>1</td>\n",
       "      <td>0</td>\n",
       "      <td>0</td>\n",
       "      <td>0</td>\n",
       "      <td>0</td>\n",
       "      <td>0</td>\n",
       "      <td>0</td>\n",
       "      <td>1</td>\n",
       "      <td>0</td>\n",
       "    </tr>\n",
       "  </tbody>\n",
       "</table>\n",
       "<p>5 rows × 22 columns</p>\n",
       "</div>"
      ],
      "text/plain": [
       "   Survived  No_of_relatives_on_board    Age  PassengerClass  \\\n",
       "0         0                         1   22.0               3   \n",
       "1         1                         0   26.0               3   \n",
       "2         0                         0   35.0               3   \n",
       "3         0                         0 -999.0               3   \n",
       "4         0                         0   54.0               1   \n",
       "\n",
       "   No_of_siblings_plus_spouses_on_board  No_of_parents_plus_children_on_board  \\\n",
       "0                                     1                                     0   \n",
       "1                                     0                                     0   \n",
       "2                                     0                                     0   \n",
       "3                                     0                                     0   \n",
       "4                                     0                                     0   \n",
       "\n",
       "   Sex_female  Sex_male  Sex_nan  Deck_A  ...  Deck_D  Deck_E  Deck_F  Deck_G  \\\n",
       "0           0         1        0       0  ...       0       0       0       0   \n",
       "1           1         0        0       0  ...       0       0       0       0   \n",
       "2           0         1        0       0  ...       0       0       0       0   \n",
       "3           0         1        0       0  ...       0       0       0       0   \n",
       "4           0         1        0       0  ...       0       1       0       0   \n",
       "\n",
       "   Deck_T  Deck_Unkown  Embarked_Cherbourg  Embarked_Queenstown  \\\n",
       "0       0            1                   0                    0   \n",
       "1       0            1                   0                    0   \n",
       "2       0            1                   0                    0   \n",
       "3       0            1                   0                    1   \n",
       "4       0            0                   0                    0   \n",
       "\n",
       "   Embarked_Southampton  Embarked_Unknown  \n",
       "0                     1                 0  \n",
       "1                     1                 0  \n",
       "2                     1                 0  \n",
       "3                     0                 0  \n",
       "4                     1                 0  \n",
       "\n",
       "[5 rows x 22 columns]"
      ]
     },
     "execution_count": 25,
     "metadata": {},
     "output_type": "execute_result"
    }
   ],
   "source": [
    "X_train.head()"
   ]
  },
  {
   "cell_type": "code",
   "execution_count": 26,
   "metadata": {
    "ExecuteTime": {
     "end_time": "2020-10-12T09:02:27.737291Z",
     "start_time": "2020-10-12T09:02:27.730334Z"
    }
   },
   "outputs": [
    {
     "data": {
      "text/plain": [
       "0     7.2500\n",
       "1     7.9250\n",
       "2     8.0500\n",
       "3     8.4583\n",
       "4    51.8625\n",
       "Name: Fare, dtype: float64"
      ]
     },
     "execution_count": 26,
     "metadata": {},
     "output_type": "execute_result"
    }
   ],
   "source": [
    "y_train.head()"
   ]
  },
  {
   "cell_type": "markdown",
   "metadata": {},
   "source": [
    "## Adding units of target\n",
    "- In this case we are predicting the price of the fare, so we can add the units as `\"$\"`\n",
    "    - this will then be displayed along the axis of certain plots"
   ]
  },
  {
   "cell_type": "code",
   "execution_count": 28,
   "metadata": {
    "ExecuteTime": {
     "end_time": "2020-10-12T09:02:52.461711Z",
     "start_time": "2020-10-12T09:02:52.359099Z"
    }
   },
   "outputs": [
    {
     "data": {
      "text/plain": [
       "RandomForestRegressor(max_depth=5, n_estimators=50)"
      ]
     },
     "execution_count": 28,
     "metadata": {},
     "output_type": "execute_result"
    },
    {
     "name": "stdout",
     "output_type": "stream",
     "text": [
      "Note: shap=='guess' so guessing for RandomForestRegressor shap='tree'...\n",
      "Generating self.shap_explainer = shap.TreeExplainer(model)\n",
      "Changing class type to RandomForestRegressionExplainer...\n"
     ]
    }
   ],
   "source": [
    "from sklearn.ensemble import RandomForestRegressor\n",
    "from explainerdashboard import RegressionExplainer\n",
    "\n",
    "model = RandomForestRegressor(n_estimators=50, max_depth=5)\n",
    "model.fit(X_train, y_train)\n",
    "\n",
    "explainer = RegressionExplainer(model, X_test, y_test, \n",
    "                                cats=['Sex', 'Deck', 'Embarked'], \n",
    "                                idxs=test_names, \n",
    "                                descriptions = feature_descriptions,\n",
    "                                target='Fare',\n",
    "                                units=\"$\")"
   ]
  },
  {
   "cell_type": "code",
   "execution_count": 29,
   "metadata": {
    "ExecuteTime": {
     "end_time": "2020-10-12T09:02:55.006908Z",
     "start_time": "2020-10-12T09:02:54.161128Z"
    }
   },
   "outputs": [
    {
     "name": "stdout",
     "output_type": "stream",
     "text": [
      "Building ExplainerDashboard..\n",
      "Generating ShadowDecTree for each individual decision tree...\n",
      "Generating layout...\n",
      "Calculating shap values...\n",
      "Calculating predictions...\n",
      "Calculating residuals...\n",
      "Calculating absolute residuals...\n",
      "Calculating dependencies...\n",
      "Calculating importances...\n",
      "Calculating shap interaction values...\n",
      "Registering callbacks...\n"
     ]
    },
    {
     "data": {
      "text/html": [
       "\n",
       "        <iframe\n",
       "            width=\"1000\"\n",
       "            height=\"800\"\n",
       "            src=\"http://127.0.0.1:8050/\"\n",
       "            frameborder=\"0\"\n",
       "            allowfullscreen\n",
       "        ></iframe>\n",
       "        "
      ],
      "text/plain": [
       "<IPython.lib.display.IFrame at 0x132bb9820>"
      ]
     },
     "metadata": {},
     "output_type": "display_data"
    },
    {
     "name": "stdout",
     "output_type": "stream",
     "text": [
      "Calculating prediction percentiles...\n"
     ]
    }
   ],
   "source": [
    "ExplainerDashboard(explainer, mode='inline').run()"
   ]
  },
  {
   "cell_type": "markdown",
   "metadata": {},
   "source": [
    "## LGBMRegressor, LinearRegression, CatBoostRegressor, XGBRegressor"
   ]
  },
  {
   "cell_type": "code",
   "execution_count": null,
   "metadata": {},
   "outputs": [],
   "source": [
    "from lightgbm.sklearn import LGBMRegressor\n",
    "model = LGBMRegressor()\n",
    "\n",
    "# from sklearn.linear_model import LinearRegression\n",
    "# model = LinearRegression()\n",
    "\n",
    "# from catboost import CatBoostRegressor\n",
    "# model = CatBoostRegressor(iterations=100, learning_rate=0.1, verbose=0)\n",
    "\n",
    "# from xgboost import XGBRegressor\n",
    "# model = XGBRegressor()\n",
    "\n",
    "model.fit(X_train, y_train)\n",
    "explainer = RegressionExplainer(model, X_test, y_test, \n",
    "                                cats=['Sex', 'Deck', 'Embarked'], \n",
    "                                idxs=test_names, \n",
    "                                units=\"$\")"
   ]
  },
  {
   "cell_type": "code",
   "execution_count": null,
   "metadata": {},
   "outputs": [],
   "source": [
    "ExplainerDashboard(explainer).run()"
   ]
  },
  {
   "cell_type": "markdown",
   "metadata": {},
   "source": [
    "# Multiclass Classifiers"
   ]
  },
  {
   "cell_type": "code",
   "execution_count": 30,
   "metadata": {
    "ExecuteTime": {
     "end_time": "2020-10-12T09:03:29.475750Z",
     "start_time": "2020-10-12T09:03:29.468922Z"
    }
   },
   "outputs": [],
   "source": [
    "from explainerdashboard.datasets import titanic_embarked, titanic_names\n",
    "\n",
    "X_train, y_train, X_test, y_test = titanic_embarked()\n",
    "train_names, test_names = titanic_names()"
   ]
  },
  {
   "cell_type": "code",
   "execution_count": 31,
   "metadata": {
    "ExecuteTime": {
     "end_time": "2020-10-12T09:03:34.226135Z",
     "start_time": "2020-10-12T09:03:34.042544Z"
    }
   },
   "outputs": [
    {
     "data": {
      "text/plain": [
       "RandomForestClassifier()"
      ]
     },
     "execution_count": 31,
     "metadata": {},
     "output_type": "execute_result"
    },
    {
     "name": "stdout",
     "output_type": "stream",
     "text": [
      "Note: shap=='guess' so guessing for RandomForestClassifier shap='tree'...\n",
      "Note: model_output=='probability', so assuming that raw shap output of RandomForestClassifier is in probability space...\n",
      "Generating self.shap_explainer = shap.TreeExplainer(model)\n",
      "Detected RandomForestClassifier model: Changing class type to RandomForestClassifierExplainer...\n"
     ]
    }
   ],
   "source": [
    "from sklearn.ensemble import RandomForestClassifier\n",
    "model = RandomForestClassifier()\n",
    "\n",
    "model.fit(X_train, y_train)\n",
    "\n",
    "explainer = ClassifierExplainer(model, X_test, y_test, \n",
    "                                    cats=['Sex', 'Deck'],\n",
    "                                    idxs=test_names, \n",
    "                                    labels=['Queenstown', 'Southampton', 'Cherbourg'],\n",
    "                                    pos_label='Southampton')"
   ]
  },
  {
   "cell_type": "code",
   "execution_count": 32,
   "metadata": {
    "ExecuteTime": {
     "end_time": "2020-10-12T09:04:02.751994Z",
     "start_time": "2020-10-12T09:03:35.879002Z"
    }
   },
   "outputs": [
    {
     "name": "stdout",
     "output_type": "stream",
     "text": [
      "Building ExplainerDashboard..\n",
      "Generating ShadowDecTree for each individual decision tree...\n",
      "Generating layout...\n",
      "Calculating shap values...\n",
      "Calculating dependencies...\n",
      "Calculating permutation importances (if slow, try setting n_jobs parameter)...\n",
      "Calculating categorical permutation importances (if slow, try setting n_jobs parameter)...\n",
      "Calculating predictions...\n",
      "Calculating prediction probabilities...\n",
      "Calculating pred_percentiles...\n",
      "Calculating shap interaction values...\n",
      "Registering callbacks...\n",
      "Starting ExplainerDashboard on http://localhost:8050\n",
      "Dash app running on http://127.0.0.1:8050/\n"
     ]
    }
   ],
   "source": [
    "ExplainerDashboard(explainer, mode='external').run()"
   ]
  },
  {
   "cell_type": "code",
   "execution_count": null,
   "metadata": {},
   "outputs": [],
   "source": []
  }
 ],
 "metadata": {
  "kernelspec": {
   "display_name": "Python 3",
   "language": "python",
   "name": "python3"
  },
  "language_info": {
   "codemirror_mode": {
    "name": "ipython",
    "version": 3
   },
   "file_extension": ".py",
   "mimetype": "text/x-python",
   "name": "python",
   "nbconvert_exporter": "python",
   "pygments_lexer": "ipython3",
   "version": "3.8.5"
  },
  "toc": {
   "base_numbering": 1,
   "nav_menu": {},
   "number_sections": true,
   "sideBar": true,
   "skip_h1_title": false,
   "title_cell": "Table of Contents",
   "title_sidebar": "Contents",
   "toc_cell": true,
   "toc_position": {
    "height": "calc(100% - 180px)",
    "left": "10px",
    "top": "150px",
    "width": "285.33px"
   },
   "toc_section_display": true,
   "toc_window_display": true
  }
 },
 "nbformat": 4,
 "nbformat_minor": 4
}
