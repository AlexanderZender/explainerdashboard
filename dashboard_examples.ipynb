{
 "cells": [
  {
   "cell_type": "code",
   "execution_count": 2,
   "metadata": {},
   "outputs": [],
   "source": [
    "%load_ext autoreload\n",
    "%autoreload 2"
   ]
  },
  {
   "cell_type": "code",
   "execution_count": 3,
   "metadata": {},
   "outputs": [],
   "source": [
    "import pandas as pd\n",
    "from sklearn.ensemble import RandomForestClassifier, RandomForestRegressor\n",
    "\n",
    "from sklearn.metrics import roc_auc_score, r2_score, accuracy_score, f1_score, precision_score, recall_score, log_loss"
   ]
  },
  {
   "cell_type": "code",
   "execution_count": 4,
   "metadata": {},
   "outputs": [],
   "source": [
    "from explainerdashboard.explainers import *\n",
    "from explainerdashboard.dashboards import *\n",
    "from explainerdashboard.datasets import *"
   ]
  },
  {
   "cell_type": "code",
   "execution_count": 5,
   "metadata": {},
   "outputs": [],
   "source": [
    "feature_descriptions = {\n",
    "    \"Sex\": \"Gender of passenger\",\n",
    "    \"Deck\": \"The deck the passenger had their cabin on\",\n",
    "    \"PassengerClass\": \"The class of the ticket: 1st, 2nd or 3rd class\",\n",
    "    \"Fare\": \"The amount of money people paid\", \n",
    "    \"No_of_relatives_on_board\": \"number of siblings, spouses, parents plus children on board\",\n",
    "    \"Embarked\": \"the port where the passenger boarded the Titanic. Either Southampton, Cherbourg or Queenstown\",\n",
    "    \"Age\": \"Age of the passenger\",\n",
    "    \"No_of_siblings_plus_spouses_on_board\": \"The sum of the number of siblings plus the number of spouses on board\",\n",
    "    \"No_of_parents_plus_children_on_board\" : \"The sum of the number of parents plus the number of children on board\",\n",
    "}"
   ]
  },
  {
   "cell_type": "markdown",
   "metadata": {},
   "source": [
    "# ClassifierBunch example"
   ]
  },
  {
   "cell_type": "markdown",
   "metadata": {},
   "source": [
    "## Load classifier data:\n",
    "    - predicting probability that a person on the titanic survived"
   ]
  },
  {
   "cell_type": "code",
   "execution_count": 28,
   "metadata": {},
   "outputs": [],
   "source": [
    "X_train, y_train, X_test, y_test = titanic_survive()\n",
    "train_names, test_names = titanic_names()"
   ]
  },
  {
   "cell_type": "markdown",
   "metadata": {},
   "source": [
    "## RandomForestClassifier"
   ]
  },
  {
   "cell_type": "code",
   "execution_count": 29,
   "metadata": {},
   "outputs": [
    {
     "name": "stdout",
     "output_type": "stream",
     "text": [
      "Warning: Assuming that shap output of RandomForestClassifier is probability...\n",
      "Generating self.shap_explainer = shap.TreeExplainer(model)\n",
      "You can always monkeypatch self.shap_explainer if desired...\n"
     ]
    }
   ],
   "source": [
    "model = RandomForestClassifier(n_estimators=50, max_depth=5)\n",
    "model.fit(X_train, y_train)\n",
    "\n",
    "explainer = RandomForestClassifierExplainer(model, X_test, y_test, metric=roc_auc_score, \n",
    "                               shap='tree',\n",
    "                               cats=['Sex', 'Deck', 'Embarked'],\n",
    "                               idxs=test_names, #names of passengers \n",
    "                               descriptions=feature_descriptions,\n",
    "                               labels=['Not survived', 'Survived'])"
   ]
  },
  {
   "cell_type": "code",
   "execution_count": null,
   "metadata": {},
   "outputs": [],
   "source": [
    "db = ExplainerDashboard(explainer,\n",
    "                        model_summary=True,\n",
    "                        contributions=True,\n",
    "                        shap_dependence=True,\n",
    "                        shap_interaction=True,\n",
    "                        decision_trees=True)\n",
    "db.run(8052)"
   ]
  },
  {
   "cell_type": "markdown",
   "metadata": {},
   "source": [
    "## LogisticRegression"
   ]
  },
  {
   "cell_type": "code",
   "execution_count": 30,
   "metadata": {},
   "outputs": [
    {
     "name": "stdout",
     "output_type": "stream",
     "text": [
      "Warning: model_output='probability' is currently not supported for linear classifiers models with shap. So defaulting to model_output='logodds' If you really need probability outputs use shap='kernel' instead.\n",
      "Warning: shap values for shap='linear' get calculated against X_background, but paramater X_background=None, so using X instead...\n",
      "Generating self.shap_explainer = shap.LinearExplainer(model, X)...\n",
      "You can always monkeypatch self.shap_explainer if desired...\n"
     ]
    }
   ],
   "source": [
    "from sklearn.linear_model import LogisticRegression\n",
    "\n",
    "model = LogisticRegression()\n",
    "model.fit(X_train, y_train)\n",
    "\n",
    "explainer = ClassifierExplainer(model, X_test, y_test, metric=roc_auc_score, \n",
    "                               shap='linear',\n",
    "                               cats=['Sex', 'Deck', 'Embarked'],\n",
    "                               idxs=test_names, #names of passengers \n",
    "                               descriptions=feature_descriptions,\n",
    "                               labels=['Not survived', 'Survived'])"
   ]
  },
  {
   "cell_type": "code",
   "execution_count": null,
   "metadata": {},
   "outputs": [],
   "source": [
    "db = ExplainerDashboard(explainer,\n",
    "                        model_summary=True,\n",
    "                        contributions=True,\n",
    "                        shap_dependence=True,\n",
    "                        shap_interaction=False, # Linear models have no interactions\n",
    "                        decision_trees=False) # Linear models have no decision trees\n",
    "db.run(8052)"
   ]
  },
  {
   "cell_type": "markdown",
   "metadata": {},
   "source": [
    "## XGBClassifier"
   ]
  },
  {
   "cell_type": "code",
   "execution_count": 31,
   "metadata": {},
   "outputs": [
    {
     "name": "stdout",
     "output_type": "stream",
     "text": [
      "Generating self.shap_explainer = shap.TreeExplainer(model)\n",
      "You can always monkeypatch self.shap_explainer if desired...\n"
     ]
    }
   ],
   "source": [
    "from xgboost import XGBClassifier\n",
    "\n",
    "model = XGBClassifier()\n",
    "model.fit(X_train, y_train)\n",
    "\n",
    "explainer = ClassifierExplainer(model, X_test, y_test, roc_auc_score, \n",
    "                                  shap='tree', model_output=\"logodds\", \n",
    "                                   cats=['Sex', 'Deck', 'Embarked'],\n",
    "                                   idxs=test_names, #names of passengers \n",
    "                                   labels=['Not survived', 'Survived'])\n",
    "\n"
   ]
  },
  {
   "cell_type": "code",
   "execution_count": 95,
   "metadata": {},
   "outputs": [
    {
     "name": "stdout",
     "output_type": "stream",
     "text": [
      "Calculating shap values...\n",
      "Calculating predictions...\n",
      "Calculating pred_percentiles...\n",
      "Calculating prediction probabilities...\n",
      "Calculating importances...\n",
      "Calculating shap interaction values...\n",
      "Running Model Explainer on http://localhost:8052\n",
      " * Serving Flask app \"explainerdashboard.dashboards\" (lazy loading)\n",
      " * Environment: production\n",
      "   WARNING: This is a development server. Do not use it in a production deployment.\n",
      "   Use a production WSGI server instead.\n",
      " * Debug mode: off\n"
     ]
    },
    {
     "name": "stderr",
     "output_type": "stream",
     "text": [
      " * Running on http://127.0.0.1:8052/ (Press CTRL+C to quit)\n",
      "127.0.0.1 - - [03/Jun/2020 11:01:40] \"\u001b[37mGET / HTTP/1.1\u001b[0m\" 200 -\n",
      "127.0.0.1 - - [03/Jun/2020 11:01:41] \"\u001b[36mGET /assets/main.css?m=1590232199.1879547 HTTP/1.1\u001b[0m\" 304 -\n",
      "127.0.0.1 - - [03/Jun/2020 11:01:41] \"\u001b[36mGET /assets/bootstrap.css?m=1570631370.0 HTTP/1.1\u001b[0m\" 304 -\n",
      "127.0.0.1 - - [03/Jun/2020 11:01:41] \"\u001b[36mGET /assets/stylesheet.css?m=1570631370.0 HTTP/1.1\u001b[0m\" 304 -\n",
      "127.0.0.1 - - [03/Jun/2020 11:01:41] \"\u001b[36mGET /assets/util.css?m=1513660272.0 HTTP/1.1\u001b[0m\" 304 -\n",
      "127.0.0.1 - - [03/Jun/2020 11:01:41] \"\u001b[36mGET /assets/dash_bootstrap_components.min.js?m=1570631370.0 HTTP/1.1\u001b[0m\" 304 -\n",
      "127.0.0.1 - - [03/Jun/2020 11:01:42] \"\u001b[37mGET /_dash-dependencies HTTP/1.1\u001b[0m\" 200 -\n",
      "127.0.0.1 - - [03/Jun/2020 11:01:42] \"\u001b[37mGET /_dash-layout HTTP/1.1\u001b[0m\" 200 -\n",
      "127.0.0.1 - - [03/Jun/2020 11:01:42] \"\u001b[37mGET /_dash-component-suites/dash_core_components/async-plotlyjs.v1_10_0m1588696753.js HTTP/1.1\u001b[0m\" 200 -\n",
      "127.0.0.1 - - [03/Jun/2020 11:01:43] \"\u001b[37mPOST /_dash-update-component HTTP/1.1\u001b[0m\" 200 -\n",
      "127.0.0.1 - - [03/Jun/2020 11:01:43] \"\u001b[37mPOST /_dash-update-component HTTP/1.1\u001b[0m\" 200 -\n",
      "127.0.0.1 - - [03/Jun/2020 11:01:43] \"\u001b[37mPOST /_dash-update-component HTTP/1.1\u001b[0m\" 204 -\n",
      "127.0.0.1 - - [03/Jun/2020 11:01:43] \"\u001b[37mPOST /_dash-update-component HTTP/1.1\u001b[0m\" 204 -\n",
      "127.0.0.1 - - [03/Jun/2020 11:01:43] \"\u001b[37mPOST /_dash-update-component HTTP/1.1\u001b[0m\" 200 -\n",
      "127.0.0.1 - - [03/Jun/2020 11:01:43] \"\u001b[37mPOST /_dash-update-component HTTP/1.1\u001b[0m\" 204 -\n",
      "127.0.0.1 - - [03/Jun/2020 11:01:43] \"\u001b[37mPOST /_dash-update-component HTTP/1.1\u001b[0m\" 200 -\n",
      "127.0.0.1 - - [03/Jun/2020 11:01:43] \"\u001b[37mPOST /_dash-update-component HTTP/1.1\u001b[0m\" 200 -\n",
      "127.0.0.1 - - [03/Jun/2020 11:01:43] \"\u001b[37mPOST /_dash-update-component HTTP/1.1\u001b[0m\" 200 -\n",
      "127.0.0.1 - - [03/Jun/2020 11:01:43] \"\u001b[37mPOST /_dash-update-component HTTP/1.1\u001b[0m\" 200 -\n",
      "127.0.0.1 - - [03/Jun/2020 11:01:43] \"\u001b[37mPOST /_dash-update-component HTTP/1.1\u001b[0m\" 200 -\n",
      "127.0.0.1 - - [03/Jun/2020 11:01:43] \"\u001b[37mPOST /_dash-update-component HTTP/1.1\u001b[0m\" 200 -\n",
      "127.0.0.1 - - [03/Jun/2020 11:01:44] \"\u001b[37mPOST /_dash-update-component HTTP/1.1\u001b[0m\" 200 -\n",
      "127.0.0.1 - - [03/Jun/2020 11:01:44] \"\u001b[37mPOST /_dash-update-component HTTP/1.1\u001b[0m\" 200 -\n",
      "127.0.0.1 - - [03/Jun/2020 11:01:45] \"\u001b[37mPOST /_dash-update-component HTTP/1.1\u001b[0m\" 200 -\n",
      "127.0.0.1 - - [03/Jun/2020 11:01:45] \"\u001b[37mPOST /_dash-update-component HTTP/1.1\u001b[0m\" 200 -\n",
      "127.0.0.1 - - [03/Jun/2020 11:01:46] \"\u001b[37mPOST /_dash-update-component HTTP/1.1\u001b[0m\" 200 -\n",
      "127.0.0.1 - - [03/Jun/2020 11:01:46] \"\u001b[37mPOST /_dash-update-component HTTP/1.1\u001b[0m\" 200 -\n",
      "127.0.0.1 - - [03/Jun/2020 11:01:46] \"\u001b[37mPOST /_dash-update-component HTTP/1.1\u001b[0m\" 200 -\n",
      "127.0.0.1 - - [03/Jun/2020 11:01:46] \"\u001b[37mPOST /_dash-update-component HTTP/1.1\u001b[0m\" 200 -\n",
      "127.0.0.1 - - [03/Jun/2020 11:01:47] \"\u001b[37mPOST /_dash-update-component HTTP/1.1\u001b[0m\" 200 -\n",
      "127.0.0.1 - - [03/Jun/2020 11:01:47] \"\u001b[37mPOST /_dash-update-component HTTP/1.1\u001b[0m\" 200 -\n",
      "127.0.0.1 - - [03/Jun/2020 11:01:52] \"\u001b[37mPOST /_dash-update-component HTTP/1.1\u001b[0m\" 200 -\n",
      "127.0.0.1 - - [03/Jun/2020 11:01:55] \"\u001b[37mPOST /_dash-update-component HTTP/1.1\u001b[0m\" 200 -\n",
      "127.0.0.1 - - [03/Jun/2020 11:01:57] \"\u001b[37mPOST /_dash-update-component HTTP/1.1\u001b[0m\" 200 -\n",
      "127.0.0.1 - - [03/Jun/2020 11:02:00] \"\u001b[37mPOST /_dash-update-component HTTP/1.1\u001b[0m\" 200 -\n",
      "127.0.0.1 - - [03/Jun/2020 11:02:00] \"\u001b[37mPOST /_dash-update-component HTTP/1.1\u001b[0m\" 200 -\n",
      "127.0.0.1 - - [03/Jun/2020 11:02:05] \"\u001b[37mPOST /_dash-update-component HTTP/1.1\u001b[0m\" 200 -\n",
      "127.0.0.1 - - [03/Jun/2020 11:02:05] \"\u001b[37mPOST /_dash-update-component HTTP/1.1\u001b[0m\" 200 -\n",
      "127.0.0.1 - - [03/Jun/2020 11:02:08] \"\u001b[37mPOST /_dash-update-component HTTP/1.1\u001b[0m\" 200 -\n",
      "127.0.0.1 - - [03/Jun/2020 11:02:09] \"\u001b[37mPOST /_dash-update-component HTTP/1.1\u001b[0m\" 200 -\n"
     ]
    }
   ],
   "source": [
    "db = ExplainerDashboard(explainer,\n",
    "                        model_summary=True,\n",
    "                        contributions=True,\n",
    "                        shap_dependence=True,\n",
    "                        shap_interaction=True) \n",
    "db.run(8052)"
   ]
  },
  {
   "cell_type": "markdown",
   "metadata": {},
   "source": [
    "## LGBMClassifier"
   ]
  },
  {
   "cell_type": "code",
   "execution_count": 32,
   "metadata": {},
   "outputs": [
    {
     "name": "stdout",
     "output_type": "stream",
     "text": [
      "Warning: for LGBMClassifier with model_output='probability' shap values normally get calculated against X_background, but paramater X_background=None, so using X instead\n",
      "Generating self.shap_explainer = shap.TreeExplainer(model, X, model_output='probability', feature_perturbation='interventional')...\n",
      "Shap interaction values will not be available. If shap values in probability space are not necessary you can pass model_output='logodds' to get shap interation values back...\n",
      "You can always monkeypatch self.shap_explainer if desired...\n"
     ]
    }
   ],
   "source": [
    "from lightgbm.sklearn import LGBMClassifier\n",
    "\n",
    "model = LGBMClassifier()\n",
    "model.fit(X_train, y_train)\n",
    "\n",
    "explainer = ClassifierExplainer(model, X_test, y_test, roc_auc_score, \n",
    "                                shap='tree', \n",
    "                                #X_background=X_train,\n",
    "                                model_output = \"probability\", # alternative: 'logodds'\n",
    "                                cats=['Sex', 'Deck', 'Embarked'],\n",
    "                                idxs=test_names, #names of passengers \n",
    "                                labels=['Not survived', 'Survived'])"
   ]
  },
  {
   "cell_type": "code",
   "execution_count": null,
   "metadata": {},
   "outputs": [],
   "source": [
    "db = ExplainerDashboard(explainer,\n",
    "                        model_summary=True,\n",
    "                        contributions=True,\n",
    "                        shap_dependence=True,\n",
    "                        shap_interaction=False) # not supported for model_output = 'probability'\n",
    "db.run(8052)"
   ]
  },
  {
   "cell_type": "markdown",
   "metadata": {},
   "source": [
    "## CatBoostClassifier"
   ]
  },
  {
   "cell_type": "code",
   "execution_count": null,
   "metadata": {},
   "outputs": [],
   "source": [
    "from catboost import CatBoostClassifier\n",
    "\n",
    "model = CatBoostClassifier(iterations=100, learning_rate=100)\n",
    "\n",
    "model.fit(X_train, y_train)\n",
    "\n",
    "explainer = ClassifierBunch(model, X_test, y_test, roc_auc_score, shap='tree',\n",
    "                                   cats=['Sex', 'Deck', 'Embarked'],\n",
    "                                   idxs=test_names, #names of passengers \n",
    "                                   labels=['Not survived', 'Survived'])"
   ]
  },
  {
   "cell_type": "code",
   "execution_count": null,
   "metadata": {},
   "outputs": [],
   "source": [
    "db = ExplainerDashboard(explainer,\n",
    "                        model_summary=True,\n",
    "                        contributions=True,\n",
    "                        shap_dependence=True,\n",
    "                        shap_interaction=False) \n",
    "db.run(8052)"
   ]
  },
  {
   "cell_type": "markdown",
   "metadata": {},
   "source": [
    "# RegressionBunch example"
   ]
  },
  {
   "cell_type": "markdown",
   "metadata": {},
   "source": [
    "## Load regression data:\n",
    "    - predicting the fare that a titanic passenger paid for their ticket"
   ]
  },
  {
   "cell_type": "code",
   "execution_count": 21,
   "metadata": {},
   "outputs": [],
   "source": [
    "X_train, y_train, X_test, y_test = titanic_fare()\n",
    "train_names, test_names = titanic_names()"
   ]
  },
  {
   "cell_type": "markdown",
   "metadata": {},
   "source": [
    "## RandomForestRegressor"
   ]
  },
  {
   "cell_type": "code",
   "execution_count": 22,
   "metadata": {},
   "outputs": [
    {
     "name": "stdout",
     "output_type": "stream",
     "text": [
      "Generating self.shap_explainer = shap.TreeExplainer(model)\n",
      "You can monkeypatch self.shap_explainer if desired...\n"
     ]
    }
   ],
   "source": [
    "model = RandomForestRegressor(n_estimators=50, max_depth=5)\n",
    "model.fit(X_train, y_train)\n",
    "\n",
    "explainer = RandomForestRegressionExplainer(model, X_test, y_test, r2_score,\n",
    "                shap='tree', cats=['Sex', 'Deck', 'Embarked'], idxs=test_names, units=\"$\")"
   ]
  },
  {
   "cell_type": "code",
   "execution_count": null,
   "metadata": {},
   "outputs": [],
   "source": [
    "db = ExplainerDashboard(explainer,\n",
    "                        model_summary=True,\n",
    "                        contributions=True,\n",
    "                        shap_dependence=True,\n",
    "                        shap_interaction=True,\n",
    "                        decision_trees=True)\n",
    "db.run(8052)"
   ]
  },
  {
   "cell_type": "markdown",
   "metadata": {},
   "source": [
    "## LinearRegression"
   ]
  },
  {
   "cell_type": "code",
   "execution_count": 23,
   "metadata": {},
   "outputs": [
    {
     "name": "stdout",
     "output_type": "stream",
     "text": [
      "Warning: shap values for shap.LinearExplainer get calculatedagainst X_background, but paramater X_background=None, so using X instead\n",
      "Generating self.shap_explainer = shap.LinearExplainer(model, X)...\n",
      "You can monkeypatch self.shap_explainer if desired...\n"
     ]
    }
   ],
   "source": [
    "from sklearn.linear_model import LinearRegression\n",
    "\n",
    "model = LinearRegression()\n",
    "model.fit(X_train, y_train)\n",
    "explainer = RegressionExplainer(model, X_test, y_test, r2_score, \n",
    "                shap='linear', cats=['Sex', 'Deck', 'Embarked'], idxs=test_names, units=\"$\")"
   ]
  },
  {
   "cell_type": "code",
   "execution_count": null,
   "metadata": {},
   "outputs": [],
   "source": [
    "db = ExplainerDashboard(explainer,\n",
    "                        model_summary=True,\n",
    "                        §contributions=True,\n",
    "                        shap_dependence=True,\n",
    "                        shap_interaction=False)\n",
    "db.run(8052)"
   ]
  },
  {
   "cell_type": "markdown",
   "metadata": {},
   "source": [
    "## XGBRegressor"
   ]
  },
  {
   "cell_type": "code",
   "execution_count": 24,
   "metadata": {},
   "outputs": [
    {
     "name": "stdout",
     "output_type": "stream",
     "text": [
      "[16:45:11] WARNING: src/objective/regression_obj.cu:152: reg:linear is now deprecated in favor of reg:squarederror.\n",
      "Generating self.shap_explainer = shap.TreeExplainer(model)\n",
      "You can monkeypatch self.shap_explainer if desired...\n"
     ]
    }
   ],
   "source": [
    "from xgboost import XGBRegressor\n",
    "\n",
    "model = XGBRegressor()\n",
    "model.fit(X_train, y_train)\n",
    "\n",
    "explainer = RegressionExplainer(model, X_test, y_test, r2_score, \n",
    "                shap='tree', cats=['Sex', 'Deck', 'Embarked'], idxs=test_names, units=\"$\")"
   ]
  },
  {
   "cell_type": "code",
   "execution_count": null,
   "metadata": {},
   "outputs": [],
   "source": [
    "db = ExplainerDashboard(explainer,\n",
    "                        model_summary=True,\n",
    "                        contributions=True,\n",
    "                        shap_dependence=True,\n",
    "                        shap_interaction=False) #only model_output = \"raw\" supportted with interaction values for now\n",
    "db.run(8052)"
   ]
  },
  {
   "cell_type": "markdown",
   "metadata": {},
   "source": [
    "## LightGBM"
   ]
  },
  {
   "cell_type": "code",
   "execution_count": 27,
   "metadata": {},
   "outputs": [
    {
     "name": "stdout",
     "output_type": "stream",
     "text": [
      "Generating self.shap_explainer = shap.TreeExplainer(model)\n",
      "You can monkeypatch self.shap_explainer if desired...\n"
     ]
    }
   ],
   "source": [
    "from lightgbm.sklearn import LGBMRegressor\n",
    "\n",
    "model = LGBMRegressor()\n",
    "model.fit(X_train, y_train)\n",
    "\n",
    "explainer = RegressionExplainer(model, X_test, y_test, r2_score, \n",
    "                shap='tree', cats=['Sex', 'Deck', 'Embarked'], idxs=test_names, units=\"$\")"
   ]
  },
  {
   "cell_type": "code",
   "execution_count": null,
   "metadata": {},
   "outputs": [],
   "source": [
    "db = ExplainerDashboard(explainer,\n",
    "                        model_summary=True,\n",
    "                        contributions=True,\n",
    "                        shap_dependence=True,\n",
    "                        shap_interaction=True) \n",
    "db.run(8052)"
   ]
  },
  {
   "cell_type": "markdown",
   "metadata": {},
   "source": [
    "## CatBoost"
   ]
  },
  {
   "cell_type": "code",
   "execution_count": 14,
   "metadata": {},
   "outputs": [
    {
     "name": "stdout",
     "output_type": "stream",
     "text": [
      "Generating self.shap_explainer = shap.TreeExplainer(model)...\n",
      "You can monkeypatch self.shap_explainer if desired...\n"
     ]
    }
   ],
   "source": [
    "from catboost import CatBoostRegressor\n",
    "\n",
    "model = CatBoostRegressor(iterations=100, learning_rate=0.1, verbose=0)\n",
    "model.fit(X_train, y_train)\n",
    "\n",
    "explainer = RegressionExplainer(model, X_test, y_test, r2_score, \n",
    "                shap='tree', cats=['Sex', 'Deck', 'Embarked'], idxs=test_names, units=\"$\")"
   ]
  },
  {
   "cell_type": "code",
   "execution_count": 15,
   "metadata": {},
   "outputs": [
    {
     "name": "stdout",
     "output_type": "stream",
     "text": [
      "Calculating shap values...\n",
      "Calculating predictions...\n",
      "Calculating prediction percentiles...\n",
      "Calculating shap values...\n",
      "Calculating importances...\n",
      "Running Model Explainer on http://localhost:8052\n",
      " * Serving Flask app \"explainerdashboard.dashboards\" (lazy loading)\n",
      " * Environment: production\n",
      "   WARNING: This is a development server. Do not use it in a production deployment.\n",
      "   Use a production WSGI server instead.\n",
      " * Debug mode: off\n"
     ]
    },
    {
     "name": "stderr",
     "output_type": "stream",
     "text": [
      " * Running on http://127.0.0.1:8052/ (Press CTRL+C to quit)\n",
      "127.0.0.1 - - [03/Jun/2020 11:45:15] \"\u001b[37mGET / HTTP/1.1\u001b[0m\" 200 -\n",
      "127.0.0.1 - - [03/Jun/2020 11:45:17] \"\u001b[37mGET /_dash-layout HTTP/1.1\u001b[0m\" 200 -\n",
      "127.0.0.1 - - [03/Jun/2020 11:45:17] \"\u001b[37mGET /_dash-dependencies HTTP/1.1\u001b[0m\" 200 -\n",
      "127.0.0.1 - - [03/Jun/2020 11:45:18] \"\u001b[37mPOST /_dash-update-component HTTP/1.1\u001b[0m\" 200 -\n",
      "127.0.0.1 - - [03/Jun/2020 11:45:18] \"\u001b[37mPOST /_dash-update-component HTTP/1.1\u001b[0m\" 204 -\n",
      "127.0.0.1 - - [03/Jun/2020 11:45:18] \"\u001b[37mPOST /_dash-update-component HTTP/1.1\u001b[0m\" 204 -\n",
      "127.0.0.1 - - [03/Jun/2020 11:45:18] \"\u001b[37mPOST /_dash-update-component HTTP/1.1\u001b[0m\" 200 -\n",
      "127.0.0.1 - - [03/Jun/2020 11:45:18] \"\u001b[37mPOST /_dash-update-component HTTP/1.1\u001b[0m\" 204 -\n",
      "127.0.0.1 - - [03/Jun/2020 11:45:18] \"\u001b[37mPOST /_dash-update-component HTTP/1.1\u001b[0m\" 200 -\n",
      "127.0.0.1 - - [03/Jun/2020 11:45:18] \"\u001b[37mPOST /_dash-update-component HTTP/1.1\u001b[0m\" 200 -\n",
      "127.0.0.1 - - [03/Jun/2020 11:45:18] \"\u001b[37mPOST /_dash-update-component HTTP/1.1\u001b[0m\" 200 -\n",
      "127.0.0.1 - - [03/Jun/2020 11:45:18] \"\u001b[37mPOST /_dash-update-component HTTP/1.1\u001b[0m\" 200 -\n",
      "127.0.0.1 - - [03/Jun/2020 11:45:18] \"\u001b[37mPOST /_dash-update-component HTTP/1.1\u001b[0m\" 200 -\n",
      "127.0.0.1 - - [03/Jun/2020 11:45:18] \"\u001b[37mPOST /_dash-update-component HTTP/1.1\u001b[0m\" 200 -\n",
      "127.0.0.1 - - [03/Jun/2020 11:45:21] \"\u001b[37mPOST /_dash-update-component HTTP/1.1\u001b[0m\" 200 -\n",
      "127.0.0.1 - - [03/Jun/2020 11:45:21] \"\u001b[37mPOST /_dash-update-component HTTP/1.1\u001b[0m\" 200 -\n"
     ]
    }
   ],
   "source": [
    "db = ExplainerDashboard(explainer,\n",
    "                        model_summary=True,\n",
    "                        contributions=True,\n",
    "                        shap_dependence=True,\n",
    "                        shap_interaction=False) # interactions not supported for now due to this issue: https://github.com/slundberg/shap/issues/480 \n",
    "db.run(8052)"
   ]
  },
  {
   "cell_type": "code",
   "execution_count": null,
   "metadata": {},
   "outputs": [],
   "source": []
  }
 ],
 "metadata": {
  "kernelspec": {
   "display_name": "Python 3",
   "language": "python",
   "name": "python3"
  },
  "language_info": {
   "codemirror_mode": {
    "name": "ipython",
    "version": 3
   },
   "file_extension": ".py",
   "mimetype": "text/x-python",
   "name": "python",
   "nbconvert_exporter": "python",
   "pygments_lexer": "ipython3",
   "version": "3.7.6"
  },
  "toc": {
   "base_numbering": 1,
   "nav_menu": {},
   "number_sections": true,
   "sideBar": true,
   "skip_h1_title": false,
   "title_cell": "Table of Contents",
   "title_sidebar": "Contents",
   "toc_cell": false,
   "toc_position": {},
   "toc_section_display": true,
   "toc_window_display": true
  }
 },
 "nbformat": 4,
 "nbformat_minor": 4
}
