{
 "cells": [
  {
   "cell_type": "markdown",
   "metadata": {
    "toc": true
   },
   "source": [
    "<h1>Table of Contents<span class=\"tocSkip\"></span></h1>\n",
    "<div class=\"toc\"><ul class=\"toc-item\"><li><span><a href=\"#Google-colab-link:\" data-toc-modified-id=\"Google-colab-link:-1\"><span class=\"toc-item-num\">1&nbsp;&nbsp;</span>Google colab link:</a></span></li><li><span><a href=\"#Imports\" data-toc-modified-id=\"Imports-2\"><span class=\"toc-item-num\">2&nbsp;&nbsp;</span>Imports</a></span></li><li><span><a href=\"#ClassifierExplainer-examples\" data-toc-modified-id=\"ClassifierExplainer-examples-3\"><span class=\"toc-item-num\">3&nbsp;&nbsp;</span>ClassifierExplainer examples</a></span><ul class=\"toc-item\"><li><span><a href=\"#Load-classifier-data:\" data-toc-modified-id=\"Load-classifier-data:-3.1\"><span class=\"toc-item-num\">3.1&nbsp;&nbsp;</span>Load classifier data:</a></span></li><li><span><a href=\"#One-line-example:\" data-toc-modified-id=\"One-line-example:-3.2\"><span class=\"toc-item-num\">3.2&nbsp;&nbsp;</span>One line example:</a></span></li><li><span><a href=\"#Multi-line-example\" data-toc-modified-id=\"Multi-line-example-3.3\"><span class=\"toc-item-num\">3.3&nbsp;&nbsp;</span>Multi line example</a></span><ul class=\"toc-item\"><li><span><a href=\"#Run-on-specific-port\" data-toc-modified-id=\"Run-on-specific-port-3.3.1\"><span class=\"toc-item-num\">3.3.1&nbsp;&nbsp;</span>Run on specific port</a></span></li><li><span><a href=\"#Switch-on/off-specific-tabs-(+add-title)\" data-toc-modified-id=\"Switch-on/off-specific-tabs-(+add-title)-3.3.2\"><span class=\"toc-item-num\">3.3.2&nbsp;&nbsp;</span>Switch on/off specific tabs (+add title)</a></span></li><li><span><a href=\"#cats,-idxs,-descriptions,-labels\" data-toc-modified-id=\"cats,-idxs,-descriptions,-labels-3.3.3\"><span class=\"toc-item-num\">3.3.3&nbsp;&nbsp;</span>cats, idxs, descriptions, labels</a></span></li><li><span><a href=\"#X_background,-model_output-and-shap\" data-toc-modified-id=\"X_background,-model_output-and-shap-3.3.4\"><span class=\"toc-item-num\">3.3.4&nbsp;&nbsp;</span>X_background, model_output and shap</a></span></li></ul></li></ul></li><li><span><a href=\"#mode='inline',-'jupyterlab',-'external'\" data-toc-modified-id=\"mode='inline',-'jupyterlab',-'external'-4\"><span class=\"toc-item-num\">4&nbsp;&nbsp;</span>mode='inline', 'jupyterlab', 'external'</a></span><ul class=\"toc-item\"><li><span><a href=\"#mode='inline'\" data-toc-modified-id=\"mode='inline'-4.1\"><span class=\"toc-item-num\">4.1&nbsp;&nbsp;</span>mode='inline'</a></span></li><li><span><a href=\"#Display-a-single-tab\" data-toc-modified-id=\"Display-a-single-tab-4.2\"><span class=\"toc-item-num\">4.2&nbsp;&nbsp;</span>Display a single tab</a></span></li><li><span><a href=\"#InlineExplainer\" data-toc-modified-id=\"InlineExplainer-4.3\"><span class=\"toc-item-num\">4.3&nbsp;&nbsp;</span>InlineExplainer</a></span></li><li><span><a href=\"#Terminating-'inline',-'jupyterlab'-or-'external'-dashboard\" data-toc-modified-id=\"Terminating-'inline',-'jupyterlab'-or-'external'-dashboard-4.4\"><span class=\"toc-item-num\">4.4&nbsp;&nbsp;</span>Terminating 'inline', 'jupyterlab' or 'external' dashboard</a></span></li></ul></li><li><span><a href=\"#XGBClassifier,-LGBMClassifier,-CatBoostClassifier\" data-toc-modified-id=\"XGBClassifier,-LGBMClassifier,-CatBoostClassifier-5\"><span class=\"toc-item-num\">5&nbsp;&nbsp;</span>XGBClassifier, LGBMClassifier, CatBoostClassifier</a></span></li><li><span><a href=\"#RegressionExplainer\" data-toc-modified-id=\"RegressionExplainer-6\"><span class=\"toc-item-num\">6&nbsp;&nbsp;</span>RegressionExplainer</a></span><ul class=\"toc-item\"><li><span><a href=\"#Load-regression-data:\" data-toc-modified-id=\"Load-regression-data:-6.1\"><span class=\"toc-item-num\">6.1&nbsp;&nbsp;</span>Load regression data:</a></span></li><li><span><a href=\"#Adding-units-of-target\" data-toc-modified-id=\"Adding-units-of-target-6.2\"><span class=\"toc-item-num\">6.2&nbsp;&nbsp;</span>Adding units of target</a></span></li><li><span><a href=\"#LGBMRegressor,-LinearRegression,-CatBoostRegressor,-XGBRegressor\" data-toc-modified-id=\"LGBMRegressor,-LinearRegression,-CatBoostRegressor,-XGBRegressor-6.3\"><span class=\"toc-item-num\">6.3&nbsp;&nbsp;</span>LGBMRegressor, LinearRegression, CatBoostRegressor, XGBRegressor</a></span></li></ul></li><li><span><a href=\"#Multiclass-Classifiers\" data-toc-modified-id=\"Multiclass-Classifiers-7\"><span class=\"toc-item-num\">7&nbsp;&nbsp;</span>Multiclass Classifiers</a></span></li><li><span><a href=\"#RandomForestsExplainer\" data-toc-modified-id=\"RandomForestsExplainer-8\"><span class=\"toc-item-num\">8&nbsp;&nbsp;</span>RandomForestsExplainer</a></span><ul class=\"toc-item\"><li><span><a href=\"#RandomForestClassifier\" data-toc-modified-id=\"RandomForestClassifier-8.1\"><span class=\"toc-item-num\">8.1&nbsp;&nbsp;</span>RandomForestClassifier</a></span></li><li><span><a href=\"#RandomForestRegressor\" data-toc-modified-id=\"RandomForestRegressor-8.2\"><span class=\"toc-item-num\">8.2&nbsp;&nbsp;</span>RandomForestRegressor</a></span></li></ul></li></ul></div>"
   ]
  },
  {
   "cell_type": "markdown",
   "metadata": {},
   "source": [
    "# Google colab link:\n",
    "\n",
    "[https://colab.research.google.com/github/oegedijk/explainerdashboard/blob/master/dashboard_examples.ipynb](https://colab.research.google.com/github/oegedijk/explainerdashboard/blob/master/dashboard_examples.ipynb)"
   ]
  },
  {
   "cell_type": "markdown",
   "metadata": {
    "ExecuteTime": {
     "end_time": "2020-10-01T09:06:26.294359Z",
     "start_time": "2020-10-01T09:06:26.289751Z"
    }
   },
   "source": [
    "Install explainerdashboard:"
   ]
  },
  {
   "cell_type": "code",
   "execution_count": 2,
   "metadata": {
    "ExecuteTime": {
     "end_time": "2020-10-01T09:06:35.328095Z",
     "start_time": "2020-10-01T09:06:32.529532Z"
    }
   },
   "outputs": [
    {
     "name": "stdout",
     "output_type": "stream",
     "text": [
      "Collecting explainerdashboard\n",
      "  Using cached explainerdashboard-0.2.4-py3-none-any.whl (329 kB)\n",
      "Requirement already satisfied: shap in ./venv/lib/python3.8/site-packages (from explainerdashboard) (0.36.0)\n",
      "Requirement already satisfied: numpy in ./venv/lib/python3.8/site-packages (from explainerdashboard) (1.19.2)\n",
      "Requirement already satisfied: scikit-learn in ./venv/lib/python3.8/site-packages (from explainerdashboard) (0.23.2)\n",
      "Requirement already satisfied: dtreeviz>=1.0 in ./venv/lib/python3.8/site-packages (from explainerdashboard) (1.1)\n",
      "Requirement already satisfied: shortuuid in ./venv/lib/python3.8/site-packages (from explainerdashboard) (1.0.1)\n",
      "Requirement already satisfied: PDPbox in ./venv/lib/python3.8/site-packages (from explainerdashboard) (0.2.0)\n",
      "Requirement already satisfied: dash in ./venv/lib/python3.8/site-packages (from explainerdashboard) (1.16.2)\n",
      "Requirement already satisfied: pandas in ./venv/lib/python3.8/site-packages (from explainerdashboard) (1.1.2)\n",
      "Requirement already satisfied: jupyter-dash in ./venv/lib/python3.8/site-packages (from explainerdashboard) (0.3.1)\n",
      "Requirement already satisfied: dash-bootstrap-components in ./venv/lib/python3.8/site-packages (from explainerdashboard) (0.10.6)\n",
      "Requirement already satisfied: scipy in ./venv/lib/python3.8/site-packages (from shap->explainerdashboard) (1.5.2)\n",
      "Requirement already satisfied: tqdm>4.25.0 in ./venv/lib/python3.8/site-packages (from shap->explainerdashboard) (4.49.0)\n",
      "Requirement already satisfied: slicer in ./venv/lib/python3.8/site-packages (from shap->explainerdashboard) (0.0.4)\n",
      "Requirement already satisfied: numba in ./venv/lib/python3.8/site-packages (from shap->explainerdashboard) (0.51.2)\n",
      "Requirement already satisfied: joblib>=0.11 in ./venv/lib/python3.8/site-packages (from scikit-learn->explainerdashboard) (0.16.0)\n",
      "Requirement already satisfied: threadpoolctl>=2.0.0 in ./venv/lib/python3.8/site-packages (from scikit-learn->explainerdashboard) (2.1.0)\n",
      "Requirement already satisfied: graphviz>=0.9 in ./venv/lib/python3.8/site-packages (from dtreeviz>=1.0->explainerdashboard) (0.14.1)\n",
      "Requirement already satisfied: matplotlib in ./venv/lib/python3.8/site-packages (from dtreeviz>=1.0->explainerdashboard) (3.3.2)\n",
      "Requirement already satisfied: colour in ./venv/lib/python3.8/site-packages (from dtreeviz>=1.0->explainerdashboard) (0.1.5)\n",
      "Requirement already satisfied: xgboost in ./venv/lib/python3.8/site-packages (from dtreeviz>=1.0->explainerdashboard) (1.2.0)\n",
      "Requirement already satisfied: pytest in ./venv/lib/python3.8/site-packages (from dtreeviz>=1.0->explainerdashboard) (6.0.1)\n",
      "Requirement already satisfied: pyspark in ./venv/lib/python3.8/site-packages (from dtreeviz>=1.0->explainerdashboard) (3.0.1)\n",
      "Requirement already satisfied: psutil in ./venv/lib/python3.8/site-packages (from PDPbox->explainerdashboard) (5.7.2)\n",
      "Requirement already satisfied: Flask>=1.0.2 in ./venv/lib/python3.8/site-packages (from dash->explainerdashboard) (1.1.2)\n",
      "Requirement already satisfied: flask-compress in ./venv/lib/python3.8/site-packages (from dash->explainerdashboard) (1.5.0)\n",
      "Requirement already satisfied: plotly in ./venv/lib/python3.8/site-packages (from dash->explainerdashboard) (4.10.0)\n",
      "Requirement already satisfied: dash_renderer==1.8.2 in ./venv/lib/python3.8/site-packages (from dash->explainerdashboard) (1.8.2)\n",
      "Requirement already satisfied: dash-core-components==1.12.1 in ./venv/lib/python3.8/site-packages (from dash->explainerdashboard) (1.12.1)\n",
      "Requirement already satisfied: dash-html-components==1.1.1 in ./venv/lib/python3.8/site-packages (from dash->explainerdashboard) (1.1.1)\n",
      "Requirement already satisfied: dash-table==4.10.1 in ./venv/lib/python3.8/site-packages (from dash->explainerdashboard) (4.10.1)\n",
      "Requirement already satisfied: future in ./venv/lib/python3.8/site-packages (from dash->explainerdashboard) (0.18.2)\n",
      "Requirement already satisfied: python-dateutil>=2.7.3 in ./venv/lib/python3.8/site-packages (from pandas->explainerdashboard) (2.8.1)\n",
      "Requirement already satisfied: pytz>=2017.2 in ./venv/lib/python3.8/site-packages (from pandas->explainerdashboard) (2020.1)\n",
      "Requirement already satisfied: ipykernel in ./venv/lib/python3.8/site-packages (from jupyter-dash->explainerdashboard) (5.3.4)\n",
      "Requirement already satisfied: ipython in ./venv/lib/python3.8/site-packages (from jupyter-dash->explainerdashboard) (7.18.1)\n",
      "Requirement already satisfied: ansi2html in ./venv/lib/python3.8/site-packages (from jupyter-dash->explainerdashboard) (1.5.2)\n",
      "Requirement already satisfied: requests in ./venv/lib/python3.8/site-packages (from jupyter-dash->explainerdashboard) (2.21.0)\n",
      "Requirement already satisfied: retrying in ./venv/lib/python3.8/site-packages (from jupyter-dash->explainerdashboard) (1.3.3)\n",
      "Requirement already satisfied: setuptools in ./venv/lib/python3.8/site-packages (from numba->shap->explainerdashboard) (47.1.0)\n",
      "Requirement already satisfied: llvmlite<0.35,>=0.34.0.dev0 in ./venv/lib/python3.8/site-packages (from numba->shap->explainerdashboard) (0.34.0)\n",
      "Requirement already satisfied: certifi>=2020.06.20 in ./venv/lib/python3.8/site-packages (from matplotlib->dtreeviz>=1.0->explainerdashboard) (2020.6.20)\n",
      "Requirement already satisfied: kiwisolver>=1.0.1 in ./venv/lib/python3.8/site-packages (from matplotlib->dtreeviz>=1.0->explainerdashboard) (1.2.0)\n",
      "Requirement already satisfied: cycler>=0.10 in ./venv/lib/python3.8/site-packages (from matplotlib->dtreeviz>=1.0->explainerdashboard) (0.10.0)\n",
      "Requirement already satisfied: pyparsing!=2.0.4,!=2.1.2,!=2.1.6,>=2.0.3 in ./venv/lib/python3.8/site-packages (from matplotlib->dtreeviz>=1.0->explainerdashboard) (2.4.7)\n",
      "Requirement already satisfied: pillow>=6.2.0 in ./venv/lib/python3.8/site-packages (from matplotlib->dtreeviz>=1.0->explainerdashboard) (7.2.0)\n",
      "Requirement already satisfied: pluggy<1.0,>=0.12 in ./venv/lib/python3.8/site-packages (from pytest->dtreeviz>=1.0->explainerdashboard) (0.13.1)\n",
      "Requirement already satisfied: py>=1.8.2 in ./venv/lib/python3.8/site-packages (from pytest->dtreeviz>=1.0->explainerdashboard) (1.9.0)\n",
      "Requirement already satisfied: packaging in ./venv/lib/python3.8/site-packages (from pytest->dtreeviz>=1.0->explainerdashboard) (20.4)\n",
      "Requirement already satisfied: iniconfig in ./venv/lib/python3.8/site-packages (from pytest->dtreeviz>=1.0->explainerdashboard) (1.0.1)\n",
      "Requirement already satisfied: toml in ./venv/lib/python3.8/site-packages (from pytest->dtreeviz>=1.0->explainerdashboard) (0.10.1)\n",
      "Requirement already satisfied: attrs>=17.4.0 in ./venv/lib/python3.8/site-packages (from pytest->dtreeviz>=1.0->explainerdashboard) (20.2.0)\n",
      "Requirement already satisfied: more-itertools>=4.0.0 in ./venv/lib/python3.8/site-packages (from pytest->dtreeviz>=1.0->explainerdashboard) (8.5.0)\n",
      "Requirement already satisfied: py4j==0.10.9 in ./venv/lib/python3.8/site-packages (from pyspark->dtreeviz>=1.0->explainerdashboard) (0.10.9)\n",
      "Requirement already satisfied: Jinja2>=2.10.1 in ./venv/lib/python3.8/site-packages (from Flask>=1.0.2->dash->explainerdashboard) (2.11.2)\n",
      "Requirement already satisfied: Werkzeug>=0.15 in ./venv/lib/python3.8/site-packages (from Flask>=1.0.2->dash->explainerdashboard) (1.0.1)\n",
      "Requirement already satisfied: click>=5.1 in ./venv/lib/python3.8/site-packages (from Flask>=1.0.2->dash->explainerdashboard) (7.1.2)\n",
      "Requirement already satisfied: itsdangerous>=0.24 in ./venv/lib/python3.8/site-packages (from Flask>=1.0.2->dash->explainerdashboard) (1.1.0)\n",
      "Requirement already satisfied: brotli in ./venv/lib/python3.8/site-packages (from flask-compress->dash->explainerdashboard) (1.0.9)\n",
      "Requirement already satisfied: six in ./venv/lib/python3.8/site-packages (from plotly->dash->explainerdashboard) (1.15.0)\n",
      "Requirement already satisfied: jupyter-client in ./venv/lib/python3.8/site-packages (from ipykernel->jupyter-dash->explainerdashboard) (6.1.7)\n",
      "Requirement already satisfied: tornado>=4.2 in ./venv/lib/python3.8/site-packages (from ipykernel->jupyter-dash->explainerdashboard) (6.0.4)\n",
      "Requirement already satisfied: traitlets>=4.1.0 in ./venv/lib/python3.8/site-packages (from ipykernel->jupyter-dash->explainerdashboard) (5.0.4)\n",
      "Requirement already satisfied: appnope; platform_system == \"Darwin\" in ./venv/lib/python3.8/site-packages (from ipykernel->jupyter-dash->explainerdashboard) (0.1.0)\n"
     ]
    },
    {
     "name": "stdout",
     "output_type": "stream",
     "text": [
      "Requirement already satisfied: decorator in ./venv/lib/python3.8/site-packages (from ipython->jupyter-dash->explainerdashboard) (4.4.2)\n",
      "Requirement already satisfied: pexpect>4.3; sys_platform != \"win32\" in ./venv/lib/python3.8/site-packages (from ipython->jupyter-dash->explainerdashboard) (4.8.0)\n",
      "Requirement already satisfied: pygments in ./venv/lib/python3.8/site-packages (from ipython->jupyter-dash->explainerdashboard) (2.7.1)\n",
      "Requirement already satisfied: backcall in ./venv/lib/python3.8/site-packages (from ipython->jupyter-dash->explainerdashboard) (0.2.0)\n",
      "Requirement already satisfied: pickleshare in ./venv/lib/python3.8/site-packages (from ipython->jupyter-dash->explainerdashboard) (0.7.5)\n",
      "Requirement already satisfied: jedi>=0.10 in ./venv/lib/python3.8/site-packages (from ipython->jupyter-dash->explainerdashboard) (0.17.2)\n",
      "Requirement already satisfied: prompt-toolkit!=3.0.0,!=3.0.1,<3.1.0,>=2.0.0 in ./venv/lib/python3.8/site-packages (from ipython->jupyter-dash->explainerdashboard) (3.0.7)\n",
      "Requirement already satisfied: urllib3<1.25,>=1.21.1 in ./venv/lib/python3.8/site-packages (from requests->jupyter-dash->explainerdashboard) (1.24.3)\n",
      "Requirement already satisfied: idna<2.9,>=2.5 in ./venv/lib/python3.8/site-packages (from requests->jupyter-dash->explainerdashboard) (2.8)\n",
      "Requirement already satisfied: chardet<3.1.0,>=3.0.2 in ./venv/lib/python3.8/site-packages (from requests->jupyter-dash->explainerdashboard) (3.0.4)\n",
      "Requirement already satisfied: MarkupSafe>=0.23 in ./venv/lib/python3.8/site-packages (from Jinja2>=2.10.1->Flask>=1.0.2->dash->explainerdashboard) (1.1.1)\n",
      "Requirement already satisfied: jupyter-core>=4.6.0 in ./venv/lib/python3.8/site-packages (from jupyter-client->ipykernel->jupyter-dash->explainerdashboard) (4.6.3)\n",
      "Requirement already satisfied: pyzmq>=13 in ./venv/lib/python3.8/site-packages (from jupyter-client->ipykernel->jupyter-dash->explainerdashboard) (19.0.2)\n",
      "Requirement already satisfied: ipython-genutils in ./venv/lib/python3.8/site-packages (from traitlets>=4.1.0->ipykernel->jupyter-dash->explainerdashboard) (0.2.0)\n",
      "Requirement already satisfied: ptyprocess>=0.5 in ./venv/lib/python3.8/site-packages (from pexpect>4.3; sys_platform != \"win32\"->ipython->jupyter-dash->explainerdashboard) (0.6.0)\n",
      "Requirement already satisfied: parso<0.8.0,>=0.7.0 in ./venv/lib/python3.8/site-packages (from jedi>=0.10->ipython->jupyter-dash->explainerdashboard) (0.7.1)\n",
      "Requirement already satisfied: wcwidth in ./venv/lib/python3.8/site-packages (from prompt-toolkit!=3.0.0,!=3.0.1,<3.1.0,>=2.0.0->ipython->jupyter-dash->explainerdashboard) (0.2.5)\n",
      "Installing collected packages: explainerdashboard\n",
      "Successfully installed explainerdashboard-0.2.4\n",
      "\u001b[33mWARNING: You are using pip version 20.1.1; however, version 20.2.3 is available.\n",
      "You should consider upgrading via the '/Users/oege/projects/explainerdashboard/venv/bin/python -m pip install --upgrade pip' command.\u001b[0m\n"
     ]
    }
   ],
   "source": [
    "!pip install explainerdashboard"
   ]
  },
  {
   "cell_type": "markdown",
   "metadata": {},
   "source": [
    "# Imports"
   ]
  },
  {
   "cell_type": "code",
   "execution_count": null,
   "metadata": {},
   "outputs": [],
   "source": [
    "%load_ext autoreload\n",
    "%autoreload 0"
   ]
  },
  {
   "cell_type": "code",
   "execution_count": null,
   "metadata": {},
   "outputs": [],
   "source": [
    "# import * is safe: a restrictive __all__ has been defined in the modules\n",
    "from explainerdashboard.explainers import *\n",
    "from explainerdashboard.dashboards import *\n",
    "from explainerdashboard.datasets import *"
   ]
  },
  {
   "cell_type": "markdown",
   "metadata": {},
   "source": [
    "# ClassifierExplainer examples"
   ]
  },
  {
   "cell_type": "markdown",
   "metadata": {},
   "source": [
    "## Load classifier data:\n",
    "    - predicting probability that a person on the titanic survived"
   ]
  },
  {
   "cell_type": "code",
   "execution_count": null,
   "metadata": {},
   "outputs": [],
   "source": [
    "X_train, y_train, X_test, y_test = titanic_survive()\n",
    "train_names, test_names = titanic_names()"
   ]
  },
  {
   "cell_type": "code",
   "execution_count": null,
   "metadata": {},
   "outputs": [],
   "source": [
    "X_train.head()"
   ]
  },
  {
   "cell_type": "markdown",
   "metadata": {},
   "source": [
    "We'll use the passenger names later as idxs for the Explainer, such that they get displayed on the contributions tab of the dashboard, and you can also use them to pass as an index into various methods:"
   ]
  },
  {
   "cell_type": "code",
   "execution_count": null,
   "metadata": {},
   "outputs": [],
   "source": [
    "train_names[:5]"
   ]
  },
  {
   "cell_type": "markdown",
   "metadata": {},
   "source": [
    "## One line example:\n",
    "- click on the link (http://localhost:8050) to go to the dashboard\n",
    "- Interrupt the kernel to stop the dashboard"
   ]
  },
  {
   "cell_type": "code",
   "execution_count": null,
   "metadata": {},
   "outputs": [],
   "source": [
    "from sklearn.ensemble import RandomForestClassifier"
   ]
  },
  {
   "cell_type": "code",
   "execution_count": null,
   "metadata": {},
   "outputs": [],
   "source": [
    "ExplainerDashboard(ClassifierExplainer(RandomForestClassifier().fit(X_train, y_train), X_test, y_test)).run()"
   ]
  },
  {
   "cell_type": "markdown",
   "metadata": {},
   "source": [
    "## Multi line example\n",
    "- create an explainer object out the model and the X and y that you wish to display.\n",
    "- the explainer object calculates shap values, permutation importances, pdp's, etc, and provides all kinds of plots that will be used by the ExplainerDashboard object"
   ]
  },
  {
   "cell_type": "code",
   "execution_count": null,
   "metadata": {},
   "outputs": [],
   "source": [
    "model = RandomForestClassifier(n_estimators=50, max_depth=5)\n",
    "model.fit(X_train, y_train)\n",
    "\n",
    "explainer = ClassifierExplainer(model, X_test, y_test)"
   ]
  },
  {
   "cell_type": "markdown",
   "metadata": {},
   "source": [
    "Now create an ExplainerDashboard instance out of the explainer instance:\n",
    "- depending on which tabs are included, all necessary calculations (shap values, importances, etc) get done up front"
   ]
  },
  {
   "cell_type": "code",
   "execution_count": null,
   "metadata": {},
   "outputs": [],
   "source": [
    "db = ExplainerDashboard(explainer)"
   ]
  },
  {
   "cell_type": "markdown",
   "metadata": {},
   "source": [
    "And run the dashboard on the default port (=8050):"
   ]
  },
  {
   "cell_type": "code",
   "execution_count": null,
   "metadata": {},
   "outputs": [],
   "source": [
    "db.run()"
   ]
  },
  {
   "cell_type": "markdown",
   "metadata": {},
   "source": [
    "Or on another port, e.g. port 8051:"
   ]
  },
  {
   "cell_type": "markdown",
   "metadata": {},
   "source": [
    "### Run on specific port"
   ]
  },
  {
   "cell_type": "code",
   "execution_count": null,
   "metadata": {},
   "outputs": [],
   "source": [
    "db.run(8051)"
   ]
  },
  {
   "cell_type": "markdown",
   "metadata": {},
   "source": [
    "### Switch on/off specific tabs (+add title)"
   ]
  },
  {
   "cell_type": "markdown",
   "metadata": {},
   "source": [
    "By default all the tabs that should work are displayed, exceptions:\n",
    "- shap_interaction tab is disabled when model doesn't support shap interaction values\n",
    "    - e.g. linear models, or when calculating shap values in probability space for gradient boosting models\n",
    "- **Depending on your model and data calculating shap interaction values may be slow, so in that case switch off the interactions tab manually!**\n",
    "- decision_trees tab is disabled unless explainer is RandomForestClassifierExplainer or RandomForestRegressionExplainer\n",
    "\n",
    "- You can also manually switch tabs on or off with booleans, as shown below:"
   ]
  },
  {
   "cell_type": "code",
   "execution_count": null,
   "metadata": {},
   "outputs": [],
   "source": [
    "ExplainerDashboard(explainer, title=\"Titanic Explainer\",\n",
    "                        importances=True,\n",
    "                        model_summary=True,  \n",
    "                        contributions=True,\n",
    "                        shap_dependence=False,\n",
    "                        shap_interaction=False,\n",
    "                        decision_trees=False).run()"
   ]
  },
  {
   "cell_type": "markdown",
   "metadata": {},
   "source": [
    "### cats, idxs, descriptions, labels\n",
    "\n",
    "You can make the dashboard a bit more user friendly by passing in some additional information about the variables in the model:\n",
    "\n",
    "- `cats`: If you have onehotencoded some variables, you get a lot of shap values for binary features that are either 0 or 1, which are hard to interpret as a whole. \n",
    "    - However, given that shap values are additive, we can sum them up and give a single shap value for the onehotencoded variables! \n",
    "    - Furthermore, we can use different types of default plots for categorical variables than continuous ones. \n",
    "    - By passing a list of variables that have been encoded with `varname_category` `explainerdashboard` will allow you to group the cats and show appropriate plots\n",
    "    - In our sample dataset this would be:\n",
    "        - `Sex`: `Sex_female`, `Sex_male` \n",
    "        - `Deck`: `Deck_A`, `Deck_B`, etc\n",
    "        - `Embarked`: `Embarked_Southampton`, `Embarked_Cherbourg`, etc\n",
    "- `idxs`: You may have specific identifiers (names, customer id's, etc) for each row in your dataset.\n",
    "    - If you pass these the the Explainer object, you can index using both the numerical index, e.g. `explainer.contrib_df(0)` for the first row, or using the identifier, e.g. `explainer.contrib_df(\"Braund, Mr. Owen Harris\")` \n",
    "    - The proper name or id will also be displayed and searchable on the contributions tab\n",
    "- `descriptions`: a dictionary of descriptions for each variable.\n",
    "    - In order to be explanatory, you often have to explain the meaning of the features themselves (especially if the naming is not obvious)\n",
    "    - Passing the dict along to `descriptions` will show hover-over tooltips for the various variables in the dashboard\n",
    "- `labels`: The outcome variables for a classification problem are assumed to be encoded 0, 1 (, 2, 3, ...)\n",
    "    - This is not very human readable, so you can pass a list of human readable labels"
   ]
  },
  {
   "cell_type": "code",
   "execution_count": null,
   "metadata": {},
   "outputs": [],
   "source": [
    "feature_descriptions = {\n",
    "    \"Sex\": \"Gender of passenger\",\n",
    "    \"Deck\": \"The deck the passenger had their cabin on\",\n",
    "    \"PassengerClass\": \"The class of the ticket: 1st, 2nd or 3rd class\",\n",
    "    \"Fare\": \"The amount of money people paid\", \n",
    "    \"No_of_relatives_on_board\": \"number of siblings, spouses, parents plus children on board\",\n",
    "    \"Embarked\": \"the port where the passenger boarded the Titanic. Either Southampton, Cherbourg or Queenstown\",\n",
    "    \"Age\": \"Age of the passenger\",\n",
    "    \"No_of_siblings_plus_spouses_on_board\": \"The sum of the number of siblings plus the number of spouses on board\",\n",
    "    \"No_of_parents_plus_children_on_board\" : \"The sum of the number of parents plus the number of children on board\",\n",
    "}"
   ]
  },
  {
   "cell_type": "code",
   "execution_count": null,
   "metadata": {},
   "outputs": [],
   "source": [
    "explainer = ClassifierExplainer(model, X_test, y_test,\n",
    "                               cats=['Sex', 'Deck', 'Embarked'], # makes it easy to group onehotencoded vars\n",
    "                               idxs=test_names, #names of passengers # index by name\n",
    "                               descriptions=feature_descriptions, # show feature descriptions in plots\n",
    "                               labels=['Not survived', 'Survived']) # show nice labels\n",
    "ExplainerDashboard(explainer).run()"
   ]
  },
  {
   "cell_type": "markdown",
   "metadata": {},
   "source": [
    "### X_background, model_output and shap\n",
    "- `X_background`: \n",
    "    - Some models like LogisticRegression (as well as certain gradienst boosting algorithms in probability space) need a background dataset to calculate shap values. These can be passed as `X_background`.\n",
    "    - If you don't pass an `X_background`, Explainer uses X instead but gives off a warning.\n",
    "- `model_output`: \n",
    "    - By default model_output for classifier is set to \"probability\", as this is more intuitively explainable to non data scientist stakeholders\n",
    "    - However for certain models (e.g. XGBClassifier, LGBMCLassifier, CatBoostClassifier), need a background dataset X_background to calculate shap values in probability space, and are not able to calculate shap interaction values.\n",
    "    - Therefore you can also pass `model_output='logodds'`, in which case shap values get calculated as logodds\n",
    "- `shap`:\n",
    "    - By default `shap='guess'`, which means that the Explainer will try to guess based on the model what kind of shap explainer it needs: e.g. `shap.TreeExplainer(...)`, `shap.LinearExplainer(...)`, etc.\n",
    "    - In case the guess fails or you'd like to override it, you can set it manually:\n",
    "        - e.g. `shap='tree'`, `shap='linear'`, `shap='kernel'`, `shap='deep'` "
   ]
  },
  {
   "cell_type": "code",
   "execution_count": null,
   "metadata": {},
   "outputs": [],
   "source": [
    "from sklearn.linear_model import LogisticRegression\n",
    "\n",
    "model = LogisticRegression()\n",
    "model.fit(X_train, y_train)\n",
    "\n",
    "explainer = ClassifierExplainer(model, X_test, y_test, \n",
    "                                    shap='linear', \n",
    "                                    X_background=X_train, \n",
    "                                    model_output='logodds',\n",
    "                                    cats=['Sex', 'Deck', 'Embarked'])\n",
    "ExplainerDashboard(explainer).run()"
   ]
  },
  {
   "cell_type": "markdown",
   "metadata": {},
   "source": [
    "# mode='inline', 'jupyterlab', 'external'"
   ]
  },
  {
   "cell_type": "markdown",
   "metadata": {},
   "source": [
    "## mode='inline'\n",
    "\n",
    "Besides the default `dash.Dash(__name__)` dashboard, plotly also released a package called `jupyter-dash` that makes it more convenient to deploy dashboards either inline in a notebook, or run from a notebook cell, while the rest of the notebook stays interactive. \n",
    "\n",
    "By passing an appropriate mode to the `ExplainerDashboard` constructur you can make use of `JupyterDash`. The three modes are:\n",
    "\n",
    "- `\"inline\"`, displays the dashboard in the output area underneath the current cell\n",
    "- `\"jupyterlab\"` displays the dashboard in a seperate pane in jupyterlab\n",
    "- `\"external\"` opens up a server that you can acces from a seperate browser tab\n"
   ]
  },
  {
   "cell_type": "code",
   "execution_count": null,
   "metadata": {},
   "outputs": [],
   "source": [
    "ExplainerDashboard(explainer, mode='inline').run()"
   ]
  },
  {
   "cell_type": "code",
   "execution_count": null,
   "metadata": {},
   "outputs": [],
   "source": [
    "ExplainerDashboard(explainer, mode='inline', width=1200, height=1000).run()"
   ]
  },
  {
   "cell_type": "code",
   "execution_count": null,
   "metadata": {},
   "outputs": [],
   "source": [
    "ExplainerDashboard(explainer, mode='jupyterlab').run()"
   ]
  },
  {
   "cell_type": "code",
   "execution_count": null,
   "metadata": {},
   "outputs": [],
   "source": [
    "ExplainerDashboard(explainer, mode='external').run()"
   ]
  },
  {
   "cell_type": "markdown",
   "metadata": {},
   "source": [
    "## Display a single tab\n",
    "If you just want to display a single tab, you can use pass that tab to ExplainerDashboard:"
   ]
  },
  {
   "cell_type": "code",
   "execution_count": null,
   "metadata": {},
   "outputs": [],
   "source": [
    "ExplainerDashboard(explainer, ContributionsTab).run()\n"
   ]
  },
  {
   "cell_type": "markdown",
   "metadata": {},
   "source": [
    "Can also instantiate first:"
   ]
  },
  {
   "cell_type": "code",
   "execution_count": null,
   "metadata": {},
   "outputs": [],
   "source": [
    "db = ContributionsTab(explainer)\n",
    "ExplainerDashboard(explainer, db).run()"
   ]
  },
  {
   "cell_type": "markdown",
   "metadata": {},
   "source": [
    "Or even use string shorthands:"
   ]
  },
  {
   "cell_type": "code",
   "execution_count": null,
   "metadata": {},
   "outputs": [],
   "source": [
    "ExplainerDashboard(explainer, \"model_summary\").run()"
   ]
  },
  {
   "cell_type": "markdown",
   "metadata": {},
   "source": [
    "## InlineExplainer\n",
    "\n",
    "Alternative API to display a single component inline in a notebook"
   ]
  },
  {
   "cell_type": "code",
   "execution_count": null,
   "metadata": {},
   "outputs": [],
   "source": [
    "ie = InlineExplainer(explainer)"
   ]
  },
  {
   "cell_type": "code",
   "execution_count": null,
   "metadata": {},
   "outputs": [],
   "source": [
    "ie.model_stats()"
   ]
  },
  {
   "cell_type": "code",
   "execution_count": null,
   "metadata": {
    "scrolled": true
   },
   "outputs": [],
   "source": [
    "ie.tab.contributions()"
   ]
  },
  {
   "cell_type": "code",
   "execution_count": null,
   "metadata": {},
   "outputs": [],
   "source": [
    "ie.classifier.confusion_matrix()"
   ]
  },
  {
   "cell_type": "code",
   "execution_count": null,
   "metadata": {},
   "outputs": [],
   "source": [
    "ie.shap.dependence()"
   ]
  },
  {
   "cell_type": "markdown",
   "metadata": {},
   "source": [
    "## Terminating 'inline', 'jupyterlab' or 'external' dashboard\n",
    "\n",
    "You can terminate a `JupyterDash` based dashboard with the `.terminate(port)` method.\n",
    "\n",
    "Any ExplainerDashboard or InlineExplainer dashboard can terminate any other running dashboard as long you \n",
    "pass the right port."
   ]
  },
  {
   "cell_type": "code",
   "execution_count": null,
   "metadata": {},
   "outputs": [],
   "source": [
    "ie.terminate()"
   ]
  },
  {
   "cell_type": "code",
   "execution_count": null,
   "metadata": {},
   "outputs": [],
   "source": [
    "db1 = ExplainerDashboard(explainer, mode='external')\n",
    "db1.run(8051)"
   ]
  },
  {
   "cell_type": "code",
   "execution_count": null,
   "metadata": {},
   "outputs": [],
   "source": [
    "db1.terminate()"
   ]
  },
  {
   "cell_type": "code",
   "execution_count": null,
   "metadata": {},
   "outputs": [],
   "source": [
    "db2 = ExplainerDashboard(explainer, mode='external')\n",
    "db2.terminate(8051)"
   ]
  },
  {
   "cell_type": "markdown",
   "metadata": {},
   "source": [
    "# XGBClassifier, LGBMClassifier, CatBoostClassifier\n",
    "- default for ClassifierExplainer is `model_output='probability'`, but for most gradient boosting classifier algorithms (e.g xgboost, lightgbm, catboost):\n",
    "    - You have to pass an `X_background` to calculate the shape values against (defaults to using `X`)\n",
    "    - You can't calculate shap interaction values\n",
    "- alternative is to pass model_output='logodds':\n",
    "    - Can then calculate shap values based on trees alone (so no background data needed), and can calculate interaction values as well.\n",
    "    - plus: faster"
   ]
  },
  {
   "cell_type": "code",
   "execution_count": null,
   "metadata": {},
   "outputs": [],
   "source": [
    "#from lightgbm.sklearn import LGBMClassifier\n",
    "#model = LGBMClassifier()\n",
    "\n",
    "#from catboost import CatBoostClassifier\n",
    "#model = CatBoostClassifier(iterations=100, learning_rate=100)\n",
    "\n",
    "from xgboost import XGBClassifier\n",
    "model = XGBClassifier()\n",
    "\n",
    "model.fit(X_train, y_train)\n",
    "\n",
    "explainer = ClassifierExplainer(model, X_test, y_test, \n",
    "                                    X_background=X_train,\n",
    "                                    cats=['Sex', 'Deck', 'Embarked'],\n",
    "                                    idxs=test_names, #names of passengers \n",
    "                                    labels=['Not survived', 'Survived'])"
   ]
  },
  {
   "cell_type": "code",
   "execution_count": null,
   "metadata": {},
   "outputs": [],
   "source": [
    "ExplainerDashboard(explainer, mode='external').run(8052)"
   ]
  },
  {
   "cell_type": "markdown",
   "metadata": {},
   "source": [
    "# RegressionExplainer"
   ]
  },
  {
   "cell_type": "markdown",
   "metadata": {},
   "source": [
    "## Load regression data:\n",
    "    - predicting the fare that a titanic passenger paid for their ticket"
   ]
  },
  {
   "cell_type": "code",
   "execution_count": null,
   "metadata": {},
   "outputs": [],
   "source": [
    "X_train, y_train, X_test, y_test = titanic_fare()\n",
    "train_names, test_names = titanic_names()"
   ]
  },
  {
   "cell_type": "code",
   "execution_count": null,
   "metadata": {},
   "outputs": [],
   "source": [
    "X_train.head()"
   ]
  },
  {
   "cell_type": "code",
   "execution_count": null,
   "metadata": {},
   "outputs": [],
   "source": [
    "y_train.head()"
   ]
  },
  {
   "cell_type": "markdown",
   "metadata": {},
   "source": [
    "## Adding units of target\n",
    "- In this case we are predicting the price of the fare, so we can add the units as `\"$\"`\n",
    "    - this will then be displayed along the axis of certain plots"
   ]
  },
  {
   "cell_type": "code",
   "execution_count": null,
   "metadata": {},
   "outputs": [],
   "source": [
    "from sklearn.ensemble import RandomForestRegressor\n",
    "model = RandomForestRegressor(n_estimators=50, max_depth=5)\n",
    "model.fit(X_train, y_train)\n",
    "\n",
    "explainer = RegressionExplainer(model, X_test, y_test, \n",
    "                                cats=['Sex', 'Deck', 'Embarked'], \n",
    "                                idxs=test_names, \n",
    "                                units=\"$\")"
   ]
  },
  {
   "cell_type": "code",
   "execution_count": null,
   "metadata": {},
   "outputs": [],
   "source": [
    "ExplainerDashboard(explainer, mode='inline').run()"
   ]
  },
  {
   "cell_type": "markdown",
   "metadata": {},
   "source": [
    "## LGBMRegressor, LinearRegression, CatBoostRegressor, XGBRegressor"
   ]
  },
  {
   "cell_type": "code",
   "execution_count": null,
   "metadata": {},
   "outputs": [],
   "source": [
    "from lightgbm.sklearn import LGBMRegressor\n",
    "model = LGBMRegressor()\n",
    "\n",
    "# from sklearn.linear_model import LinearRegression\n",
    "# model = LinearRegression()\n",
    "\n",
    "# from catboost import CatBoostRegressor\n",
    "# model = CatBoostRegressor(iterations=100, learning_rate=0.1, verbose=0)\n",
    "\n",
    "# from xgboost import XGBRegressor\n",
    "# model = XGBRegressor()\n",
    "\n",
    "model.fit(X_train, y_train)\n",
    "explainer = RegressionExplainer(model, X_test, y_test, \n",
    "                                cats=['Sex', 'Deck', 'Embarked'], \n",
    "                                idxs=test_names, \n",
    "                                units=\"$\")"
   ]
  },
  {
   "cell_type": "code",
   "execution_count": null,
   "metadata": {},
   "outputs": [],
   "source": [
    "ExplainerDashboard(explainer).run()"
   ]
  },
  {
   "cell_type": "markdown",
   "metadata": {},
   "source": [
    "# Multiclass Classifiers"
   ]
  },
  {
   "cell_type": "code",
   "execution_count": null,
   "metadata": {},
   "outputs": [],
   "source": [
    "X_train, y_train, X_test, y_test = titanic_embarked()\n",
    "train_names, test_names = titanic_names()"
   ]
  },
  {
   "cell_type": "code",
   "execution_count": null,
   "metadata": {},
   "outputs": [],
   "source": [
    "from sklearn.ensemble import RandomForestClassifier\n",
    "model = RandomForestClassifier()\n",
    "\n",
    "model.fit(X_train, y_train)\n",
    "\n",
    "explainer = ClassifierExplainer(model, X_test, y_test, \n",
    "                                    cats=['Sex', 'Deck'],\n",
    "                                    idxs=test_names, \n",
    "                                    labels=['Queenstown', 'Southampton', 'Cherbourg'],\n",
    "                                    pos_label='Southampton')"
   ]
  },
  {
   "cell_type": "code",
   "execution_count": null,
   "metadata": {},
   "outputs": [],
   "source": [
    "ExplainerDashboard(explainer, mode='external').run()"
   ]
  },
  {
   "cell_type": "markdown",
   "metadata": {},
   "source": [
    "# RandomForestsExplainer\n",
    "\n",
    "visualize individual decision trees"
   ]
  },
  {
   "cell_type": "markdown",
   "metadata": {},
   "source": [
    "## RandomForestClassifier"
   ]
  },
  {
   "cell_type": "code",
   "execution_count": null,
   "metadata": {},
   "outputs": [],
   "source": [
    "from sklearn.ensemble import RandomForestClassifier\n",
    "\n",
    "X_train, y_train, X_test, y_test = titanic_survive()\n",
    "train_names, test_names = titanic_names()\n",
    "\n",
    "model = RandomForestClassifier(n_estimators=50, max_depth=5)\n",
    "\n",
    "model.fit(X_train, y_train)\n",
    "\n",
    "explainer = RandomForestClassifierExplainer(model, X_test, y_test, \n",
    "                                    cats=['Sex', 'Deck', 'Embarked'],\n",
    "                                    idxs=test_names, \n",
    "                                    labels=['Not survived', 'Survived'])\n",
    "ExplainerDashboard(explainer).run()"
   ]
  },
  {
   "cell_type": "markdown",
   "metadata": {},
   "source": [
    "## RandomForestRegressor"
   ]
  },
  {
   "cell_type": "code",
   "execution_count": null,
   "metadata": {},
   "outputs": [],
   "source": [
    "from sklearn.ensemble import RandomForestRegressor\n",
    "X_train, y_train, X_test, y_test = titanic_fare()\n",
    "train_names, test_names = titanic_names()\n",
    "\n",
    "model = RandomForestRegressor(n_estimators=50, max_depth=5)\n",
    "model.fit(X_train, y_train)\n",
    "\n",
    "explainer = RandomForestRegressionExplainer(model, X_test, y_test, \n",
    "                                cats=['Sex', 'Deck', 'Embarked'], \n",
    "                                idxs=test_names, \n",
    "                                units=\"$\")\n",
    "\n",
    "ExplainerDashboard(explainer).run()"
   ]
  },
  {
   "cell_type": "code",
   "execution_count": null,
   "metadata": {},
   "outputs": [],
   "source": []
  }
 ],
 "metadata": {
  "kernelspec": {
   "display_name": "Python 3",
   "language": "python",
   "name": "python3"
  },
  "language_info": {
   "codemirror_mode": {
    "name": "ipython",
    "version": 3
   },
   "file_extension": ".py",
   "mimetype": "text/x-python",
   "name": "python",
   "nbconvert_exporter": "python",
   "pygments_lexer": "ipython3",
   "version": "3.8.5"
  },
  "toc": {
   "base_numbering": 1,
   "nav_menu": {},
   "number_sections": true,
   "sideBar": true,
   "skip_h1_title": false,
   "title_cell": "Table of Contents",
   "title_sidebar": "Contents",
   "toc_cell": true,
   "toc_position": {
    "height": "calc(100% - 180px)",
    "left": "10px",
    "top": "150px",
    "width": "285.33px"
   },
   "toc_section_display": true,
   "toc_window_display": true
  }
 },
 "nbformat": 4,
 "nbformat_minor": 4
}
